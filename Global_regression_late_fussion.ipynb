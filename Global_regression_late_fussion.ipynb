{
 "cells": [
  {
   "cell_type": "markdown",
   "id": "411c9122",
   "metadata": {},
   "source": [
    "# Setup enviorment"
   ]
  },
  {
   "cell_type": "code",
   "execution_count": 1,
   "id": "c0418989",
   "metadata": {},
   "outputs": [],
   "source": [
    "from Preprocessing.time_series_preprocessing import get_dengue_dataset, train_test_split, normalize_train_features, normalize_test_features, series_to_supervised, features_labels_set, reshape_tensor, preprocess_dataset_to_time_series\n",
    "\n",
    "from Models.LSTM import create_model, train_model\n",
    "import tensorflow as tf\n",
    "\n",
    "from Utils.test_lstm import evaluate, plot_predictions, calculate_mean_std\n",
    "\n",
    "import pandas as pd\n",
    "import os\n",
    "import numpy as np"
   ]
  },
  {
   "cell_type": "code",
   "execution_count": 2,
   "id": "a1b08f7a",
   "metadata": {},
   "outputs": [],
   "source": [
    "\"\"\" Read Dataset:\"\"\"\n",
    "\n",
    "embeddings = 'Embeddings/vit_224_1024.csv'\n",
    "embeddings_dir = 'Embeddings/'\n",
    "\n",
    "labels = '../Tabular_data/dengue_tabular.csv'\n",
    "\n",
    "# Get list of municipalities:\n",
    "Municipalities = list(pd.unique(pd.read_csv('Embeddings/ResNet50V2_224_1024.csv')['Municipality Code']))\n",
    "\n",
    "\"\"\" Dataset Preprocessing:\"\"\"\n",
    "train_percentage = 80\n",
    "T=3\n",
    "autoregressive = True\n",
    "feature_range = (-1, 1)\n",
    "\n",
    "\"\"\" Model Parameters:\"\"\"\n",
    "lstm_layers=[1000, 500]\n",
    "nn_layers=[250, 120, 1]\n",
    "dense_acivation='relu'\n",
    "recurrent_cells='LSTM'\n",
    "bidirectional=False"
   ]
  },
  {
   "cell_type": "markdown",
   "id": "12a94ef8",
   "metadata": {},
   "source": [
    "## 1. Read Data"
   ]
  },
  {
   "cell_type": "code",
   "execution_count": 3,
   "id": "487a9c21",
   "metadata": {},
   "outputs": [
    {
     "name": "stdout",
     "output_type": "stream",
     "text": [
      "Obtaining dataframe for the city of 54001 - Cúcuta only...\n",
      "Obtaining dataframe for the city of 41001 - Neiva only...\n",
      "Obtaining dataframe for the city of 5001 - Medellín only...\n",
      "Obtaining dataframe for the city of 50001 - Villavicencio only...\n",
      "Obtaining dataframe for the city of 68001 - Bucaramanga only...\n",
      "Obtaining dataframe for the city of 8001 - Barranquilla only...\n",
      "Obtaining dataframe for the city of 23001 - Montería only...\n",
      "Obtaining dataframe for the city of 76001 - Cali only...\n",
      "Obtaining dataframe for the city of 73001 - Ibagué only...\n",
      "Obtaining dataframe for the city of 5360 - Itagüí only...\n"
     ]
    },
    {
     "data": {
      "text/plain": [
       "list"
      ]
     },
     "execution_count": 3,
     "metadata": {},
     "output_type": "execute_result"
    }
   ],
   "source": [
    "# Read dataset for top 5 municipalities\n",
    "dengue_df = [get_dengue_dataset(labels_path=labels, embeddings_path=embeddings, municipality=Municipality) for Municipality in Municipalities]\n",
    "type(dengue_df)"
   ]
  },
  {
   "cell_type": "markdown",
   "id": "38d8a8a9",
   "metadata": {},
   "source": [
    "## 2. Preprocessing"
   ]
  },
  {
   "cell_type": "markdown",
   "id": "52bcc298",
   "metadata": {},
   "source": [
    "### Train Test split"
   ]
  },
  {
   "cell_type": "code",
   "execution_count": 4,
   "id": "8230b42c",
   "metadata": {},
   "outputs": [],
   "source": [
    "train_df = dengue_df[:int(len(dengue_df)*(train_percentage/100))]\n",
    "Municipalities_train = Municipalities[:int(len(dengue_df)*(train_percentage/100))]\n",
    "test_df = dengue_df[int(len(dengue_df)*(train_percentage/100)):]\n",
    "Municipalities_test = Municipalities[int(len(dengue_df)*(train_percentage/100)):]\n",
    "#test_df"
   ]
  },
  {
   "cell_type": "markdown",
   "id": "a0862626",
   "metadata": {},
   "source": [
    "### Normalize features"
   ]
  },
  {
   "cell_type": "code",
   "execution_count": 5,
   "id": "0f274959",
   "metadata": {},
   "outputs": [],
   "source": [
    "# Merge:\n",
    "train_df = pd.concat(train_df, keys=Municipalities_train)\n",
    "test_df = pd.concat(test_df, keys=Municipalities_test)"
   ]
  },
  {
   "cell_type": "code",
   "execution_count": 6,
   "id": "5f8d70e5",
   "metadata": {},
   "outputs": [
    {
     "data": {
      "text/html": [
       "<div>\n",
       "<style scoped>\n",
       "    .dataframe tbody tr th:only-of-type {\n",
       "        vertical-align: middle;\n",
       "    }\n",
       "\n",
       "    .dataframe tbody tr th {\n",
       "        vertical-align: top;\n",
       "    }\n",
       "\n",
       "    .dataframe thead th {\n",
       "        text-align: right;\n",
       "    }\n",
       "</style>\n",
       "<table border=\"1\" class=\"dataframe\">\n",
       "  <thead>\n",
       "    <tr style=\"text-align: right;\">\n",
       "      <th></th>\n",
       "      <th></th>\n",
       "      <th>0</th>\n",
       "      <th>1</th>\n",
       "      <th>2</th>\n",
       "      <th>3</th>\n",
       "      <th>4</th>\n",
       "      <th>5</th>\n",
       "      <th>6</th>\n",
       "      <th>7</th>\n",
       "      <th>8</th>\n",
       "      <th>9</th>\n",
       "      <th>...</th>\n",
       "      <th>759</th>\n",
       "      <th>760</th>\n",
       "      <th>761</th>\n",
       "      <th>762</th>\n",
       "      <th>763</th>\n",
       "      <th>764</th>\n",
       "      <th>765</th>\n",
       "      <th>766</th>\n",
       "      <th>767</th>\n",
       "      <th>Labels</th>\n",
       "    </tr>\n",
       "  </thead>\n",
       "  <tbody>\n",
       "    <tr>\n",
       "      <th rowspan=\"5\" valign=\"top\">41001</th>\n",
       "      <th>201545</th>\n",
       "      <td>0.592657</td>\n",
       "      <td>-0.041825</td>\n",
       "      <td>-0.059889</td>\n",
       "      <td>-0.038526</td>\n",
       "      <td>-0.306822</td>\n",
       "      <td>0.033433</td>\n",
       "      <td>-0.093779</td>\n",
       "      <td>0.015505</td>\n",
       "      <td>0.614</td>\n",
       "      <td>-0.552001</td>\n",
       "      <td>...</td>\n",
       "      <td>-0.805507</td>\n",
       "      <td>0.21285</td>\n",
       "      <td>0.738938</td>\n",
       "      <td>0.237695</td>\n",
       "      <td>0.577764</td>\n",
       "      <td>0.634531</td>\n",
       "      <td>-0.514114</td>\n",
       "      <td>0.107294</td>\n",
       "      <td>0.014199</td>\n",
       "      <td>-0.899881</td>\n",
       "    </tr>\n",
       "    <tr>\n",
       "      <th>201546</th>\n",
       "      <td>0.592657</td>\n",
       "      <td>-0.041825</td>\n",
       "      <td>-0.059889</td>\n",
       "      <td>-0.038526</td>\n",
       "      <td>-0.306822</td>\n",
       "      <td>0.033433</td>\n",
       "      <td>-0.093779</td>\n",
       "      <td>0.015505</td>\n",
       "      <td>0.614</td>\n",
       "      <td>-0.552001</td>\n",
       "      <td>...</td>\n",
       "      <td>-0.805507</td>\n",
       "      <td>0.21285</td>\n",
       "      <td>0.738938</td>\n",
       "      <td>0.237695</td>\n",
       "      <td>0.577764</td>\n",
       "      <td>0.634531</td>\n",
       "      <td>-0.514114</td>\n",
       "      <td>0.107294</td>\n",
       "      <td>0.014199</td>\n",
       "      <td>-0.861740</td>\n",
       "    </tr>\n",
       "    <tr>\n",
       "      <th>201547</th>\n",
       "      <td>0.592657</td>\n",
       "      <td>-0.041825</td>\n",
       "      <td>-0.059889</td>\n",
       "      <td>-0.038526</td>\n",
       "      <td>-0.306822</td>\n",
       "      <td>0.033433</td>\n",
       "      <td>-0.093779</td>\n",
       "      <td>0.015505</td>\n",
       "      <td>0.614</td>\n",
       "      <td>-0.552001</td>\n",
       "      <td>...</td>\n",
       "      <td>-0.805507</td>\n",
       "      <td>0.21285</td>\n",
       "      <td>0.738938</td>\n",
       "      <td>0.237695</td>\n",
       "      <td>0.577764</td>\n",
       "      <td>0.634531</td>\n",
       "      <td>-0.514114</td>\n",
       "      <td>0.107294</td>\n",
       "      <td>0.014199</td>\n",
       "      <td>-0.854589</td>\n",
       "    </tr>\n",
       "    <tr>\n",
       "      <th>201548</th>\n",
       "      <td>0.592657</td>\n",
       "      <td>-0.041825</td>\n",
       "      <td>-0.059889</td>\n",
       "      <td>-0.038526</td>\n",
       "      <td>-0.306822</td>\n",
       "      <td>0.033433</td>\n",
       "      <td>-0.093779</td>\n",
       "      <td>0.015505</td>\n",
       "      <td>0.614</td>\n",
       "      <td>-0.552001</td>\n",
       "      <td>...</td>\n",
       "      <td>-0.805507</td>\n",
       "      <td>0.21285</td>\n",
       "      <td>0.738938</td>\n",
       "      <td>0.237695</td>\n",
       "      <td>0.577764</td>\n",
       "      <td>0.634531</td>\n",
       "      <td>-0.514114</td>\n",
       "      <td>0.107294</td>\n",
       "      <td>0.014199</td>\n",
       "      <td>-0.856973</td>\n",
       "    </tr>\n",
       "    <tr>\n",
       "      <th>201549</th>\n",
       "      <td>0.592657</td>\n",
       "      <td>-0.041825</td>\n",
       "      <td>-0.059889</td>\n",
       "      <td>-0.038526</td>\n",
       "      <td>-0.306822</td>\n",
       "      <td>0.033433</td>\n",
       "      <td>-0.093779</td>\n",
       "      <td>0.015505</td>\n",
       "      <td>0.614</td>\n",
       "      <td>-0.552001</td>\n",
       "      <td>...</td>\n",
       "      <td>-0.805507</td>\n",
       "      <td>0.21285</td>\n",
       "      <td>0.738938</td>\n",
       "      <td>0.237695</td>\n",
       "      <td>0.577764</td>\n",
       "      <td>0.634531</td>\n",
       "      <td>-0.514114</td>\n",
       "      <td>0.107294</td>\n",
       "      <td>0.014199</td>\n",
       "      <td>-0.856973</td>\n",
       "    </tr>\n",
       "  </tbody>\n",
       "</table>\n",
       "<p>5 rows × 769 columns</p>\n",
       "</div>"
      ],
      "text/plain": [
       "                     0         1         2         3         4         5  \\\n",
       "41001 201545  0.592657 -0.041825 -0.059889 -0.038526 -0.306822  0.033433   \n",
       "      201546  0.592657 -0.041825 -0.059889 -0.038526 -0.306822  0.033433   \n",
       "      201547  0.592657 -0.041825 -0.059889 -0.038526 -0.306822  0.033433   \n",
       "      201548  0.592657 -0.041825 -0.059889 -0.038526 -0.306822  0.033433   \n",
       "      201549  0.592657 -0.041825 -0.059889 -0.038526 -0.306822  0.033433   \n",
       "\n",
       "                     6         7      8         9  ...       759      760  \\\n",
       "41001 201545 -0.093779  0.015505  0.614 -0.552001  ... -0.805507  0.21285   \n",
       "      201546 -0.093779  0.015505  0.614 -0.552001  ... -0.805507  0.21285   \n",
       "      201547 -0.093779  0.015505  0.614 -0.552001  ... -0.805507  0.21285   \n",
       "      201548 -0.093779  0.015505  0.614 -0.552001  ... -0.805507  0.21285   \n",
       "      201549 -0.093779  0.015505  0.614 -0.552001  ... -0.805507  0.21285   \n",
       "\n",
       "                   761       762       763       764       765       766  \\\n",
       "41001 201545  0.738938  0.237695  0.577764  0.634531 -0.514114  0.107294   \n",
       "      201546  0.738938  0.237695  0.577764  0.634531 -0.514114  0.107294   \n",
       "      201547  0.738938  0.237695  0.577764  0.634531 -0.514114  0.107294   \n",
       "      201548  0.738938  0.237695  0.577764  0.634531 -0.514114  0.107294   \n",
       "      201549  0.738938  0.237695  0.577764  0.634531 -0.514114  0.107294   \n",
       "\n",
       "                   767    Labels  \n",
       "41001 201545  0.014199 -0.899881  \n",
       "      201546  0.014199 -0.861740  \n",
       "      201547  0.014199 -0.854589  \n",
       "      201548  0.014199 -0.856973  \n",
       "      201549  0.014199 -0.856973  \n",
       "\n",
       "[5 rows x 769 columns]"
      ]
     },
     "execution_count": 6,
     "metadata": {},
     "output_type": "execute_result"
    }
   ],
   "source": [
    "# Scale train:\n",
    "train_df, scalers = normalize_train_features(train_df, feature_range=feature_range)\n",
    "train_df = [train_df[train_df.index.get_level_values(0) == municipality] for municipality in Municipalities_train]\n",
    "\n",
    "#print(f'The scalers are: {scalers}')\n",
    "\n",
    "train_df[1].head()"
   ]
  },
  {
   "cell_type": "code",
   "execution_count": 7,
   "id": "1a9f874f",
   "metadata": {},
   "outputs": [
    {
     "data": {
      "text/html": [
       "<div>\n",
       "<style scoped>\n",
       "    .dataframe tbody tr th:only-of-type {\n",
       "        vertical-align: middle;\n",
       "    }\n",
       "\n",
       "    .dataframe tbody tr th {\n",
       "        vertical-align: top;\n",
       "    }\n",
       "\n",
       "    .dataframe thead th {\n",
       "        text-align: right;\n",
       "    }\n",
       "</style>\n",
       "<table border=\"1\" class=\"dataframe\">\n",
       "  <thead>\n",
       "    <tr style=\"text-align: right;\">\n",
       "      <th></th>\n",
       "      <th></th>\n",
       "      <th>0</th>\n",
       "      <th>1</th>\n",
       "      <th>2</th>\n",
       "      <th>3</th>\n",
       "      <th>4</th>\n",
       "      <th>5</th>\n",
       "      <th>6</th>\n",
       "      <th>7</th>\n",
       "      <th>8</th>\n",
       "      <th>9</th>\n",
       "      <th>...</th>\n",
       "      <th>759</th>\n",
       "      <th>760</th>\n",
       "      <th>761</th>\n",
       "      <th>762</th>\n",
       "      <th>763</th>\n",
       "      <th>764</th>\n",
       "      <th>765</th>\n",
       "      <th>766</th>\n",
       "      <th>767</th>\n",
       "      <th>Labels</th>\n",
       "    </tr>\n",
       "  </thead>\n",
       "  <tbody>\n",
       "    <tr>\n",
       "      <th rowspan=\"5\" valign=\"top\">5360</th>\n",
       "      <th>201545</th>\n",
       "      <td>0.592657</td>\n",
       "      <td>-0.041825</td>\n",
       "      <td>-0.059889</td>\n",
       "      <td>-0.038526</td>\n",
       "      <td>-0.306822</td>\n",
       "      <td>0.033433</td>\n",
       "      <td>-0.093779</td>\n",
       "      <td>0.015505</td>\n",
       "      <td>0.614000</td>\n",
       "      <td>-0.552001</td>\n",
       "      <td>...</td>\n",
       "      <td>-0.805507</td>\n",
       "      <td>0.212850</td>\n",
       "      <td>0.738938</td>\n",
       "      <td>0.237695</td>\n",
       "      <td>0.577764</td>\n",
       "      <td>0.634531</td>\n",
       "      <td>-0.514114</td>\n",
       "      <td>0.107294</td>\n",
       "      <td>0.014199</td>\n",
       "      <td>-0.985697</td>\n",
       "    </tr>\n",
       "    <tr>\n",
       "      <th>201546</th>\n",
       "      <td>0.592657</td>\n",
       "      <td>-0.041825</td>\n",
       "      <td>-0.059889</td>\n",
       "      <td>-0.038526</td>\n",
       "      <td>-0.306822</td>\n",
       "      <td>0.033433</td>\n",
       "      <td>-0.093779</td>\n",
       "      <td>0.015505</td>\n",
       "      <td>0.614000</td>\n",
       "      <td>-0.552001</td>\n",
       "      <td>...</td>\n",
       "      <td>-0.805507</td>\n",
       "      <td>0.212850</td>\n",
       "      <td>0.738938</td>\n",
       "      <td>0.237695</td>\n",
       "      <td>0.577764</td>\n",
       "      <td>0.634531</td>\n",
       "      <td>-0.514114</td>\n",
       "      <td>0.107294</td>\n",
       "      <td>0.014199</td>\n",
       "      <td>-0.990465</td>\n",
       "    </tr>\n",
       "    <tr>\n",
       "      <th>201547</th>\n",
       "      <td>-0.320510</td>\n",
       "      <td>0.119825</td>\n",
       "      <td>0.137270</td>\n",
       "      <td>0.216795</td>\n",
       "      <td>-0.476022</td>\n",
       "      <td>0.158546</td>\n",
       "      <td>-0.570430</td>\n",
       "      <td>-0.044212</td>\n",
       "      <td>0.344147</td>\n",
       "      <td>-0.219893</td>\n",
       "      <td>...</td>\n",
       "      <td>-0.319999</td>\n",
       "      <td>0.582625</td>\n",
       "      <td>0.144274</td>\n",
       "      <td>-0.023346</td>\n",
       "      <td>0.200789</td>\n",
       "      <td>-0.030519</td>\n",
       "      <td>0.321033</td>\n",
       "      <td>-0.225532</td>\n",
       "      <td>0.463084</td>\n",
       "      <td>-0.969011</td>\n",
       "    </tr>\n",
       "    <tr>\n",
       "      <th>201548</th>\n",
       "      <td>0.592657</td>\n",
       "      <td>-0.041825</td>\n",
       "      <td>-0.059889</td>\n",
       "      <td>-0.038526</td>\n",
       "      <td>-0.306822</td>\n",
       "      <td>0.033433</td>\n",
       "      <td>-0.093779</td>\n",
       "      <td>0.015505</td>\n",
       "      <td>0.614000</td>\n",
       "      <td>-0.552001</td>\n",
       "      <td>...</td>\n",
       "      <td>-0.805507</td>\n",
       "      <td>0.212850</td>\n",
       "      <td>0.738938</td>\n",
       "      <td>0.237695</td>\n",
       "      <td>0.577764</td>\n",
       "      <td>0.634531</td>\n",
       "      <td>-0.514114</td>\n",
       "      <td>0.107294</td>\n",
       "      <td>0.014199</td>\n",
       "      <td>-0.995232</td>\n",
       "    </tr>\n",
       "    <tr>\n",
       "      <th>201549</th>\n",
       "      <td>-0.444779</td>\n",
       "      <td>0.071139</td>\n",
       "      <td>0.012459</td>\n",
       "      <td>-0.366217</td>\n",
       "      <td>-0.225480</td>\n",
       "      <td>-0.081610</td>\n",
       "      <td>-0.170546</td>\n",
       "      <td>-0.254429</td>\n",
       "      <td>0.199990</td>\n",
       "      <td>-0.249487</td>\n",
       "      <td>...</td>\n",
       "      <td>0.342236</td>\n",
       "      <td>0.245481</td>\n",
       "      <td>0.160376</td>\n",
       "      <td>-0.515343</td>\n",
       "      <td>0.231088</td>\n",
       "      <td>0.428935</td>\n",
       "      <td>0.251430</td>\n",
       "      <td>-0.283586</td>\n",
       "      <td>0.161517</td>\n",
       "      <td>-0.997616</td>\n",
       "    </tr>\n",
       "  </tbody>\n",
       "</table>\n",
       "<p>5 rows × 769 columns</p>\n",
       "</div>"
      ],
      "text/plain": [
       "                    0         1         2         3         4         5  \\\n",
       "5360 201545  0.592657 -0.041825 -0.059889 -0.038526 -0.306822  0.033433   \n",
       "     201546  0.592657 -0.041825 -0.059889 -0.038526 -0.306822  0.033433   \n",
       "     201547 -0.320510  0.119825  0.137270  0.216795 -0.476022  0.158546   \n",
       "     201548  0.592657 -0.041825 -0.059889 -0.038526 -0.306822  0.033433   \n",
       "     201549 -0.444779  0.071139  0.012459 -0.366217 -0.225480 -0.081610   \n",
       "\n",
       "                    6         7         8         9  ...       759       760  \\\n",
       "5360 201545 -0.093779  0.015505  0.614000 -0.552001  ... -0.805507  0.212850   \n",
       "     201546 -0.093779  0.015505  0.614000 -0.552001  ... -0.805507  0.212850   \n",
       "     201547 -0.570430 -0.044212  0.344147 -0.219893  ... -0.319999  0.582625   \n",
       "     201548 -0.093779  0.015505  0.614000 -0.552001  ... -0.805507  0.212850   \n",
       "     201549 -0.170546 -0.254429  0.199990 -0.249487  ...  0.342236  0.245481   \n",
       "\n",
       "                  761       762       763       764       765       766  \\\n",
       "5360 201545  0.738938  0.237695  0.577764  0.634531 -0.514114  0.107294   \n",
       "     201546  0.738938  0.237695  0.577764  0.634531 -0.514114  0.107294   \n",
       "     201547  0.144274 -0.023346  0.200789 -0.030519  0.321033 -0.225532   \n",
       "     201548  0.738938  0.237695  0.577764  0.634531 -0.514114  0.107294   \n",
       "     201549  0.160376 -0.515343  0.231088  0.428935  0.251430 -0.283586   \n",
       "\n",
       "                  767    Labels  \n",
       "5360 201545  0.014199 -0.985697  \n",
       "     201546  0.014199 -0.990465  \n",
       "     201547  0.463084 -0.969011  \n",
       "     201548  0.014199 -0.995232  \n",
       "     201549  0.161517 -0.997616  \n",
       "\n",
       "[5 rows x 769 columns]"
      ]
     },
     "execution_count": 7,
     "metadata": {},
     "output_type": "execute_result"
    }
   ],
   "source": [
    "# Scale test:\n",
    "test_df = normalize_test_features(test_df, scalers=scalers)\n",
    "test_df = [test_df[test_df.index.get_level_values(0) == municipality] for municipality in Municipalities_test]\n",
    "\n",
    "test_df[1].head()"
   ]
  },
  {
   "cell_type": "markdown",
   "id": "02d45dfd",
   "metadata": {},
   "source": [
    "### Prepare data for time series supervised learning (function to create sliding window)"
   ]
  },
  {
   "cell_type": "code",
   "execution_count": 8,
   "id": "a702b793",
   "metadata": {},
   "outputs": [
    {
     "data": {
      "text/plain": [
       "(161, 3076)"
      ]
     },
     "execution_count": 8,
     "metadata": {},
     "output_type": "execute_result"
    }
   ],
   "source": [
    "# frame as supervised learning\n",
    "train = [series_to_supervised(df, n_in=T, autoregressive=autoregressive) for df in train_df]\n",
    "test = [series_to_supervised(df, n_in=T, autoregressive=autoregressive) for df in test_df]\n",
    "\n",
    "train[1].shape"
   ]
  },
  {
   "cell_type": "markdown",
   "id": "8507a1c4",
   "metadata": {},
   "source": [
    "### Merge train data"
   ]
  },
  {
   "cell_type": "code",
   "execution_count": 9,
   "id": "fb439850",
   "metadata": {},
   "outputs": [],
   "source": [
    "# Merge:\n",
    "train = pd.concat(train, keys=Municipalities_train)\n",
    "test = pd.concat(test, keys=Municipalities_test)"
   ]
  },
  {
   "cell_type": "markdown",
   "id": "2d73e19c",
   "metadata": {},
   "source": [
    "### Features and Labels Set"
   ]
  },
  {
   "cell_type": "code",
   "execution_count": 10,
   "id": "d3489c1b",
   "metadata": {},
   "outputs": [
    {
     "name": "stdout",
     "output_type": "stream",
     "text": [
      "Train:\n",
      "The shape of the features is (1288, 2307)\n",
      "The shape of the labels is (1288, 1)\n",
      "Test:\n",
      "The shape of the features is (322, 2307)\n",
      "The shape of the labels is (322, 1)\n"
     ]
    }
   ],
   "source": [
    "# Train features and labels set\n",
    "print('Train:')\n",
    "train_X, train_y, n_features = features_labels_set(timeseries_data=train, original_df=dengue_df[0], autoregressive=autoregressive)\n",
    "\n",
    "# Test features and labels set\n",
    "print('Test:')\n",
    "test_X, test_y, n_features = features_labels_set(timeseries_data=test, original_df=dengue_df[0], autoregressive=autoregressive)"
   ]
  },
  {
   "cell_type": "code",
   "execution_count": 11,
   "id": "c53fcc85",
   "metadata": {},
   "outputs": [
    {
     "name": "stdout",
     "output_type": "stream",
     "text": [
      "The initial shapes are:\n",
      "The train shape is (1288, 2307)\n",
      "The test shape is (322, 2307)\n",
      "-----------------------\n",
      "The Final shapes are:\n",
      "The train shape is (1288, 3, 769)\n",
      "The test shape is (322, 3, 769)\n"
     ]
    }
   ],
   "source": [
    "# reshape input to be 3D [samples, timesteps, features]\n",
    "train_X, test_X = reshape_tensor(train_X, test_X, n_features, T, autoregressive)"
   ]
  },
  {
   "cell_type": "markdown",
   "id": "8b0a8f2a",
   "metadata": {},
   "source": [
    "# 2. Model"
   ]
  },
  {
   "cell_type": "code",
   "execution_count": 12,
   "id": "47dd4813",
   "metadata": {},
   "outputs": [],
   "source": [
    "x_ar = train_X[:, :, -1:]\n",
    "x_ar_test = test_X[:, :, -1:]"
   ]
  },
  {
   "cell_type": "code",
   "execution_count": 13,
   "id": "7d9fcc51",
   "metadata": {},
   "outputs": [
    {
     "name": "stderr",
     "output_type": "stream",
     "text": [
      "2023-02-19 19:18:21.678526: W tensorflow/stream_executor/platform/default/dso_loader.cc:64] Could not load dynamic library 'libcuda.so.1'; dlerror: libcuda.so.1: cannot open shared object file: No such file or directory\n",
      "2023-02-19 19:18:21.678569: W tensorflow/stream_executor/cuda/cuda_driver.cc:269] failed call to cuInit: UNKNOWN ERROR (303)\n",
      "2023-02-19 19:18:21.678594: I tensorflow/stream_executor/cuda/cuda_diagnostics.cc:156] kernel driver does not appear to be running on this host (9f7bdfccc75e): /proc/driver/nvidia/version does not exist\n",
      "2023-02-19 19:18:21.678833: I tensorflow/core/platform/cpu_feature_guard.cc:142] This TensorFlow binary is optimized with oneAPI Deep Neural Network Library (oneDNN) to use the following CPU instructions in performance-critical operations:  SSE4.1 SSE4.2 AVX AVX2 FMA\n",
      "To enable them in other operations, rebuild TensorFlow with the appropriate compiler flags.\n",
      "2023-02-19 19:18:23.865823: I tensorflow/compiler/mlir/mlir_graph_optimization_pass.cc:185] None of the MLIR Optimization Passes are enabled (registered 2)\n"
     ]
    },
    {
     "name": "stdout",
     "output_type": "stream",
     "text": [
      "Restoring model weights from the end of the best epoch.\n",
      "Epoch 00041: early stopping\n",
      "Restoring model weights from the end of the best epoch.\n",
      "Epoch 00021: early stopping\n",
      "Restoring model weights from the end of the best epoch.\n",
      "Epoch 00049: early stopping\n",
      "Restoring model weights from the end of the best epoch.\n",
      "Epoch 00044: early stopping\n",
      "Model: \"model\"\n",
      "__________________________________________________________________________________________________\n",
      "Layer (type)                    Output Shape         Param #     Connected to                     \n",
      "==================================================================================================\n",
      "lstm_input (InputLayer)         [(None, 3, 769)]     0                                            \n",
      "__________________________________________________________________________________________________\n",
      "lstm_2_input (InputLayer)       [(None, 3, 1)]       0                                            \n",
      "__________________________________________________________________________________________________\n",
      "sequential (Sequential)         (None, 1)            10240971    lstm_input[0][0]                 \n",
      "__________________________________________________________________________________________________\n",
      "sequential_1 (Sequential)       (None, 1)            7168971     lstm_2_input[0][0]               \n",
      "__________________________________________________________________________________________________\n",
      "concatenate (Concatenate)       (None, 2)            0           sequential[0][0]                 \n",
      "                                                                 sequential_1[0][0]               \n",
      "__________________________________________________________________________________________________\n",
      "dense_6 (Dense)                 (None, 2)            6           concatenate[0][0]                \n",
      "__________________________________________________________________________________________________\n",
      "dense_7 (Dense)                 (None, 1)            3           dense_6[0][0]                    \n",
      "==================================================================================================\n",
      "Total params: 17,409,951\n",
      "Trainable params: 9\n",
      "Non-trainable params: 17,409,942\n",
      "__________________________________________________________________________________________________\n",
      "Test MAPE: inf\n",
      "Test sMAPE: 129.646\n",
      "Test RMSE: 46.040\n",
      "{'mape': inf, 'smape': 129.645827813819, 'rmse': 46.03977861461672}\n"
     ]
    },
    {
     "data": {
      "image/png": "[encoded data removed]",
      "text/plain": [
       "<Figure size 432x288 with 1 Axes>"
      ]
     },
     "metadata": {
      "needs_background": "light"
     },
     "output_type": "display_data"
    },
    {
     "name": "stdout",
     "output_type": "stream",
     "text": [
      "Restoring model weights from the end of the best epoch.\n",
      "Epoch 00022: early stopping\n",
      "Restoring model weights from the end of the best epoch.\n",
      "Epoch 00030: early stopping\n",
      "Restoring model weights from the end of the best epoch.\n",
      "Epoch 00026: early stopping\n",
      "Model: \"model_1\"\n",
      "__________________________________________________________________________________________________\n",
      "Layer (type)                    Output Shape         Param #     Connected to                     \n",
      "==================================================================================================\n",
      "lstm_4_input (InputLayer)       [(None, 3, 769)]     0                                            \n",
      "__________________________________________________________________________________________________\n",
      "lstm_6_input (InputLayer)       [(None, 3, 1)]       0                                            \n",
      "__________________________________________________________________________________________________\n",
      "sequential_2 (Sequential)       (None, 1)            10240971    lstm_4_input[0][0]               \n",
      "__________________________________________________________________________________________________\n",
      "sequential_3 (Sequential)       (None, 1)            7168971     lstm_6_input[0][0]               \n",
      "__________________________________________________________________________________________________\n",
      "concatenate_1 (Concatenate)     (None, 2)            0           sequential_2[0][0]               \n",
      "                                                                 sequential_3[0][0]               \n",
      "__________________________________________________________________________________________________\n",
      "dense_14 (Dense)                (None, 2)            6           concatenate_1[0][0]              \n",
      "__________________________________________________________________________________________________\n",
      "dense_15 (Dense)                (None, 1)            3           dense_14[0][0]                   \n",
      "==================================================================================================\n",
      "Total params: 17,409,951\n",
      "Trainable params: 9\n",
      "Non-trainable params: 17,409,942\n",
      "__________________________________________________________________________________________________\n",
      "Test MAPE: inf\n",
      "Test sMAPE: 127.963\n",
      "Test RMSE: 43.824\n",
      "{'mape': inf, 'smape': 127.96333982907088, 'rmse': 43.82406050923962}\n"
     ]
    },
    {
     "data": {
      "image/png": "[encoded data removed]",
      "text/plain": [
       "<Figure size 432x288 with 1 Axes>"
      ]
     },
     "metadata": {
      "needs_background": "light"
     },
     "output_type": "display_data"
    },
    {
     "name": "stdout",
     "output_type": "stream",
     "text": [
      "Restoring model weights from the end of the best epoch.\n",
      "Epoch 00025: early stopping\n",
      "Restoring model weights from the end of the best epoch.\n",
      "Epoch 00024: early stopping\n",
      "Restoring model weights from the end of the best epoch.\n",
      "Epoch 00049: early stopping\n",
      "Model: \"model_2\"\n",
      "__________________________________________________________________________________________________\n",
      "Layer (type)                    Output Shape         Param #     Connected to                     \n",
      "==================================================================================================\n",
      "lstm_8_input (InputLayer)       [(None, 3, 769)]     0                                            \n",
      "__________________________________________________________________________________________________\n",
      "lstm_10_input (InputLayer)      [(None, 3, 1)]       0                                            \n",
      "__________________________________________________________________________________________________\n",
      "sequential_4 (Sequential)       (None, 1)            10240971    lstm_8_input[0][0]               \n",
      "__________________________________________________________________________________________________\n",
      "sequential_5 (Sequential)       (None, 1)            7168971     lstm_10_input[0][0]              \n",
      "__________________________________________________________________________________________________\n",
      "concatenate_2 (Concatenate)     (None, 2)            0           sequential_4[0][0]               \n",
      "                                                                 sequential_5[0][0]               \n",
      "__________________________________________________________________________________________________\n",
      "dense_22 (Dense)                (None, 2)            6           concatenate_2[0][0]              \n",
      "__________________________________________________________________________________________________\n",
      "dense_23 (Dense)                (None, 1)            3           dense_22[0][0]                   \n",
      "==================================================================================================\n",
      "Total params: 17,409,951\n",
      "Trainable params: 9\n",
      "Non-trainable params: 17,409,942\n",
      "__________________________________________________________________________________________________\n",
      "Test MAPE: inf\n",
      "Test sMAPE: 129.646\n",
      "Test RMSE: 46.040\n",
      "{'mape': inf, 'smape': 129.645827813819, 'rmse': 46.03977861461672}\n"
     ]
    },
    {
     "data": {
      "image/png": "[encoded data removed]",
      "text/plain": [
       "<Figure size 432x288 with 1 Axes>"
      ]
     },
     "metadata": {
      "needs_background": "light"
     },
     "output_type": "display_data"
    },
    {
     "name": "stdout",
     "output_type": "stream",
     "text": [
      "Restoring model weights from the end of the best epoch.\n",
      "Epoch 00028: early stopping\n",
      "Restoring model weights from the end of the best epoch.\n",
      "Epoch 00025: early stopping\n",
      "Restoring model weights from the end of the best epoch.\n",
      "Epoch 00025: early stopping\n",
      "Restoring model weights from the end of the best epoch.\n",
      "Epoch 00025: early stopping\n",
      "Model: \"model_3\"\n",
      "__________________________________________________________________________________________________\n",
      "Layer (type)                    Output Shape         Param #     Connected to                     \n",
      "==================================================================================================\n",
      "lstm_12_input (InputLayer)      [(None, 3, 769)]     0                                            \n",
      "__________________________________________________________________________________________________\n",
      "lstm_14_input (InputLayer)      [(None, 3, 1)]       0                                            \n",
      "__________________________________________________________________________________________________\n",
      "sequential_6 (Sequential)       (None, 1)            10240971    lstm_12_input[0][0]              \n",
      "__________________________________________________________________________________________________\n",
      "sequential_7 (Sequential)       (None, 1)            7168971     lstm_14_input[0][0]              \n",
      "__________________________________________________________________________________________________\n",
      "concatenate_3 (Concatenate)     (None, 2)            0           sequential_6[0][0]               \n",
      "                                                                 sequential_7[0][0]               \n",
      "__________________________________________________________________________________________________\n",
      "dense_30 (Dense)                (None, 2)            6           concatenate_3[0][0]              \n",
      "__________________________________________________________________________________________________\n",
      "dense_31 (Dense)                (None, 1)            3           dense_30[0][0]                   \n",
      "==================================================================================================\n",
      "Total params: 17,409,951\n",
      "Trainable params: 9\n",
      "Non-trainable params: 17,409,942\n",
      "__________________________________________________________________________________________________\n",
      "Test MAPE: inf\n",
      "Test sMAPE: 129.031\n",
      "Test RMSE: 49.034\n",
      "{'mape': inf, 'smape': 129.03116104501925, 'rmse': 49.03351069847473}\n"
     ]
    },
    {
     "data": {
      "image/png": "[encoded data removed]",
      "text/plain": [
       "<Figure size 432x288 with 1 Axes>"
      ]
     },
     "metadata": {
      "needs_background": "light"
     },
     "output_type": "display_data"
    },
    {
     "name": "stdout",
     "output_type": "stream",
     "text": [
      "Restoring model weights from the end of the best epoch.\n",
      "Epoch 00027: early stopping\n",
      "Restoring model weights from the end of the best epoch.\n",
      "Epoch 00023: early stopping\n",
      "Restoring model weights from the end of the best epoch.\n",
      "Epoch 00021: early stopping\n",
      "Restoring model weights from the end of the best epoch.\n",
      "Epoch 00027: early stopping\n",
      "Model: \"model_4\"\n",
      "__________________________________________________________________________________________________\n",
      "Layer (type)                    Output Shape         Param #     Connected to                     \n",
      "==================================================================================================\n",
      "lstm_16_input (InputLayer)      [(None, 3, 769)]     0                                            \n",
      "__________________________________________________________________________________________________\n",
      "lstm_18_input (InputLayer)      [(None, 3, 1)]       0                                            \n",
      "__________________________________________________________________________________________________\n",
      "sequential_8 (Sequential)       (None, 1)            10240971    lstm_16_input[0][0]              \n",
      "__________________________________________________________________________________________________\n",
      "sequential_9 (Sequential)       (None, 1)            7168971     lstm_18_input[0][0]              \n",
      "__________________________________________________________________________________________________\n",
      "concatenate_4 (Concatenate)     (None, 2)            0           sequential_8[0][0]               \n",
      "                                                                 sequential_9[0][0]               \n",
      "__________________________________________________________________________________________________\n",
      "dense_38 (Dense)                (None, 2)            6           concatenate_4[0][0]              \n",
      "__________________________________________________________________________________________________\n",
      "dense_39 (Dense)                (None, 1)            3           dense_38[0][0]                   \n",
      "==================================================================================================\n",
      "Total params: 17,409,951\n",
      "Trainable params: 9\n",
      "Non-trainable params: 17,409,942\n",
      "__________________________________________________________________________________________________\n",
      "Test MAPE: inf\n",
      "Test sMAPE: 126.819\n",
      "Test RMSE: 44.742\n",
      "{'mape': inf, 'smape': 126.81875147382902, 'rmse': 44.74190495859944}\n"
     ]
    },
    {
     "data": {
      "image/png": "[encoded data removed]",
      "text/plain": [
       "<Figure size 432x288 with 1 Axes>"
      ]
     },
     "metadata": {
      "needs_background": "light"
     },
     "output_type": "display_data"
    },
    {
     "name": "stdout",
     "output_type": "stream",
     "text": [
      "rmse : average=45.936, std=1.761\n",
      "mape : average=inf, std=nan\n",
      "smape : average=128.621, std=1.091\n"
     ]
    },
    {
     "data": {
      "text/plain": [
       "([45.93580667910944, 1.7608102522722149],\n",
       " [inf, nan],\n",
       " [128.62098159511143, 1.090815550643065])"
      ]
     },
     "execution_count": 13,
     "metadata": {},
     "output_type": "execute_result"
    }
   ],
   "source": [
    "# Use the Function:\n",
    "sequence=train_X.shape[1]\n",
    "features=train_X.shape[2]\n",
    "\n",
    "calculate_mean_std(lstm_layers, nn_layers, sequence, features, dense_acivation, recurrent_cells, bidirectional, train_X, train_y, test_X, test_y, scalers['scaler_Labels'], monitor=True, plot=False, epochs=50, batch_size=16, n_tests=5, plot_samples=True, Municipality='Global', fusion='late', x_ar=x_ar, x_ar_test=x_ar_test)\n"
   ]
  },
  {
   "cell_type": "code",
   "execution_count": null,
   "id": "53f187c7",
   "metadata": {},
   "outputs": [],
   "source": []
  }
 ],
 "metadata": {
  "kernelspec": {
   "display_name": "Python [conda env:generalml_p37_gpu_v1]",
   "language": "python",
   "name": "conda-env-generalml_p37_gpu_v1-py"
  },
  "language_info": {
   "codemirror_mode": {
    "name": "ipython",
    "version": 3
   },
   "file_extension": ".py",
   "mimetype": "text/x-python",
   "name": "python",
   "nbconvert_exporter": "python",
   "pygments_lexer": "ipython3",
   "version": "3.7.12"
  }
 },
 "nbformat": 4,
 "nbformat_minor": 5
}
