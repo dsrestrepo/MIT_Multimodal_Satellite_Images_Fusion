{
 "cells": [
  {
   "cell_type": "markdown",
   "id": "cc940908",
   "metadata": {},
   "source": [
    "# Setup enviorment"
   ]
  },
  {
   "cell_type": "code",
   "execution_count": null,
   "id": "7d259f67",
   "metadata": {},
   "outputs": [],
   "source": [
    "%cd .."
   ]
  },
  {
   "cell_type": "code",
   "execution_count": 2,
   "id": "ca1c64b1",
   "metadata": {},
   "outputs": [],
   "source": [
    "from Preprocessing.time_series_preprocessing import get_dengue_dataset, train_test_split, normalize_train_features, normalize_test_features, series_to_supervised, features_labels_set, reshape_tensor\n",
    "\n",
    "from Models.LSTM import create_model, train_model\n",
    "import tensorflow as tf\n",
    "\n",
    "from Utils.test_lstm import evaluate, plot_predictions, calculate_mean_std\n",
    "\n",
    "import pandas as pd\n",
    "import os\n",
    "import numpy as np"
   ]
  },
  {
   "cell_type": "code",
   "execution_count": 3,
   "id": "a275bf94",
   "metadata": {},
   "outputs": [],
   "source": [
    "\"\"\" Read Dataset:\"\"\"\n",
    "\n",
    "embeddings = 'Embeddings_Augmented/variational_autoencoder_224_1024.csv'\n",
    "labels = '../Tabular_data/dengue_tabular.csv'\n",
    "\n",
    "# Get list of municipalities:\n",
    "Municipalities = list(pd.unique(pd.read_csv(embeddings)['Municipality Code']))\n",
    "\n",
    "\"\"\" Dataset Preprocessing:\"\"\"\n",
    "train_percentage = 80\n",
    "T = 0\n",
    "autoregressive = False\n",
    "feature_range = (-1, 1)\n",
    "\n",
    "\"\"\" Model Parameters:\"\"\"\n",
    "lstm_layers=[1000, 500]\n",
    "nn_layers=[250, 120, 1]\n",
    "dense_acivation='relu'\n",
    "recurrent_cells='LSTM'\n",
    "bidirectional=False"
   ]
  },
  {
   "cell_type": "markdown",
   "id": "b7c22008",
   "metadata": {},
   "source": [
    "## 1. Read Data"
   ]
  },
  {
   "cell_type": "code",
   "execution_count": 4,
   "id": "c7005018",
   "metadata": {},
   "outputs": [
    {
     "name": "stdout",
     "output_type": "stream",
     "text": [
      "Obtaining dataframe for the city of 54001 - Cúcuta only...\n",
      "Obtaining dataframe for the city of 41001 - Neiva only...\n",
      "Obtaining dataframe for the city of 5001 - Medellín only...\n",
      "Obtaining dataframe for the city of 50001 - Villavicencio only...\n",
      "Obtaining dataframe for the city of 68001 - Bucaramanga only...\n",
      "Obtaining dataframe for the city of 8001 - Barranquilla only...\n",
      "Obtaining dataframe for the city of 23001 - Montería only...\n",
      "Obtaining dataframe for the city of 76001 - Cali only...\n",
      "Obtaining dataframe for the city of 73001 - Ibagué only...\n",
      "Obtaining dataframe for the city of 5360 - Itagüí only...\n"
     ]
    },
    {
     "data": {
      "text/plain": [
       "list"
      ]
     },
     "execution_count": 4,
     "metadata": {},
     "output_type": "execute_result"
    }
   ],
   "source": [
    "# Read dataset for top 5 municipalities\n",
    "dengue_df = [get_dengue_dataset(labels_path=labels, embeddings_path=embeddings, municipality=Municipality) for Municipality in Municipalities]\n",
    "type(dengue_df)"
   ]
  },
  {
   "cell_type": "markdown",
   "id": "d9eec328",
   "metadata": {},
   "source": [
    "### Train Test split"
   ]
  },
  {
   "cell_type": "code",
   "execution_count": 5,
   "id": "1fa181d0",
   "metadata": {},
   "outputs": [
    {
     "name": "stdout",
     "output_type": "stream",
     "text": [
      "The train shape is: (130, 1025)\n",
      "The test shape is: (33, 1025)\n",
      "The train shape is: (130, 1025)\n",
      "The test shape is: (33, 1025)\n",
      "The train shape is: (130, 1025)\n",
      "The test shape is: (33, 1025)\n",
      "The train shape is: (130, 1025)\n",
      "The test shape is: (33, 1025)\n",
      "The train shape is: (130, 1025)\n",
      "The test shape is: (33, 1025)\n",
      "The train shape is: (130, 1025)\n",
      "The test shape is: (33, 1025)\n",
      "The train shape is: (130, 1025)\n",
      "The test shape is: (33, 1025)\n",
      "The train shape is: (130, 1025)\n",
      "The test shape is: (33, 1025)\n",
      "The train shape is: (130, 1025)\n",
      "The test shape is: (33, 1025)\n",
      "The train shape is: (130, 1025)\n",
      "The test shape is: (33, 1025)\n"
     ]
    }
   ],
   "source": [
    "train_df = []\n",
    "test_df = []\n",
    "\n",
    "for i in range(len(dengue_df)):\n",
    "    train_df_aux, test_df_aux = train_test_split(dengue_df[i], train_percentage)\n",
    "    train_df.append(train_df_aux)\n",
    "    test_df.append(test_df_aux)\n",
    "#test_df"
   ]
  },
  {
   "cell_type": "markdown",
   "id": "2892152c",
   "metadata": {},
   "source": [
    "### Normalize features"
   ]
  },
  {
   "cell_type": "code",
   "execution_count": 6,
   "id": "e905b809",
   "metadata": {},
   "outputs": [],
   "source": [
    "# Merge:\n",
    "train_df = pd.concat(train_df, keys=Municipalities)\n",
    "test_df = pd.concat(test_df, keys=Municipalities)"
   ]
  },
  {
   "cell_type": "code",
   "execution_count": 7,
   "id": "3ae82a6e",
   "metadata": {},
   "outputs": [
    {
     "data": {
      "text/html": [
       "<div>\n",
       "<style scoped>\n",
       "    .dataframe tbody tr th:only-of-type {\n",
       "        vertical-align: middle;\n",
       "    }\n",
       "\n",
       "    .dataframe tbody tr th {\n",
       "        vertical-align: top;\n",
       "    }\n",
       "\n",
       "    .dataframe thead th {\n",
       "        text-align: right;\n",
       "    }\n",
       "</style>\n",
       "<table border=\"1\" class=\"dataframe\">\n",
       "  <thead>\n",
       "    <tr style=\"text-align: right;\">\n",
       "      <th></th>\n",
       "      <th></th>\n",
       "      <th>0</th>\n",
       "      <th>1</th>\n",
       "      <th>2</th>\n",
       "      <th>3</th>\n",
       "      <th>4</th>\n",
       "      <th>5</th>\n",
       "      <th>6</th>\n",
       "      <th>7</th>\n",
       "      <th>8</th>\n",
       "      <th>9</th>\n",
       "      <th>...</th>\n",
       "      <th>1015</th>\n",
       "      <th>1016</th>\n",
       "      <th>1017</th>\n",
       "      <th>1018</th>\n",
       "      <th>1019</th>\n",
       "      <th>1020</th>\n",
       "      <th>1021</th>\n",
       "      <th>1022</th>\n",
       "      <th>1023</th>\n",
       "      <th>Labels</th>\n",
       "    </tr>\n",
       "  </thead>\n",
       "  <tbody>\n",
       "    <tr>\n",
       "      <th rowspan=\"5\" valign=\"top\">41001</th>\n",
       "      <th>201546</th>\n",
       "      <td>-0.768418</td>\n",
       "      <td>0.105806</td>\n",
       "      <td>0.052689</td>\n",
       "      <td>0.191041</td>\n",
       "      <td>-0.067970</td>\n",
       "      <td>0.100714</td>\n",
       "      <td>0.324865</td>\n",
       "      <td>-0.437571</td>\n",
       "      <td>-0.242084</td>\n",
       "      <td>0.110407</td>\n",
       "      <td>...</td>\n",
       "      <td>0.270532</td>\n",
       "      <td>-0.756170</td>\n",
       "      <td>-0.287763</td>\n",
       "      <td>-0.111736</td>\n",
       "      <td>1.000000</td>\n",
       "      <td>-0.157236</td>\n",
       "      <td>0.124462</td>\n",
       "      <td>0.008995</td>\n",
       "      <td>-0.267467</td>\n",
       "      <td>-0.861740</td>\n",
       "    </tr>\n",
       "    <tr>\n",
       "      <th>201547</th>\n",
       "      <td>-0.252496</td>\n",
       "      <td>-0.026617</td>\n",
       "      <td>-0.172014</td>\n",
       "      <td>0.199596</td>\n",
       "      <td>0.011250</td>\n",
       "      <td>0.586043</td>\n",
       "      <td>0.166487</td>\n",
       "      <td>0.050484</td>\n",
       "      <td>0.582742</td>\n",
       "      <td>-0.185948</td>\n",
       "      <td>...</td>\n",
       "      <td>0.139628</td>\n",
       "      <td>0.141142</td>\n",
       "      <td>0.109197</td>\n",
       "      <td>-0.010110</td>\n",
       "      <td>-0.258921</td>\n",
       "      <td>-0.278923</td>\n",
       "      <td>-0.230450</td>\n",
       "      <td>-0.418045</td>\n",
       "      <td>0.352616</td>\n",
       "      <td>-0.854589</td>\n",
       "    </tr>\n",
       "    <tr>\n",
       "      <th>201548</th>\n",
       "      <td>-0.062797</td>\n",
       "      <td>0.288782</td>\n",
       "      <td>-0.203792</td>\n",
       "      <td>0.512605</td>\n",
       "      <td>-0.542463</td>\n",
       "      <td>0.141975</td>\n",
       "      <td>0.254958</td>\n",
       "      <td>-0.424835</td>\n",
       "      <td>-0.060568</td>\n",
       "      <td>0.305532</td>\n",
       "      <td>...</td>\n",
       "      <td>0.144593</td>\n",
       "      <td>-0.115399</td>\n",
       "      <td>0.043834</td>\n",
       "      <td>-0.543310</td>\n",
       "      <td>0.008144</td>\n",
       "      <td>-0.314908</td>\n",
       "      <td>-0.273801</td>\n",
       "      <td>-0.663290</td>\n",
       "      <td>0.229207</td>\n",
       "      <td>-0.856973</td>\n",
       "    </tr>\n",
       "    <tr>\n",
       "      <th>201549</th>\n",
       "      <td>-0.202742</td>\n",
       "      <td>0.487075</td>\n",
       "      <td>0.236161</td>\n",
       "      <td>-0.256451</td>\n",
       "      <td>0.061085</td>\n",
       "      <td>-0.071052</td>\n",
       "      <td>-0.207792</td>\n",
       "      <td>0.081896</td>\n",
       "      <td>0.159953</td>\n",
       "      <td>-0.129235</td>\n",
       "      <td>...</td>\n",
       "      <td>-0.018807</td>\n",
       "      <td>-0.162967</td>\n",
       "      <td>0.546886</td>\n",
       "      <td>0.137912</td>\n",
       "      <td>0.656752</td>\n",
       "      <td>0.228832</td>\n",
       "      <td>0.477480</td>\n",
       "      <td>-0.663369</td>\n",
       "      <td>-0.013687</td>\n",
       "      <td>-0.856973</td>\n",
       "    </tr>\n",
       "    <tr>\n",
       "      <th>201550</th>\n",
       "      <td>0.078705</td>\n",
       "      <td>0.337524</td>\n",
       "      <td>0.353719</td>\n",
       "      <td>-0.022176</td>\n",
       "      <td>-0.717527</td>\n",
       "      <td>-0.100617</td>\n",
       "      <td>0.184612</td>\n",
       "      <td>-0.566448</td>\n",
       "      <td>0.690060</td>\n",
       "      <td>-0.430169</td>\n",
       "      <td>...</td>\n",
       "      <td>0.104475</td>\n",
       "      <td>0.029885</td>\n",
       "      <td>-0.002057</td>\n",
       "      <td>-0.003918</td>\n",
       "      <td>-0.140566</td>\n",
       "      <td>0.513128</td>\n",
       "      <td>0.054067</td>\n",
       "      <td>-0.265198</td>\n",
       "      <td>-0.283932</td>\n",
       "      <td>-0.823600</td>\n",
       "    </tr>\n",
       "  </tbody>\n",
       "</table>\n",
       "<p>5 rows × 1025 columns</p>\n",
       "</div>"
      ],
      "text/plain": [
       "                     0         1         2         3         4         5  \\\n",
       "41001 201546 -0.768418  0.105806  0.052689  0.191041 -0.067970  0.100714   \n",
       "      201547 -0.252496 -0.026617 -0.172014  0.199596  0.011250  0.586043   \n",
       "      201548 -0.062797  0.288782 -0.203792  0.512605 -0.542463  0.141975   \n",
       "      201549 -0.202742  0.487075  0.236161 -0.256451  0.061085 -0.071052   \n",
       "      201550  0.078705  0.337524  0.353719 -0.022176 -0.717527 -0.100617   \n",
       "\n",
       "                     6         7         8         9  ...      1015      1016  \\\n",
       "41001 201546  0.324865 -0.437571 -0.242084  0.110407  ...  0.270532 -0.756170   \n",
       "      201547  0.166487  0.050484  0.582742 -0.185948  ...  0.139628  0.141142   \n",
       "      201548  0.254958 -0.424835 -0.060568  0.305532  ...  0.144593 -0.115399   \n",
       "      201549 -0.207792  0.081896  0.159953 -0.129235  ... -0.018807 -0.162967   \n",
       "      201550  0.184612 -0.566448  0.690060 -0.430169  ...  0.104475  0.029885   \n",
       "\n",
       "                  1017      1018      1019      1020      1021      1022  \\\n",
       "41001 201546 -0.287763 -0.111736  1.000000 -0.157236  0.124462  0.008995   \n",
       "      201547  0.109197 -0.010110 -0.258921 -0.278923 -0.230450 -0.418045   \n",
       "      201548  0.043834 -0.543310  0.008144 -0.314908 -0.273801 -0.663290   \n",
       "      201549  0.546886  0.137912  0.656752  0.228832  0.477480 -0.663369   \n",
       "      201550 -0.002057 -0.003918 -0.140566  0.513128  0.054067 -0.265198   \n",
       "\n",
       "                  1023    Labels  \n",
       "41001 201546 -0.267467 -0.861740  \n",
       "      201547  0.352616 -0.854589  \n",
       "      201548  0.229207 -0.856973  \n",
       "      201549 -0.013687 -0.856973  \n",
       "      201550 -0.283932 -0.823600  \n",
       "\n",
       "[5 rows x 1025 columns]"
      ]
     },
     "execution_count": 7,
     "metadata": {},
     "output_type": "execute_result"
    }
   ],
   "source": [
    "# Scale train:\n",
    "train_df, scalers = normalize_train_features(train_df, feature_range=feature_range)\n",
    "train_df = [train_df[train_df.index.get_level_values(0) == municipality] for municipality in Municipalities]\n",
    "\n",
    "#print(f'The scalers are: {scalers}')\n",
    "\n",
    "train_df[1].head()"
   ]
  },
  {
   "cell_type": "code",
   "execution_count": 8,
   "id": "bad3a639",
   "metadata": {},
   "outputs": [
    {
     "data": {
      "text/html": [
       "<div>\n",
       "<style scoped>\n",
       "    .dataframe tbody tr th:only-of-type {\n",
       "        vertical-align: middle;\n",
       "    }\n",
       "\n",
       "    .dataframe tbody tr th {\n",
       "        vertical-align: top;\n",
       "    }\n",
       "\n",
       "    .dataframe thead th {\n",
       "        text-align: right;\n",
       "    }\n",
       "</style>\n",
       "<table border=\"1\" class=\"dataframe\">\n",
       "  <thead>\n",
       "    <tr style=\"text-align: right;\">\n",
       "      <th></th>\n",
       "      <th></th>\n",
       "      <th>0</th>\n",
       "      <th>1</th>\n",
       "      <th>2</th>\n",
       "      <th>3</th>\n",
       "      <th>4</th>\n",
       "      <th>5</th>\n",
       "      <th>6</th>\n",
       "      <th>7</th>\n",
       "      <th>8</th>\n",
       "      <th>9</th>\n",
       "      <th>...</th>\n",
       "      <th>1015</th>\n",
       "      <th>1016</th>\n",
       "      <th>1017</th>\n",
       "      <th>1018</th>\n",
       "      <th>1019</th>\n",
       "      <th>1020</th>\n",
       "      <th>1021</th>\n",
       "      <th>1022</th>\n",
       "      <th>1023</th>\n",
       "      <th>Labels</th>\n",
       "    </tr>\n",
       "  </thead>\n",
       "  <tbody>\n",
       "    <tr>\n",
       "      <th rowspan=\"5\" valign=\"top\">41001</th>\n",
       "      <th>201820</th>\n",
       "      <td>0.741212</td>\n",
       "      <td>0.437213</td>\n",
       "      <td>0.233277</td>\n",
       "      <td>-0.237892</td>\n",
       "      <td>0.306412</td>\n",
       "      <td>0.031602</td>\n",
       "      <td>0.045000</td>\n",
       "      <td>-0.495603</td>\n",
       "      <td>0.226627</td>\n",
       "      <td>0.125265</td>\n",
       "      <td>...</td>\n",
       "      <td>0.084050</td>\n",
       "      <td>-0.060327</td>\n",
       "      <td>0.162619</td>\n",
       "      <td>-0.372936</td>\n",
       "      <td>0.027451</td>\n",
       "      <td>-0.079414</td>\n",
       "      <td>-0.609911</td>\n",
       "      <td>0.074416</td>\n",
       "      <td>0.668683</td>\n",
       "      <td>-0.949940</td>\n",
       "    </tr>\n",
       "    <tr>\n",
       "      <th>201821</th>\n",
       "      <td>-0.795958</td>\n",
       "      <td>-0.319823</td>\n",
       "      <td>-0.150863</td>\n",
       "      <td>-0.126982</td>\n",
       "      <td>-0.334161</td>\n",
       "      <td>0.542016</td>\n",
       "      <td>0.099369</td>\n",
       "      <td>-0.903839</td>\n",
       "      <td>0.035702</td>\n",
       "      <td>-0.113360</td>\n",
       "      <td>...</td>\n",
       "      <td>-0.514373</td>\n",
       "      <td>-0.189079</td>\n",
       "      <td>-0.007689</td>\n",
       "      <td>0.086586</td>\n",
       "      <td>-0.133838</td>\n",
       "      <td>0.080472</td>\n",
       "      <td>0.226403</td>\n",
       "      <td>0.157502</td>\n",
       "      <td>-0.280283</td>\n",
       "      <td>-0.961859</td>\n",
       "    </tr>\n",
       "    <tr>\n",
       "      <th>201822</th>\n",
       "      <td>0.024699</td>\n",
       "      <td>0.398786</td>\n",
       "      <td>0.315063</td>\n",
       "      <td>0.454359</td>\n",
       "      <td>0.259151</td>\n",
       "      <td>-0.605193</td>\n",
       "      <td>-0.253066</td>\n",
       "      <td>-0.124082</td>\n",
       "      <td>-0.276288</td>\n",
       "      <td>-0.092569</td>\n",
       "      <td>...</td>\n",
       "      <td>0.097515</td>\n",
       "      <td>0.142166</td>\n",
       "      <td>0.776992</td>\n",
       "      <td>0.296445</td>\n",
       "      <td>-0.359342</td>\n",
       "      <td>-0.110119</td>\n",
       "      <td>-0.089291</td>\n",
       "      <td>-0.587660</td>\n",
       "      <td>0.303453</td>\n",
       "      <td>-0.940405</td>\n",
       "    </tr>\n",
       "    <tr>\n",
       "      <th>201823</th>\n",
       "      <td>0.216102</td>\n",
       "      <td>-0.188410</td>\n",
       "      <td>0.433242</td>\n",
       "      <td>-0.047437</td>\n",
       "      <td>0.400394</td>\n",
       "      <td>0.489891</td>\n",
       "      <td>0.225183</td>\n",
       "      <td>-0.002982</td>\n",
       "      <td>-0.451124</td>\n",
       "      <td>0.068298</td>\n",
       "      <td>...</td>\n",
       "      <td>0.083698</td>\n",
       "      <td>-0.743087</td>\n",
       "      <td>-0.005105</td>\n",
       "      <td>-0.223805</td>\n",
       "      <td>0.418767</td>\n",
       "      <td>0.092784</td>\n",
       "      <td>-0.186568</td>\n",
       "      <td>-0.203780</td>\n",
       "      <td>0.029186</td>\n",
       "      <td>-0.961859</td>\n",
       "    </tr>\n",
       "    <tr>\n",
       "      <th>201824</th>\n",
       "      <td>-0.081546</td>\n",
       "      <td>0.658736</td>\n",
       "      <td>0.297933</td>\n",
       "      <td>-0.145834</td>\n",
       "      <td>-0.466031</td>\n",
       "      <td>-0.354084</td>\n",
       "      <td>-0.117138</td>\n",
       "      <td>-0.265769</td>\n",
       "      <td>0.358479</td>\n",
       "      <td>-0.110671</td>\n",
       "      <td>...</td>\n",
       "      <td>0.016737</td>\n",
       "      <td>-0.149395</td>\n",
       "      <td>0.693945</td>\n",
       "      <td>0.677619</td>\n",
       "      <td>-0.638988</td>\n",
       "      <td>0.418720</td>\n",
       "      <td>-0.137077</td>\n",
       "      <td>-0.113835</td>\n",
       "      <td>-0.468916</td>\n",
       "      <td>-0.954708</td>\n",
       "    </tr>\n",
       "  </tbody>\n",
       "</table>\n",
       "<p>5 rows × 1025 columns</p>\n",
       "</div>"
      ],
      "text/plain": [
       "                     0         1         2         3         4         5  \\\n",
       "41001 201820  0.741212  0.437213  0.233277 -0.237892  0.306412  0.031602   \n",
       "      201821 -0.795958 -0.319823 -0.150863 -0.126982 -0.334161  0.542016   \n",
       "      201822  0.024699  0.398786  0.315063  0.454359  0.259151 -0.605193   \n",
       "      201823  0.216102 -0.188410  0.433242 -0.047437  0.400394  0.489891   \n",
       "      201824 -0.081546  0.658736  0.297933 -0.145834 -0.466031 -0.354084   \n",
       "\n",
       "                     6         7         8         9  ...      1015      1016  \\\n",
       "41001 201820  0.045000 -0.495603  0.226627  0.125265  ...  0.084050 -0.060327   \n",
       "      201821  0.099369 -0.903839  0.035702 -0.113360  ... -0.514373 -0.189079   \n",
       "      201822 -0.253066 -0.124082 -0.276288 -0.092569  ...  0.097515  0.142166   \n",
       "      201823  0.225183 -0.002982 -0.451124  0.068298  ...  0.083698 -0.743087   \n",
       "      201824 -0.117138 -0.265769  0.358479 -0.110671  ...  0.016737 -0.149395   \n",
       "\n",
       "                  1017      1018      1019      1020      1021      1022  \\\n",
       "41001 201820  0.162619 -0.372936  0.027451 -0.079414 -0.609911  0.074416   \n",
       "      201821 -0.007689  0.086586 -0.133838  0.080472  0.226403  0.157502   \n",
       "      201822  0.776992  0.296445 -0.359342 -0.110119 -0.089291 -0.587660   \n",
       "      201823 -0.005105 -0.223805  0.418767  0.092784 -0.186568 -0.203780   \n",
       "      201824  0.693945  0.677619 -0.638988  0.418720 -0.137077 -0.113835   \n",
       "\n",
       "                  1023    Labels  \n",
       "41001 201820  0.668683 -0.949940  \n",
       "      201821 -0.280283 -0.961859  \n",
       "      201822  0.303453 -0.940405  \n",
       "      201823  0.029186 -0.961859  \n",
       "      201824 -0.468916 -0.954708  \n",
       "\n",
       "[5 rows x 1025 columns]"
      ]
     },
     "execution_count": 8,
     "metadata": {},
     "output_type": "execute_result"
    }
   ],
   "source": [
    "# Scale test:\n",
    "test_df = normalize_test_features(test_df, scalers=scalers)\n",
    "test_df = [test_df[test_df.index.get_level_values(0) == municipality] for municipality in Municipalities]\n",
    "\n",
    "test_df[1].head()"
   ]
  },
  {
   "cell_type": "markdown",
   "id": "6ed4d94f",
   "metadata": {},
   "source": [
    "### Prepare data for time series supervised learning (function to create sliding window)"
   ]
  },
  {
   "cell_type": "code",
   "execution_count": 9,
   "id": "57c2bf48",
   "metadata": {},
   "outputs": [
    {
     "data": {
      "text/plain": [
       "(130, 1025)"
      ]
     },
     "execution_count": 9,
     "metadata": {},
     "output_type": "execute_result"
    }
   ],
   "source": [
    "# frame as supervised learning\n",
    "train = [series_to_supervised(df, n_in=T, autoregressive=autoregressive) for df in train_df]\n",
    "test = [series_to_supervised(df, n_in=T, autoregressive=autoregressive) for df in test_df]\n",
    "\n",
    "train[1].shape"
   ]
  },
  {
   "cell_type": "markdown",
   "id": "4ea86a13",
   "metadata": {},
   "source": [
    "### Merge train data"
   ]
  },
  {
   "cell_type": "code",
   "execution_count": 10,
   "id": "6f836e9f",
   "metadata": {},
   "outputs": [],
   "source": [
    "# Merge:\n",
    "train = pd.concat(train, keys=Municipalities)\n",
    "test = pd.concat(test, keys=Municipalities)"
   ]
  },
  {
   "cell_type": "code",
   "execution_count": 11,
   "id": "f60211bf",
   "metadata": {},
   "outputs": [
    {
     "data": {
      "text/plain": [
       "(1300, 1025)"
      ]
     },
     "execution_count": 11,
     "metadata": {},
     "output_type": "execute_result"
    }
   ],
   "source": [
    "train.shape"
   ]
  },
  {
   "cell_type": "markdown",
   "id": "ca6ec4a2",
   "metadata": {},
   "source": [
    "### Features and Labels Set"
   ]
  },
  {
   "cell_type": "code",
   "execution_count": 12,
   "id": "ae26afb7",
   "metadata": {},
   "outputs": [
    {
     "name": "stdout",
     "output_type": "stream",
     "text": [
      "Train:\n",
      "The shape of the features is (1300, 1024)\n",
      "The shape of the labels is (1300, 1)\n",
      "Test:\n",
      "The shape of the features is (330, 1024)\n",
      "The shape of the labels is (330, 1)\n"
     ]
    }
   ],
   "source": [
    "# Train features and labels set\n",
    "print('Train:')\n",
    "train_X, train_y, n_features = features_labels_set(timeseries_data=train, original_df=dengue_df[0], autoregressive=autoregressive)\n",
    "\n",
    "# Test features and labels set\n",
    "print('Test:')\n",
    "test_X, test_y, n_features = features_labels_set(timeseries_data=test, original_df=dengue_df[0], autoregressive=autoregressive)"
   ]
  },
  {
   "cell_type": "code",
   "execution_count": 13,
   "id": "7595f6eb",
   "metadata": {},
   "outputs": [],
   "source": [
    "# reshape input to be 3D [samples, timesteps, features]\n",
    "if T != 0:\n",
    "    train_X, test_X = reshape_tensor(train_X, test_X, n_features, T, autoregressive)"
   ]
  },
  {
   "cell_type": "markdown",
   "id": "3545ff93",
   "metadata": {},
   "source": [
    "# 2. Model"
   ]
  },
  {
   "cell_type": "code",
   "execution_count": null,
   "id": "371a43f6",
   "metadata": {},
   "outputs": [
    {
     "data": {
      "image/png": "[encoded data removed]",
      "text/plain": [
       "<Figure size 432x288 with 1 Axes>"
      ]
     },
     "metadata": {
      "needs_background": "light"
     },
     "output_type": "display_data"
    },
    {
     "name": "stderr",
     "output_type": "stream",
     "text": [
      "2023-03-13 21:23:53.182665: W tensorflow/stream_executor/platform/default/dso_loader.cc:64] Could not load dynamic library 'libcuda.so.1'; dlerror: libcuda.so.1: cannot open shared object file: No such file or directory\n",
      "2023-03-13 21:23:53.182720: W tensorflow/stream_executor/cuda/cuda_driver.cc:269] failed call to cuInit: UNKNOWN ERROR (303)\n",
      "2023-03-13 21:23:53.182752: I tensorflow/stream_executor/cuda/cuda_diagnostics.cc:156] kernel driver does not appear to be running on this host (9e0b1a08816a): /proc/driver/nvidia/version does not exist\n",
      "2023-03-13 21:23:53.183030: I tensorflow/core/platform/cpu_feature_guard.cc:142] This TensorFlow binary is optimized with oneAPI Deep Neural Network Library (oneDNN) to use the following CPU instructions in performance-critical operations:  SSE4.1 SSE4.2 AVX AVX2 FMA\n",
      "To enable them in other operations, rebuild TensorFlow with the appropriate compiler flags.\n",
      "2023-03-13 21:23:53.286527: I tensorflow/compiler/mlir/mlir_graph_optimization_pass.cc:185] None of the MLIR Optimization Passes are enabled (registered 2)\n"
     ]
    },
    {
     "name": "stdout",
     "output_type": "stream",
     "text": [
      "Test MAE: 38.543\n",
      "Test RMSE: 47.479\n",
      "Test sMAPE: 98.246\n",
      "Test R Squared: -1.333\n",
      "{'mae': 38.543031600027376, 'rmse': 47.478504822453154, 'smape': 98.24601067235135, 'r2': -1.332577431395769}\n"
     ]
    },
    {
     "data": {
      "image/png": "[encoded data removed]",
      "text/plain": [
       "<Figure size 432x288 with 1 Axes>"
      ]
     },
     "metadata": {
      "needs_background": "light"
     },
     "output_type": "display_data"
    }
   ],
   "source": [
    "# Use the Function:\n",
    "if T != 0: \n",
    "    sequence=train_X.shape[1]\n",
    "    features=train_X.shape[2]\n",
    "else:\n",
    "    sequence=T\n",
    "    features=train_X.shape[1]\n",
    "\n",
    "\n",
    "calculate_mean_std(lstm_layers, nn_layers, sequence, features, dense_acivation, recurrent_cells, bidirectional, train_X, train_y, test_X, test_y, scalers['scaler_Labels'], monitor=True, plot=None, epochs=50, batch_size=16, n_tests=100, plot_samples=True, Municipality='Global')"
   ]
  },
  {
   "cell_type": "code",
   "execution_count": null,
   "id": "0b21ac9d",
   "metadata": {},
   "outputs": [],
   "source": []
  }
 ],
 "metadata": {
  "kernelspec": {
   "display_name": "Python [conda env:generalml_p37_gpu_v1]",
   "language": "python",
   "name": "conda-env-generalml_p37_gpu_v1-py"
  },
  "language_info": {
   "codemirror_mode": {
    "name": "ipython",
    "version": 3
   },
   "file_extension": ".py",
   "mimetype": "text/x-python",
   "name": "python",
   "nbconvert_exporter": "python",
   "pygments_lexer": "ipython3",
   "version": "3.7.12"
  }
 },
 "nbformat": 4,
 "nbformat_minor": 5
}
