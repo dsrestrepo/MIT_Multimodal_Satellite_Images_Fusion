{
 "cells": [
  {
   "cell_type": "markdown",
   "id": "345f9dd0",
   "metadata": {},
   "source": [
    "# Setup enviorment"
   ]
  },
  {
   "cell_type": "code",
   "execution_count": 1,
   "id": "8da8b7c3",
   "metadata": {},
   "outputs": [
    {
     "name": "stdout",
     "output_type": "stream",
     "text": [
      "/home/datascience/TOP 10 Municipalities Models\n"
     ]
    }
   ],
   "source": [
    "%cd .."
   ]
  },
  {
   "cell_type": "code",
   "execution_count": 2,
   "id": "09bf8ea2",
   "metadata": {},
   "outputs": [],
   "source": [
    "from Preprocessing.time_series_preprocessing import get_dengue_dataset, train_test_split, normalize_train_features, normalize_test_features, series_to_supervised, features_labels_set, reshape_tensor\n",
    "\n",
    "from Models.LSTM import create_model, train_model\n",
    "import tensorflow as tf\n",
    "\n",
    "from Utils.test_lstm import evaluate, plot_predictions, calculate_mean_std\n",
    "\n",
    "import pandas as pd\n",
    "import os\n",
    "import numpy as np"
   ]
  },
  {
   "cell_type": "code",
   "execution_count": 3,
   "id": "2879925b",
   "metadata": {},
   "outputs": [],
   "source": [
    "\"\"\" Read Dataset:\"\"\"\n",
    "\n",
    "embeddings = 'Embeddings/VGG16_224_1024.csv'\n",
    "labels = '../Tabular_data/dengue_tabular.csv'\n",
    "\n",
    "# Get list of municipalities:\n",
    "Municipalities = list(pd.unique(pd.read_csv(embeddings)['Municipality Code']))\n",
    "\n",
    "\"\"\" Dataset Preprocessing:\"\"\"\n",
    "train_percentage = 80\n",
    "T = 0\n",
    "autoregressive = False\n",
    "feature_range = (-1, 1)\n",
    "\n",
    "\"\"\" Model Parameters:\"\"\"\n",
    "lstm_layers=[1000, 500]\n",
    "nn_layers=[250, 120, 1]\n",
    "dense_acivation='relu'\n",
    "recurrent_cells='LSTM'\n",
    "bidirectional=False"
   ]
  },
  {
   "cell_type": "markdown",
   "id": "e29dd6d9",
   "metadata": {},
   "source": [
    "## 1. Read Data"
   ]
  },
  {
   "cell_type": "code",
   "execution_count": 4,
   "id": "dbad056a",
   "metadata": {},
   "outputs": [
    {
     "name": "stdout",
     "output_type": "stream",
     "text": [
      "Obtaining dataframe for the city of 54001 - Cúcuta only...\n",
      "Obtaining dataframe for the city of 41001 - Neiva only...\n",
      "Obtaining dataframe for the city of 5001 - Medellín only...\n",
      "Obtaining dataframe for the city of 50001 - Villavicencio only...\n",
      "Obtaining dataframe for the city of 68001 - Bucaramanga only...\n",
      "Obtaining dataframe for the city of 8001 - Barranquilla only...\n",
      "Obtaining dataframe for the city of 23001 - Montería only...\n",
      "Obtaining dataframe for the city of 76001 - Cali only...\n",
      "Obtaining dataframe for the city of 73001 - Ibagué only...\n",
      "Obtaining dataframe for the city of 5360 - Itagüí only...\n"
     ]
    },
    {
     "data": {
      "text/plain": [
       "list"
      ]
     },
     "execution_count": 4,
     "metadata": {},
     "output_type": "execute_result"
    }
   ],
   "source": [
    "# Read dataset for top 5 municipalities\n",
    "dengue_df = [get_dengue_dataset(labels_path=labels, embeddings_path=embeddings, municipality=Municipality) for Municipality in Municipalities]\n",
    "type(dengue_df)"
   ]
  },
  {
   "cell_type": "markdown",
   "id": "b8fba5cc",
   "metadata": {},
   "source": [
    "### Train Test split"
   ]
  },
  {
   "cell_type": "code",
   "execution_count": 5,
   "id": "1aebb3a3",
   "metadata": {},
   "outputs": [
    {
     "name": "stdout",
     "output_type": "stream",
     "text": [
      "The train shape is: (130, 513)\n",
      "The test shape is: (33, 513)\n",
      "The train shape is: (130, 513)\n",
      "The test shape is: (33, 513)\n",
      "The train shape is: (130, 513)\n",
      "The test shape is: (33, 513)\n",
      "The train shape is: (130, 513)\n",
      "The test shape is: (33, 513)\n",
      "The train shape is: (130, 513)\n",
      "The test shape is: (33, 513)\n",
      "The train shape is: (130, 513)\n",
      "The test shape is: (33, 513)\n",
      "The train shape is: (130, 513)\n",
      "The test shape is: (33, 513)\n",
      "The train shape is: (130, 513)\n",
      "The test shape is: (33, 513)\n",
      "The train shape is: (130, 513)\n",
      "The test shape is: (33, 513)\n",
      "The train shape is: (130, 513)\n",
      "The test shape is: (33, 513)\n"
     ]
    }
   ],
   "source": [
    "train_df = []\n",
    "test_df = []\n",
    "\n",
    "for i in range(len(dengue_df)):\n",
    "    train_df_aux, test_df_aux = train_test_split(dengue_df[i], train_percentage)\n",
    "    train_df.append(train_df_aux)\n",
    "    test_df.append(test_df_aux)\n",
    "#test_df"
   ]
  },
  {
   "cell_type": "markdown",
   "id": "4f978e46",
   "metadata": {},
   "source": [
    "### Normalize features"
   ]
  },
  {
   "cell_type": "code",
   "execution_count": 6,
   "id": "d06eea07",
   "metadata": {},
   "outputs": [],
   "source": [
    "# Merge:\n",
    "train_df = pd.concat(train_df, keys=Municipalities)\n",
    "test_df = pd.concat(test_df, keys=Municipalities)"
   ]
  },
  {
   "cell_type": "code",
   "execution_count": 7,
   "id": "048d9d9a",
   "metadata": {},
   "outputs": [
    {
     "data": {
      "text/html": [
       "<div>\n",
       "<style scoped>\n",
       "    .dataframe tbody tr th:only-of-type {\n",
       "        vertical-align: middle;\n",
       "    }\n",
       "\n",
       "    .dataframe tbody tr th {\n",
       "        vertical-align: top;\n",
       "    }\n",
       "\n",
       "    .dataframe thead th {\n",
       "        text-align: right;\n",
       "    }\n",
       "</style>\n",
       "<table border=\"1\" class=\"dataframe\">\n",
       "  <thead>\n",
       "    <tr style=\"text-align: right;\">\n",
       "      <th></th>\n",
       "      <th></th>\n",
       "      <th>0</th>\n",
       "      <th>1</th>\n",
       "      <th>2</th>\n",
       "      <th>3</th>\n",
       "      <th>4</th>\n",
       "      <th>5</th>\n",
       "      <th>6</th>\n",
       "      <th>7</th>\n",
       "      <th>8</th>\n",
       "      <th>9</th>\n",
       "      <th>...</th>\n",
       "      <th>503</th>\n",
       "      <th>504</th>\n",
       "      <th>505</th>\n",
       "      <th>506</th>\n",
       "      <th>507</th>\n",
       "      <th>508</th>\n",
       "      <th>509</th>\n",
       "      <th>510</th>\n",
       "      <th>511</th>\n",
       "      <th>Labels</th>\n",
       "    </tr>\n",
       "  </thead>\n",
       "  <tbody>\n",
       "    <tr>\n",
       "      <th rowspan=\"5\" valign=\"top\">41001</th>\n",
       "      <th>201546</th>\n",
       "      <td>-0.771757</td>\n",
       "      <td>0.0</td>\n",
       "      <td>-0.230502</td>\n",
       "      <td>0.335927</td>\n",
       "      <td>-0.505152</td>\n",
       "      <td>0.0</td>\n",
       "      <td>-0.244196</td>\n",
       "      <td>-0.280545</td>\n",
       "      <td>-0.218764</td>\n",
       "      <td>-0.10997</td>\n",
       "      <td>...</td>\n",
       "      <td>0.583271</td>\n",
       "      <td>-0.357253</td>\n",
       "      <td>-0.29958</td>\n",
       "      <td>0.446741</td>\n",
       "      <td>-0.60308</td>\n",
       "      <td>-0.027746</td>\n",
       "      <td>-0.295077</td>\n",
       "      <td>0.020599</td>\n",
       "      <td>0.0</td>\n",
       "      <td>0.064361</td>\n",
       "    </tr>\n",
       "    <tr>\n",
       "      <th>201547</th>\n",
       "      <td>-0.771757</td>\n",
       "      <td>0.0</td>\n",
       "      <td>-0.230502</td>\n",
       "      <td>0.335927</td>\n",
       "      <td>-0.505152</td>\n",
       "      <td>0.0</td>\n",
       "      <td>-0.244196</td>\n",
       "      <td>-0.280545</td>\n",
       "      <td>-0.218764</td>\n",
       "      <td>-0.10997</td>\n",
       "      <td>...</td>\n",
       "      <td>0.583271</td>\n",
       "      <td>-0.357253</td>\n",
       "      <td>-0.29958</td>\n",
       "      <td>0.446741</td>\n",
       "      <td>-0.60308</td>\n",
       "      <td>-0.027746</td>\n",
       "      <td>-0.295077</td>\n",
       "      <td>0.020599</td>\n",
       "      <td>0.0</td>\n",
       "      <td>0.091926</td>\n",
       "    </tr>\n",
       "    <tr>\n",
       "      <th>201548</th>\n",
       "      <td>-0.771757</td>\n",
       "      <td>0.0</td>\n",
       "      <td>-0.230502</td>\n",
       "      <td>0.335927</td>\n",
       "      <td>-0.505152</td>\n",
       "      <td>0.0</td>\n",
       "      <td>-0.244196</td>\n",
       "      <td>-0.280545</td>\n",
       "      <td>-0.218764</td>\n",
       "      <td>-0.10997</td>\n",
       "      <td>...</td>\n",
       "      <td>0.583271</td>\n",
       "      <td>-0.357253</td>\n",
       "      <td>-0.29958</td>\n",
       "      <td>0.446741</td>\n",
       "      <td>-0.60308</td>\n",
       "      <td>-0.027746</td>\n",
       "      <td>-0.295077</td>\n",
       "      <td>0.020599</td>\n",
       "      <td>0.0</td>\n",
       "      <td>0.082738</td>\n",
       "    </tr>\n",
       "    <tr>\n",
       "      <th>201549</th>\n",
       "      <td>-0.771757</td>\n",
       "      <td>0.0</td>\n",
       "      <td>-0.230502</td>\n",
       "      <td>0.335927</td>\n",
       "      <td>-0.505152</td>\n",
       "      <td>0.0</td>\n",
       "      <td>-0.244196</td>\n",
       "      <td>-0.280545</td>\n",
       "      <td>-0.218764</td>\n",
       "      <td>-0.10997</td>\n",
       "      <td>...</td>\n",
       "      <td>0.583271</td>\n",
       "      <td>-0.357253</td>\n",
       "      <td>-0.29958</td>\n",
       "      <td>0.446741</td>\n",
       "      <td>-0.60308</td>\n",
       "      <td>-0.027746</td>\n",
       "      <td>-0.295077</td>\n",
       "      <td>0.020599</td>\n",
       "      <td>0.0</td>\n",
       "      <td>0.082738</td>\n",
       "    </tr>\n",
       "    <tr>\n",
       "      <th>201550</th>\n",
       "      <td>-0.771757</td>\n",
       "      <td>0.0</td>\n",
       "      <td>-0.230502</td>\n",
       "      <td>0.335927</td>\n",
       "      <td>-0.505152</td>\n",
       "      <td>0.0</td>\n",
       "      <td>-0.244196</td>\n",
       "      <td>-0.280545</td>\n",
       "      <td>-0.218764</td>\n",
       "      <td>-0.10997</td>\n",
       "      <td>...</td>\n",
       "      <td>0.583271</td>\n",
       "      <td>-0.357253</td>\n",
       "      <td>-0.29958</td>\n",
       "      <td>0.446741</td>\n",
       "      <td>-0.60308</td>\n",
       "      <td>-0.027746</td>\n",
       "      <td>-0.295077</td>\n",
       "      <td>0.020599</td>\n",
       "      <td>0.0</td>\n",
       "      <td>0.211376</td>\n",
       "    </tr>\n",
       "  </tbody>\n",
       "</table>\n",
       "<p>5 rows × 513 columns</p>\n",
       "</div>"
      ],
      "text/plain": [
       "                     0    1         2         3         4    5         6  \\\n",
       "41001 201546 -0.771757  0.0 -0.230502  0.335927 -0.505152  0.0 -0.244196   \n",
       "      201547 -0.771757  0.0 -0.230502  0.335927 -0.505152  0.0 -0.244196   \n",
       "      201548 -0.771757  0.0 -0.230502  0.335927 -0.505152  0.0 -0.244196   \n",
       "      201549 -0.771757  0.0 -0.230502  0.335927 -0.505152  0.0 -0.244196   \n",
       "      201550 -0.771757  0.0 -0.230502  0.335927 -0.505152  0.0 -0.244196   \n",
       "\n",
       "                     7         8        9  ...       503       504      505  \\\n",
       "41001 201546 -0.280545 -0.218764 -0.10997  ...  0.583271 -0.357253 -0.29958   \n",
       "      201547 -0.280545 -0.218764 -0.10997  ...  0.583271 -0.357253 -0.29958   \n",
       "      201548 -0.280545 -0.218764 -0.10997  ...  0.583271 -0.357253 -0.29958   \n",
       "      201549 -0.280545 -0.218764 -0.10997  ...  0.583271 -0.357253 -0.29958   \n",
       "      201550 -0.280545 -0.218764 -0.10997  ...  0.583271 -0.357253 -0.29958   \n",
       "\n",
       "                   506      507       508       509       510  511    Labels  \n",
       "41001 201546  0.446741 -0.60308 -0.027746 -0.295077  0.020599  0.0  0.064361  \n",
       "      201547  0.446741 -0.60308 -0.027746 -0.295077  0.020599  0.0  0.091926  \n",
       "      201548  0.446741 -0.60308 -0.027746 -0.295077  0.020599  0.0  0.082738  \n",
       "      201549  0.446741 -0.60308 -0.027746 -0.295077  0.020599  0.0  0.082738  \n",
       "      201550  0.446741 -0.60308 -0.027746 -0.295077  0.020599  0.0  0.211376  \n",
       "\n",
       "[5 rows x 513 columns]"
      ]
     },
     "execution_count": 7,
     "metadata": {},
     "output_type": "execute_result"
    }
   ],
   "source": [
    "# Scale train:\n",
    "train_df, scalers = normalize_train_features(train_df, feature_range=feature_range)\n",
    "train_df = [train_df[train_df.index.get_level_values(0) == municipality] for municipality in Municipalities]\n",
    "\n",
    "#print(f'The scalers are: {scalers}')\n",
    "\n",
    "train_df[1].head()"
   ]
  },
  {
   "cell_type": "code",
   "execution_count": 8,
   "id": "ac36a2b6",
   "metadata": {},
   "outputs": [
    {
     "data": {
      "text/html": [
       "<div>\n",
       "<style scoped>\n",
       "    .dataframe tbody tr th:only-of-type {\n",
       "        vertical-align: middle;\n",
       "    }\n",
       "\n",
       "    .dataframe tbody tr th {\n",
       "        vertical-align: top;\n",
       "    }\n",
       "\n",
       "    .dataframe thead th {\n",
       "        text-align: right;\n",
       "    }\n",
       "</style>\n",
       "<table border=\"1\" class=\"dataframe\">\n",
       "  <thead>\n",
       "    <tr style=\"text-align: right;\">\n",
       "      <th></th>\n",
       "      <th></th>\n",
       "      <th>0</th>\n",
       "      <th>1</th>\n",
       "      <th>2</th>\n",
       "      <th>3</th>\n",
       "      <th>4</th>\n",
       "      <th>5</th>\n",
       "      <th>6</th>\n",
       "      <th>7</th>\n",
       "      <th>8</th>\n",
       "      <th>9</th>\n",
       "      <th>...</th>\n",
       "      <th>503</th>\n",
       "      <th>504</th>\n",
       "      <th>505</th>\n",
       "      <th>506</th>\n",
       "      <th>507</th>\n",
       "      <th>508</th>\n",
       "      <th>509</th>\n",
       "      <th>510</th>\n",
       "      <th>511</th>\n",
       "      <th>Labels</th>\n",
       "    </tr>\n",
       "  </thead>\n",
       "  <tbody>\n",
       "    <tr>\n",
       "      <th rowspan=\"5\" valign=\"top\">41001</th>\n",
       "      <th>201820</th>\n",
       "      <td>-0.745452</td>\n",
       "      <td>0.0</td>\n",
       "      <td>-0.429660</td>\n",
       "      <td>-0.731123</td>\n",
       "      <td>-1.760123</td>\n",
       "      <td>0.0</td>\n",
       "      <td>2.466276</td>\n",
       "      <td>-0.280545</td>\n",
       "      <td>-0.218764</td>\n",
       "      <td>-0.10997</td>\n",
       "      <td>...</td>\n",
       "      <td>-1.632147</td>\n",
       "      <td>-0.997570</td>\n",
       "      <td>4.204347</td>\n",
       "      <td>-0.588781</td>\n",
       "      <td>-1.516952</td>\n",
       "      <td>-0.027746</td>\n",
       "      <td>-0.295077</td>\n",
       "      <td>-1.720799</td>\n",
       "      <td>0.0</td>\n",
       "      <td>-0.275610</td>\n",
       "    </tr>\n",
       "    <tr>\n",
       "      <th>201821</th>\n",
       "      <td>1.535121</td>\n",
       "      <td>0.0</td>\n",
       "      <td>0.133503</td>\n",
       "      <td>-0.928754</td>\n",
       "      <td>0.135055</td>\n",
       "      <td>0.0</td>\n",
       "      <td>1.557616</td>\n",
       "      <td>0.312162</td>\n",
       "      <td>-0.218764</td>\n",
       "      <td>0.41697</td>\n",
       "      <td>...</td>\n",
       "      <td>-1.744467</td>\n",
       "      <td>-0.389352</td>\n",
       "      <td>0.552518</td>\n",
       "      <td>-1.510294</td>\n",
       "      <td>1.144613</td>\n",
       "      <td>-0.027746</td>\n",
       "      <td>-0.295077</td>\n",
       "      <td>0.175631</td>\n",
       "      <td>0.0</td>\n",
       "      <td>-0.321552</td>\n",
       "    </tr>\n",
       "    <tr>\n",
       "      <th>201822</th>\n",
       "      <td>1.112936</td>\n",
       "      <td>0.0</td>\n",
       "      <td>0.324560</td>\n",
       "      <td>1.079933</td>\n",
       "      <td>0.263597</td>\n",
       "      <td>0.0</td>\n",
       "      <td>1.186796</td>\n",
       "      <td>-0.280545</td>\n",
       "      <td>-0.218764</td>\n",
       "      <td>-0.10997</td>\n",
       "      <td>...</td>\n",
       "      <td>-1.525490</td>\n",
       "      <td>-0.231948</td>\n",
       "      <td>0.384955</td>\n",
       "      <td>-1.006324</td>\n",
       "      <td>0.712420</td>\n",
       "      <td>-0.027746</td>\n",
       "      <td>-0.295077</td>\n",
       "      <td>-0.155540</td>\n",
       "      <td>0.0</td>\n",
       "      <td>-0.238856</td>\n",
       "    </tr>\n",
       "    <tr>\n",
       "      <th>201823</th>\n",
       "      <td>-0.511482</td>\n",
       "      <td>0.0</td>\n",
       "      <td>-0.113262</td>\n",
       "      <td>-0.112318</td>\n",
       "      <td>0.402109</td>\n",
       "      <td>0.0</td>\n",
       "      <td>-0.244196</td>\n",
       "      <td>-0.280545</td>\n",
       "      <td>-0.218764</td>\n",
       "      <td>-0.10997</td>\n",
       "      <td>...</td>\n",
       "      <td>0.275365</td>\n",
       "      <td>0.628311</td>\n",
       "      <td>-0.728803</td>\n",
       "      <td>0.716392</td>\n",
       "      <td>-0.781027</td>\n",
       "      <td>-0.027746</td>\n",
       "      <td>-0.295077</td>\n",
       "      <td>-0.825452</td>\n",
       "      <td>0.0</td>\n",
       "      <td>-0.321552</td>\n",
       "    </tr>\n",
       "    <tr>\n",
       "      <th>201824</th>\n",
       "      <td>0.805190</td>\n",
       "      <td>0.0</td>\n",
       "      <td>-0.436450</td>\n",
       "      <td>-0.904215</td>\n",
       "      <td>-1.050818</td>\n",
       "      <td>0.0</td>\n",
       "      <td>-0.244196</td>\n",
       "      <td>-0.280545</td>\n",
       "      <td>-0.218764</td>\n",
       "      <td>-0.10997</td>\n",
       "      <td>...</td>\n",
       "      <td>-1.233623</td>\n",
       "      <td>-0.613272</td>\n",
       "      <td>0.835200</td>\n",
       "      <td>-0.337150</td>\n",
       "      <td>2.762092</td>\n",
       "      <td>-0.027746</td>\n",
       "      <td>0.301017</td>\n",
       "      <td>1.510709</td>\n",
       "      <td>0.0</td>\n",
       "      <td>-0.293986</td>\n",
       "    </tr>\n",
       "  </tbody>\n",
       "</table>\n",
       "<p>5 rows × 513 columns</p>\n",
       "</div>"
      ],
      "text/plain": [
       "                     0    1         2         3         4    5         6  \\\n",
       "41001 201820 -0.745452  0.0 -0.429660 -0.731123 -1.760123  0.0  2.466276   \n",
       "      201821  1.535121  0.0  0.133503 -0.928754  0.135055  0.0  1.557616   \n",
       "      201822  1.112936  0.0  0.324560  1.079933  0.263597  0.0  1.186796   \n",
       "      201823 -0.511482  0.0 -0.113262 -0.112318  0.402109  0.0 -0.244196   \n",
       "      201824  0.805190  0.0 -0.436450 -0.904215 -1.050818  0.0 -0.244196   \n",
       "\n",
       "                     7         8        9  ...       503       504       505  \\\n",
       "41001 201820 -0.280545 -0.218764 -0.10997  ... -1.632147 -0.997570  4.204347   \n",
       "      201821  0.312162 -0.218764  0.41697  ... -1.744467 -0.389352  0.552518   \n",
       "      201822 -0.280545 -0.218764 -0.10997  ... -1.525490 -0.231948  0.384955   \n",
       "      201823 -0.280545 -0.218764 -0.10997  ...  0.275365  0.628311 -0.728803   \n",
       "      201824 -0.280545 -0.218764 -0.10997  ... -1.233623 -0.613272  0.835200   \n",
       "\n",
       "                   506       507       508       509       510  511    Labels  \n",
       "41001 201820 -0.588781 -1.516952 -0.027746 -0.295077 -1.720799  0.0 -0.275610  \n",
       "      201821 -1.510294  1.144613 -0.027746 -0.295077  0.175631  0.0 -0.321552  \n",
       "      201822 -1.006324  0.712420 -0.027746 -0.295077 -0.155540  0.0 -0.238856  \n",
       "      201823  0.716392 -0.781027 -0.027746 -0.295077 -0.825452  0.0 -0.321552  \n",
       "      201824 -0.337150  2.762092 -0.027746  0.301017  1.510709  0.0 -0.293986  \n",
       "\n",
       "[5 rows x 513 columns]"
      ]
     },
     "execution_count": 8,
     "metadata": {},
     "output_type": "execute_result"
    }
   ],
   "source": [
    "# Scale test:\n",
    "test_df = normalize_test_features(test_df, scalers=scalers)\n",
    "test_df = [test_df[test_df.index.get_level_values(0) == municipality] for municipality in Municipalities]\n",
    "\n",
    "test_df[1].head()"
   ]
  },
  {
   "cell_type": "markdown",
   "id": "0d87fa38",
   "metadata": {},
   "source": [
    "### Prepare data for time series supervised learning (function to create sliding window)"
   ]
  },
  {
   "cell_type": "code",
   "execution_count": 9,
   "id": "1420d60c",
   "metadata": {},
   "outputs": [
    {
     "data": {
      "text/plain": [
       "(130, 513)"
      ]
     },
     "execution_count": 9,
     "metadata": {},
     "output_type": "execute_result"
    }
   ],
   "source": [
    "# frame as supervised learning\n",
    "train = [series_to_supervised(df, n_in=T, autoregressive=autoregressive) for df in train_df]\n",
    "test = [series_to_supervised(df, n_in=T, autoregressive=autoregressive) for df in test_df]\n",
    "\n",
    "train[1].shape"
   ]
  },
  {
   "cell_type": "markdown",
   "id": "b0e83636",
   "metadata": {},
   "source": [
    "### Merge train data"
   ]
  },
  {
   "cell_type": "code",
   "execution_count": 10,
   "id": "42badb7c",
   "metadata": {},
   "outputs": [],
   "source": [
    "# Merge:\n",
    "train = pd.concat(train, keys=Municipalities)\n",
    "test = pd.concat(test, keys=Municipalities)"
   ]
  },
  {
   "cell_type": "code",
   "execution_count": 11,
   "id": "ca80a1fb",
   "metadata": {},
   "outputs": [
    {
     "data": {
      "text/plain": [
       "(1300, 513)"
      ]
     },
     "execution_count": 11,
     "metadata": {},
     "output_type": "execute_result"
    }
   ],
   "source": [
    "train.shape"
   ]
  },
  {
   "cell_type": "markdown",
   "id": "0c4ff64d",
   "metadata": {},
   "source": [
    "### Features and Labels Set"
   ]
  },
  {
   "cell_type": "code",
   "execution_count": 12,
   "id": "9a176ac1",
   "metadata": {},
   "outputs": [
    {
     "name": "stdout",
     "output_type": "stream",
     "text": [
      "Train:\n",
      "The shape of the features is (1300, 512)\n",
      "The shape of the labels is (1300, 1)\n",
      "Test:\n",
      "The shape of the features is (330, 512)\n",
      "The shape of the labels is (330, 1)\n"
     ]
    }
   ],
   "source": [
    "# Train features and labels set\n",
    "print('Train:')\n",
    "train_X, train_y, n_features = features_labels_set(timeseries_data=train, original_df=dengue_df[0], autoregressive=autoregressive)\n",
    "\n",
    "# Test features and labels set\n",
    "print('Test:')\n",
    "test_X, test_y, n_features = features_labels_set(timeseries_data=test, original_df=dengue_df[0], autoregressive=autoregressive)"
   ]
  },
  {
   "cell_type": "code",
   "execution_count": 13,
   "id": "5a03aadd",
   "metadata": {},
   "outputs": [],
   "source": [
    "# reshape input to be 3D [samples, timesteps, features]\n",
    "if T != 0:\n",
    "    train_X, test_X = reshape_tensor(train_X, test_X, n_features, T, autoregressive)"
   ]
  },
  {
   "cell_type": "markdown",
   "id": "46a2637d",
   "metadata": {},
   "source": [
    "# 2. Model"
   ]
  },
  {
   "cell_type": "code",
   "execution_count": null,
   "id": "9d33b4f4",
   "metadata": {},
   "outputs": [
    {
     "data": {
      "image/png": "[encoded data removed]",
      "text/plain": [
       "<Figure size 432x288 with 1 Axes>"
      ]
     },
     "metadata": {
      "needs_background": "light"
     },
     "output_type": "display_data"
    },
    {
     "name": "stderr",
     "output_type": "stream",
     "text": [
      "2023-03-15 04:14:20.102974: W tensorflow/stream_executor/platform/default/dso_loader.cc:64] Could not load dynamic library 'libcuda.so.1'; dlerror: libcuda.so.1: cannot open shared object file: No such file or directory\n",
      "2023-03-15 04:14:20.103028: W tensorflow/stream_executor/cuda/cuda_driver.cc:269] failed call to cuInit: UNKNOWN ERROR (303)\n",
      "2023-03-15 04:14:20.103057: I tensorflow/stream_executor/cuda/cuda_diagnostics.cc:156] kernel driver does not appear to be running on this host (9e0b1a08816a): /proc/driver/nvidia/version does not exist\n",
      "2023-03-15 04:14:20.103418: I tensorflow/core/platform/cpu_feature_guard.cc:142] This TensorFlow binary is optimized with oneAPI Deep Neural Network Library (oneDNN) to use the following CPU instructions in performance-critical operations:  SSE4.1 SSE4.2 AVX AVX2 FMA\n",
      "To enable them in other operations, rebuild TensorFlow with the appropriate compiler flags.\n",
      "2023-03-15 04:14:20.200385: I tensorflow/compiler/mlir/mlir_graph_optimization_pass.cc:185] None of the MLIR Optimization Passes are enabled (registered 2)\n"
     ]
    },
    {
     "name": "stdout",
     "output_type": "stream",
     "text": [
      "Test MAE: 44.798\n",
      "Test RMSE: 86.018\n",
      "Test sMAPE: 93.685\n",
      "Test R Squared: -6.656\n",
      "{'mae': 44.79768317648859, 'rmse': 86.01799279863643, 'smape': 93.68500827263571, 'r2': -6.656329403172475}\n"
     ]
    },
    {
     "data": {
      "image/png": "[encoded data removed]",
      "text/plain": [
       "<Figure size 432x288 with 1 Axes>"
      ]
     },
     "metadata": {
      "needs_background": "light"
     },
     "output_type": "display_data"
    },
    {
     "name": "stdout",
     "output_type": "stream",
     "text": [
      "Test MAE: 44.098\n",
      "Test RMSE: 83.764\n",
      "Test sMAPE: 96.874\n",
      "Test R Squared: -6.260\n",
      "{'mae': 44.09820745704752, 'rmse': 83.76392272270047, 'smape': 96.87358643159457, 'r2': -6.260324243705943}\n"
     ]
    },
    {
     "data": {
      "image/png": "[encoded data removed]",
      "text/plain": [
       "<Figure size 432x288 with 1 Axes>"
      ]
     },
     "metadata": {
      "needs_background": "light"
     },
     "output_type": "display_data"
    },
    {
     "name": "stdout",
     "output_type": "stream",
     "text": [
      "Test MAE: 38.287\n",
      "Test RMSE: 54.318\n",
      "Test sMAPE: 94.224\n",
      "Test R Squared: -2.053\n",
      "{'mae': 38.28741393690844, 'rmse': 54.31819769261488, 'smape': 94.22378288915213, 'r2': -2.05304147699415}\n"
     ]
    },
    {
     "data": {
      "image/png": "[encoded data removed]",
      "text/plain": [
       "<Figure size 432x288 with 1 Axes>"
      ]
     },
     "metadata": {
      "needs_background": "light"
     },
     "output_type": "display_data"
    }
   ],
   "source": [
    "# Use the Function:\n",
    "if T != 0: \n",
    "    sequence=train_X.shape[1]\n",
    "    features=train_X.shape[2]\n",
    "else:\n",
    "    sequence=T\n",
    "    features=train_X.shape[1]\n",
    "\n",
    "\n",
    "calculate_mean_std(lstm_layers, nn_layers, sequence, features, dense_acivation, recurrent_cells, bidirectional, train_X, train_y, test_X, test_y, scalers['scaler_Labels'], monitor=True, plot=None, epochs=50, batch_size=16, n_tests=100, plot_samples=True, Municipality='Global')"
   ]
  },
  {
   "cell_type": "code",
   "execution_count": null,
   "id": "c4faa70e",
   "metadata": {},
   "outputs": [],
   "source": []
  }
 ],
 "metadata": {
  "kernelspec": {
   "display_name": "Python [conda env:generalml_p37_gpu_v1]",
   "language": "python",
   "name": "conda-env-generalml_p37_gpu_v1-py"
  },
  "language_info": {
   "codemirror_mode": {
    "name": "ipython",
    "version": 3
   },
   "file_extension": ".py",
   "mimetype": "text/x-python",
   "name": "python",
   "nbconvert_exporter": "python",
   "pygments_lexer": "ipython3",
   "version": "3.7.12"
  }
 },
 "nbformat": 4,
 "nbformat_minor": 5
}
