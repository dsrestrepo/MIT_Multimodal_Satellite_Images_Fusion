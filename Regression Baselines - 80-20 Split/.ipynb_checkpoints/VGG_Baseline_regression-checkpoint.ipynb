{
 "cells": [
  {
   "cell_type": "markdown",
   "id": "17524cea",
   "metadata": {},
   "source": [
    "# Setup enviorment"
   ]
  },
  {
   "cell_type": "code",
   "execution_count": 1,
   "id": "e16b5a83",
   "metadata": {},
   "outputs": [
    {
     "name": "stdout",
     "output_type": "stream",
     "text": [
      "/home/datascience/TOP 10 Municipalities Models\n"
     ]
    }
   ],
   "source": [
    "%cd .."
   ]
  },
  {
   "cell_type": "code",
   "execution_count": 2,
   "id": "b4fe9bcf",
   "metadata": {},
   "outputs": [],
   "source": [
    "from Preprocessing.time_series_preprocessing import get_dengue_dataset, train_test_split, normalize_train_features, normalize_test_features, series_to_supervised, features_labels_set, reshape_tensor\n",
    "\n",
    "from Models.LSTM import create_model, train_model\n",
    "import tensorflow as tf\n",
    "\n",
    "from Utils.test_lstm import evaluate, plot_predictions, calculate_mean_std\n",
    "\n",
    "import pandas as pd\n",
    "import os\n",
    "import numpy as np"
   ]
  },
  {
   "cell_type": "code",
   "execution_count": 3,
   "id": "23118aa3",
   "metadata": {},
   "outputs": [],
   "source": [
    "\"\"\" Read Dataset:\"\"\"\n",
    "\n",
    "embeddings = 'Embeddings_Augmented/VGG16_224_1024.csv'\n",
    "labels = '../Tabular_data/dengue_tabular.csv'\n",
    "\n",
    "# Get list of municipalities:\n",
    "Municipalities = list(pd.unique(pd.read_csv(embeddings)['Municipality Code']))\n",
    "\n",
    "\"\"\" Dataset Preprocessing:\"\"\"\n",
    "train_percentage = 80\n",
    "T = 0\n",
    "autoregressive = False\n",
    "feature_range = (-1, 1)\n",
    "\n",
    "\"\"\" Model Parameters:\"\"\"\n",
    "lstm_layers=[1000, 500]\n",
    "nn_layers=[250, 120, 1]\n",
    "dense_acivation='relu'\n",
    "recurrent_cells='LSTM'\n",
    "bidirectional=False"
   ]
  },
  {
   "cell_type": "markdown",
   "id": "f580fd3d",
   "metadata": {},
   "source": [
    "## 1. Read Data"
   ]
  },
  {
   "cell_type": "code",
   "execution_count": 4,
   "id": "9fa1bc44",
   "metadata": {},
   "outputs": [
    {
     "name": "stdout",
     "output_type": "stream",
     "text": [
      "Obtaining dataframe for the city of 54001 - Cúcuta only...\n",
      "Obtaining dataframe for the city of 41001 - Neiva only...\n",
      "Obtaining dataframe for the city of 5001 - Medellín only...\n",
      "Obtaining dataframe for the city of 50001 - Villavicencio only...\n",
      "Obtaining dataframe for the city of 68001 - Bucaramanga only...\n",
      "Obtaining dataframe for the city of 8001 - Barranquilla only...\n",
      "Obtaining dataframe for the city of 23001 - Montería only...\n",
      "Obtaining dataframe for the city of 76001 - Cali only...\n",
      "Obtaining dataframe for the city of 73001 - Ibagué only...\n",
      "Obtaining dataframe for the city of 5360 - Itagüí only...\n"
     ]
    },
    {
     "data": {
      "text/plain": [
       "list"
      ]
     },
     "execution_count": 4,
     "metadata": {},
     "output_type": "execute_result"
    }
   ],
   "source": [
    "# Read dataset for top 5 municipalities\n",
    "dengue_df = [get_dengue_dataset(labels_path=labels, embeddings_path=embeddings, municipality=Municipality) for Municipality in Municipalities]\n",
    "type(dengue_df)"
   ]
  },
  {
   "cell_type": "markdown",
   "id": "a8ba5fd7",
   "metadata": {},
   "source": [
    "### Train Test split"
   ]
  },
  {
   "cell_type": "code",
   "execution_count": 5,
   "id": "48ed3bee",
   "metadata": {},
   "outputs": [
    {
     "name": "stdout",
     "output_type": "stream",
     "text": [
      "The train shape is: (130, 513)\n",
      "The test shape is: (33, 513)\n",
      "The train shape is: (130, 513)\n",
      "The test shape is: (33, 513)\n",
      "The train shape is: (130, 513)\n",
      "The test shape is: (33, 513)\n",
      "The train shape is: (130, 513)\n",
      "The test shape is: (33, 513)\n",
      "The train shape is: (130, 513)\n",
      "The test shape is: (33, 513)\n",
      "The train shape is: (130, 513)\n",
      "The test shape is: (33, 513)\n",
      "The train shape is: (130, 513)\n",
      "The test shape is: (33, 513)\n",
      "The train shape is: (130, 513)\n",
      "The test shape is: (33, 513)\n",
      "The train shape is: (130, 513)\n",
      "The test shape is: (33, 513)\n",
      "The train shape is: (130, 513)\n",
      "The test shape is: (33, 513)\n"
     ]
    }
   ],
   "source": [
    "train_df = []\n",
    "test_df = []\n",
    "\n",
    "for i in range(len(dengue_df)):\n",
    "    train_df_aux, test_df_aux = train_test_split(dengue_df[i], train_percentage)\n",
    "    train_df.append(train_df_aux)\n",
    "    test_df.append(test_df_aux)\n",
    "#test_df"
   ]
  },
  {
   "cell_type": "markdown",
   "id": "a4bc3706",
   "metadata": {},
   "source": [
    "### Normalize features"
   ]
  },
  {
   "cell_type": "code",
   "execution_count": 6,
   "id": "991b7da8",
   "metadata": {},
   "outputs": [],
   "source": [
    "# Merge:\n",
    "train_df = pd.concat(train_df, keys=Municipalities)\n",
    "test_df = pd.concat(test_df, keys=Municipalities)"
   ]
  },
  {
   "cell_type": "code",
   "execution_count": 7,
   "id": "38eb3e56",
   "metadata": {},
   "outputs": [
    {
     "data": {
      "text/html": [
       "<div>\n",
       "<style scoped>\n",
       "    .dataframe tbody tr th:only-of-type {\n",
       "        vertical-align: middle;\n",
       "    }\n",
       "\n",
       "    .dataframe tbody tr th {\n",
       "        vertical-align: top;\n",
       "    }\n",
       "\n",
       "    .dataframe thead th {\n",
       "        text-align: right;\n",
       "    }\n",
       "</style>\n",
       "<table border=\"1\" class=\"dataframe\">\n",
       "  <thead>\n",
       "    <tr style=\"text-align: right;\">\n",
       "      <th></th>\n",
       "      <th></th>\n",
       "      <th>0</th>\n",
       "      <th>1</th>\n",
       "      <th>2</th>\n",
       "      <th>3</th>\n",
       "      <th>4</th>\n",
       "      <th>5</th>\n",
       "      <th>6</th>\n",
       "      <th>7</th>\n",
       "      <th>8</th>\n",
       "      <th>9</th>\n",
       "      <th>...</th>\n",
       "      <th>503</th>\n",
       "      <th>504</th>\n",
       "      <th>505</th>\n",
       "      <th>506</th>\n",
       "      <th>507</th>\n",
       "      <th>508</th>\n",
       "      <th>509</th>\n",
       "      <th>510</th>\n",
       "      <th>511</th>\n",
       "      <th>Labels</th>\n",
       "    </tr>\n",
       "  </thead>\n",
       "  <tbody>\n",
       "    <tr>\n",
       "      <th rowspan=\"5\" valign=\"top\">41001</th>\n",
       "      <th>201546</th>\n",
       "      <td>-0.714023</td>\n",
       "      <td>-1.0</td>\n",
       "      <td>-0.965837</td>\n",
       "      <td>-1.0</td>\n",
       "      <td>0.016764</td>\n",
       "      <td>-1.0</td>\n",
       "      <td>-1.0</td>\n",
       "      <td>-1.0</td>\n",
       "      <td>-1.0</td>\n",
       "      <td>-1.0</td>\n",
       "      <td>...</td>\n",
       "      <td>-0.781552</td>\n",
       "      <td>-0.946713</td>\n",
       "      <td>-0.918259</td>\n",
       "      <td>-0.977922</td>\n",
       "      <td>-0.234515</td>\n",
       "      <td>-1.0</td>\n",
       "      <td>-1.0</td>\n",
       "      <td>-0.652938</td>\n",
       "      <td>-1.0</td>\n",
       "      <td>-0.861740</td>\n",
       "    </tr>\n",
       "    <tr>\n",
       "      <th>201547</th>\n",
       "      <td>-0.860413</td>\n",
       "      <td>-1.0</td>\n",
       "      <td>-0.994801</td>\n",
       "      <td>-1.0</td>\n",
       "      <td>-0.405787</td>\n",
       "      <td>-1.0</td>\n",
       "      <td>-1.0</td>\n",
       "      <td>-1.0</td>\n",
       "      <td>-1.0</td>\n",
       "      <td>-1.0</td>\n",
       "      <td>...</td>\n",
       "      <td>-0.947044</td>\n",
       "      <td>-0.839812</td>\n",
       "      <td>-0.582354</td>\n",
       "      <td>-0.971883</td>\n",
       "      <td>-0.117142</td>\n",
       "      <td>-1.0</td>\n",
       "      <td>-1.0</td>\n",
       "      <td>-0.431755</td>\n",
       "      <td>-1.0</td>\n",
       "      <td>-0.854589</td>\n",
       "    </tr>\n",
       "    <tr>\n",
       "      <th>201548</th>\n",
       "      <td>-0.860413</td>\n",
       "      <td>-1.0</td>\n",
       "      <td>-0.994801</td>\n",
       "      <td>-1.0</td>\n",
       "      <td>-0.405787</td>\n",
       "      <td>-1.0</td>\n",
       "      <td>-1.0</td>\n",
       "      <td>-1.0</td>\n",
       "      <td>-1.0</td>\n",
       "      <td>-1.0</td>\n",
       "      <td>...</td>\n",
       "      <td>-0.947044</td>\n",
       "      <td>-0.839812</td>\n",
       "      <td>-0.582354</td>\n",
       "      <td>-0.971883</td>\n",
       "      <td>-0.117142</td>\n",
       "      <td>-1.0</td>\n",
       "      <td>-1.0</td>\n",
       "      <td>-0.431755</td>\n",
       "      <td>-1.0</td>\n",
       "      <td>-0.856973</td>\n",
       "    </tr>\n",
       "    <tr>\n",
       "      <th>201549</th>\n",
       "      <td>-0.838484</td>\n",
       "      <td>-1.0</td>\n",
       "      <td>-0.993628</td>\n",
       "      <td>-1.0</td>\n",
       "      <td>-0.348286</td>\n",
       "      <td>-1.0</td>\n",
       "      <td>-1.0</td>\n",
       "      <td>-1.0</td>\n",
       "      <td>-1.0</td>\n",
       "      <td>-1.0</td>\n",
       "      <td>...</td>\n",
       "      <td>-0.940595</td>\n",
       "      <td>-0.911255</td>\n",
       "      <td>-0.712429</td>\n",
       "      <td>-0.987575</td>\n",
       "      <td>-0.163913</td>\n",
       "      <td>-1.0</td>\n",
       "      <td>-1.0</td>\n",
       "      <td>-0.509990</td>\n",
       "      <td>-1.0</td>\n",
       "      <td>-0.856973</td>\n",
       "    </tr>\n",
       "    <tr>\n",
       "      <th>201550</th>\n",
       "      <td>-0.659738</td>\n",
       "      <td>-1.0</td>\n",
       "      <td>-0.940415</td>\n",
       "      <td>-1.0</td>\n",
       "      <td>-0.329606</td>\n",
       "      <td>-1.0</td>\n",
       "      <td>-1.0</td>\n",
       "      <td>-1.0</td>\n",
       "      <td>-1.0</td>\n",
       "      <td>-1.0</td>\n",
       "      <td>...</td>\n",
       "      <td>-0.823214</td>\n",
       "      <td>-0.893076</td>\n",
       "      <td>-0.665254</td>\n",
       "      <td>-0.978527</td>\n",
       "      <td>-0.156049</td>\n",
       "      <td>-1.0</td>\n",
       "      <td>-1.0</td>\n",
       "      <td>-0.529192</td>\n",
       "      <td>-1.0</td>\n",
       "      <td>-0.823600</td>\n",
       "    </tr>\n",
       "  </tbody>\n",
       "</table>\n",
       "<p>5 rows × 513 columns</p>\n",
       "</div>"
      ],
      "text/plain": [
       "                     0    1         2    3         4    5    6    7    8    9  \\\n",
       "41001 201546 -0.714023 -1.0 -0.965837 -1.0  0.016764 -1.0 -1.0 -1.0 -1.0 -1.0   \n",
       "      201547 -0.860413 -1.0 -0.994801 -1.0 -0.405787 -1.0 -1.0 -1.0 -1.0 -1.0   \n",
       "      201548 -0.860413 -1.0 -0.994801 -1.0 -0.405787 -1.0 -1.0 -1.0 -1.0 -1.0   \n",
       "      201549 -0.838484 -1.0 -0.993628 -1.0 -0.348286 -1.0 -1.0 -1.0 -1.0 -1.0   \n",
       "      201550 -0.659738 -1.0 -0.940415 -1.0 -0.329606 -1.0 -1.0 -1.0 -1.0 -1.0   \n",
       "\n",
       "              ...       503       504       505       506       507  508  509  \\\n",
       "41001 201546  ... -0.781552 -0.946713 -0.918259 -0.977922 -0.234515 -1.0 -1.0   \n",
       "      201547  ... -0.947044 -0.839812 -0.582354 -0.971883 -0.117142 -1.0 -1.0   \n",
       "      201548  ... -0.947044 -0.839812 -0.582354 -0.971883 -0.117142 -1.0 -1.0   \n",
       "      201549  ... -0.940595 -0.911255 -0.712429 -0.987575 -0.163913 -1.0 -1.0   \n",
       "      201550  ... -0.823214 -0.893076 -0.665254 -0.978527 -0.156049 -1.0 -1.0   \n",
       "\n",
       "                   510  511    Labels  \n",
       "41001 201546 -0.652938 -1.0 -0.861740  \n",
       "      201547 -0.431755 -1.0 -0.854589  \n",
       "      201548 -0.431755 -1.0 -0.856973  \n",
       "      201549 -0.509990 -1.0 -0.856973  \n",
       "      201550 -0.529192 -1.0 -0.823600  \n",
       "\n",
       "[5 rows x 513 columns]"
      ]
     },
     "execution_count": 7,
     "metadata": {},
     "output_type": "execute_result"
    }
   ],
   "source": [
    "# Scale train:\n",
    "train_df, scalers = normalize_train_features(train_df, feature_range=feature_range)\n",
    "train_df = [train_df[train_df.index.get_level_values(0) == municipality] for municipality in Municipalities]\n",
    "\n",
    "#print(f'The scalers are: {scalers}')\n",
    "\n",
    "train_df[1].head()"
   ]
  },
  {
   "cell_type": "code",
   "execution_count": 8,
   "id": "2531b353",
   "metadata": {},
   "outputs": [
    {
     "data": {
      "text/html": [
       "<div>\n",
       "<style scoped>\n",
       "    .dataframe tbody tr th:only-of-type {\n",
       "        vertical-align: middle;\n",
       "    }\n",
       "\n",
       "    .dataframe tbody tr th {\n",
       "        vertical-align: top;\n",
       "    }\n",
       "\n",
       "    .dataframe thead th {\n",
       "        text-align: right;\n",
       "    }\n",
       "</style>\n",
       "<table border=\"1\" class=\"dataframe\">\n",
       "  <thead>\n",
       "    <tr style=\"text-align: right;\">\n",
       "      <th></th>\n",
       "      <th></th>\n",
       "      <th>0</th>\n",
       "      <th>1</th>\n",
       "      <th>2</th>\n",
       "      <th>3</th>\n",
       "      <th>4</th>\n",
       "      <th>5</th>\n",
       "      <th>6</th>\n",
       "      <th>7</th>\n",
       "      <th>8</th>\n",
       "      <th>9</th>\n",
       "      <th>...</th>\n",
       "      <th>503</th>\n",
       "      <th>504</th>\n",
       "      <th>505</th>\n",
       "      <th>506</th>\n",
       "      <th>507</th>\n",
       "      <th>508</th>\n",
       "      <th>509</th>\n",
       "      <th>510</th>\n",
       "      <th>511</th>\n",
       "      <th>Labels</th>\n",
       "    </tr>\n",
       "  </thead>\n",
       "  <tbody>\n",
       "    <tr>\n",
       "      <th rowspan=\"5\" valign=\"top\">41001</th>\n",
       "      <th>201820</th>\n",
       "      <td>-0.965470</td>\n",
       "      <td>-1.0</td>\n",
       "      <td>-0.994532</td>\n",
       "      <td>-0.851932</td>\n",
       "      <td>-0.273365</td>\n",
       "      <td>-1.0</td>\n",
       "      <td>-1.000000</td>\n",
       "      <td>-1.000000</td>\n",
       "      <td>-1.000000</td>\n",
       "      <td>-1.000000</td>\n",
       "      <td>...</td>\n",
       "      <td>-0.312907</td>\n",
       "      <td>-0.600099</td>\n",
       "      <td>-0.968903</td>\n",
       "      <td>-0.906695</td>\n",
       "      <td>-0.029838</td>\n",
       "      <td>-1.0</td>\n",
       "      <td>-1.000000</td>\n",
       "      <td>-0.641944</td>\n",
       "      <td>-1.0</td>\n",
       "      <td>-0.949940</td>\n",
       "    </tr>\n",
       "    <tr>\n",
       "      <th>201821</th>\n",
       "      <td>-0.678473</td>\n",
       "      <td>-1.0</td>\n",
       "      <td>-0.846597</td>\n",
       "      <td>-1.000000</td>\n",
       "      <td>-0.127577</td>\n",
       "      <td>-1.0</td>\n",
       "      <td>-0.950266</td>\n",
       "      <td>-0.942133</td>\n",
       "      <td>-1.000000</td>\n",
       "      <td>-0.962788</td>\n",
       "      <td>...</td>\n",
       "      <td>-0.931556</td>\n",
       "      <td>-0.632124</td>\n",
       "      <td>-0.704086</td>\n",
       "      <td>-0.987561</td>\n",
       "      <td>0.197870</td>\n",
       "      <td>-1.0</td>\n",
       "      <td>-1.000000</td>\n",
       "      <td>-0.445259</td>\n",
       "      <td>-1.0</td>\n",
       "      <td>-0.961859</td>\n",
       "    </tr>\n",
       "    <tr>\n",
       "      <th>201822</th>\n",
       "      <td>-0.736059</td>\n",
       "      <td>-1.0</td>\n",
       "      <td>-0.796439</td>\n",
       "      <td>-0.635764</td>\n",
       "      <td>-0.092963</td>\n",
       "      <td>-1.0</td>\n",
       "      <td>-0.960502</td>\n",
       "      <td>-1.000000</td>\n",
       "      <td>-1.000000</td>\n",
       "      <td>-1.000000</td>\n",
       "      <td>...</td>\n",
       "      <td>-0.870119</td>\n",
       "      <td>-0.582624</td>\n",
       "      <td>-0.742784</td>\n",
       "      <td>-0.952094</td>\n",
       "      <td>0.070667</td>\n",
       "      <td>-1.0</td>\n",
       "      <td>-1.000000</td>\n",
       "      <td>-0.527596</td>\n",
       "      <td>-1.0</td>\n",
       "      <td>-0.940405</td>\n",
       "    </tr>\n",
       "    <tr>\n",
       "      <th>201823</th>\n",
       "      <td>-0.753718</td>\n",
       "      <td>-1.0</td>\n",
       "      <td>-0.672318</td>\n",
       "      <td>-0.689572</td>\n",
       "      <td>0.206642</td>\n",
       "      <td>-1.0</td>\n",
       "      <td>-1.000000</td>\n",
       "      <td>-0.938184</td>\n",
       "      <td>-0.764103</td>\n",
       "      <td>-1.000000</td>\n",
       "      <td>...</td>\n",
       "      <td>0.308456</td>\n",
       "      <td>-0.021049</td>\n",
       "      <td>-0.961482</td>\n",
       "      <td>-0.767787</td>\n",
       "      <td>-0.357560</td>\n",
       "      <td>-1.0</td>\n",
       "      <td>-0.370403</td>\n",
       "      <td>-0.371539</td>\n",
       "      <td>-1.0</td>\n",
       "      <td>-0.961859</td>\n",
       "    </tr>\n",
       "    <tr>\n",
       "      <th>201824</th>\n",
       "      <td>-0.778036</td>\n",
       "      <td>-1.0</td>\n",
       "      <td>-0.996226</td>\n",
       "      <td>-0.995550</td>\n",
       "      <td>-0.446913</td>\n",
       "      <td>-1.0</td>\n",
       "      <td>-1.000000</td>\n",
       "      <td>-1.000000</td>\n",
       "      <td>-1.000000</td>\n",
       "      <td>-1.000000</td>\n",
       "      <td>...</td>\n",
       "      <td>-0.788230</td>\n",
       "      <td>-0.702541</td>\n",
       "      <td>-0.638802</td>\n",
       "      <td>-0.905000</td>\n",
       "      <td>0.673927</td>\n",
       "      <td>-1.0</td>\n",
       "      <td>-0.951348</td>\n",
       "      <td>-0.113325</td>\n",
       "      <td>-1.0</td>\n",
       "      <td>-0.954708</td>\n",
       "    </tr>\n",
       "  </tbody>\n",
       "</table>\n",
       "<p>5 rows × 513 columns</p>\n",
       "</div>"
      ],
      "text/plain": [
       "                     0    1         2         3         4    5         6  \\\n",
       "41001 201820 -0.965470 -1.0 -0.994532 -0.851932 -0.273365 -1.0 -1.000000   \n",
       "      201821 -0.678473 -1.0 -0.846597 -1.000000 -0.127577 -1.0 -0.950266   \n",
       "      201822 -0.736059 -1.0 -0.796439 -0.635764 -0.092963 -1.0 -0.960502   \n",
       "      201823 -0.753718 -1.0 -0.672318 -0.689572  0.206642 -1.0 -1.000000   \n",
       "      201824 -0.778036 -1.0 -0.996226 -0.995550 -0.446913 -1.0 -1.000000   \n",
       "\n",
       "                     7         8         9  ...       503       504       505  \\\n",
       "41001 201820 -1.000000 -1.000000 -1.000000  ... -0.312907 -0.600099 -0.968903   \n",
       "      201821 -0.942133 -1.000000 -0.962788  ... -0.931556 -0.632124 -0.704086   \n",
       "      201822 -1.000000 -1.000000 -1.000000  ... -0.870119 -0.582624 -0.742784   \n",
       "      201823 -0.938184 -0.764103 -1.000000  ...  0.308456 -0.021049 -0.961482   \n",
       "      201824 -1.000000 -1.000000 -1.000000  ... -0.788230 -0.702541 -0.638802   \n",
       "\n",
       "                   506       507  508       509       510  511    Labels  \n",
       "41001 201820 -0.906695 -0.029838 -1.0 -1.000000 -0.641944 -1.0 -0.949940  \n",
       "      201821 -0.987561  0.197870 -1.0 -1.000000 -0.445259 -1.0 -0.961859  \n",
       "      201822 -0.952094  0.070667 -1.0 -1.000000 -0.527596 -1.0 -0.940405  \n",
       "      201823 -0.767787 -0.357560 -1.0 -0.370403 -0.371539 -1.0 -0.961859  \n",
       "      201824 -0.905000  0.673927 -1.0 -0.951348 -0.113325 -1.0 -0.954708  \n",
       "\n",
       "[5 rows x 513 columns]"
      ]
     },
     "execution_count": 8,
     "metadata": {},
     "output_type": "execute_result"
    }
   ],
   "source": [
    "# Scale test:\n",
    "test_df = normalize_test_features(test_df, scalers=scalers)\n",
    "test_df = [test_df[test_df.index.get_level_values(0) == municipality] for municipality in Municipalities]\n",
    "\n",
    "test_df[1].head()"
   ]
  },
  {
   "cell_type": "markdown",
   "id": "85b660ab",
   "metadata": {},
   "source": [
    "### Prepare data for time series supervised learning (function to create sliding window)"
   ]
  },
  {
   "cell_type": "code",
   "execution_count": 9,
   "id": "5b507bf4",
   "metadata": {},
   "outputs": [
    {
     "data": {
      "text/plain": [
       "(130, 513)"
      ]
     },
     "execution_count": 9,
     "metadata": {},
     "output_type": "execute_result"
    }
   ],
   "source": [
    "# frame as supervised learning\n",
    "train = [series_to_supervised(df, n_in=T, autoregressive=autoregressive) for df in train_df]\n",
    "test = [series_to_supervised(df, n_in=T, autoregressive=autoregressive) for df in test_df]\n",
    "\n",
    "train[1].shape"
   ]
  },
  {
   "cell_type": "markdown",
   "id": "bee1219e",
   "metadata": {},
   "source": [
    "### Merge train data"
   ]
  },
  {
   "cell_type": "code",
   "execution_count": 10,
   "id": "26b148cb",
   "metadata": {},
   "outputs": [],
   "source": [
    "# Merge:\n",
    "train = pd.concat(train, keys=Municipalities)\n",
    "test = pd.concat(test, keys=Municipalities)"
   ]
  },
  {
   "cell_type": "code",
   "execution_count": 11,
   "id": "70a96aea",
   "metadata": {},
   "outputs": [
    {
     "data": {
      "text/plain": [
       "(1300, 513)"
      ]
     },
     "execution_count": 11,
     "metadata": {},
     "output_type": "execute_result"
    }
   ],
   "source": [
    "train.shape"
   ]
  },
  {
   "cell_type": "markdown",
   "id": "5a54051f",
   "metadata": {},
   "source": [
    "### Features and Labels Set"
   ]
  },
  {
   "cell_type": "code",
   "execution_count": 12,
   "id": "3eb287a2",
   "metadata": {},
   "outputs": [
    {
     "name": "stdout",
     "output_type": "stream",
     "text": [
      "Train:\n",
      "The shape of the features is (1300, 512)\n",
      "The shape of the labels is (1300, 1)\n",
      "Test:\n",
      "The shape of the features is (330, 512)\n",
      "The shape of the labels is (330, 1)\n"
     ]
    }
   ],
   "source": [
    "# Train features and labels set\n",
    "print('Train:')\n",
    "train_X, train_y, n_features = features_labels_set(timeseries_data=train, original_df=dengue_df[0], autoregressive=autoregressive)\n",
    "\n",
    "# Test features and labels set\n",
    "print('Test:')\n",
    "test_X, test_y, n_features = features_labels_set(timeseries_data=test, original_df=dengue_df[0], autoregressive=autoregressive)"
   ]
  },
  {
   "cell_type": "code",
   "execution_count": 13,
   "id": "4cc09318",
   "metadata": {},
   "outputs": [],
   "source": [
    "# reshape input to be 3D [samples, timesteps, features]\n",
    "if T != 0:\n",
    "    train_X, test_X = reshape_tensor(train_X, test_X, n_features, T, autoregressive)"
   ]
  },
  {
   "cell_type": "markdown",
   "id": "b9b469ee",
   "metadata": {},
   "source": [
    "# 2. Model"
   ]
  },
  {
   "cell_type": "code",
   "execution_count": null,
   "id": "2b369e99",
   "metadata": {},
   "outputs": [
    {
     "data": {
      "image/png": "[encoded data removed]",
      "text/plain": [
       "<Figure size 432x288 with 1 Axes>"
      ]
     },
     "metadata": {
      "needs_background": "light"
     },
     "output_type": "display_data"
    },
    {
     "name": "stderr",
     "output_type": "stream",
     "text": [
      "2023-03-13 21:24:06.538500: W tensorflow/stream_executor/platform/default/dso_loader.cc:64] Could not load dynamic library 'libcuda.so.1'; dlerror: libcuda.so.1: cannot open shared object file: No such file or directory\n",
      "2023-03-13 21:24:06.538543: W tensorflow/stream_executor/cuda/cuda_driver.cc:269] failed call to cuInit: UNKNOWN ERROR (303)\n",
      "2023-03-13 21:24:06.538565: I tensorflow/stream_executor/cuda/cuda_diagnostics.cc:156] kernel driver does not appear to be running on this host (9e0b1a08816a): /proc/driver/nvidia/version does not exist\n",
      "2023-03-13 21:24:06.538869: I tensorflow/core/platform/cpu_feature_guard.cc:142] This TensorFlow binary is optimized with oneAPI Deep Neural Network Library (oneDNN) to use the following CPU instructions in performance-critical operations:  SSE4.1 SSE4.2 AVX AVX2 FMA\n",
      "To enable them in other operations, rebuild TensorFlow with the appropriate compiler flags.\n",
      "2023-03-13 21:24:06.654541: I tensorflow/compiler/mlir/mlir_graph_optimization_pass.cc:185] None of the MLIR Optimization Passes are enabled (registered 2)\n"
     ]
    },
    {
     "name": "stdout",
     "output_type": "stream",
     "text": [
      "Restoring model weights from the end of the best epoch.\n",
      "Epoch 00050: early stopping\n",
      "Test MAE: 40.590\n",
      "Test RMSE: 50.504\n",
      "Test sMAPE: 102.876\n",
      "Test R Squared: -1.639\n",
      "{'mae': 40.59036425875895, 'rmse': 50.50392936210082, 'smape': 102.87632253733031, 'r2': -1.6393217667268827}\n"
     ]
    },
    {
     "data": {
      "image/png": "[encoded data removed]",
      "text/plain": [
       "<Figure size 432x288 with 1 Axes>"
      ]
     },
     "metadata": {
      "needs_background": "light"
     },
     "output_type": "display_data"
    },
    {
     "name": "stdout",
     "output_type": "stream",
     "text": [
      "Restoring model weights from the end of the best epoch.\n",
      "Epoch 00025: early stopping\n",
      "Test MAE: 43.285\n",
      "Test RMSE: 53.971\n",
      "Test sMAPE: 107.667\n",
      "Test R Squared: -2.014\n",
      "{'mae': 43.28459203622558, 'rmse': 53.97092852891246, 'smape': 107.66657357044565, 'r2': -2.0141286240980336}\n"
     ]
    },
    {
     "data": {
      "image/png": "[encoded data removed]",
      "text/plain": [
       "<Figure size 432x288 with 1 Axes>"
      ]
     },
     "metadata": {
      "needs_background": "light"
     },
     "output_type": "display_data"
    }
   ],
   "source": [
    "# Use the Function:\n",
    "if T != 0: \n",
    "    sequence=train_X.shape[1]\n",
    "    features=train_X.shape[2]\n",
    "else:\n",
    "    sequence=T\n",
    "    features=train_X.shape[1]\n",
    "\n",
    "\n",
    "calculate_mean_std(lstm_layers, nn_layers, sequence, features, dense_acivation, recurrent_cells, bidirectional, train_X, train_y, test_X, test_y, scalers['scaler_Labels'], monitor=True, plot=None, epochs=50, batch_size=16, n_tests=100, plot_samples=True, Municipality='Global')"
   ]
  },
  {
   "cell_type": "code",
   "execution_count": null,
   "id": "9a8e239c",
   "metadata": {},
   "outputs": [],
   "source": []
  }
 ],
 "metadata": {
  "kernelspec": {
   "display_name": "Python [conda env:generalml_p37_gpu_v1]",
   "language": "python",
   "name": "conda-env-generalml_p37_gpu_v1-py"
  },
  "language_info": {
   "codemirror_mode": {
    "name": "ipython",
    "version": 3
   },
   "file_extension": ".py",
   "mimetype": "text/x-python",
   "name": "python",
   "nbconvert_exporter": "python",
   "pygments_lexer": "ipython3",
   "version": "3.7.12"
  }
 },
 "nbformat": 4,
 "nbformat_minor": 5
}
