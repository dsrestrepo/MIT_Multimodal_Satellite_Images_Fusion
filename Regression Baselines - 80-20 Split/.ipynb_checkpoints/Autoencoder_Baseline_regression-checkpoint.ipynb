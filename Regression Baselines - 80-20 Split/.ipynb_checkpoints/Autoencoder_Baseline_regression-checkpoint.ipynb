{
 "cells": [
  {
   "cell_type": "markdown",
   "id": "dce04702",
   "metadata": {},
   "source": [
    "# Setup enviorment"
   ]
  },
  {
   "cell_type": "code",
   "execution_count": null,
   "id": "421bf9f1",
   "metadata": {},
   "outputs": [],
   "source": [
    "%cd .."
   ]
  },
  {
   "cell_type": "code",
   "execution_count": 2,
   "id": "443c0e6b",
   "metadata": {},
   "outputs": [],
   "source": [
    "from Preprocessing.time_series_preprocessing import get_dengue_dataset, train_test_split, normalize_train_features, normalize_test_features, series_to_supervised, features_labels_set, reshape_tensor\n",
    "\n",
    "from Models.LSTM import create_model, train_model\n",
    "import tensorflow as tf\n",
    "\n",
    "from Utils.test_lstm import evaluate, plot_predictions, calculate_mean_std\n",
    "\n",
    "import pandas as pd\n",
    "import os\n",
    "import numpy as np"
   ]
  },
  {
   "cell_type": "code",
   "execution_count": 3,
   "id": "5ff396f1",
   "metadata": {},
   "outputs": [],
   "source": [
    "\"\"\" Read Dataset:\"\"\"\n",
    "\n",
    "embeddings = 'Embeddings/autoencoder_224_1024.csv'\n",
    "labels = '../Tabular_data/dengue_tabular.csv'\n",
    "\n",
    "# Get list of municipalities:\n",
    "Municipalities = list(pd.unique(pd.read_csv(embeddings)['Municipality Code']))\n",
    "\n",
    "\"\"\" Dataset Preprocessing:\"\"\"\n",
    "train_percentage = 80\n",
    "T = 0\n",
    "autoregressive = False\n",
    "feature_range = (-1, 1)\n",
    "\n",
    "\"\"\" Model Parameters:\"\"\"\n",
    "lstm_layers=[1000, 500]\n",
    "nn_layers=[250, 120, 1]\n",
    "dense_acivation='relu'\n",
    "recurrent_cells='LSTM'\n",
    "bidirectional=False"
   ]
  },
  {
   "cell_type": "markdown",
   "id": "69ebd009",
   "metadata": {},
   "source": [
    "## 1. Read Data"
   ]
  },
  {
   "cell_type": "code",
   "execution_count": 4,
   "id": "eed40c8e",
   "metadata": {},
   "outputs": [
    {
     "name": "stdout",
     "output_type": "stream",
     "text": [
      "Obtaining dataframe for the city of 54001 - Cúcuta only...\n",
      "Obtaining dataframe for the city of 41001 - Neiva only...\n",
      "Obtaining dataframe for the city of 5001 - Medellín only...\n",
      "Obtaining dataframe for the city of 50001 - Villavicencio only...\n",
      "Obtaining dataframe for the city of 68001 - Bucaramanga only...\n",
      "Obtaining dataframe for the city of 8001 - Barranquilla only...\n",
      "Obtaining dataframe for the city of 23001 - Montería only...\n",
      "Obtaining dataframe for the city of 76001 - Cali only...\n",
      "Obtaining dataframe for the city of 73001 - Ibagué only...\n",
      "Obtaining dataframe for the city of 5360 - Itagüí only...\n"
     ]
    },
    {
     "data": {
      "text/plain": [
       "list"
      ]
     },
     "execution_count": 4,
     "metadata": {},
     "output_type": "execute_result"
    }
   ],
   "source": [
    "# Read dataset for top 5 municipalities\n",
    "dengue_df = [get_dengue_dataset(labels_path=labels, embeddings_path=embeddings, municipality=Municipality) for Municipality in Municipalities]\n",
    "type(dengue_df)"
   ]
  },
  {
   "cell_type": "markdown",
   "id": "3d472079",
   "metadata": {},
   "source": [
    "### Train Test split"
   ]
  },
  {
   "cell_type": "code",
   "execution_count": 5,
   "id": "bc578d2b",
   "metadata": {},
   "outputs": [
    {
     "name": "stdout",
     "output_type": "stream",
     "text": [
      "The train shape is: (130, 1025)\n",
      "The test shape is: (33, 1025)\n",
      "The train shape is: (130, 1025)\n",
      "The test shape is: (33, 1025)\n",
      "The train shape is: (130, 1025)\n",
      "The test shape is: (33, 1025)\n",
      "The train shape is: (130, 1025)\n",
      "The test shape is: (33, 1025)\n",
      "The train shape is: (130, 1025)\n",
      "The test shape is: (33, 1025)\n",
      "The train shape is: (130, 1025)\n",
      "The test shape is: (33, 1025)\n",
      "The train shape is: (130, 1025)\n",
      "The test shape is: (33, 1025)\n",
      "The train shape is: (130, 1025)\n",
      "The test shape is: (33, 1025)\n",
      "The train shape is: (130, 1025)\n",
      "The test shape is: (33, 1025)\n",
      "The train shape is: (130, 1025)\n",
      "The test shape is: (33, 1025)\n"
     ]
    }
   ],
   "source": [
    "train_df = []\n",
    "test_df = []\n",
    "\n",
    "for i in range(len(dengue_df)):\n",
    "    train_df_aux, test_df_aux = train_test_split(dengue_df[i], train_percentage)\n",
    "    train_df.append(train_df_aux)\n",
    "    test_df.append(test_df_aux)\n",
    "#test_df"
   ]
  },
  {
   "cell_type": "markdown",
   "id": "83231e34",
   "metadata": {},
   "source": [
    "### Normalize features"
   ]
  },
  {
   "cell_type": "code",
   "execution_count": 6,
   "id": "3ad177ac",
   "metadata": {},
   "outputs": [],
   "source": [
    "# Merge:\n",
    "train_df = pd.concat(train_df, keys=Municipalities)\n",
    "test_df = pd.concat(test_df, keys=Municipalities)"
   ]
  },
  {
   "cell_type": "code",
   "execution_count": 7,
   "id": "83a957b1",
   "metadata": {},
   "outputs": [
    {
     "data": {
      "text/html": [
       "<div>\n",
       "<style scoped>\n",
       "    .dataframe tbody tr th:only-of-type {\n",
       "        vertical-align: middle;\n",
       "    }\n",
       "\n",
       "    .dataframe tbody tr th {\n",
       "        vertical-align: top;\n",
       "    }\n",
       "\n",
       "    .dataframe thead th {\n",
       "        text-align: right;\n",
       "    }\n",
       "</style>\n",
       "<table border=\"1\" class=\"dataframe\">\n",
       "  <thead>\n",
       "    <tr style=\"text-align: right;\">\n",
       "      <th></th>\n",
       "      <th></th>\n",
       "      <th>0</th>\n",
       "      <th>1</th>\n",
       "      <th>2</th>\n",
       "      <th>3</th>\n",
       "      <th>4</th>\n",
       "      <th>5</th>\n",
       "      <th>6</th>\n",
       "      <th>7</th>\n",
       "      <th>8</th>\n",
       "      <th>9</th>\n",
       "      <th>...</th>\n",
       "      <th>1015</th>\n",
       "      <th>1016</th>\n",
       "      <th>1017</th>\n",
       "      <th>1018</th>\n",
       "      <th>1019</th>\n",
       "      <th>1020</th>\n",
       "      <th>1021</th>\n",
       "      <th>1022</th>\n",
       "      <th>1023</th>\n",
       "      <th>Labels</th>\n",
       "    </tr>\n",
       "  </thead>\n",
       "  <tbody>\n",
       "    <tr>\n",
       "      <th rowspan=\"5\" valign=\"top\">41001</th>\n",
       "      <th>201546</th>\n",
       "      <td>0.0</td>\n",
       "      <td>-0.774825</td>\n",
       "      <td>0.0</td>\n",
       "      <td>-0.441353</td>\n",
       "      <td>-0.367556</td>\n",
       "      <td>0.0</td>\n",
       "      <td>-0.067683</td>\n",
       "      <td>0.0</td>\n",
       "      <td>-0.998565</td>\n",
       "      <td>-0.071943</td>\n",
       "      <td>...</td>\n",
       "      <td>0.0</td>\n",
       "      <td>-0.921922</td>\n",
       "      <td>-0.210034</td>\n",
       "      <td>0.0</td>\n",
       "      <td>-0.485437</td>\n",
       "      <td>0.0</td>\n",
       "      <td>0.0</td>\n",
       "      <td>0.0</td>\n",
       "      <td>-0.027746</td>\n",
       "      <td>0.064361</td>\n",
       "    </tr>\n",
       "    <tr>\n",
       "      <th>201547</th>\n",
       "      <td>0.0</td>\n",
       "      <td>-0.774825</td>\n",
       "      <td>0.0</td>\n",
       "      <td>-0.441353</td>\n",
       "      <td>-0.367556</td>\n",
       "      <td>0.0</td>\n",
       "      <td>-0.067683</td>\n",
       "      <td>0.0</td>\n",
       "      <td>-0.998565</td>\n",
       "      <td>-0.071943</td>\n",
       "      <td>...</td>\n",
       "      <td>0.0</td>\n",
       "      <td>-0.921922</td>\n",
       "      <td>-0.210034</td>\n",
       "      <td>0.0</td>\n",
       "      <td>-0.485437</td>\n",
       "      <td>0.0</td>\n",
       "      <td>0.0</td>\n",
       "      <td>0.0</td>\n",
       "      <td>-0.027746</td>\n",
       "      <td>0.091926</td>\n",
       "    </tr>\n",
       "    <tr>\n",
       "      <th>201548</th>\n",
       "      <td>0.0</td>\n",
       "      <td>-0.774825</td>\n",
       "      <td>0.0</td>\n",
       "      <td>-0.441353</td>\n",
       "      <td>-0.367556</td>\n",
       "      <td>0.0</td>\n",
       "      <td>-0.067683</td>\n",
       "      <td>0.0</td>\n",
       "      <td>-0.998565</td>\n",
       "      <td>-0.071943</td>\n",
       "      <td>...</td>\n",
       "      <td>0.0</td>\n",
       "      <td>-0.921922</td>\n",
       "      <td>-0.210034</td>\n",
       "      <td>0.0</td>\n",
       "      <td>-0.485437</td>\n",
       "      <td>0.0</td>\n",
       "      <td>0.0</td>\n",
       "      <td>0.0</td>\n",
       "      <td>-0.027746</td>\n",
       "      <td>0.082738</td>\n",
       "    </tr>\n",
       "    <tr>\n",
       "      <th>201549</th>\n",
       "      <td>0.0</td>\n",
       "      <td>-0.774825</td>\n",
       "      <td>0.0</td>\n",
       "      <td>-0.441353</td>\n",
       "      <td>-0.367556</td>\n",
       "      <td>0.0</td>\n",
       "      <td>-0.067683</td>\n",
       "      <td>0.0</td>\n",
       "      <td>-0.998565</td>\n",
       "      <td>-0.071943</td>\n",
       "      <td>...</td>\n",
       "      <td>0.0</td>\n",
       "      <td>-0.921922</td>\n",
       "      <td>-0.210034</td>\n",
       "      <td>0.0</td>\n",
       "      <td>-0.485437</td>\n",
       "      <td>0.0</td>\n",
       "      <td>0.0</td>\n",
       "      <td>0.0</td>\n",
       "      <td>-0.027746</td>\n",
       "      <td>0.082738</td>\n",
       "    </tr>\n",
       "    <tr>\n",
       "      <th>201550</th>\n",
       "      <td>0.0</td>\n",
       "      <td>-0.774825</td>\n",
       "      <td>0.0</td>\n",
       "      <td>-0.441353</td>\n",
       "      <td>-0.367556</td>\n",
       "      <td>0.0</td>\n",
       "      <td>-0.067683</td>\n",
       "      <td>0.0</td>\n",
       "      <td>-0.998565</td>\n",
       "      <td>-0.071943</td>\n",
       "      <td>...</td>\n",
       "      <td>0.0</td>\n",
       "      <td>-0.921922</td>\n",
       "      <td>-0.210034</td>\n",
       "      <td>0.0</td>\n",
       "      <td>-0.485437</td>\n",
       "      <td>0.0</td>\n",
       "      <td>0.0</td>\n",
       "      <td>0.0</td>\n",
       "      <td>-0.027746</td>\n",
       "      <td>0.211376</td>\n",
       "    </tr>\n",
       "  </tbody>\n",
       "</table>\n",
       "<p>5 rows × 1025 columns</p>\n",
       "</div>"
      ],
      "text/plain": [
       "                0         1    2         3         4    5         6    7  \\\n",
       "41001 201546  0.0 -0.774825  0.0 -0.441353 -0.367556  0.0 -0.067683  0.0   \n",
       "      201547  0.0 -0.774825  0.0 -0.441353 -0.367556  0.0 -0.067683  0.0   \n",
       "      201548  0.0 -0.774825  0.0 -0.441353 -0.367556  0.0 -0.067683  0.0   \n",
       "      201549  0.0 -0.774825  0.0 -0.441353 -0.367556  0.0 -0.067683  0.0   \n",
       "      201550  0.0 -0.774825  0.0 -0.441353 -0.367556  0.0 -0.067683  0.0   \n",
       "\n",
       "                     8         9  ...  1015      1016      1017  1018  \\\n",
       "41001 201546 -0.998565 -0.071943  ...   0.0 -0.921922 -0.210034   0.0   \n",
       "      201547 -0.998565 -0.071943  ...   0.0 -0.921922 -0.210034   0.0   \n",
       "      201548 -0.998565 -0.071943  ...   0.0 -0.921922 -0.210034   0.0   \n",
       "      201549 -0.998565 -0.071943  ...   0.0 -0.921922 -0.210034   0.0   \n",
       "      201550 -0.998565 -0.071943  ...   0.0 -0.921922 -0.210034   0.0   \n",
       "\n",
       "                  1019  1020  1021  1022      1023    Labels  \n",
       "41001 201546 -0.485437   0.0   0.0   0.0 -0.027746  0.064361  \n",
       "      201547 -0.485437   0.0   0.0   0.0 -0.027746  0.091926  \n",
       "      201548 -0.485437   0.0   0.0   0.0 -0.027746  0.082738  \n",
       "      201549 -0.485437   0.0   0.0   0.0 -0.027746  0.082738  \n",
       "      201550 -0.485437   0.0   0.0   0.0 -0.027746  0.211376  \n",
       "\n",
       "[5 rows x 1025 columns]"
      ]
     },
     "execution_count": 7,
     "metadata": {},
     "output_type": "execute_result"
    }
   ],
   "source": [
    "# Scale train:\n",
    "train_df, scalers = normalize_train_features(train_df, feature_range=feature_range)\n",
    "train_df = [train_df[train_df.index.get_level_values(0) == municipality] for municipality in Municipalities]\n",
    "\n",
    "#print(f'The scalers are: {scalers}')\n",
    "\n",
    "train_df[1].head()"
   ]
  },
  {
   "cell_type": "code",
   "execution_count": 8,
   "id": "7ed3dc7a",
   "metadata": {},
   "outputs": [
    {
     "data": {
      "text/html": [
       "<div>\n",
       "<style scoped>\n",
       "    .dataframe tbody tr th:only-of-type {\n",
       "        vertical-align: middle;\n",
       "    }\n",
       "\n",
       "    .dataframe tbody tr th {\n",
       "        vertical-align: top;\n",
       "    }\n",
       "\n",
       "    .dataframe thead th {\n",
       "        text-align: right;\n",
       "    }\n",
       "</style>\n",
       "<table border=\"1\" class=\"dataframe\">\n",
       "  <thead>\n",
       "    <tr style=\"text-align: right;\">\n",
       "      <th></th>\n",
       "      <th></th>\n",
       "      <th>0</th>\n",
       "      <th>1</th>\n",
       "      <th>2</th>\n",
       "      <th>3</th>\n",
       "      <th>4</th>\n",
       "      <th>5</th>\n",
       "      <th>6</th>\n",
       "      <th>7</th>\n",
       "      <th>8</th>\n",
       "      <th>9</th>\n",
       "      <th>...</th>\n",
       "      <th>1015</th>\n",
       "      <th>1016</th>\n",
       "      <th>1017</th>\n",
       "      <th>1018</th>\n",
       "      <th>1019</th>\n",
       "      <th>1020</th>\n",
       "      <th>1021</th>\n",
       "      <th>1022</th>\n",
       "      <th>1023</th>\n",
       "      <th>Labels</th>\n",
       "    </tr>\n",
       "  </thead>\n",
       "  <tbody>\n",
       "    <tr>\n",
       "      <th rowspan=\"5\" valign=\"top\">41001</th>\n",
       "      <th>201820</th>\n",
       "      <td>0.0</td>\n",
       "      <td>0.620283</td>\n",
       "      <td>0.0</td>\n",
       "      <td>-0.441353</td>\n",
       "      <td>-0.367556</td>\n",
       "      <td>0.0</td>\n",
       "      <td>-0.067683</td>\n",
       "      <td>0.0</td>\n",
       "      <td>-0.209557</td>\n",
       "      <td>-0.071943</td>\n",
       "      <td>...</td>\n",
       "      <td>0.0</td>\n",
       "      <td>1.247308</td>\n",
       "      <td>-0.210034</td>\n",
       "      <td>0.0</td>\n",
       "      <td>-0.485437</td>\n",
       "      <td>0.0</td>\n",
       "      <td>0.0</td>\n",
       "      <td>0.0</td>\n",
       "      <td>-0.027746</td>\n",
       "      <td>-0.275610</td>\n",
       "    </tr>\n",
       "    <tr>\n",
       "      <th>201821</th>\n",
       "      <td>0.0</td>\n",
       "      <td>1.829504</td>\n",
       "      <td>0.0</td>\n",
       "      <td>2.012544</td>\n",
       "      <td>3.602906</td>\n",
       "      <td>0.0</td>\n",
       "      <td>-0.067683</td>\n",
       "      <td>0.0</td>\n",
       "      <td>-0.779635</td>\n",
       "      <td>-0.071943</td>\n",
       "      <td>...</td>\n",
       "      <td>0.0</td>\n",
       "      <td>0.512457</td>\n",
       "      <td>3.015177</td>\n",
       "      <td>0.0</td>\n",
       "      <td>-0.485437</td>\n",
       "      <td>0.0</td>\n",
       "      <td>0.0</td>\n",
       "      <td>0.0</td>\n",
       "      <td>-0.027746</td>\n",
       "      <td>-0.321552</td>\n",
       "    </tr>\n",
       "    <tr>\n",
       "      <th>201822</th>\n",
       "      <td>0.0</td>\n",
       "      <td>1.245169</td>\n",
       "      <td>0.0</td>\n",
       "      <td>1.229173</td>\n",
       "      <td>0.564211</td>\n",
       "      <td>0.0</td>\n",
       "      <td>-0.067683</td>\n",
       "      <td>0.0</td>\n",
       "      <td>-0.629153</td>\n",
       "      <td>-0.071943</td>\n",
       "      <td>...</td>\n",
       "      <td>0.0</td>\n",
       "      <td>1.021035</td>\n",
       "      <td>-0.210034</td>\n",
       "      <td>0.0</td>\n",
       "      <td>-0.485437</td>\n",
       "      <td>0.0</td>\n",
       "      <td>0.0</td>\n",
       "      <td>0.0</td>\n",
       "      <td>-0.027746</td>\n",
       "      <td>-0.238856</td>\n",
       "    </tr>\n",
       "    <tr>\n",
       "      <th>201823</th>\n",
       "      <td>0.0</td>\n",
       "      <td>-0.774825</td>\n",
       "      <td>0.0</td>\n",
       "      <td>-0.441353</td>\n",
       "      <td>-0.367556</td>\n",
       "      <td>0.0</td>\n",
       "      <td>-0.067683</td>\n",
       "      <td>0.0</td>\n",
       "      <td>0.966329</td>\n",
       "      <td>-0.071943</td>\n",
       "      <td>...</td>\n",
       "      <td>0.0</td>\n",
       "      <td>-0.921922</td>\n",
       "      <td>-0.210034</td>\n",
       "      <td>0.0</td>\n",
       "      <td>0.990740</td>\n",
       "      <td>0.0</td>\n",
       "      <td>0.0</td>\n",
       "      <td>0.0</td>\n",
       "      <td>-0.027746</td>\n",
       "      <td>-0.321552</td>\n",
       "    </tr>\n",
       "    <tr>\n",
       "      <th>201824</th>\n",
       "      <td>0.0</td>\n",
       "      <td>1.273921</td>\n",
       "      <td>0.0</td>\n",
       "      <td>1.772331</td>\n",
       "      <td>-0.367556</td>\n",
       "      <td>0.0</td>\n",
       "      <td>-0.067683</td>\n",
       "      <td>0.0</td>\n",
       "      <td>-0.254736</td>\n",
       "      <td>-0.071943</td>\n",
       "      <td>...</td>\n",
       "      <td>0.0</td>\n",
       "      <td>1.715252</td>\n",
       "      <td>-0.210034</td>\n",
       "      <td>0.0</td>\n",
       "      <td>-0.485437</td>\n",
       "      <td>0.0</td>\n",
       "      <td>0.0</td>\n",
       "      <td>0.0</td>\n",
       "      <td>-0.027746</td>\n",
       "      <td>-0.293986</td>\n",
       "    </tr>\n",
       "  </tbody>\n",
       "</table>\n",
       "<p>5 rows × 1025 columns</p>\n",
       "</div>"
      ],
      "text/plain": [
       "                0         1    2         3         4    5         6    7  \\\n",
       "41001 201820  0.0  0.620283  0.0 -0.441353 -0.367556  0.0 -0.067683  0.0   \n",
       "      201821  0.0  1.829504  0.0  2.012544  3.602906  0.0 -0.067683  0.0   \n",
       "      201822  0.0  1.245169  0.0  1.229173  0.564211  0.0 -0.067683  0.0   \n",
       "      201823  0.0 -0.774825  0.0 -0.441353 -0.367556  0.0 -0.067683  0.0   \n",
       "      201824  0.0  1.273921  0.0  1.772331 -0.367556  0.0 -0.067683  0.0   \n",
       "\n",
       "                     8         9  ...  1015      1016      1017  1018  \\\n",
       "41001 201820 -0.209557 -0.071943  ...   0.0  1.247308 -0.210034   0.0   \n",
       "      201821 -0.779635 -0.071943  ...   0.0  0.512457  3.015177   0.0   \n",
       "      201822 -0.629153 -0.071943  ...   0.0  1.021035 -0.210034   0.0   \n",
       "      201823  0.966329 -0.071943  ...   0.0 -0.921922 -0.210034   0.0   \n",
       "      201824 -0.254736 -0.071943  ...   0.0  1.715252 -0.210034   0.0   \n",
       "\n",
       "                  1019  1020  1021  1022      1023    Labels  \n",
       "41001 201820 -0.485437   0.0   0.0   0.0 -0.027746 -0.275610  \n",
       "      201821 -0.485437   0.0   0.0   0.0 -0.027746 -0.321552  \n",
       "      201822 -0.485437   0.0   0.0   0.0 -0.027746 -0.238856  \n",
       "      201823  0.990740   0.0   0.0   0.0 -0.027746 -0.321552  \n",
       "      201824 -0.485437   0.0   0.0   0.0 -0.027746 -0.293986  \n",
       "\n",
       "[5 rows x 1025 columns]"
      ]
     },
     "execution_count": 8,
     "metadata": {},
     "output_type": "execute_result"
    }
   ],
   "source": [
    "# Scale test:\n",
    "test_df = normalize_test_features(test_df, scalers=scalers)\n",
    "test_df = [test_df[test_df.index.get_level_values(0) == municipality] for municipality in Municipalities]\n",
    "\n",
    "test_df[1].head()"
   ]
  },
  {
   "cell_type": "markdown",
   "id": "dc6d60fd",
   "metadata": {},
   "source": [
    "### Prepare data for time series supervised learning (function to create sliding window)"
   ]
  },
  {
   "cell_type": "code",
   "execution_count": 9,
   "id": "559b9c0f",
   "metadata": {},
   "outputs": [
    {
     "data": {
      "text/plain": [
       "(130, 1025)"
      ]
     },
     "execution_count": 9,
     "metadata": {},
     "output_type": "execute_result"
    }
   ],
   "source": [
    "# frame as supervised learning\n",
    "train = [series_to_supervised(df, n_in=T, autoregressive=autoregressive) for df in train_df]\n",
    "test = [series_to_supervised(df, n_in=T, autoregressive=autoregressive) for df in test_df]\n",
    "\n",
    "train[1].shape"
   ]
  },
  {
   "cell_type": "markdown",
   "id": "363bb854",
   "metadata": {},
   "source": [
    "### Merge train data"
   ]
  },
  {
   "cell_type": "code",
   "execution_count": 10,
   "id": "053f8ed9",
   "metadata": {},
   "outputs": [],
   "source": [
    "# Merge:\n",
    "train = pd.concat(train, keys=Municipalities)\n",
    "test = pd.concat(test, keys=Municipalities)"
   ]
  },
  {
   "cell_type": "code",
   "execution_count": 11,
   "id": "bf127ecc",
   "metadata": {},
   "outputs": [
    {
     "data": {
      "text/plain": [
       "(1300, 1025)"
      ]
     },
     "execution_count": 11,
     "metadata": {},
     "output_type": "execute_result"
    }
   ],
   "source": [
    "train.shape"
   ]
  },
  {
   "cell_type": "markdown",
   "id": "e0c7eb77",
   "metadata": {},
   "source": [
    "### Features and Labels Set"
   ]
  },
  {
   "cell_type": "code",
   "execution_count": 12,
   "id": "3fb39b10",
   "metadata": {},
   "outputs": [
    {
     "name": "stdout",
     "output_type": "stream",
     "text": [
      "Train:\n",
      "The shape of the features is (1300, 1024)\n",
      "The shape of the labels is (1300, 1)\n",
      "Test:\n",
      "The shape of the features is (330, 1024)\n",
      "The shape of the labels is (330, 1)\n"
     ]
    }
   ],
   "source": [
    "# Train features and labels set\n",
    "print('Train:')\n",
    "train_X, train_y, n_features = features_labels_set(timeseries_data=train, original_df=dengue_df[0], autoregressive=autoregressive)\n",
    "\n",
    "# Test features and labels set\n",
    "print('Test:')\n",
    "test_X, test_y, n_features = features_labels_set(timeseries_data=test, original_df=dengue_df[0], autoregressive=autoregressive)"
   ]
  },
  {
   "cell_type": "code",
   "execution_count": 13,
   "id": "dac8d4c3",
   "metadata": {},
   "outputs": [],
   "source": [
    "# reshape input to be 3D [samples, timesteps, features]\n",
    "if T != 0:\n",
    "    train_X, test_X = reshape_tensor(train_X, test_X, n_features, T, autoregressive)"
   ]
  },
  {
   "cell_type": "markdown",
   "id": "63d8f223",
   "metadata": {},
   "source": [
    "# 2. Model"
   ]
  },
  {
   "cell_type": "code",
   "execution_count": null,
   "id": "921bd5ae",
   "metadata": {},
   "outputs": [
    {
     "data": {
      "image/png": "[encoded data removed]",
      "text/plain": [
       "<Figure size 432x288 with 1 Axes>"
      ]
     },
     "metadata": {
      "needs_background": "light"
     },
     "output_type": "display_data"
    },
    {
     "name": "stderr",
     "output_type": "stream",
     "text": [
      "2023-03-15 04:14:55.441810: W tensorflow/stream_executor/platform/default/dso_loader.cc:64] Could not load dynamic library 'libcuda.so.1'; dlerror: libcuda.so.1: cannot open shared object file: No such file or directory\n",
      "2023-03-15 04:14:55.441847: W tensorflow/stream_executor/cuda/cuda_driver.cc:269] failed call to cuInit: UNKNOWN ERROR (303)\n",
      "2023-03-15 04:14:55.441872: I tensorflow/stream_executor/cuda/cuda_diagnostics.cc:156] kernel driver does not appear to be running on this host (9e0b1a08816a): /proc/driver/nvidia/version does not exist\n",
      "2023-03-15 04:14:55.442134: I tensorflow/core/platform/cpu_feature_guard.cc:142] This TensorFlow binary is optimized with oneAPI Deep Neural Network Library (oneDNN) to use the following CPU instructions in performance-critical operations:  SSE4.1 SSE4.2 AVX AVX2 FMA\n",
      "To enable them in other operations, rebuild TensorFlow with the appropriate compiler flags.\n",
      "2023-03-15 04:14:55.552906: I tensorflow/compiler/mlir/mlir_graph_optimization_pass.cc:185] None of the MLIR Optimization Passes are enabled (registered 2)\n"
     ]
    },
    {
     "name": "stdout",
     "output_type": "stream",
     "text": [
      "Test MAE: 41.974\n",
      "Test RMSE: 58.653\n",
      "Test sMAPE: 98.888\n",
      "Test R Squared: -2.560\n",
      "{'mae': 41.973927745584284, 'rmse': 58.65308688382487, 'smape': 98.88765651628876, 'r2': -2.5597848399066403}\n"
     ]
    },
    {
     "data": {
      "image/png": "[encoded data removed]",
      "text/plain": [
       "<Figure size 432x288 with 1 Axes>"
      ]
     },
     "metadata": {
      "needs_background": "light"
     },
     "output_type": "display_data"
    },
    {
     "name": "stdout",
     "output_type": "stream",
     "text": [
      "Restoring model weights from the end of the best epoch.\n",
      "Epoch 00044: early stopping\n",
      "Test MAE: 35.832\n",
      "Test RMSE: 44.915\n",
      "Test sMAPE: 100.270\n",
      "Test R Squared: -1.087\n",
      "{'mae': 35.832083107124674, 'rmse': 44.91472969149635, 'smape': 100.27014273238036, 'r2': -1.0874668255800075}\n"
     ]
    },
    {
     "data": {
      "image/png": "[encoded data removed]",
      "text/plain": [
       "<Figure size 432x288 with 1 Axes>"
      ]
     },
     "metadata": {
      "needs_background": "light"
     },
     "output_type": "display_data"
    }
   ],
   "source": [
    "# Use the Function:\n",
    "if T != 0: \n",
    "    sequence=train_X.shape[1]\n",
    "    features=train_X.shape[2]\n",
    "else:\n",
    "    sequence=T\n",
    "    features=train_X.shape[1]\n",
    "\n",
    "\n",
    "calculate_mean_std(lstm_layers, nn_layers, sequence, features, dense_acivation, recurrent_cells, bidirectional, train_X, train_y, test_X, test_y, scalers['scaler_Labels'], monitor=True, plot=None, epochs=50, batch_size=16, n_tests=100, plot_samples=True, Municipality='Global')"
   ]
  },
  {
   "cell_type": "code",
   "execution_count": null,
   "id": "2f8aeb0b",
   "metadata": {},
   "outputs": [],
   "source": []
  }
 ],
 "metadata": {
  "kernelspec": {
   "display_name": "Python [conda env:generalml_p37_gpu_v1]",
   "language": "python",
   "name": "conda-env-generalml_p37_gpu_v1-py"
  },
  "language_info": {
   "codemirror_mode": {
    "name": "ipython",
    "version": 3
   },
   "file_extension": ".py",
   "mimetype": "text/x-python",
   "name": "python",
   "nbconvert_exporter": "python",
   "pygments_lexer": "ipython3",
   "version": "3.7.12"
  }
 },
 "nbformat": 4,
 "nbformat_minor": 5
}
