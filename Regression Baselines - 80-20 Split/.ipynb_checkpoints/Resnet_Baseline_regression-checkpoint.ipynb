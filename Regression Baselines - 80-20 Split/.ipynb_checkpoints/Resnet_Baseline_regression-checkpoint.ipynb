{
 "cells": [
  {
   "cell_type": "markdown",
   "id": "fdb2c02c",
   "metadata": {},
   "source": [
    "# Setup enviorment"
   ]
  },
  {
   "cell_type": "code",
   "execution_count": 1,
   "id": "c6ab208b",
   "metadata": {},
   "outputs": [
    {
     "name": "stdout",
     "output_type": "stream",
     "text": [
      "/home/datascience/TOP 10 Municipalities Models\n"
     ]
    }
   ],
   "source": [
    "%cd .."
   ]
  },
  {
   "cell_type": "code",
   "execution_count": 2,
   "id": "6c3139a8",
   "metadata": {},
   "outputs": [],
   "source": [
    "from Preprocessing.time_series_preprocessing import get_dengue_dataset, train_test_split, normalize_train_features, normalize_test_features, series_to_supervised, features_labels_set, reshape_tensor\n",
    "\n",
    "from Models.LSTM import create_model, train_model\n",
    "import tensorflow as tf\n",
    "\n",
    "from Utils.test_lstm import evaluate, plot_predictions, calculate_mean_std\n",
    "\n",
    "import pandas as pd\n",
    "import os\n",
    "import numpy as np"
   ]
  },
  {
   "cell_type": "code",
   "execution_count": 3,
   "id": "2315e654",
   "metadata": {},
   "outputs": [],
   "source": [
    "\"\"\" Read Dataset:\"\"\"\n",
    "\n",
    "embeddings = 'Embeddings_Augmented/ResNet50V2_224_1024.csv'\n",
    "labels = '../Tabular_data/dengue_tabular.csv'\n",
    "\n",
    "# Get list of municipalities:\n",
    "Municipalities = list(pd.unique(pd.read_csv(embeddings)['Municipality Code']))\n",
    "\n",
    "\"\"\" Dataset Preprocessing:\"\"\"\n",
    "train_percentage = 80\n",
    "T = 0\n",
    "autoregressive = False\n",
    "feature_range = (-1, 1)\n",
    "\n",
    "\"\"\" Model Parameters:\"\"\"\n",
    "lstm_layers=[1000, 500]\n",
    "nn_layers=[250, 120, 1]\n",
    "dense_acivation='relu'\n",
    "recurrent_cells='LSTM'\n",
    "bidirectional=False"
   ]
  },
  {
   "cell_type": "markdown",
   "id": "31bae396",
   "metadata": {},
   "source": [
    "## 1. Read Data"
   ]
  },
  {
   "cell_type": "code",
   "execution_count": 4,
   "id": "92d1e036",
   "metadata": {},
   "outputs": [
    {
     "name": "stdout",
     "output_type": "stream",
     "text": [
      "Obtaining dataframe for the city of 54001 - Cúcuta only...\n",
      "Obtaining dataframe for the city of 41001 - Neiva only...\n",
      "Obtaining dataframe for the city of 5001 - Medellín only...\n",
      "Obtaining dataframe for the city of 50001 - Villavicencio only...\n",
      "Obtaining dataframe for the city of 68001 - Bucaramanga only...\n",
      "Obtaining dataframe for the city of 8001 - Barranquilla only...\n",
      "Obtaining dataframe for the city of 23001 - Montería only...\n",
      "Obtaining dataframe for the city of 76001 - Cali only...\n",
      "Obtaining dataframe for the city of 73001 - Ibagué only...\n",
      "Obtaining dataframe for the city of 5360 - Itagüí only...\n"
     ]
    },
    {
     "data": {
      "text/plain": [
       "list"
      ]
     },
     "execution_count": 4,
     "metadata": {},
     "output_type": "execute_result"
    }
   ],
   "source": [
    "# Read dataset for top 5 municipalities\n",
    "dengue_df = [get_dengue_dataset(labels_path=labels, embeddings_path=embeddings, municipality=Municipality) for Municipality in Municipalities]\n",
    "type(dengue_df)"
   ]
  },
  {
   "cell_type": "markdown",
   "id": "66a49dff",
   "metadata": {},
   "source": [
    "### Train Test split"
   ]
  },
  {
   "cell_type": "code",
   "execution_count": 5,
   "id": "343486fd",
   "metadata": {},
   "outputs": [
    {
     "name": "stdout",
     "output_type": "stream",
     "text": [
      "The train shape is: (130, 2049)\n",
      "The test shape is: (33, 2049)\n",
      "The train shape is: (130, 2049)\n",
      "The test shape is: (33, 2049)\n",
      "The train shape is: (130, 2049)\n",
      "The test shape is: (33, 2049)\n",
      "The train shape is: (130, 2049)\n",
      "The test shape is: (33, 2049)\n",
      "The train shape is: (130, 2049)\n",
      "The test shape is: (33, 2049)\n",
      "The train shape is: (130, 2049)\n",
      "The test shape is: (33, 2049)\n",
      "The train shape is: (130, 2049)\n",
      "The test shape is: (33, 2049)\n",
      "The train shape is: (130, 2049)\n",
      "The test shape is: (33, 2049)\n",
      "The train shape is: (130, 2049)\n",
      "The test shape is: (33, 2049)\n",
      "The train shape is: (130, 2049)\n",
      "The test shape is: (33, 2049)\n"
     ]
    }
   ],
   "source": [
    "train_df = []\n",
    "test_df = []\n",
    "\n",
    "for i in range(len(dengue_df)):\n",
    "    train_df_aux, test_df_aux = train_test_split(dengue_df[i], train_percentage)\n",
    "    train_df.append(train_df_aux)\n",
    "    test_df.append(test_df_aux)\n",
    "#test_df"
   ]
  },
  {
   "cell_type": "markdown",
   "id": "b3631ffe",
   "metadata": {},
   "source": [
    "### Normalize features"
   ]
  },
  {
   "cell_type": "code",
   "execution_count": 6,
   "id": "f3e3e350",
   "metadata": {},
   "outputs": [],
   "source": [
    "# Merge:\n",
    "train_df = pd.concat(train_df, keys=Municipalities)\n",
    "test_df = pd.concat(test_df, keys=Municipalities)"
   ]
  },
  {
   "cell_type": "code",
   "execution_count": 7,
   "id": "bd02d657",
   "metadata": {},
   "outputs": [
    {
     "data": {
      "text/html": [
       "<div>\n",
       "<style scoped>\n",
       "    .dataframe tbody tr th:only-of-type {\n",
       "        vertical-align: middle;\n",
       "    }\n",
       "\n",
       "    .dataframe tbody tr th {\n",
       "        vertical-align: top;\n",
       "    }\n",
       "\n",
       "    .dataframe thead th {\n",
       "        text-align: right;\n",
       "    }\n",
       "</style>\n",
       "<table border=\"1\" class=\"dataframe\">\n",
       "  <thead>\n",
       "    <tr style=\"text-align: right;\">\n",
       "      <th></th>\n",
       "      <th></th>\n",
       "      <th>0</th>\n",
       "      <th>1</th>\n",
       "      <th>2</th>\n",
       "      <th>3</th>\n",
       "      <th>4</th>\n",
       "      <th>5</th>\n",
       "      <th>6</th>\n",
       "      <th>7</th>\n",
       "      <th>8</th>\n",
       "      <th>9</th>\n",
       "      <th>...</th>\n",
       "      <th>2039</th>\n",
       "      <th>2040</th>\n",
       "      <th>2041</th>\n",
       "      <th>2042</th>\n",
       "      <th>2043</th>\n",
       "      <th>2044</th>\n",
       "      <th>2045</th>\n",
       "      <th>2046</th>\n",
       "      <th>2047</th>\n",
       "      <th>Labels</th>\n",
       "    </tr>\n",
       "  </thead>\n",
       "  <tbody>\n",
       "    <tr>\n",
       "      <th rowspan=\"5\" valign=\"top\">41001</th>\n",
       "      <th>201546</th>\n",
       "      <td>-1.0</td>\n",
       "      <td>-0.860426</td>\n",
       "      <td>-1.0</td>\n",
       "      <td>-0.891535</td>\n",
       "      <td>-0.951122</td>\n",
       "      <td>-1.0</td>\n",
       "      <td>-1.000000</td>\n",
       "      <td>-1.0</td>\n",
       "      <td>-1.0</td>\n",
       "      <td>-0.985063</td>\n",
       "      <td>...</td>\n",
       "      <td>-0.417426</td>\n",
       "      <td>-0.909493</td>\n",
       "      <td>-1.0</td>\n",
       "      <td>-1.0</td>\n",
       "      <td>-0.487635</td>\n",
       "      <td>-0.909150</td>\n",
       "      <td>-1.0</td>\n",
       "      <td>-0.721187</td>\n",
       "      <td>-0.906836</td>\n",
       "      <td>-0.861740</td>\n",
       "    </tr>\n",
       "    <tr>\n",
       "      <th>201547</th>\n",
       "      <td>-1.0</td>\n",
       "      <td>-0.986925</td>\n",
       "      <td>-1.0</td>\n",
       "      <td>-0.957947</td>\n",
       "      <td>-0.671047</td>\n",
       "      <td>-1.0</td>\n",
       "      <td>-0.970670</td>\n",
       "      <td>-1.0</td>\n",
       "      <td>-1.0</td>\n",
       "      <td>-0.997454</td>\n",
       "      <td>...</td>\n",
       "      <td>-1.000000</td>\n",
       "      <td>-0.660517</td>\n",
       "      <td>-1.0</td>\n",
       "      <td>-1.0</td>\n",
       "      <td>-0.411829</td>\n",
       "      <td>-0.922754</td>\n",
       "      <td>-1.0</td>\n",
       "      <td>-0.707864</td>\n",
       "      <td>-1.000000</td>\n",
       "      <td>-0.854589</td>\n",
       "    </tr>\n",
       "    <tr>\n",
       "      <th>201548</th>\n",
       "      <td>-1.0</td>\n",
       "      <td>-0.986925</td>\n",
       "      <td>-1.0</td>\n",
       "      <td>-0.957947</td>\n",
       "      <td>-0.671047</td>\n",
       "      <td>-1.0</td>\n",
       "      <td>-0.970670</td>\n",
       "      <td>-1.0</td>\n",
       "      <td>-1.0</td>\n",
       "      <td>-0.997454</td>\n",
       "      <td>...</td>\n",
       "      <td>-1.000000</td>\n",
       "      <td>-0.660517</td>\n",
       "      <td>-1.0</td>\n",
       "      <td>-1.0</td>\n",
       "      <td>-0.411829</td>\n",
       "      <td>-0.922754</td>\n",
       "      <td>-1.0</td>\n",
       "      <td>-0.707864</td>\n",
       "      <td>-1.000000</td>\n",
       "      <td>-0.856973</td>\n",
       "    </tr>\n",
       "    <tr>\n",
       "      <th>201549</th>\n",
       "      <td>-1.0</td>\n",
       "      <td>-0.970098</td>\n",
       "      <td>-1.0</td>\n",
       "      <td>-1.000000</td>\n",
       "      <td>-0.979269</td>\n",
       "      <td>-1.0</td>\n",
       "      <td>-0.985169</td>\n",
       "      <td>-1.0</td>\n",
       "      <td>-1.0</td>\n",
       "      <td>-1.000000</td>\n",
       "      <td>...</td>\n",
       "      <td>-1.000000</td>\n",
       "      <td>-0.775001</td>\n",
       "      <td>-1.0</td>\n",
       "      <td>-1.0</td>\n",
       "      <td>-0.703727</td>\n",
       "      <td>-0.913780</td>\n",
       "      <td>-1.0</td>\n",
       "      <td>-0.796910</td>\n",
       "      <td>-1.000000</td>\n",
       "      <td>-0.856973</td>\n",
       "    </tr>\n",
       "    <tr>\n",
       "      <th>201550</th>\n",
       "      <td>-1.0</td>\n",
       "      <td>-1.000000</td>\n",
       "      <td>-1.0</td>\n",
       "      <td>-0.909971</td>\n",
       "      <td>-0.854131</td>\n",
       "      <td>-1.0</td>\n",
       "      <td>-0.980093</td>\n",
       "      <td>-1.0</td>\n",
       "      <td>-1.0</td>\n",
       "      <td>-0.955560</td>\n",
       "      <td>...</td>\n",
       "      <td>-1.000000</td>\n",
       "      <td>-0.844676</td>\n",
       "      <td>-1.0</td>\n",
       "      <td>-1.0</td>\n",
       "      <td>-0.709011</td>\n",
       "      <td>-0.917570</td>\n",
       "      <td>-1.0</td>\n",
       "      <td>-0.332116</td>\n",
       "      <td>-0.931627</td>\n",
       "      <td>-0.823600</td>\n",
       "    </tr>\n",
       "  </tbody>\n",
       "</table>\n",
       "<p>5 rows × 2049 columns</p>\n",
       "</div>"
      ],
      "text/plain": [
       "                0         1    2         3         4    5         6    7    8  \\\n",
       "41001 201546 -1.0 -0.860426 -1.0 -0.891535 -0.951122 -1.0 -1.000000 -1.0 -1.0   \n",
       "      201547 -1.0 -0.986925 -1.0 -0.957947 -0.671047 -1.0 -0.970670 -1.0 -1.0   \n",
       "      201548 -1.0 -0.986925 -1.0 -0.957947 -0.671047 -1.0 -0.970670 -1.0 -1.0   \n",
       "      201549 -1.0 -0.970098 -1.0 -1.000000 -0.979269 -1.0 -0.985169 -1.0 -1.0   \n",
       "      201550 -1.0 -1.000000 -1.0 -0.909971 -0.854131 -1.0 -0.980093 -1.0 -1.0   \n",
       "\n",
       "                     9  ...      2039      2040  2041  2042      2043  \\\n",
       "41001 201546 -0.985063  ... -0.417426 -0.909493  -1.0  -1.0 -0.487635   \n",
       "      201547 -0.997454  ... -1.000000 -0.660517  -1.0  -1.0 -0.411829   \n",
       "      201548 -0.997454  ... -1.000000 -0.660517  -1.0  -1.0 -0.411829   \n",
       "      201549 -1.000000  ... -1.000000 -0.775001  -1.0  -1.0 -0.703727   \n",
       "      201550 -0.955560  ... -1.000000 -0.844676  -1.0  -1.0 -0.709011   \n",
       "\n",
       "                  2044  2045      2046      2047    Labels  \n",
       "41001 201546 -0.909150  -1.0 -0.721187 -0.906836 -0.861740  \n",
       "      201547 -0.922754  -1.0 -0.707864 -1.000000 -0.854589  \n",
       "      201548 -0.922754  -1.0 -0.707864 -1.000000 -0.856973  \n",
       "      201549 -0.913780  -1.0 -0.796910 -1.000000 -0.856973  \n",
       "      201550 -0.917570  -1.0 -0.332116 -0.931627 -0.823600  \n",
       "\n",
       "[5 rows x 2049 columns]"
      ]
     },
     "execution_count": 7,
     "metadata": {},
     "output_type": "execute_result"
    }
   ],
   "source": [
    "# Scale train:\n",
    "train_df, scalers = normalize_train_features(train_df, feature_range=feature_range)\n",
    "train_df = [train_df[train_df.index.get_level_values(0) == municipality] for municipality in Municipalities]\n",
    "\n",
    "#print(f'The scalers are: {scalers}')\n",
    "\n",
    "train_df[1].head()"
   ]
  },
  {
   "cell_type": "code",
   "execution_count": 8,
   "id": "54a6dd0b",
   "metadata": {},
   "outputs": [
    {
     "data": {
      "text/html": [
       "<div>\n",
       "<style scoped>\n",
       "    .dataframe tbody tr th:only-of-type {\n",
       "        vertical-align: middle;\n",
       "    }\n",
       "\n",
       "    .dataframe tbody tr th {\n",
       "        vertical-align: top;\n",
       "    }\n",
       "\n",
       "    .dataframe thead th {\n",
       "        text-align: right;\n",
       "    }\n",
       "</style>\n",
       "<table border=\"1\" class=\"dataframe\">\n",
       "  <thead>\n",
       "    <tr style=\"text-align: right;\">\n",
       "      <th></th>\n",
       "      <th></th>\n",
       "      <th>0</th>\n",
       "      <th>1</th>\n",
       "      <th>2</th>\n",
       "      <th>3</th>\n",
       "      <th>4</th>\n",
       "      <th>5</th>\n",
       "      <th>6</th>\n",
       "      <th>7</th>\n",
       "      <th>8</th>\n",
       "      <th>9</th>\n",
       "      <th>...</th>\n",
       "      <th>2039</th>\n",
       "      <th>2040</th>\n",
       "      <th>2041</th>\n",
       "      <th>2042</th>\n",
       "      <th>2043</th>\n",
       "      <th>2044</th>\n",
       "      <th>2045</th>\n",
       "      <th>2046</th>\n",
       "      <th>2047</th>\n",
       "      <th>Labels</th>\n",
       "    </tr>\n",
       "  </thead>\n",
       "  <tbody>\n",
       "    <tr>\n",
       "      <th rowspan=\"5\" valign=\"top\">41001</th>\n",
       "      <th>201820</th>\n",
       "      <td>-1.000000</td>\n",
       "      <td>-0.901166</td>\n",
       "      <td>-0.962204</td>\n",
       "      <td>-1.000000</td>\n",
       "      <td>-1.00000</td>\n",
       "      <td>-1.0</td>\n",
       "      <td>-0.949559</td>\n",
       "      <td>-1.000000</td>\n",
       "      <td>-1.000000</td>\n",
       "      <td>-1.000000</td>\n",
       "      <td>...</td>\n",
       "      <td>-1.000000</td>\n",
       "      <td>-0.955383</td>\n",
       "      <td>-1.000000</td>\n",
       "      <td>-1.0</td>\n",
       "      <td>-0.849818</td>\n",
       "      <td>-0.186112</td>\n",
       "      <td>-1.0</td>\n",
       "      <td>-0.268471</td>\n",
       "      <td>-1.000000</td>\n",
       "      <td>-0.949940</td>\n",
       "    </tr>\n",
       "    <tr>\n",
       "      <th>201821</th>\n",
       "      <td>-1.000000</td>\n",
       "      <td>-0.980982</td>\n",
       "      <td>-0.981087</td>\n",
       "      <td>-1.000000</td>\n",
       "      <td>-0.96098</td>\n",
       "      <td>-1.0</td>\n",
       "      <td>-1.000000</td>\n",
       "      <td>0.081811</td>\n",
       "      <td>-1.000000</td>\n",
       "      <td>-0.718117</td>\n",
       "      <td>...</td>\n",
       "      <td>-0.926812</td>\n",
       "      <td>0.518692</td>\n",
       "      <td>-1.000000</td>\n",
       "      <td>-1.0</td>\n",
       "      <td>-0.852027</td>\n",
       "      <td>-1.000000</td>\n",
       "      <td>-1.0</td>\n",
       "      <td>-0.459775</td>\n",
       "      <td>-0.982723</td>\n",
       "      <td>-0.961859</td>\n",
       "    </tr>\n",
       "    <tr>\n",
       "      <th>201822</th>\n",
       "      <td>-0.931402</td>\n",
       "      <td>-0.950784</td>\n",
       "      <td>-0.980781</td>\n",
       "      <td>-0.992665</td>\n",
       "      <td>-1.00000</td>\n",
       "      <td>-1.0</td>\n",
       "      <td>-0.755983</td>\n",
       "      <td>-0.612792</td>\n",
       "      <td>-0.952944</td>\n",
       "      <td>-0.979325</td>\n",
       "      <td>...</td>\n",
       "      <td>-0.974659</td>\n",
       "      <td>0.021307</td>\n",
       "      <td>-1.000000</td>\n",
       "      <td>-1.0</td>\n",
       "      <td>-0.957197</td>\n",
       "      <td>-1.000000</td>\n",
       "      <td>-1.0</td>\n",
       "      <td>-0.399741</td>\n",
       "      <td>-0.765866</td>\n",
       "      <td>-0.940405</td>\n",
       "    </tr>\n",
       "    <tr>\n",
       "      <th>201823</th>\n",
       "      <td>-1.000000</td>\n",
       "      <td>-1.000000</td>\n",
       "      <td>-0.905623</td>\n",
       "      <td>-1.000000</td>\n",
       "      <td>-1.00000</td>\n",
       "      <td>-1.0</td>\n",
       "      <td>-1.000000</td>\n",
       "      <td>-1.000000</td>\n",
       "      <td>-1.000000</td>\n",
       "      <td>-0.854323</td>\n",
       "      <td>...</td>\n",
       "      <td>-1.000000</td>\n",
       "      <td>-0.932421</td>\n",
       "      <td>1.005799</td>\n",
       "      <td>-1.0</td>\n",
       "      <td>-0.919278</td>\n",
       "      <td>-0.798948</td>\n",
       "      <td>-1.0</td>\n",
       "      <td>-0.516460</td>\n",
       "      <td>-1.000000</td>\n",
       "      <td>-0.961859</td>\n",
       "    </tr>\n",
       "    <tr>\n",
       "      <th>201824</th>\n",
       "      <td>-1.000000</td>\n",
       "      <td>-1.000000</td>\n",
       "      <td>-1.000000</td>\n",
       "      <td>-1.000000</td>\n",
       "      <td>-1.00000</td>\n",
       "      <td>-1.0</td>\n",
       "      <td>-0.949448</td>\n",
       "      <td>-1.000000</td>\n",
       "      <td>-1.000000</td>\n",
       "      <td>-1.000000</td>\n",
       "      <td>...</td>\n",
       "      <td>-1.000000</td>\n",
       "      <td>-0.818021</td>\n",
       "      <td>-1.000000</td>\n",
       "      <td>-1.0</td>\n",
       "      <td>-0.911669</td>\n",
       "      <td>-1.000000</td>\n",
       "      <td>-1.0</td>\n",
       "      <td>-0.555354</td>\n",
       "      <td>-1.000000</td>\n",
       "      <td>-0.954708</td>\n",
       "    </tr>\n",
       "  </tbody>\n",
       "</table>\n",
       "<p>5 rows × 2049 columns</p>\n",
       "</div>"
      ],
      "text/plain": [
       "                     0         1         2         3        4    5         6  \\\n",
       "41001 201820 -1.000000 -0.901166 -0.962204 -1.000000 -1.00000 -1.0 -0.949559   \n",
       "      201821 -1.000000 -0.980982 -0.981087 -1.000000 -0.96098 -1.0 -1.000000   \n",
       "      201822 -0.931402 -0.950784 -0.980781 -0.992665 -1.00000 -1.0 -0.755983   \n",
       "      201823 -1.000000 -1.000000 -0.905623 -1.000000 -1.00000 -1.0 -1.000000   \n",
       "      201824 -1.000000 -1.000000 -1.000000 -1.000000 -1.00000 -1.0 -0.949448   \n",
       "\n",
       "                     7         8         9  ...      2039      2040      2041  \\\n",
       "41001 201820 -1.000000 -1.000000 -1.000000  ... -1.000000 -0.955383 -1.000000   \n",
       "      201821  0.081811 -1.000000 -0.718117  ... -0.926812  0.518692 -1.000000   \n",
       "      201822 -0.612792 -0.952944 -0.979325  ... -0.974659  0.021307 -1.000000   \n",
       "      201823 -1.000000 -1.000000 -0.854323  ... -1.000000 -0.932421  1.005799   \n",
       "      201824 -1.000000 -1.000000 -1.000000  ... -1.000000 -0.818021 -1.000000   \n",
       "\n",
       "              2042      2043      2044  2045      2046      2047    Labels  \n",
       "41001 201820  -1.0 -0.849818 -0.186112  -1.0 -0.268471 -1.000000 -0.949940  \n",
       "      201821  -1.0 -0.852027 -1.000000  -1.0 -0.459775 -0.982723 -0.961859  \n",
       "      201822  -1.0 -0.957197 -1.000000  -1.0 -0.399741 -0.765866 -0.940405  \n",
       "      201823  -1.0 -0.919278 -0.798948  -1.0 -0.516460 -1.000000 -0.961859  \n",
       "      201824  -1.0 -0.911669 -1.000000  -1.0 -0.555354 -1.000000 -0.954708  \n",
       "\n",
       "[5 rows x 2049 columns]"
      ]
     },
     "execution_count": 8,
     "metadata": {},
     "output_type": "execute_result"
    }
   ],
   "source": [
    "# Scale test:\n",
    "test_df = normalize_test_features(test_df, scalers=scalers)\n",
    "test_df = [test_df[test_df.index.get_level_values(0) == municipality] for municipality in Municipalities]\n",
    "\n",
    "test_df[1].head()"
   ]
  },
  {
   "cell_type": "markdown",
   "id": "ef281029",
   "metadata": {},
   "source": [
    "### Prepare data for time series supervised learning (function to create sliding window)"
   ]
  },
  {
   "cell_type": "code",
   "execution_count": 9,
   "id": "13a93e6e",
   "metadata": {},
   "outputs": [
    {
     "data": {
      "text/plain": [
       "(130, 2049)"
      ]
     },
     "execution_count": 9,
     "metadata": {},
     "output_type": "execute_result"
    }
   ],
   "source": [
    "# frame as supervised learning\n",
    "train = [series_to_supervised(df, n_in=T, autoregressive=autoregressive) for df in train_df]\n",
    "test = [series_to_supervised(df, n_in=T, autoregressive=autoregressive) for df in test_df]\n",
    "\n",
    "train[1].shape"
   ]
  },
  {
   "cell_type": "markdown",
   "id": "7432c9e1",
   "metadata": {},
   "source": [
    "### Merge train data"
   ]
  },
  {
   "cell_type": "code",
   "execution_count": 10,
   "id": "2f36acc8",
   "metadata": {},
   "outputs": [],
   "source": [
    "# Merge:\n",
    "train = pd.concat(train, keys=Municipalities)\n",
    "test = pd.concat(test, keys=Municipalities)"
   ]
  },
  {
   "cell_type": "code",
   "execution_count": 11,
   "id": "dc55bec2",
   "metadata": {},
   "outputs": [
    {
     "data": {
      "text/plain": [
       "(1300, 2049)"
      ]
     },
     "execution_count": 11,
     "metadata": {},
     "output_type": "execute_result"
    }
   ],
   "source": [
    "train.shape"
   ]
  },
  {
   "cell_type": "markdown",
   "id": "06e9ec25",
   "metadata": {},
   "source": [
    "### Features and Labels Set"
   ]
  },
  {
   "cell_type": "code",
   "execution_count": 12,
   "id": "ae16c06d",
   "metadata": {},
   "outputs": [
    {
     "name": "stdout",
     "output_type": "stream",
     "text": [
      "Train:\n",
      "The shape of the features is (1300, 2048)\n",
      "The shape of the labels is (1300, 1)\n",
      "Test:\n",
      "The shape of the features is (330, 2048)\n",
      "The shape of the labels is (330, 1)\n"
     ]
    }
   ],
   "source": [
    "# Train features and labels set\n",
    "print('Train:')\n",
    "train_X, train_y, n_features = features_labels_set(timeseries_data=train, original_df=dengue_df[0], autoregressive=autoregressive)\n",
    "\n",
    "# Test features and labels set\n",
    "print('Test:')\n",
    "test_X, test_y, n_features = features_labels_set(timeseries_data=test, original_df=dengue_df[0], autoregressive=autoregressive)"
   ]
  },
  {
   "cell_type": "code",
   "execution_count": 13,
   "id": "d979ebdd",
   "metadata": {},
   "outputs": [],
   "source": [
    "# reshape input to be 3D [samples, timesteps, features]\n",
    "if T != 0:\n",
    "    train_X, test_X = reshape_tensor(train_X, test_X, n_features, T, autoregressive)"
   ]
  },
  {
   "cell_type": "markdown",
   "id": "e82c09fd",
   "metadata": {},
   "source": [
    "# 2. Model"
   ]
  },
  {
   "cell_type": "code",
   "execution_count": null,
   "id": "8077a3a1",
   "metadata": {},
   "outputs": [
    {
     "data": {
      "image/png": "[encoded data removed]",
      "text/plain": [
       "<Figure size 432x288 with 1 Axes>"
      ]
     },
     "metadata": {
      "needs_background": "light"
     },
     "output_type": "display_data"
    },
    {
     "name": "stderr",
     "output_type": "stream",
     "text": [
      "2023-03-13 21:23:32.869256: W tensorflow/stream_executor/platform/default/dso_loader.cc:64] Could not load dynamic library 'libcuda.so.1'; dlerror: libcuda.so.1: cannot open shared object file: No such file or directory\n",
      "2023-03-13 21:23:32.869306: W tensorflow/stream_executor/cuda/cuda_driver.cc:269] failed call to cuInit: UNKNOWN ERROR (303)\n",
      "2023-03-13 21:23:32.869334: I tensorflow/stream_executor/cuda/cuda_diagnostics.cc:156] kernel driver does not appear to be running on this host (9e0b1a08816a): /proc/driver/nvidia/version does not exist\n",
      "2023-03-13 21:23:32.869554: I tensorflow/core/platform/cpu_feature_guard.cc:142] This TensorFlow binary is optimized with oneAPI Deep Neural Network Library (oneDNN) to use the following CPU instructions in performance-critical operations:  SSE4.1 SSE4.2 AVX AVX2 FMA\n",
      "To enable them in other operations, rebuild TensorFlow with the appropriate compiler flags.\n",
      "2023-03-13 21:23:33.102931: I tensorflow/compiler/mlir/mlir_graph_optimization_pass.cc:185] None of the MLIR Optimization Passes are enabled (registered 2)\n"
     ]
    },
    {
     "name": "stdout",
     "output_type": "stream",
     "text": [
      "Test MAE: 77.555\n",
      "Test RMSE: 510.139\n",
      "Test sMAPE: 113.805\n",
      "Test R Squared: -268.289\n",
      "{'mae': 77.55531590743499, 'rmse': 510.1387918297109, 'smape': 113.80515411449389, 'r2': -268.2890537313326}\n"
     ]
    },
    {
     "data": {
      "image/png": "[encoded data removed]",
      "text/plain": [
       "<Figure size 432x288 with 1 Axes>"
      ]
     },
     "metadata": {
      "needs_background": "light"
     },
     "output_type": "display_data"
    },
    {
     "name": "stdout",
     "output_type": "stream",
     "text": [
      "Restoring model weights from the end of the best epoch.\n",
      "Epoch 00021: early stopping\n",
      "Test MAE: 246.197\n",
      "Test RMSE: 353.610\n",
      "Test sMAPE: 156.512\n",
      "Test R Squared: -128.387\n",
      "{'mae': 246.19739476189469, 'rmse': 353.6104399181445, 'smape': 156.51228994298387, 'r2': -128.38745148690728}\n"
     ]
    },
    {
     "data": {
      "image/png": "[encoded data removed]",
      "text/plain": [
       "<Figure size 432x288 with 1 Axes>"
      ]
     },
     "metadata": {
      "needs_background": "light"
     },
     "output_type": "display_data"
    }
   ],
   "source": [
    "# Use the Function:\n",
    "if T != 0: \n",
    "    sequence=train_X.shape[1]\n",
    "    features=train_X.shape[2]\n",
    "else:\n",
    "    sequence=T\n",
    "    features=train_X.shape[1]\n",
    "\n",
    "\n",
    "calculate_mean_std(lstm_layers, nn_layers, sequence, features, dense_acivation, recurrent_cells, bidirectional, train_X, train_y, test_X, test_y, scalers['scaler_Labels'], monitor=True, plot=None, epochs=50, batch_size=16, n_tests=100, plot_samples=True, Municipality='Global')"
   ]
  },
  {
   "cell_type": "code",
   "execution_count": null,
   "id": "10b8c70e",
   "metadata": {},
   "outputs": [],
   "source": []
  }
 ],
 "metadata": {
  "kernelspec": {
   "display_name": "Python [conda env:generalml_p37_gpu_v1]",
   "language": "python",
   "name": "conda-env-generalml_p37_gpu_v1-py"
  },
  "language_info": {
   "codemirror_mode": {
    "name": "ipython",
    "version": 3
   },
   "file_extension": ".py",
   "mimetype": "text/x-python",
   "name": "python",
   "nbconvert_exporter": "python",
   "pygments_lexer": "ipython3",
   "version": "3.7.12"
  }
 },
 "nbformat": 4,
 "nbformat_minor": 5
}
