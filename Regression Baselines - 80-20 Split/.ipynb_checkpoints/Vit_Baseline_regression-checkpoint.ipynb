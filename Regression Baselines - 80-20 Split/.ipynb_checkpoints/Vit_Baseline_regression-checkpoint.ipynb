{
 "cells": [
  {
   "cell_type": "markdown",
   "id": "76e1ae30",
   "metadata": {},
   "source": [
    "# Setup enviorment"
   ]
  },
  {
   "cell_type": "code",
   "execution_count": 1,
   "id": "36f11fc1",
   "metadata": {},
   "outputs": [
    {
     "name": "stdout",
     "output_type": "stream",
     "text": [
      "/home/datascience/TOP 10 Municipalities Models\n"
     ]
    }
   ],
   "source": [
    "%cd .."
   ]
  },
  {
   "cell_type": "code",
   "execution_count": 2,
   "id": "37a70d15",
   "metadata": {},
   "outputs": [],
   "source": [
    "from Preprocessing.time_series_preprocessing import get_dengue_dataset, train_test_split, normalize_train_features, normalize_test_features, series_to_supervised, features_labels_set, reshape_tensor\n",
    "\n",
    "from Models.LSTM import create_model, train_model\n",
    "import tensorflow as tf\n",
    "\n",
    "from Utils.test_lstm import evaluate, plot_predictions, calculate_mean_std\n",
    "\n",
    "import pandas as pd\n",
    "import os\n",
    "import numpy as np"
   ]
  },
  {
   "cell_type": "code",
   "execution_count": 3,
   "id": "4b9b1817",
   "metadata": {},
   "outputs": [],
   "source": [
    "\"\"\" Read Dataset:\"\"\"\n",
    "\n",
    "embeddings = 'Embeddings_Augmented/vit_224_1024.csv'\n",
    "labels = '../Tabular_data/dengue_tabular.csv'\n",
    "\n",
    "# Get list of municipalities:\n",
    "Municipalities = list(pd.unique(pd.read_csv(embeddings)['Municipality Code']))\n",
    "\n",
    "\"\"\" Dataset Preprocessing:\"\"\"\n",
    "train_percentage = 80\n",
    "T = 0\n",
    "autoregressive = False\n",
    "feature_range = (-1, 1)\n",
    "\n",
    "\"\"\" Model Parameters:\"\"\"\n",
    "lstm_layers=[1000, 500]\n",
    "nn_layers=[250, 120, 1]\n",
    "dense_acivation='relu'\n",
    "recurrent_cells='LSTM'\n",
    "bidirectional=False"
   ]
  },
  {
   "cell_type": "markdown",
   "id": "796e02bd",
   "metadata": {},
   "source": [
    "## 1. Read Data"
   ]
  },
  {
   "cell_type": "code",
   "execution_count": 4,
   "id": "6532e3f2",
   "metadata": {},
   "outputs": [
    {
     "name": "stdout",
     "output_type": "stream",
     "text": [
      "Obtaining dataframe for the city of 54001 - Cúcuta only...\n",
      "Obtaining dataframe for the city of 41001 - Neiva only...\n",
      "Obtaining dataframe for the city of 5001 - Medellín only...\n",
      "Obtaining dataframe for the city of 50001 - Villavicencio only...\n",
      "Obtaining dataframe for the city of 68001 - Bucaramanga only...\n",
      "Obtaining dataframe for the city of 8001 - Barranquilla only...\n",
      "Obtaining dataframe for the city of 23001 - Montería only...\n",
      "Obtaining dataframe for the city of 76001 - Cali only...\n",
      "Obtaining dataframe for the city of 73001 - Ibagué only...\n",
      "Obtaining dataframe for the city of 5360 - Itagüí only...\n"
     ]
    },
    {
     "data": {
      "text/plain": [
       "list"
      ]
     },
     "execution_count": 4,
     "metadata": {},
     "output_type": "execute_result"
    }
   ],
   "source": [
    "# Read dataset for top 5 municipalities\n",
    "dengue_df = [get_dengue_dataset(labels_path=labels, embeddings_path=embeddings, municipality=Municipality) for Municipality in Municipalities]\n",
    "type(dengue_df)"
   ]
  },
  {
   "cell_type": "markdown",
   "id": "fdad150c",
   "metadata": {},
   "source": [
    "### Train Test split"
   ]
  },
  {
   "cell_type": "code",
   "execution_count": 5,
   "id": "73cb2f82",
   "metadata": {},
   "outputs": [
    {
     "name": "stdout",
     "output_type": "stream",
     "text": [
      "The train shape is: (130, 769)\n",
      "The test shape is: (33, 769)\n",
      "The train shape is: (130, 769)\n",
      "The test shape is: (33, 769)\n",
      "The train shape is: (130, 769)\n",
      "The test shape is: (33, 769)\n",
      "The train shape is: (130, 769)\n",
      "The test shape is: (33, 769)\n",
      "The train shape is: (130, 769)\n",
      "The test shape is: (33, 769)\n",
      "The train shape is: (130, 769)\n",
      "The test shape is: (33, 769)\n",
      "The train shape is: (130, 769)\n",
      "The test shape is: (33, 769)\n",
      "The train shape is: (130, 769)\n",
      "The test shape is: (33, 769)\n",
      "The train shape is: (130, 769)\n",
      "The test shape is: (33, 769)\n",
      "The train shape is: (130, 769)\n",
      "The test shape is: (33, 769)\n"
     ]
    }
   ],
   "source": [
    "train_df = []\n",
    "test_df = []\n",
    "\n",
    "for i in range(len(dengue_df)):\n",
    "    train_df_aux, test_df_aux = train_test_split(dengue_df[i], train_percentage)\n",
    "    train_df.append(train_df_aux)\n",
    "    test_df.append(test_df_aux)\n",
    "#test_df"
   ]
  },
  {
   "cell_type": "markdown",
   "id": "4f8daa84",
   "metadata": {},
   "source": [
    "### Normalize features"
   ]
  },
  {
   "cell_type": "code",
   "execution_count": 6,
   "id": "dd8816bc",
   "metadata": {},
   "outputs": [],
   "source": [
    "# Merge:\n",
    "train_df = pd.concat(train_df, keys=Municipalities)\n",
    "test_df = pd.concat(test_df, keys=Municipalities)"
   ]
  },
  {
   "cell_type": "code",
   "execution_count": 7,
   "id": "14a048c3",
   "metadata": {},
   "outputs": [
    {
     "data": {
      "text/html": [
       "<div>\n",
       "<style scoped>\n",
       "    .dataframe tbody tr th:only-of-type {\n",
       "        vertical-align: middle;\n",
       "    }\n",
       "\n",
       "    .dataframe tbody tr th {\n",
       "        vertical-align: top;\n",
       "    }\n",
       "\n",
       "    .dataframe thead th {\n",
       "        text-align: right;\n",
       "    }\n",
       "</style>\n",
       "<table border=\"1\" class=\"dataframe\">\n",
       "  <thead>\n",
       "    <tr style=\"text-align: right;\">\n",
       "      <th></th>\n",
       "      <th></th>\n",
       "      <th>0</th>\n",
       "      <th>1</th>\n",
       "      <th>2</th>\n",
       "      <th>3</th>\n",
       "      <th>4</th>\n",
       "      <th>5</th>\n",
       "      <th>6</th>\n",
       "      <th>7</th>\n",
       "      <th>8</th>\n",
       "      <th>9</th>\n",
       "      <th>...</th>\n",
       "      <th>759</th>\n",
       "      <th>760</th>\n",
       "      <th>761</th>\n",
       "      <th>762</th>\n",
       "      <th>763</th>\n",
       "      <th>764</th>\n",
       "      <th>765</th>\n",
       "      <th>766</th>\n",
       "      <th>767</th>\n",
       "      <th>Labels</th>\n",
       "    </tr>\n",
       "  </thead>\n",
       "  <tbody>\n",
       "    <tr>\n",
       "      <th rowspan=\"5\" valign=\"top\">41001</th>\n",
       "      <th>201546</th>\n",
       "      <td>0.670779</td>\n",
       "      <td>0.595594</td>\n",
       "      <td>-0.077606</td>\n",
       "      <td>-0.107835</td>\n",
       "      <td>-0.272451</td>\n",
       "      <td>0.614318</td>\n",
       "      <td>0.272364</td>\n",
       "      <td>-0.507996</td>\n",
       "      <td>0.582110</td>\n",
       "      <td>0.648711</td>\n",
       "      <td>...</td>\n",
       "      <td>-0.004559</td>\n",
       "      <td>0.448523</td>\n",
       "      <td>-0.235782</td>\n",
       "      <td>0.377595</td>\n",
       "      <td>0.668974</td>\n",
       "      <td>0.200040</td>\n",
       "      <td>0.354494</td>\n",
       "      <td>-0.052655</td>\n",
       "      <td>0.192024</td>\n",
       "      <td>-0.861740</td>\n",
       "    </tr>\n",
       "    <tr>\n",
       "      <th>201547</th>\n",
       "      <td>0.178823</td>\n",
       "      <td>-0.070760</td>\n",
       "      <td>0.129033</td>\n",
       "      <td>0.097289</td>\n",
       "      <td>-0.341705</td>\n",
       "      <td>-0.169392</td>\n",
       "      <td>-0.289076</td>\n",
       "      <td>-0.028539</td>\n",
       "      <td>0.662626</td>\n",
       "      <td>-0.255299</td>\n",
       "      <td>...</td>\n",
       "      <td>-0.041063</td>\n",
       "      <td>-0.031891</td>\n",
       "      <td>0.650568</td>\n",
       "      <td>0.324353</td>\n",
       "      <td>0.543561</td>\n",
       "      <td>-0.020800</td>\n",
       "      <td>0.258195</td>\n",
       "      <td>0.007702</td>\n",
       "      <td>0.467435</td>\n",
       "      <td>-0.854589</td>\n",
       "    </tr>\n",
       "    <tr>\n",
       "      <th>201548</th>\n",
       "      <td>0.178823</td>\n",
       "      <td>-0.070760</td>\n",
       "      <td>0.129033</td>\n",
       "      <td>0.097289</td>\n",
       "      <td>-0.341705</td>\n",
       "      <td>-0.169392</td>\n",
       "      <td>-0.289076</td>\n",
       "      <td>-0.028539</td>\n",
       "      <td>0.662626</td>\n",
       "      <td>-0.255299</td>\n",
       "      <td>...</td>\n",
       "      <td>-0.041063</td>\n",
       "      <td>-0.031891</td>\n",
       "      <td>0.650568</td>\n",
       "      <td>0.324353</td>\n",
       "      <td>0.543561</td>\n",
       "      <td>-0.020800</td>\n",
       "      <td>0.258195</td>\n",
       "      <td>0.007702</td>\n",
       "      <td>0.467435</td>\n",
       "      <td>-0.856973</td>\n",
       "    </tr>\n",
       "    <tr>\n",
       "      <th>201549</th>\n",
       "      <td>0.115743</td>\n",
       "      <td>0.208987</td>\n",
       "      <td>-0.220478</td>\n",
       "      <td>0.331592</td>\n",
       "      <td>-0.675573</td>\n",
       "      <td>0.333659</td>\n",
       "      <td>-0.207138</td>\n",
       "      <td>0.001534</td>\n",
       "      <td>0.521251</td>\n",
       "      <td>0.202988</td>\n",
       "      <td>...</td>\n",
       "      <td>-0.130802</td>\n",
       "      <td>0.613006</td>\n",
       "      <td>0.048257</td>\n",
       "      <td>0.228138</td>\n",
       "      <td>0.315599</td>\n",
       "      <td>-0.356935</td>\n",
       "      <td>0.002624</td>\n",
       "      <td>0.135311</td>\n",
       "      <td>0.249216</td>\n",
       "      <td>-0.856973</td>\n",
       "    </tr>\n",
       "    <tr>\n",
       "      <th>201550</th>\n",
       "      <td>0.418483</td>\n",
       "      <td>0.427503</td>\n",
       "      <td>-0.052307</td>\n",
       "      <td>0.207023</td>\n",
       "      <td>-0.309923</td>\n",
       "      <td>0.020332</td>\n",
       "      <td>-0.133146</td>\n",
       "      <td>0.439704</td>\n",
       "      <td>0.573165</td>\n",
       "      <td>0.189409</td>\n",
       "      <td>...</td>\n",
       "      <td>-0.190704</td>\n",
       "      <td>0.649817</td>\n",
       "      <td>0.365744</td>\n",
       "      <td>-0.030348</td>\n",
       "      <td>0.460557</td>\n",
       "      <td>0.005196</td>\n",
       "      <td>0.499655</td>\n",
       "      <td>0.143869</td>\n",
       "      <td>0.325766</td>\n",
       "      <td>-0.823600</td>\n",
       "    </tr>\n",
       "  </tbody>\n",
       "</table>\n",
       "<p>5 rows × 769 columns</p>\n",
       "</div>"
      ],
      "text/plain": [
       "                     0         1         2         3         4         5  \\\n",
       "41001 201546  0.670779  0.595594 -0.077606 -0.107835 -0.272451  0.614318   \n",
       "      201547  0.178823 -0.070760  0.129033  0.097289 -0.341705 -0.169392   \n",
       "      201548  0.178823 -0.070760  0.129033  0.097289 -0.341705 -0.169392   \n",
       "      201549  0.115743  0.208987 -0.220478  0.331592 -0.675573  0.333659   \n",
       "      201550  0.418483  0.427503 -0.052307  0.207023 -0.309923  0.020332   \n",
       "\n",
       "                     6         7         8         9  ...       759       760  \\\n",
       "41001 201546  0.272364 -0.507996  0.582110  0.648711  ... -0.004559  0.448523   \n",
       "      201547 -0.289076 -0.028539  0.662626 -0.255299  ... -0.041063 -0.031891   \n",
       "      201548 -0.289076 -0.028539  0.662626 -0.255299  ... -0.041063 -0.031891   \n",
       "      201549 -0.207138  0.001534  0.521251  0.202988  ... -0.130802  0.613006   \n",
       "      201550 -0.133146  0.439704  0.573165  0.189409  ... -0.190704  0.649817   \n",
       "\n",
       "                   761       762       763       764       765       766  \\\n",
       "41001 201546 -0.235782  0.377595  0.668974  0.200040  0.354494 -0.052655   \n",
       "      201547  0.650568  0.324353  0.543561 -0.020800  0.258195  0.007702   \n",
       "      201548  0.650568  0.324353  0.543561 -0.020800  0.258195  0.007702   \n",
       "      201549  0.048257  0.228138  0.315599 -0.356935  0.002624  0.135311   \n",
       "      201550  0.365744 -0.030348  0.460557  0.005196  0.499655  0.143869   \n",
       "\n",
       "                   767    Labels  \n",
       "41001 201546  0.192024 -0.861740  \n",
       "      201547  0.467435 -0.854589  \n",
       "      201548  0.467435 -0.856973  \n",
       "      201549  0.249216 -0.856973  \n",
       "      201550  0.325766 -0.823600  \n",
       "\n",
       "[5 rows x 769 columns]"
      ]
     },
     "execution_count": 7,
     "metadata": {},
     "output_type": "execute_result"
    }
   ],
   "source": [
    "# Scale train:\n",
    "train_df, scalers = normalize_train_features(train_df, feature_range=feature_range)\n",
    "train_df = [train_df[train_df.index.get_level_values(0) == municipality] for municipality in Municipalities]\n",
    "\n",
    "#print(f'The scalers are: {scalers}')\n",
    "\n",
    "train_df[1].head()"
   ]
  },
  {
   "cell_type": "code",
   "execution_count": 8,
   "id": "369efbdb",
   "metadata": {},
   "outputs": [
    {
     "data": {
      "text/html": [
       "<div>\n",
       "<style scoped>\n",
       "    .dataframe tbody tr th:only-of-type {\n",
       "        vertical-align: middle;\n",
       "    }\n",
       "\n",
       "    .dataframe tbody tr th {\n",
       "        vertical-align: top;\n",
       "    }\n",
       "\n",
       "    .dataframe thead th {\n",
       "        text-align: right;\n",
       "    }\n",
       "</style>\n",
       "<table border=\"1\" class=\"dataframe\">\n",
       "  <thead>\n",
       "    <tr style=\"text-align: right;\">\n",
       "      <th></th>\n",
       "      <th></th>\n",
       "      <th>0</th>\n",
       "      <th>1</th>\n",
       "      <th>2</th>\n",
       "      <th>3</th>\n",
       "      <th>4</th>\n",
       "      <th>5</th>\n",
       "      <th>6</th>\n",
       "      <th>7</th>\n",
       "      <th>8</th>\n",
       "      <th>9</th>\n",
       "      <th>...</th>\n",
       "      <th>759</th>\n",
       "      <th>760</th>\n",
       "      <th>761</th>\n",
       "      <th>762</th>\n",
       "      <th>763</th>\n",
       "      <th>764</th>\n",
       "      <th>765</th>\n",
       "      <th>766</th>\n",
       "      <th>767</th>\n",
       "      <th>Labels</th>\n",
       "    </tr>\n",
       "  </thead>\n",
       "  <tbody>\n",
       "    <tr>\n",
       "      <th rowspan=\"5\" valign=\"top\">41001</th>\n",
       "      <th>201820</th>\n",
       "      <td>-0.166148</td>\n",
       "      <td>-0.281008</td>\n",
       "      <td>0.276551</td>\n",
       "      <td>-0.063237</td>\n",
       "      <td>-0.682747</td>\n",
       "      <td>0.447094</td>\n",
       "      <td>-0.473513</td>\n",
       "      <td>-0.251758</td>\n",
       "      <td>0.058733</td>\n",
       "      <td>-0.078221</td>\n",
       "      <td>...</td>\n",
       "      <td>-0.209654</td>\n",
       "      <td>0.777690</td>\n",
       "      <td>0.655789</td>\n",
       "      <td>0.141327</td>\n",
       "      <td>-0.054550</td>\n",
       "      <td>-0.180350</td>\n",
       "      <td>-0.127647</td>\n",
       "      <td>-0.447052</td>\n",
       "      <td>0.154451</td>\n",
       "      <td>-0.949940</td>\n",
       "    </tr>\n",
       "    <tr>\n",
       "      <th>201821</th>\n",
       "      <td>-0.007424</td>\n",
       "      <td>-0.519584</td>\n",
       "      <td>-0.342950</td>\n",
       "      <td>0.125093</td>\n",
       "      <td>0.089374</td>\n",
       "      <td>-0.019499</td>\n",
       "      <td>0.415618</td>\n",
       "      <td>-0.814556</td>\n",
       "      <td>-0.091747</td>\n",
       "      <td>-0.100127</td>\n",
       "      <td>...</td>\n",
       "      <td>0.468053</td>\n",
       "      <td>0.710602</td>\n",
       "      <td>-0.091668</td>\n",
       "      <td>-0.426610</td>\n",
       "      <td>-0.164857</td>\n",
       "      <td>0.193055</td>\n",
       "      <td>-0.037520</td>\n",
       "      <td>0.008214</td>\n",
       "      <td>0.876525</td>\n",
       "      <td>-0.961859</td>\n",
       "    </tr>\n",
       "    <tr>\n",
       "      <th>201822</th>\n",
       "      <td>-0.290351</td>\n",
       "      <td>-0.523693</td>\n",
       "      <td>-0.111562</td>\n",
       "      <td>-0.135626</td>\n",
       "      <td>-0.422522</td>\n",
       "      <td>-0.633329</td>\n",
       "      <td>0.263650</td>\n",
       "      <td>-0.756376</td>\n",
       "      <td>-0.439559</td>\n",
       "      <td>-0.136582</td>\n",
       "      <td>...</td>\n",
       "      <td>0.694514</td>\n",
       "      <td>0.191799</td>\n",
       "      <td>-0.029980</td>\n",
       "      <td>-0.294553</td>\n",
       "      <td>-0.315895</td>\n",
       "      <td>0.564754</td>\n",
       "      <td>0.535611</td>\n",
       "      <td>-0.131089</td>\n",
       "      <td>0.183491</td>\n",
       "      <td>-0.940405</td>\n",
       "    </tr>\n",
       "    <tr>\n",
       "      <th>201823</th>\n",
       "      <td>-0.026328</td>\n",
       "      <td>0.393397</td>\n",
       "      <td>0.534254</td>\n",
       "      <td>0.159122</td>\n",
       "      <td>0.092003</td>\n",
       "      <td>-0.085724</td>\n",
       "      <td>-0.030848</td>\n",
       "      <td>-0.383425</td>\n",
       "      <td>-0.121861</td>\n",
       "      <td>-0.552932</td>\n",
       "      <td>...</td>\n",
       "      <td>0.131825</td>\n",
       "      <td>0.498413</td>\n",
       "      <td>0.304265</td>\n",
       "      <td>0.016069</td>\n",
       "      <td>-0.313765</td>\n",
       "      <td>-0.034732</td>\n",
       "      <td>0.336027</td>\n",
       "      <td>-0.021441</td>\n",
       "      <td>0.559529</td>\n",
       "      <td>-0.961859</td>\n",
       "    </tr>\n",
       "    <tr>\n",
       "      <th>201824</th>\n",
       "      <td>0.275765</td>\n",
       "      <td>-0.205492</td>\n",
       "      <td>-0.380056</td>\n",
       "      <td>0.379674</td>\n",
       "      <td>-0.283072</td>\n",
       "      <td>0.601271</td>\n",
       "      <td>0.196244</td>\n",
       "      <td>-0.075560</td>\n",
       "      <td>-0.017773</td>\n",
       "      <td>0.234350</td>\n",
       "      <td>...</td>\n",
       "      <td>0.407669</td>\n",
       "      <td>0.848582</td>\n",
       "      <td>-0.266996</td>\n",
       "      <td>0.237320</td>\n",
       "      <td>-0.072731</td>\n",
       "      <td>-0.465098</td>\n",
       "      <td>-0.310344</td>\n",
       "      <td>0.250170</td>\n",
       "      <td>0.350706</td>\n",
       "      <td>-0.954708</td>\n",
       "    </tr>\n",
       "  </tbody>\n",
       "</table>\n",
       "<p>5 rows × 769 columns</p>\n",
       "</div>"
      ],
      "text/plain": [
       "                     0         1         2         3         4         5  \\\n",
       "41001 201820 -0.166148 -0.281008  0.276551 -0.063237 -0.682747  0.447094   \n",
       "      201821 -0.007424 -0.519584 -0.342950  0.125093  0.089374 -0.019499   \n",
       "      201822 -0.290351 -0.523693 -0.111562 -0.135626 -0.422522 -0.633329   \n",
       "      201823 -0.026328  0.393397  0.534254  0.159122  0.092003 -0.085724   \n",
       "      201824  0.275765 -0.205492 -0.380056  0.379674 -0.283072  0.601271   \n",
       "\n",
       "                     6         7         8         9  ...       759       760  \\\n",
       "41001 201820 -0.473513 -0.251758  0.058733 -0.078221  ... -0.209654  0.777690   \n",
       "      201821  0.415618 -0.814556 -0.091747 -0.100127  ...  0.468053  0.710602   \n",
       "      201822  0.263650 -0.756376 -0.439559 -0.136582  ...  0.694514  0.191799   \n",
       "      201823 -0.030848 -0.383425 -0.121861 -0.552932  ...  0.131825  0.498413   \n",
       "      201824  0.196244 -0.075560 -0.017773  0.234350  ...  0.407669  0.848582   \n",
       "\n",
       "                   761       762       763       764       765       766  \\\n",
       "41001 201820  0.655789  0.141327 -0.054550 -0.180350 -0.127647 -0.447052   \n",
       "      201821 -0.091668 -0.426610 -0.164857  0.193055 -0.037520  0.008214   \n",
       "      201822 -0.029980 -0.294553 -0.315895  0.564754  0.535611 -0.131089   \n",
       "      201823  0.304265  0.016069 -0.313765 -0.034732  0.336027 -0.021441   \n",
       "      201824 -0.266996  0.237320 -0.072731 -0.465098 -0.310344  0.250170   \n",
       "\n",
       "                   767    Labels  \n",
       "41001 201820  0.154451 -0.949940  \n",
       "      201821  0.876525 -0.961859  \n",
       "      201822  0.183491 -0.940405  \n",
       "      201823  0.559529 -0.961859  \n",
       "      201824  0.350706 -0.954708  \n",
       "\n",
       "[5 rows x 769 columns]"
      ]
     },
     "execution_count": 8,
     "metadata": {},
     "output_type": "execute_result"
    }
   ],
   "source": [
    "# Scale test:\n",
    "test_df = normalize_test_features(test_df, scalers=scalers)\n",
    "test_df = [test_df[test_df.index.get_level_values(0) == municipality] for municipality in Municipalities]\n",
    "\n",
    "test_df[1].head()"
   ]
  },
  {
   "cell_type": "markdown",
   "id": "40119036",
   "metadata": {},
   "source": [
    "### Prepare data for time series supervised learning (function to create sliding window)"
   ]
  },
  {
   "cell_type": "code",
   "execution_count": 9,
   "id": "b72bc36b",
   "metadata": {},
   "outputs": [
    {
     "data": {
      "text/plain": [
       "(130, 769)"
      ]
     },
     "execution_count": 9,
     "metadata": {},
     "output_type": "execute_result"
    }
   ],
   "source": [
    "# frame as supervised learning\n",
    "train = [series_to_supervised(df, n_in=T, autoregressive=autoregressive) for df in train_df]\n",
    "test = [series_to_supervised(df, n_in=T, autoregressive=autoregressive) for df in test_df]\n",
    "\n",
    "train[1].shape"
   ]
  },
  {
   "cell_type": "markdown",
   "id": "d43096e0",
   "metadata": {},
   "source": [
    "### Merge train data"
   ]
  },
  {
   "cell_type": "code",
   "execution_count": 10,
   "id": "5c3e2098",
   "metadata": {},
   "outputs": [],
   "source": [
    "# Merge:\n",
    "train = pd.concat(train, keys=Municipalities)\n",
    "test = pd.concat(test, keys=Municipalities)"
   ]
  },
  {
   "cell_type": "code",
   "execution_count": 11,
   "id": "7bd512fc",
   "metadata": {},
   "outputs": [
    {
     "data": {
      "text/plain": [
       "(1300, 769)"
      ]
     },
     "execution_count": 11,
     "metadata": {},
     "output_type": "execute_result"
    }
   ],
   "source": [
    "train.shape"
   ]
  },
  {
   "cell_type": "markdown",
   "id": "75bb6160",
   "metadata": {},
   "source": [
    "### Features and Labels Set"
   ]
  },
  {
   "cell_type": "code",
   "execution_count": 12,
   "id": "aaa501f2",
   "metadata": {},
   "outputs": [
    {
     "name": "stdout",
     "output_type": "stream",
     "text": [
      "Train:\n",
      "The shape of the features is (1300, 768)\n",
      "The shape of the labels is (1300, 1)\n",
      "Test:\n",
      "The shape of the features is (330, 768)\n",
      "The shape of the labels is (330, 1)\n"
     ]
    }
   ],
   "source": [
    "# Train features and labels set\n",
    "print('Train:')\n",
    "train_X, train_y, n_features = features_labels_set(timeseries_data=train, original_df=dengue_df[0], autoregressive=autoregressive)\n",
    "\n",
    "# Test features and labels set\n",
    "print('Test:')\n",
    "test_X, test_y, n_features = features_labels_set(timeseries_data=test, original_df=dengue_df[0], autoregressive=autoregressive)"
   ]
  },
  {
   "cell_type": "code",
   "execution_count": 13,
   "id": "f92968b0",
   "metadata": {},
   "outputs": [],
   "source": [
    "# reshape input to be 3D [samples, timesteps, features]\n",
    "if T != 0:\n",
    "    train_X, test_X = reshape_tensor(train_X, test_X, n_features, T, autoregressive)"
   ]
  },
  {
   "cell_type": "markdown",
   "id": "6d7bb20f",
   "metadata": {},
   "source": [
    "# 2. Model"
   ]
  },
  {
   "cell_type": "code",
   "execution_count": null,
   "id": "8b47ec0f",
   "metadata": {},
   "outputs": [
    {
     "data": {
      "image/png": "[encoded data removed]",
      "text/plain": [
       "<Figure size 432x288 with 1 Axes>"
      ]
     },
     "metadata": {
      "needs_background": "light"
     },
     "output_type": "display_data"
    },
    {
     "name": "stderr",
     "output_type": "stream",
     "text": [
      "2023-03-13 21:24:18.349709: W tensorflow/stream_executor/platform/default/dso_loader.cc:64] Could not load dynamic library 'libcuda.so.1'; dlerror: libcuda.so.1: cannot open shared object file: No such file or directory\n",
      "2023-03-13 21:24:18.349779: W tensorflow/stream_executor/cuda/cuda_driver.cc:269] failed call to cuInit: UNKNOWN ERROR (303)\n",
      "2023-03-13 21:24:18.349884: I tensorflow/stream_executor/cuda/cuda_diagnostics.cc:156] kernel driver does not appear to be running on this host (9e0b1a08816a): /proc/driver/nvidia/version does not exist\n",
      "2023-03-13 21:24:18.350184: I tensorflow/core/platform/cpu_feature_guard.cc:142] This TensorFlow binary is optimized with oneAPI Deep Neural Network Library (oneDNN) to use the following CPU instructions in performance-critical operations:  SSE4.1 SSE4.2 AVX AVX2 FMA\n",
      "To enable them in other operations, rebuild TensorFlow with the appropriate compiler flags.\n",
      "2023-03-13 21:24:18.462730: I tensorflow/compiler/mlir/mlir_graph_optimization_pass.cc:185] None of the MLIR Optimization Passes are enabled (registered 2)\n"
     ]
    },
    {
     "name": "stdout",
     "output_type": "stream",
     "text": [
      "Restoring model weights from the end of the best epoch.\n",
      "Epoch 00025: early stopping\n",
      "Test MAE: 57.531\n",
      "Test RMSE: 73.883\n",
      "Test sMAPE: 135.034\n",
      "Test R Squared: -4.649\n",
      "{'mae': 57.53138066187049, 'rmse': 73.88334202868474, 'smape': 135.03362306458632, 'r2': -4.64852513611351}\n"
     ]
    },
    {
     "data": {
      "image/png": "[encoded data removed]",
      "text/plain": [
       "<Figure size 432x288 with 1 Axes>"
      ]
     },
     "metadata": {
      "needs_background": "light"
     },
     "output_type": "display_data"
    }
   ],
   "source": [
    "# Use the Function:\n",
    "if T != 0: \n",
    "    sequence=train_X.shape[1]\n",
    "    features=train_X.shape[2]\n",
    "else:\n",
    "    sequence=T\n",
    "    features=train_X.shape[1]\n",
    "\n",
    "\n",
    "calculate_mean_std(lstm_layers, nn_layers, sequence, features, dense_acivation, recurrent_cells, bidirectional, train_X, train_y, test_X, test_y, scalers['scaler_Labels'], monitor=True, plot=None, epochs=50, batch_size=16, n_tests=100, plot_samples=True, Municipality='Global')"
   ]
  },
  {
   "cell_type": "code",
   "execution_count": null,
   "id": "b14872bd",
   "metadata": {},
   "outputs": [],
   "source": []
  }
 ],
 "metadata": {
  "kernelspec": {
   "display_name": "Python [conda env:generalml_p37_gpu_v1]",
   "language": "python",
   "name": "conda-env-generalml_p37_gpu_v1-py"
  },
  "language_info": {
   "codemirror_mode": {
    "name": "ipython",
    "version": 3
   },
   "file_extension": ".py",
   "mimetype": "text/x-python",
   "name": "python",
   "nbconvert_exporter": "python",
   "pygments_lexer": "ipython3",
   "version": "3.7.12"
  }
 },
 "nbformat": 4,
 "nbformat_minor": 5
}
