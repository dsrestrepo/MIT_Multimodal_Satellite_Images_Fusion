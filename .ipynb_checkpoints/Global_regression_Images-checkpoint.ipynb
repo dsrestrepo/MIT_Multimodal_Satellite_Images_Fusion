{
 "cells": [
  {
   "cell_type": "markdown",
   "id": "a211621a",
   "metadata": {},
   "source": [
    "# Setup enviorment"
   ]
  },
  {
   "cell_type": "code",
   "execution_count": 1,
   "id": "a7df3850",
   "metadata": {},
   "outputs": [],
   "source": [
    "from Preprocessing.time_series_preprocessing import get_dengue_dataset, train_test_split, normalize_train_features, normalize_test_features, series_to_supervised, features_labels_set, reshape_tensor, preprocess_dataset_to_time_series\n",
    "\n",
    "from Models.LSTM import create_model, train_model\n",
    "import tensorflow as tf\n",
    "\n",
    "from Utils.test_lstm import evaluate, plot_predictions, calculate_mean_std\n",
    "\n",
    "import pandas as pd\n",
    "import os\n",
    "import numpy as np"
   ]
  },
  {
   "cell_type": "code",
   "execution_count": 2,
   "id": "f93bab54",
   "metadata": {},
   "outputs": [],
   "source": [
    "\"\"\" Read Dataset:\"\"\"\n",
    "\n",
    "embeddings = 'Embeddings/ResNet50V2_224_1024.csv'\n",
    "labels = '../Tabular_data/dengue_tabular.csv'\n",
    "\n",
    "# Get list of municipalities:\n",
    "Municipalities = list(pd.unique(pd.read_csv(embeddings)['Municipality Code']))\n",
    "\n",
    "\"\"\" Dataset Preprocessing:\"\"\"\n",
    "train_percentage = 80\n",
    "T=3\n",
    "autoregressive = False\n",
    "feature_range = (-1, 1)\n",
    "\n",
    "\"\"\" Model Parameters:\"\"\"\n",
    "lstm_layers=[1000, 500]\n",
    "nn_layers=[250, 120, 1]\n",
    "dense_acivation='relu'\n",
    "recurrent_cells='LSTM'\n",
    "bidirectional=False"
   ]
  },
  {
   "cell_type": "markdown",
   "id": "2e077775",
   "metadata": {},
   "source": [
    "## 1. Read Data"
   ]
  },
  {
   "cell_type": "code",
   "execution_count": 3,
   "id": "baf7f3c4",
   "metadata": {},
   "outputs": [
    {
     "name": "stdout",
     "output_type": "stream",
     "text": [
      "Obtaining dataframe for the city of 54001 - Cúcuta only...\n",
      "Obtaining dataframe for the city of 41001 - Neiva only...\n",
      "Obtaining dataframe for the city of 5001 - Medellín only...\n",
      "Obtaining dataframe for the city of 50001 - Villavicencio only...\n",
      "Obtaining dataframe for the city of 68001 - Bucaramanga only...\n",
      "Obtaining dataframe for the city of 8001 - Barranquilla only...\n",
      "Obtaining dataframe for the city of 23001 - Montería only...\n",
      "Obtaining dataframe for the city of 76001 - Cali only...\n",
      "Obtaining dataframe for the city of 73001 - Ibagué only...\n",
      "Obtaining dataframe for the city of 5360 - Itagüí only...\n"
     ]
    },
    {
     "data": {
      "text/plain": [
       "list"
      ]
     },
     "execution_count": 3,
     "metadata": {},
     "output_type": "execute_result"
    }
   ],
   "source": [
    "# Read dataset for top 5 municipalities\n",
    "dengue_df = [get_dengue_dataset(labels_path=labels, embeddings_path=embeddings, municipality=Municipality) for Municipality in Municipalities]\n",
    "type(dengue_df)"
   ]
  },
  {
   "cell_type": "markdown",
   "id": "da06fcc6",
   "metadata": {},
   "source": [
    "## 2. Preprocessing"
   ]
  },
  {
   "cell_type": "markdown",
   "id": "b3f901f1",
   "metadata": {},
   "source": [
    "### Train Test split"
   ]
  },
  {
   "cell_type": "code",
   "execution_count": 4,
   "id": "24f12ea9",
   "metadata": {},
   "outputs": [],
   "source": [
    "train_df = dengue_df[:int(len(dengue_df)*(train_percentage/100))]\n",
    "Municipalities_train = Municipalities[:int(len(dengue_df)*(train_percentage/100))]\n",
    "test_df = dengue_df[int(len(dengue_df)*(train_percentage/100)):]\n",
    "Municipalities_test = Municipalities[int(len(dengue_df)*(train_percentage/100)):]\n",
    "#test_df"
   ]
  },
  {
   "cell_type": "markdown",
   "id": "02a12ac9",
   "metadata": {},
   "source": [
    "### Normalize features"
   ]
  },
  {
   "cell_type": "code",
   "execution_count": 5,
   "id": "e73dbcd6",
   "metadata": {},
   "outputs": [],
   "source": [
    "# Merge:\n",
    "train_df = pd.concat(train_df, keys=Municipalities_train)\n",
    "test_df = pd.concat(test_df, keys=Municipalities_test)"
   ]
  },
  {
   "cell_type": "code",
   "execution_count": 6,
   "id": "71f257c4",
   "metadata": {},
   "outputs": [
    {
     "data": {
      "text/html": [
       "<div>\n",
       "<style scoped>\n",
       "    .dataframe tbody tr th:only-of-type {\n",
       "        vertical-align: middle;\n",
       "    }\n",
       "\n",
       "    .dataframe tbody tr th {\n",
       "        vertical-align: top;\n",
       "    }\n",
       "\n",
       "    .dataframe thead th {\n",
       "        text-align: right;\n",
       "    }\n",
       "</style>\n",
       "<table border=\"1\" class=\"dataframe\">\n",
       "  <thead>\n",
       "    <tr style=\"text-align: right;\">\n",
       "      <th></th>\n",
       "      <th></th>\n",
       "      <th>0</th>\n",
       "      <th>1</th>\n",
       "      <th>2</th>\n",
       "      <th>3</th>\n",
       "      <th>4</th>\n",
       "      <th>5</th>\n",
       "      <th>6</th>\n",
       "      <th>7</th>\n",
       "      <th>8</th>\n",
       "      <th>9</th>\n",
       "      <th>...</th>\n",
       "      <th>2039</th>\n",
       "      <th>2040</th>\n",
       "      <th>2041</th>\n",
       "      <th>2042</th>\n",
       "      <th>2043</th>\n",
       "      <th>2044</th>\n",
       "      <th>2045</th>\n",
       "      <th>2046</th>\n",
       "      <th>2047</th>\n",
       "      <th>Labels</th>\n",
       "    </tr>\n",
       "  </thead>\n",
       "  <tbody>\n",
       "    <tr>\n",
       "      <th rowspan=\"5\" valign=\"top\">41001</th>\n",
       "      <th>201546</th>\n",
       "      <td>-1.0</td>\n",
       "      <td>-1.0</td>\n",
       "      <td>-0.965792</td>\n",
       "      <td>-0.570709</td>\n",
       "      <td>-0.950769</td>\n",
       "      <td>-1.0</td>\n",
       "      <td>-1.0</td>\n",
       "      <td>-1.0</td>\n",
       "      <td>-1.0</td>\n",
       "      <td>-0.902422</td>\n",
       "      <td>...</td>\n",
       "      <td>-1.0</td>\n",
       "      <td>-0.900735</td>\n",
       "      <td>-0.809416</td>\n",
       "      <td>-1.0</td>\n",
       "      <td>-1.0</td>\n",
       "      <td>-0.5034</td>\n",
       "      <td>-1.0</td>\n",
       "      <td>-0.918507</td>\n",
       "      <td>-1.0</td>\n",
       "      <td>-0.861740</td>\n",
       "    </tr>\n",
       "    <tr>\n",
       "      <th>201547</th>\n",
       "      <td>-1.0</td>\n",
       "      <td>-1.0</td>\n",
       "      <td>-0.965792</td>\n",
       "      <td>-0.570709</td>\n",
       "      <td>-0.950769</td>\n",
       "      <td>-1.0</td>\n",
       "      <td>-1.0</td>\n",
       "      <td>-1.0</td>\n",
       "      <td>-1.0</td>\n",
       "      <td>-0.902422</td>\n",
       "      <td>...</td>\n",
       "      <td>-1.0</td>\n",
       "      <td>-0.900735</td>\n",
       "      <td>-0.809416</td>\n",
       "      <td>-1.0</td>\n",
       "      <td>-1.0</td>\n",
       "      <td>-0.5034</td>\n",
       "      <td>-1.0</td>\n",
       "      <td>-0.918507</td>\n",
       "      <td>-1.0</td>\n",
       "      <td>-0.854589</td>\n",
       "    </tr>\n",
       "    <tr>\n",
       "      <th>201548</th>\n",
       "      <td>-1.0</td>\n",
       "      <td>-1.0</td>\n",
       "      <td>-0.965792</td>\n",
       "      <td>-0.570709</td>\n",
       "      <td>-0.950769</td>\n",
       "      <td>-1.0</td>\n",
       "      <td>-1.0</td>\n",
       "      <td>-1.0</td>\n",
       "      <td>-1.0</td>\n",
       "      <td>-0.902422</td>\n",
       "      <td>...</td>\n",
       "      <td>-1.0</td>\n",
       "      <td>-0.900735</td>\n",
       "      <td>-0.809416</td>\n",
       "      <td>-1.0</td>\n",
       "      <td>-1.0</td>\n",
       "      <td>-0.5034</td>\n",
       "      <td>-1.0</td>\n",
       "      <td>-0.918507</td>\n",
       "      <td>-1.0</td>\n",
       "      <td>-0.856973</td>\n",
       "    </tr>\n",
       "    <tr>\n",
       "      <th>201549</th>\n",
       "      <td>-1.0</td>\n",
       "      <td>-1.0</td>\n",
       "      <td>-0.965792</td>\n",
       "      <td>-0.570709</td>\n",
       "      <td>-0.950769</td>\n",
       "      <td>-1.0</td>\n",
       "      <td>-1.0</td>\n",
       "      <td>-1.0</td>\n",
       "      <td>-1.0</td>\n",
       "      <td>-0.902422</td>\n",
       "      <td>...</td>\n",
       "      <td>-1.0</td>\n",
       "      <td>-0.900735</td>\n",
       "      <td>-0.809416</td>\n",
       "      <td>-1.0</td>\n",
       "      <td>-1.0</td>\n",
       "      <td>-0.5034</td>\n",
       "      <td>-1.0</td>\n",
       "      <td>-0.918507</td>\n",
       "      <td>-1.0</td>\n",
       "      <td>-0.856973</td>\n",
       "    </tr>\n",
       "    <tr>\n",
       "      <th>201550</th>\n",
       "      <td>-1.0</td>\n",
       "      <td>-1.0</td>\n",
       "      <td>-0.965792</td>\n",
       "      <td>-0.570709</td>\n",
       "      <td>-0.950769</td>\n",
       "      <td>-1.0</td>\n",
       "      <td>-1.0</td>\n",
       "      <td>-1.0</td>\n",
       "      <td>-1.0</td>\n",
       "      <td>-0.902422</td>\n",
       "      <td>...</td>\n",
       "      <td>-1.0</td>\n",
       "      <td>-0.900735</td>\n",
       "      <td>-0.809416</td>\n",
       "      <td>-1.0</td>\n",
       "      <td>-1.0</td>\n",
       "      <td>-0.5034</td>\n",
       "      <td>-1.0</td>\n",
       "      <td>-0.918507</td>\n",
       "      <td>-1.0</td>\n",
       "      <td>-0.823600</td>\n",
       "    </tr>\n",
       "  </tbody>\n",
       "</table>\n",
       "<p>5 rows × 2049 columns</p>\n",
       "</div>"
      ],
      "text/plain": [
       "                0    1         2         3         4    5    6    7    8  \\\n",
       "41001 201546 -1.0 -1.0 -0.965792 -0.570709 -0.950769 -1.0 -1.0 -1.0 -1.0   \n",
       "      201547 -1.0 -1.0 -0.965792 -0.570709 -0.950769 -1.0 -1.0 -1.0 -1.0   \n",
       "      201548 -1.0 -1.0 -0.965792 -0.570709 -0.950769 -1.0 -1.0 -1.0 -1.0   \n",
       "      201549 -1.0 -1.0 -0.965792 -0.570709 -0.950769 -1.0 -1.0 -1.0 -1.0   \n",
       "      201550 -1.0 -1.0 -0.965792 -0.570709 -0.950769 -1.0 -1.0 -1.0 -1.0   \n",
       "\n",
       "                     9  ...  2039      2040      2041  2042  2043    2044  \\\n",
       "41001 201546 -0.902422  ...  -1.0 -0.900735 -0.809416  -1.0  -1.0 -0.5034   \n",
       "      201547 -0.902422  ...  -1.0 -0.900735 -0.809416  -1.0  -1.0 -0.5034   \n",
       "      201548 -0.902422  ...  -1.0 -0.900735 -0.809416  -1.0  -1.0 -0.5034   \n",
       "      201549 -0.902422  ...  -1.0 -0.900735 -0.809416  -1.0  -1.0 -0.5034   \n",
       "      201550 -0.902422  ...  -1.0 -0.900735 -0.809416  -1.0  -1.0 -0.5034   \n",
       "\n",
       "              2045      2046  2047    Labels  \n",
       "41001 201546  -1.0 -0.918507  -1.0 -0.861740  \n",
       "      201547  -1.0 -0.918507  -1.0 -0.854589  \n",
       "      201548  -1.0 -0.918507  -1.0 -0.856973  \n",
       "      201549  -1.0 -0.918507  -1.0 -0.856973  \n",
       "      201550  -1.0 -0.918507  -1.0 -0.823600  \n",
       "\n",
       "[5 rows x 2049 columns]"
      ]
     },
     "execution_count": 6,
     "metadata": {},
     "output_type": "execute_result"
    }
   ],
   "source": [
    "# Scale train:\n",
    "train_df, scalers = normalize_train_features(train_df, feature_range=feature_range)\n",
    "train_df = [train_df[train_df.index.get_level_values(0) == municipality] for municipality in Municipalities_train]\n",
    "\n",
    "#print(f'The scalers are: {scalers}')\n",
    "\n",
    "train_df[1].head()"
   ]
  },
  {
   "cell_type": "code",
   "execution_count": 7,
   "id": "e1fbcd8a",
   "metadata": {},
   "outputs": [
    {
     "data": {
      "text/html": [
       "<div>\n",
       "<style scoped>\n",
       "    .dataframe tbody tr th:only-of-type {\n",
       "        vertical-align: middle;\n",
       "    }\n",
       "\n",
       "    .dataframe tbody tr th {\n",
       "        vertical-align: top;\n",
       "    }\n",
       "\n",
       "    .dataframe thead th {\n",
       "        text-align: right;\n",
       "    }\n",
       "</style>\n",
       "<table border=\"1\" class=\"dataframe\">\n",
       "  <thead>\n",
       "    <tr style=\"text-align: right;\">\n",
       "      <th></th>\n",
       "      <th></th>\n",
       "      <th>0</th>\n",
       "      <th>1</th>\n",
       "      <th>2</th>\n",
       "      <th>3</th>\n",
       "      <th>4</th>\n",
       "      <th>5</th>\n",
       "      <th>6</th>\n",
       "      <th>7</th>\n",
       "      <th>8</th>\n",
       "      <th>9</th>\n",
       "      <th>...</th>\n",
       "      <th>2039</th>\n",
       "      <th>2040</th>\n",
       "      <th>2041</th>\n",
       "      <th>2042</th>\n",
       "      <th>2043</th>\n",
       "      <th>2044</th>\n",
       "      <th>2045</th>\n",
       "      <th>2046</th>\n",
       "      <th>2047</th>\n",
       "      <th>Labels</th>\n",
       "    </tr>\n",
       "  </thead>\n",
       "  <tbody>\n",
       "    <tr>\n",
       "      <th rowspan=\"5\" valign=\"top\">5360</th>\n",
       "      <th>201546</th>\n",
       "      <td>-1.0</td>\n",
       "      <td>-1.000000</td>\n",
       "      <td>-0.965792</td>\n",
       "      <td>-0.570709</td>\n",
       "      <td>-0.950769</td>\n",
       "      <td>-1.0</td>\n",
       "      <td>-1.000000</td>\n",
       "      <td>-1.0</td>\n",
       "      <td>-1.0</td>\n",
       "      <td>-0.902422</td>\n",
       "      <td>...</td>\n",
       "      <td>-1.00000</td>\n",
       "      <td>-0.900735</td>\n",
       "      <td>-0.809416</td>\n",
       "      <td>-1.0</td>\n",
       "      <td>-1.000000</td>\n",
       "      <td>-0.5034</td>\n",
       "      <td>-1.0</td>\n",
       "      <td>-0.918507</td>\n",
       "      <td>-1.0</td>\n",
       "      <td>-0.990465</td>\n",
       "    </tr>\n",
       "    <tr>\n",
       "      <th>201547</th>\n",
       "      <td>-1.0</td>\n",
       "      <td>-1.000000</td>\n",
       "      <td>-0.420975</td>\n",
       "      <td>-1.000000</td>\n",
       "      <td>-1.000000</td>\n",
       "      <td>-1.0</td>\n",
       "      <td>-1.000000</td>\n",
       "      <td>-1.0</td>\n",
       "      <td>-1.0</td>\n",
       "      <td>-1.000000</td>\n",
       "      <td>...</td>\n",
       "      <td>-0.86945</td>\n",
       "      <td>-0.774895</td>\n",
       "      <td>-1.000000</td>\n",
       "      <td>-1.0</td>\n",
       "      <td>-0.918301</td>\n",
       "      <td>-1.0000</td>\n",
       "      <td>-1.0</td>\n",
       "      <td>-0.848083</td>\n",
       "      <td>-1.0</td>\n",
       "      <td>-0.969011</td>\n",
       "    </tr>\n",
       "    <tr>\n",
       "      <th>201548</th>\n",
       "      <td>-1.0</td>\n",
       "      <td>-1.000000</td>\n",
       "      <td>-0.965792</td>\n",
       "      <td>-0.570709</td>\n",
       "      <td>-0.950769</td>\n",
       "      <td>-1.0</td>\n",
       "      <td>-1.000000</td>\n",
       "      <td>-1.0</td>\n",
       "      <td>-1.0</td>\n",
       "      <td>-0.902422</td>\n",
       "      <td>...</td>\n",
       "      <td>-1.00000</td>\n",
       "      <td>-0.900735</td>\n",
       "      <td>-0.809416</td>\n",
       "      <td>-1.0</td>\n",
       "      <td>-1.000000</td>\n",
       "      <td>-0.5034</td>\n",
       "      <td>-1.0</td>\n",
       "      <td>-0.918507</td>\n",
       "      <td>-1.0</td>\n",
       "      <td>-0.995232</td>\n",
       "    </tr>\n",
       "    <tr>\n",
       "      <th>201549</th>\n",
       "      <td>-1.0</td>\n",
       "      <td>-0.988155</td>\n",
       "      <td>-0.337508</td>\n",
       "      <td>-1.000000</td>\n",
       "      <td>-0.844715</td>\n",
       "      <td>-1.0</td>\n",
       "      <td>-0.998583</td>\n",
       "      <td>-1.0</td>\n",
       "      <td>-1.0</td>\n",
       "      <td>-0.662333</td>\n",
       "      <td>...</td>\n",
       "      <td>-1.00000</td>\n",
       "      <td>-0.762259</td>\n",
       "      <td>-1.000000</td>\n",
       "      <td>-1.0</td>\n",
       "      <td>-0.977865</td>\n",
       "      <td>-1.0000</td>\n",
       "      <td>-1.0</td>\n",
       "      <td>-0.879277</td>\n",
       "      <td>-1.0</td>\n",
       "      <td>-0.997616</td>\n",
       "    </tr>\n",
       "    <tr>\n",
       "      <th>201550</th>\n",
       "      <td>-1.0</td>\n",
       "      <td>-1.000000</td>\n",
       "      <td>-0.965792</td>\n",
       "      <td>-0.570709</td>\n",
       "      <td>-0.950769</td>\n",
       "      <td>-1.0</td>\n",
       "      <td>-1.000000</td>\n",
       "      <td>-1.0</td>\n",
       "      <td>-1.0</td>\n",
       "      <td>-0.902422</td>\n",
       "      <td>...</td>\n",
       "      <td>-1.00000</td>\n",
       "      <td>-0.900735</td>\n",
       "      <td>-0.809416</td>\n",
       "      <td>-1.0</td>\n",
       "      <td>-1.000000</td>\n",
       "      <td>-0.5034</td>\n",
       "      <td>-1.0</td>\n",
       "      <td>-0.918507</td>\n",
       "      <td>-1.0</td>\n",
       "      <td>-0.971395</td>\n",
       "    </tr>\n",
       "  </tbody>\n",
       "</table>\n",
       "<p>5 rows × 2049 columns</p>\n",
       "</div>"
      ],
      "text/plain": [
       "               0         1         2         3         4    5         6    7  \\\n",
       "5360 201546 -1.0 -1.000000 -0.965792 -0.570709 -0.950769 -1.0 -1.000000 -1.0   \n",
       "     201547 -1.0 -1.000000 -0.420975 -1.000000 -1.000000 -1.0 -1.000000 -1.0   \n",
       "     201548 -1.0 -1.000000 -0.965792 -0.570709 -0.950769 -1.0 -1.000000 -1.0   \n",
       "     201549 -1.0 -0.988155 -0.337508 -1.000000 -0.844715 -1.0 -0.998583 -1.0   \n",
       "     201550 -1.0 -1.000000 -0.965792 -0.570709 -0.950769 -1.0 -1.000000 -1.0   \n",
       "\n",
       "               8         9  ...     2039      2040      2041  2042      2043  \\\n",
       "5360 201546 -1.0 -0.902422  ... -1.00000 -0.900735 -0.809416  -1.0 -1.000000   \n",
       "     201547 -1.0 -1.000000  ... -0.86945 -0.774895 -1.000000  -1.0 -0.918301   \n",
       "     201548 -1.0 -0.902422  ... -1.00000 -0.900735 -0.809416  -1.0 -1.000000   \n",
       "     201549 -1.0 -0.662333  ... -1.00000 -0.762259 -1.000000  -1.0 -0.977865   \n",
       "     201550 -1.0 -0.902422  ... -1.00000 -0.900735 -0.809416  -1.0 -1.000000   \n",
       "\n",
       "               2044  2045      2046  2047    Labels  \n",
       "5360 201546 -0.5034  -1.0 -0.918507  -1.0 -0.990465  \n",
       "     201547 -1.0000  -1.0 -0.848083  -1.0 -0.969011  \n",
       "     201548 -0.5034  -1.0 -0.918507  -1.0 -0.995232  \n",
       "     201549 -1.0000  -1.0 -0.879277  -1.0 -0.997616  \n",
       "     201550 -0.5034  -1.0 -0.918507  -1.0 -0.971395  \n",
       "\n",
       "[5 rows x 2049 columns]"
      ]
     },
     "execution_count": 7,
     "metadata": {},
     "output_type": "execute_result"
    }
   ],
   "source": [
    "# Scale test:\n",
    "test_df = normalize_test_features(test_df, scalers=scalers)\n",
    "test_df = [test_df[test_df.index.get_level_values(0) == municipality] for municipality in Municipalities_test]\n",
    "\n",
    "test_df[1].head()"
   ]
  },
  {
   "cell_type": "markdown",
   "id": "78c25f7d",
   "metadata": {},
   "source": [
    "### Prepare data for time series supervised learning (function to create sliding window)"
   ]
  },
  {
   "cell_type": "code",
   "execution_count": 8,
   "id": "888dad22",
   "metadata": {},
   "outputs": [
    {
     "data": {
      "text/plain": [
       "(161, 6145)"
      ]
     },
     "execution_count": 8,
     "metadata": {},
     "output_type": "execute_result"
    }
   ],
   "source": [
    "# frame as supervised learning\n",
    "train = [series_to_supervised(df, n_in=T, autoregressive=autoregressive) for df in train_df]\n",
    "test = [series_to_supervised(df, n_in=T, autoregressive=autoregressive) for df in test_df]\n",
    "\n",
    "train[1].shape"
   ]
  },
  {
   "cell_type": "markdown",
   "id": "62e4d2cf",
   "metadata": {},
   "source": [
    "### Merge train data"
   ]
  },
  {
   "cell_type": "code",
   "execution_count": 9,
   "id": "98d2cfe2",
   "metadata": {},
   "outputs": [],
   "source": [
    "# Merge:\n",
    "train = pd.concat(train, keys=Municipalities_train)\n",
    "test = pd.concat(test, keys=Municipalities_test)"
   ]
  },
  {
   "cell_type": "markdown",
   "id": "dc9fb205",
   "metadata": {},
   "source": [
    "### Features and Labels Set"
   ]
  },
  {
   "cell_type": "code",
   "execution_count": 10,
   "id": "26d0cc66",
   "metadata": {},
   "outputs": [
    {
     "name": "stdout",
     "output_type": "stream",
     "text": [
      "Train:\n",
      "The shape of the features is (1288, 6144)\n",
      "The shape of the labels is (1288, 1)\n",
      "Test:\n",
      "The shape of the features is (322, 6144)\n",
      "The shape of the labels is (322, 1)\n"
     ]
    }
   ],
   "source": [
    "# Train features and labels set\n",
    "print('Train:')\n",
    "train_X, train_y, n_features = features_labels_set(timeseries_data=train, original_df=dengue_df[0], autoregressive=autoregressive)\n",
    "\n",
    "# Test features and labels set\n",
    "print('Test:')\n",
    "test_X, test_y, n_features = features_labels_set(timeseries_data=test, original_df=dengue_df[0], autoregressive=autoregressive)"
   ]
  },
  {
   "cell_type": "code",
   "execution_count": 11,
   "id": "f44b7810",
   "metadata": {},
   "outputs": [
    {
     "name": "stdout",
     "output_type": "stream",
     "text": [
      "The initial shapes are:\n",
      "The train shape is (1288, 6144)\n",
      "The test shape is (322, 6144)\n",
      "-----------------------\n",
      "The Final shapes are:\n",
      "The train shape is (1288, 3, 2048)\n",
      "The test shape is (322, 3, 2048)\n"
     ]
    }
   ],
   "source": [
    "# reshape input to be 3D [samples, timesteps, features]\n",
    "train_X, test_X = reshape_tensor(train_X, test_X, n_features, T, autoregressive)"
   ]
  },
  {
   "cell_type": "markdown",
   "id": "0b11b2bf",
   "metadata": {},
   "source": [
    "# 2. Model"
   ]
  },
  {
   "cell_type": "code",
   "execution_count": null,
   "id": "52a01114",
   "metadata": {},
   "outputs": [
    {
     "data": {
      "image/png": "[encoded data removed]",
      "text/plain": [
       "<Figure size 432x288 with 1 Axes>"
      ]
     },
     "metadata": {
      "needs_background": "light"
     },
     "output_type": "display_data"
    },
    {
     "name": "stderr",
     "output_type": "stream",
     "text": [
      "2023-03-05 18:49:21.038940: W tensorflow/stream_executor/platform/default/dso_loader.cc:64] Could not load dynamic library 'libcuda.so.1'; dlerror: libcuda.so.1: cannot open shared object file: No such file or directory\n",
      "2023-03-05 18:49:21.039029: W tensorflow/stream_executor/cuda/cuda_driver.cc:269] failed call to cuInit: UNKNOWN ERROR (303)\n",
      "2023-03-05 18:49:21.039077: I tensorflow/stream_executor/cuda/cuda_diagnostics.cc:156] kernel driver does not appear to be running on this host (9f7bdfccc75e): /proc/driver/nvidia/version does not exist\n",
      "2023-03-05 18:49:21.039849: I tensorflow/core/platform/cpu_feature_guard.cc:142] This TensorFlow binary is optimized with oneAPI Deep Neural Network Library (oneDNN) to use the following CPU instructions in performance-critical operations:  SSE4.1 SSE4.2 AVX AVX2 FMA\n",
      "To enable them in other operations, rebuild TensorFlow with the appropriate compiler flags.\n",
      "2023-03-05 18:49:24.140744: I tensorflow/compiler/mlir/mlir_graph_optimization_pass.cc:185] None of the MLIR Optimization Passes are enabled (registered 2)\n"
     ]
    },
    {
     "name": "stdout",
     "output_type": "stream",
     "text": [
      "Restoring model weights from the end of the best epoch.\n",
      "Epoch 00022: early stopping\n",
      "Test MAE: 19.045\n",
      "Test sMAPE: 96.427\n",
      "Test RMSE: 32.890\n",
      "{'mae': 19.045159396177493, 'smape': 96.42710530652408, 'rmse': 32.89019399513412}\n"
     ]
    },
    {
     "data": {
      "image/png": "[encoded data removed]",
      "text/plain": [
       "<Figure size 432x288 with 1 Axes>"
      ]
     },
     "metadata": {
      "needs_background": "light"
     },
     "output_type": "display_data"
    }
   ],
   "source": [
    "# Use the Function:\n",
    "sequence=train_X.shape[1]\n",
    "features=train_X.shape[2]\n",
    "\n",
    "calculate_mean_std(lstm_layers, nn_layers, sequence, features, dense_acivation, recurrent_cells, bidirectional, train_X, train_y, test_X, test_y, scalers['scaler_Labels'], monitor=True, plot=False, epochs=50, batch_size=16, n_tests=100, plot_samples=True, Municipality='Global')\n"
   ]
  },
  {
   "cell_type": "code",
   "execution_count": null,
   "id": "a271e797",
   "metadata": {},
   "outputs": [],
   "source": []
  }
 ],
 "metadata": {
  "kernelspec": {
   "display_name": "Python [conda env:generalml_p37_gpu_v1]",
   "language": "python",
   "name": "conda-env-generalml_p37_gpu_v1-py"
  },
  "language_info": {
   "codemirror_mode": {
    "name": "ipython",
    "version": 3
   },
   "file_extension": ".py",
   "mimetype": "text/x-python",
   "name": "python",
   "nbconvert_exporter": "python",
   "pygments_lexer": "ipython3",
   "version": "3.7.12"
  }
 },
 "nbformat": 4,
 "nbformat_minor": 5
}
