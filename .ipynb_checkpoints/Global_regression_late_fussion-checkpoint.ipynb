{
 "cells": [
  {
   "cell_type": "markdown",
   "id": "490dc1fd",
   "metadata": {},
   "source": [
    "# Setup enviorment"
   ]
  },
  {
   "cell_type": "code",
   "execution_count": 1,
   "id": "8842af8b",
   "metadata": {},
   "outputs": [],
   "source": [
    "from Preprocessing.time_series_preprocessing import get_dengue_dataset, train_test_split, normalize_train_features, normalize_test_features, series_to_supervised, features_labels_set, reshape_tensor, preprocess_dataset_to_time_series\n",
    "\n",
    "from Models.LSTM import create_model, train_model\n",
    "import tensorflow as tf\n",
    "\n",
    "from Utils.test_lstm import evaluate, plot_predictions, calculate_mean_std\n",
    "\n",
    "import pandas as pd\n",
    "import os\n",
    "import numpy as np"
   ]
  },
  {
   "cell_type": "code",
   "execution_count": 2,
   "id": "bb19979e",
   "metadata": {},
   "outputs": [],
   "source": [
    "\"\"\" Read Dataset:\"\"\"\n",
    "\n",
    "embeddings = 'Embeddings/vit_224_1024.csv'\n",
    "embeddings_dir = 'Embeddings/'\n",
    "\n",
    "labels = '../Tabular_data/dengue_tabular.csv'\n",
    "\n",
    "# Get list of municipalities:\n",
    "Municipalities = list(pd.unique(pd.read_csv('Embeddings/ResNet50V2_224_1024.csv')['Municipality Code']))\n",
    "\n",
    "\"\"\" Dataset Preprocessing:\"\"\"\n",
    "train_percentage = 80\n",
    "T=3\n",
    "autoregressive = True\n",
    "feature_range = (-1, 1)\n",
    "\n",
    "\"\"\" Model Parameters:\"\"\"\n",
    "lstm_layers=[1000, 500]\n",
    "nn_layers=[250, 120, 1]\n",
    "dense_acivation='relu'\n",
    "recurrent_cells='LSTM'\n",
    "bidirectional=False"
   ]
  },
  {
   "cell_type": "markdown",
   "id": "a0273a6f",
   "metadata": {},
   "source": [
    "## 1. Read Data"
   ]
  },
  {
   "cell_type": "code",
   "execution_count": 3,
   "id": "6aee4a05",
   "metadata": {},
   "outputs": [
    {
     "name": "stdout",
     "output_type": "stream",
     "text": [
      "Obtaining dataframe for the city of 54001 - Cúcuta only...\n",
      "Obtaining dataframe for the city of 41001 - Neiva only...\n",
      "Obtaining dataframe for the city of 5001 - Medellín only...\n",
      "Obtaining dataframe for the city of 50001 - Villavicencio only...\n",
      "Obtaining dataframe for the city of 68001 - Bucaramanga only...\n",
      "Obtaining dataframe for the city of 8001 - Barranquilla only...\n",
      "Obtaining dataframe for the city of 23001 - Montería only...\n",
      "Obtaining dataframe for the city of 76001 - Cali only...\n",
      "Obtaining dataframe for the city of 73001 - Ibagué only...\n",
      "Obtaining dataframe for the city of 5360 - Itagüí only...\n"
     ]
    },
    {
     "data": {
      "text/plain": [
       "list"
      ]
     },
     "execution_count": 3,
     "metadata": {},
     "output_type": "execute_result"
    }
   ],
   "source": [
    "# Read dataset for top 5 municipalities\n",
    "dengue_df = [get_dengue_dataset(labels_path=labels, embeddings_path=embeddings, municipality=Municipality) for Municipality in Municipalities]\n",
    "type(dengue_df)"
   ]
  },
  {
   "cell_type": "markdown",
   "id": "c6c408fc",
   "metadata": {},
   "source": [
    "## 2. Preprocessing"
   ]
  },
  {
   "cell_type": "markdown",
   "id": "2522ce23",
   "metadata": {},
   "source": [
    "### Train Test split"
   ]
  },
  {
   "cell_type": "code",
   "execution_count": 4,
   "id": "abaf2c36",
   "metadata": {},
   "outputs": [],
   "source": [
    "train_df = dengue_df[:int(len(dengue_df)*(train_percentage/100))]\n",
    "Municipalities_train = Municipalities[:int(len(dengue_df)*(train_percentage/100))]\n",
    "test_df = dengue_df[int(len(dengue_df)*(train_percentage/100)):]\n",
    "Municipalities_test = Municipalities[int(len(dengue_df)*(train_percentage/100)):]\n",
    "#test_df"
   ]
  },
  {
   "cell_type": "markdown",
   "id": "daea3a05",
   "metadata": {},
   "source": [
    "### Normalize features"
   ]
  },
  {
   "cell_type": "code",
   "execution_count": 5,
   "id": "8d45d875",
   "metadata": {},
   "outputs": [],
   "source": [
    "# Merge:\n",
    "train_df = pd.concat(train_df, keys=Municipalities_train)\n",
    "test_df = pd.concat(test_df, keys=Municipalities_test)"
   ]
  },
  {
   "cell_type": "code",
   "execution_count": 6,
   "id": "5002c34c",
   "metadata": {},
   "outputs": [
    {
     "data": {
      "text/html": [
       "<div>\n",
       "<style scoped>\n",
       "    .dataframe tbody tr th:only-of-type {\n",
       "        vertical-align: middle;\n",
       "    }\n",
       "\n",
       "    .dataframe tbody tr th {\n",
       "        vertical-align: top;\n",
       "    }\n",
       "\n",
       "    .dataframe thead th {\n",
       "        text-align: right;\n",
       "    }\n",
       "</style>\n",
       "<table border=\"1\" class=\"dataframe\">\n",
       "  <thead>\n",
       "    <tr style=\"text-align: right;\">\n",
       "      <th></th>\n",
       "      <th></th>\n",
       "      <th>0</th>\n",
       "      <th>1</th>\n",
       "      <th>2</th>\n",
       "      <th>3</th>\n",
       "      <th>4</th>\n",
       "      <th>5</th>\n",
       "      <th>6</th>\n",
       "      <th>7</th>\n",
       "      <th>8</th>\n",
       "      <th>9</th>\n",
       "      <th>...</th>\n",
       "      <th>759</th>\n",
       "      <th>760</th>\n",
       "      <th>761</th>\n",
       "      <th>762</th>\n",
       "      <th>763</th>\n",
       "      <th>764</th>\n",
       "      <th>765</th>\n",
       "      <th>766</th>\n",
       "      <th>767</th>\n",
       "      <th>Labels</th>\n",
       "    </tr>\n",
       "  </thead>\n",
       "  <tbody>\n",
       "    <tr>\n",
       "      <th rowspan=\"5\" valign=\"top\">41001</th>\n",
       "      <th>201545</th>\n",
       "      <td>0.592657</td>\n",
       "      <td>-0.041825</td>\n",
       "      <td>-0.059889</td>\n",
       "      <td>-0.038526</td>\n",
       "      <td>-0.306822</td>\n",
       "      <td>0.033433</td>\n",
       "      <td>-0.093779</td>\n",
       "      <td>0.015505</td>\n",
       "      <td>0.614</td>\n",
       "      <td>-0.552001</td>\n",
       "      <td>...</td>\n",
       "      <td>-0.805507</td>\n",
       "      <td>0.21285</td>\n",
       "      <td>0.738938</td>\n",
       "      <td>0.237695</td>\n",
       "      <td>0.577764</td>\n",
       "      <td>0.634531</td>\n",
       "      <td>-0.514114</td>\n",
       "      <td>0.107294</td>\n",
       "      <td>0.014199</td>\n",
       "      <td>-0.899881</td>\n",
       "    </tr>\n",
       "    <tr>\n",
       "      <th>201546</th>\n",
       "      <td>0.592657</td>\n",
       "      <td>-0.041825</td>\n",
       "      <td>-0.059889</td>\n",
       "      <td>-0.038526</td>\n",
       "      <td>-0.306822</td>\n",
       "      <td>0.033433</td>\n",
       "      <td>-0.093779</td>\n",
       "      <td>0.015505</td>\n",
       "      <td>0.614</td>\n",
       "      <td>-0.552001</td>\n",
       "      <td>...</td>\n",
       "      <td>-0.805507</td>\n",
       "      <td>0.21285</td>\n",
       "      <td>0.738938</td>\n",
       "      <td>0.237695</td>\n",
       "      <td>0.577764</td>\n",
       "      <td>0.634531</td>\n",
       "      <td>-0.514114</td>\n",
       "      <td>0.107294</td>\n",
       "      <td>0.014199</td>\n",
       "      <td>-0.861740</td>\n",
       "    </tr>\n",
       "    <tr>\n",
       "      <th>201547</th>\n",
       "      <td>0.592657</td>\n",
       "      <td>-0.041825</td>\n",
       "      <td>-0.059889</td>\n",
       "      <td>-0.038526</td>\n",
       "      <td>-0.306822</td>\n",
       "      <td>0.033433</td>\n",
       "      <td>-0.093779</td>\n",
       "      <td>0.015505</td>\n",
       "      <td>0.614</td>\n",
       "      <td>-0.552001</td>\n",
       "      <td>...</td>\n",
       "      <td>-0.805507</td>\n",
       "      <td>0.21285</td>\n",
       "      <td>0.738938</td>\n",
       "      <td>0.237695</td>\n",
       "      <td>0.577764</td>\n",
       "      <td>0.634531</td>\n",
       "      <td>-0.514114</td>\n",
       "      <td>0.107294</td>\n",
       "      <td>0.014199</td>\n",
       "      <td>-0.854589</td>\n",
       "    </tr>\n",
       "    <tr>\n",
       "      <th>201548</th>\n",
       "      <td>0.592657</td>\n",
       "      <td>-0.041825</td>\n",
       "      <td>-0.059889</td>\n",
       "      <td>-0.038526</td>\n",
       "      <td>-0.306822</td>\n",
       "      <td>0.033433</td>\n",
       "      <td>-0.093779</td>\n",
       "      <td>0.015505</td>\n",
       "      <td>0.614</td>\n",
       "      <td>-0.552001</td>\n",
       "      <td>...</td>\n",
       "      <td>-0.805507</td>\n",
       "      <td>0.21285</td>\n",
       "      <td>0.738938</td>\n",
       "      <td>0.237695</td>\n",
       "      <td>0.577764</td>\n",
       "      <td>0.634531</td>\n",
       "      <td>-0.514114</td>\n",
       "      <td>0.107294</td>\n",
       "      <td>0.014199</td>\n",
       "      <td>-0.856973</td>\n",
       "    </tr>\n",
       "    <tr>\n",
       "      <th>201549</th>\n",
       "      <td>0.592657</td>\n",
       "      <td>-0.041825</td>\n",
       "      <td>-0.059889</td>\n",
       "      <td>-0.038526</td>\n",
       "      <td>-0.306822</td>\n",
       "      <td>0.033433</td>\n",
       "      <td>-0.093779</td>\n",
       "      <td>0.015505</td>\n",
       "      <td>0.614</td>\n",
       "      <td>-0.552001</td>\n",
       "      <td>...</td>\n",
       "      <td>-0.805507</td>\n",
       "      <td>0.21285</td>\n",
       "      <td>0.738938</td>\n",
       "      <td>0.237695</td>\n",
       "      <td>0.577764</td>\n",
       "      <td>0.634531</td>\n",
       "      <td>-0.514114</td>\n",
       "      <td>0.107294</td>\n",
       "      <td>0.014199</td>\n",
       "      <td>-0.856973</td>\n",
       "    </tr>\n",
       "  </tbody>\n",
       "</table>\n",
       "<p>5 rows × 769 columns</p>\n",
       "</div>"
      ],
      "text/plain": [
       "                     0         1         2         3         4         5  \\\n",
       "41001 201545  0.592657 -0.041825 -0.059889 -0.038526 -0.306822  0.033433   \n",
       "      201546  0.592657 -0.041825 -0.059889 -0.038526 -0.306822  0.033433   \n",
       "      201547  0.592657 -0.041825 -0.059889 -0.038526 -0.306822  0.033433   \n",
       "      201548  0.592657 -0.041825 -0.059889 -0.038526 -0.306822  0.033433   \n",
       "      201549  0.592657 -0.041825 -0.059889 -0.038526 -0.306822  0.033433   \n",
       "\n",
       "                     6         7      8         9  ...       759      760  \\\n",
       "41001 201545 -0.093779  0.015505  0.614 -0.552001  ... -0.805507  0.21285   \n",
       "      201546 -0.093779  0.015505  0.614 -0.552001  ... -0.805507  0.21285   \n",
       "      201547 -0.093779  0.015505  0.614 -0.552001  ... -0.805507  0.21285   \n",
       "      201548 -0.093779  0.015505  0.614 -0.552001  ... -0.805507  0.21285   \n",
       "      201549 -0.093779  0.015505  0.614 -0.552001  ... -0.805507  0.21285   \n",
       "\n",
       "                   761       762       763       764       765       766  \\\n",
       "41001 201545  0.738938  0.237695  0.577764  0.634531 -0.514114  0.107294   \n",
       "      201546  0.738938  0.237695  0.577764  0.634531 -0.514114  0.107294   \n",
       "      201547  0.738938  0.237695  0.577764  0.634531 -0.514114  0.107294   \n",
       "      201548  0.738938  0.237695  0.577764  0.634531 -0.514114  0.107294   \n",
       "      201549  0.738938  0.237695  0.577764  0.634531 -0.514114  0.107294   \n",
       "\n",
       "                   767    Labels  \n",
       "41001 201545  0.014199 -0.899881  \n",
       "      201546  0.014199 -0.861740  \n",
       "      201547  0.014199 -0.854589  \n",
       "      201548  0.014199 -0.856973  \n",
       "      201549  0.014199 -0.856973  \n",
       "\n",
       "[5 rows x 769 columns]"
      ]
     },
     "execution_count": 6,
     "metadata": {},
     "output_type": "execute_result"
    }
   ],
   "source": [
    "# Scale train:\n",
    "train_df, scalers = normalize_train_features(train_df, feature_range=feature_range)\n",
    "train_df = [train_df[train_df.index.get_level_values(0) == municipality] for municipality in Municipalities_train]\n",
    "\n",
    "#print(f'The scalers are: {scalers}')\n",
    "\n",
    "train_df[1].head()"
   ]
  },
  {
   "cell_type": "code",
   "execution_count": 7,
   "id": "5907c519",
   "metadata": {},
   "outputs": [
    {
     "data": {
      "text/html": [
       "<div>\n",
       "<style scoped>\n",
       "    .dataframe tbody tr th:only-of-type {\n",
       "        vertical-align: middle;\n",
       "    }\n",
       "\n",
       "    .dataframe tbody tr th {\n",
       "        vertical-align: top;\n",
       "    }\n",
       "\n",
       "    .dataframe thead th {\n",
       "        text-align: right;\n",
       "    }\n",
       "</style>\n",
       "<table border=\"1\" class=\"dataframe\">\n",
       "  <thead>\n",
       "    <tr style=\"text-align: right;\">\n",
       "      <th></th>\n",
       "      <th></th>\n",
       "      <th>0</th>\n",
       "      <th>1</th>\n",
       "      <th>2</th>\n",
       "      <th>3</th>\n",
       "      <th>4</th>\n",
       "      <th>5</th>\n",
       "      <th>6</th>\n",
       "      <th>7</th>\n",
       "      <th>8</th>\n",
       "      <th>9</th>\n",
       "      <th>...</th>\n",
       "      <th>759</th>\n",
       "      <th>760</th>\n",
       "      <th>761</th>\n",
       "      <th>762</th>\n",
       "      <th>763</th>\n",
       "      <th>764</th>\n",
       "      <th>765</th>\n",
       "      <th>766</th>\n",
       "      <th>767</th>\n",
       "      <th>Labels</th>\n",
       "    </tr>\n",
       "  </thead>\n",
       "  <tbody>\n",
       "    <tr>\n",
       "      <th rowspan=\"5\" valign=\"top\">5360</th>\n",
       "      <th>201545</th>\n",
       "      <td>0.592657</td>\n",
       "      <td>-0.041825</td>\n",
       "      <td>-0.059889</td>\n",
       "      <td>-0.038526</td>\n",
       "      <td>-0.306822</td>\n",
       "      <td>0.033433</td>\n",
       "      <td>-0.093779</td>\n",
       "      <td>0.015505</td>\n",
       "      <td>0.614000</td>\n",
       "      <td>-0.552001</td>\n",
       "      <td>...</td>\n",
       "      <td>-0.805507</td>\n",
       "      <td>0.212850</td>\n",
       "      <td>0.738938</td>\n",
       "      <td>0.237695</td>\n",
       "      <td>0.577764</td>\n",
       "      <td>0.634531</td>\n",
       "      <td>-0.514114</td>\n",
       "      <td>0.107294</td>\n",
       "      <td>0.014199</td>\n",
       "      <td>-0.985697</td>\n",
       "    </tr>\n",
       "    <tr>\n",
       "      <th>201546</th>\n",
       "      <td>0.592657</td>\n",
       "      <td>-0.041825</td>\n",
       "      <td>-0.059889</td>\n",
       "      <td>-0.038526</td>\n",
       "      <td>-0.306822</td>\n",
       "      <td>0.033433</td>\n",
       "      <td>-0.093779</td>\n",
       "      <td>0.015505</td>\n",
       "      <td>0.614000</td>\n",
       "      <td>-0.552001</td>\n",
       "      <td>...</td>\n",
       "      <td>-0.805507</td>\n",
       "      <td>0.212850</td>\n",
       "      <td>0.738938</td>\n",
       "      <td>0.237695</td>\n",
       "      <td>0.577764</td>\n",
       "      <td>0.634531</td>\n",
       "      <td>-0.514114</td>\n",
       "      <td>0.107294</td>\n",
       "      <td>0.014199</td>\n",
       "      <td>-0.990465</td>\n",
       "    </tr>\n",
       "    <tr>\n",
       "      <th>201547</th>\n",
       "      <td>-0.320510</td>\n",
       "      <td>0.119825</td>\n",
       "      <td>0.137270</td>\n",
       "      <td>0.216795</td>\n",
       "      <td>-0.476022</td>\n",
       "      <td>0.158546</td>\n",
       "      <td>-0.570430</td>\n",
       "      <td>-0.044212</td>\n",
       "      <td>0.344147</td>\n",
       "      <td>-0.219893</td>\n",
       "      <td>...</td>\n",
       "      <td>-0.319999</td>\n",
       "      <td>0.582625</td>\n",
       "      <td>0.144274</td>\n",
       "      <td>-0.023346</td>\n",
       "      <td>0.200789</td>\n",
       "      <td>-0.030519</td>\n",
       "      <td>0.321033</td>\n",
       "      <td>-0.225532</td>\n",
       "      <td>0.463084</td>\n",
       "      <td>-0.969011</td>\n",
       "    </tr>\n",
       "    <tr>\n",
       "      <th>201548</th>\n",
       "      <td>0.592657</td>\n",
       "      <td>-0.041825</td>\n",
       "      <td>-0.059889</td>\n",
       "      <td>-0.038526</td>\n",
       "      <td>-0.306822</td>\n",
       "      <td>0.033433</td>\n",
       "      <td>-0.093779</td>\n",
       "      <td>0.015505</td>\n",
       "      <td>0.614000</td>\n",
       "      <td>-0.552001</td>\n",
       "      <td>...</td>\n",
       "      <td>-0.805507</td>\n",
       "      <td>0.212850</td>\n",
       "      <td>0.738938</td>\n",
       "      <td>0.237695</td>\n",
       "      <td>0.577764</td>\n",
       "      <td>0.634531</td>\n",
       "      <td>-0.514114</td>\n",
       "      <td>0.107294</td>\n",
       "      <td>0.014199</td>\n",
       "      <td>-0.995232</td>\n",
       "    </tr>\n",
       "    <tr>\n",
       "      <th>201549</th>\n",
       "      <td>-0.444779</td>\n",
       "      <td>0.071139</td>\n",
       "      <td>0.012459</td>\n",
       "      <td>-0.366217</td>\n",
       "      <td>-0.225480</td>\n",
       "      <td>-0.081610</td>\n",
       "      <td>-0.170546</td>\n",
       "      <td>-0.254429</td>\n",
       "      <td>0.199990</td>\n",
       "      <td>-0.249487</td>\n",
       "      <td>...</td>\n",
       "      <td>0.342236</td>\n",
       "      <td>0.245481</td>\n",
       "      <td>0.160376</td>\n",
       "      <td>-0.515343</td>\n",
       "      <td>0.231088</td>\n",
       "      <td>0.428935</td>\n",
       "      <td>0.251430</td>\n",
       "      <td>-0.283586</td>\n",
       "      <td>0.161517</td>\n",
       "      <td>-0.997616</td>\n",
       "    </tr>\n",
       "  </tbody>\n",
       "</table>\n",
       "<p>5 rows × 769 columns</p>\n",
       "</div>"
      ],
      "text/plain": [
       "                    0         1         2         3         4         5  \\\n",
       "5360 201545  0.592657 -0.041825 -0.059889 -0.038526 -0.306822  0.033433   \n",
       "     201546  0.592657 -0.041825 -0.059889 -0.038526 -0.306822  0.033433   \n",
       "     201547 -0.320510  0.119825  0.137270  0.216795 -0.476022  0.158546   \n",
       "     201548  0.592657 -0.041825 -0.059889 -0.038526 -0.306822  0.033433   \n",
       "     201549 -0.444779  0.071139  0.012459 -0.366217 -0.225480 -0.081610   \n",
       "\n",
       "                    6         7         8         9  ...       759       760  \\\n",
       "5360 201545 -0.093779  0.015505  0.614000 -0.552001  ... -0.805507  0.212850   \n",
       "     201546 -0.093779  0.015505  0.614000 -0.552001  ... -0.805507  0.212850   \n",
       "     201547 -0.570430 -0.044212  0.344147 -0.219893  ... -0.319999  0.582625   \n",
       "     201548 -0.093779  0.015505  0.614000 -0.552001  ... -0.805507  0.212850   \n",
       "     201549 -0.170546 -0.254429  0.199990 -0.249487  ...  0.342236  0.245481   \n",
       "\n",
       "                  761       762       763       764       765       766  \\\n",
       "5360 201545  0.738938  0.237695  0.577764  0.634531 -0.514114  0.107294   \n",
       "     201546  0.738938  0.237695  0.577764  0.634531 -0.514114  0.107294   \n",
       "     201547  0.144274 -0.023346  0.200789 -0.030519  0.321033 -0.225532   \n",
       "     201548  0.738938  0.237695  0.577764  0.634531 -0.514114  0.107294   \n",
       "     201549  0.160376 -0.515343  0.231088  0.428935  0.251430 -0.283586   \n",
       "\n",
       "                  767    Labels  \n",
       "5360 201545  0.014199 -0.985697  \n",
       "     201546  0.014199 -0.990465  \n",
       "     201547  0.463084 -0.969011  \n",
       "     201548  0.014199 -0.995232  \n",
       "     201549  0.161517 -0.997616  \n",
       "\n",
       "[5 rows x 769 columns]"
      ]
     },
     "execution_count": 7,
     "metadata": {},
     "output_type": "execute_result"
    }
   ],
   "source": [
    "# Scale test:\n",
    "test_df = normalize_test_features(test_df, scalers=scalers)\n",
    "test_df = [test_df[test_df.index.get_level_values(0) == municipality] for municipality in Municipalities_test]\n",
    "\n",
    "test_df[1].head()"
   ]
  },
  {
   "cell_type": "markdown",
   "id": "c53b4b85",
   "metadata": {},
   "source": [
    "### Prepare data for time series supervised learning (function to create sliding window)"
   ]
  },
  {
   "cell_type": "code",
   "execution_count": 8,
   "id": "4976be45",
   "metadata": {},
   "outputs": [
    {
     "data": {
      "text/plain": [
       "(161, 3076)"
      ]
     },
     "execution_count": 8,
     "metadata": {},
     "output_type": "execute_result"
    }
   ],
   "source": [
    "# frame as supervised learning\n",
    "train = [series_to_supervised(df, n_in=T, autoregressive=autoregressive) for df in train_df]\n",
    "test = [series_to_supervised(df, n_in=T, autoregressive=autoregressive) for df in test_df]\n",
    "\n",
    "train[1].shape"
   ]
  },
  {
   "cell_type": "markdown",
   "id": "e9f03266",
   "metadata": {},
   "source": [
    "### Merge train data"
   ]
  },
  {
   "cell_type": "code",
   "execution_count": 9,
   "id": "56248307",
   "metadata": {},
   "outputs": [],
   "source": [
    "# Merge:\n",
    "train = pd.concat(train, keys=Municipalities_train)\n",
    "test = pd.concat(test, keys=Municipalities_test)"
   ]
  },
  {
   "cell_type": "markdown",
   "id": "974e2656",
   "metadata": {},
   "source": [
    "### Features and Labels Set"
   ]
  },
  {
   "cell_type": "code",
   "execution_count": 10,
   "id": "95935158",
   "metadata": {},
   "outputs": [
    {
     "name": "stdout",
     "output_type": "stream",
     "text": [
      "Train:\n",
      "The shape of the features is (1288, 2307)\n",
      "The shape of the labels is (1288, 1)\n",
      "Test:\n",
      "The shape of the features is (322, 2307)\n",
      "The shape of the labels is (322, 1)\n"
     ]
    }
   ],
   "source": [
    "# Train features and labels set\n",
    "print('Train:')\n",
    "train_X, train_y, n_features = features_labels_set(timeseries_data=train, original_df=dengue_df[0], autoregressive=autoregressive)\n",
    "\n",
    "# Test features and labels set\n",
    "print('Test:')\n",
    "test_X, test_y, n_features = features_labels_set(timeseries_data=test, original_df=dengue_df[0], autoregressive=autoregressive)"
   ]
  },
  {
   "cell_type": "code",
   "execution_count": 11,
   "id": "75978557",
   "metadata": {},
   "outputs": [
    {
     "name": "stdout",
     "output_type": "stream",
     "text": [
      "The initial shapes are:\n",
      "The train shape is (1288, 2307)\n",
      "The test shape is (322, 2307)\n",
      "-----------------------\n",
      "The Final shapes are:\n",
      "The train shape is (1288, 3, 769)\n",
      "The test shape is (322, 3, 769)\n"
     ]
    }
   ],
   "source": [
    "# reshape input to be 3D [samples, timesteps, features]\n",
    "train_X, test_X = reshape_tensor(train_X, test_X, n_features, T, autoregressive)"
   ]
  },
  {
   "cell_type": "markdown",
   "id": "035258c6",
   "metadata": {},
   "source": [
    "# 2. Model"
   ]
  },
  {
   "cell_type": "code",
   "execution_count": 12,
   "id": "6cd31a6d",
   "metadata": {},
   "outputs": [],
   "source": [
    "x_ar = train_X[:, :, -1:]\n",
    "x_ar_test = test_X[:, :, -1:]"
   ]
  },
  {
   "cell_type": "code",
   "execution_count": null,
   "id": "3b8ca4b2",
   "metadata": {},
   "outputs": [
    {
     "name": "stderr",
     "output_type": "stream",
     "text": [
      "2023-02-19 05:27:20.118277: W tensorflow/stream_executor/platform/default/dso_loader.cc:64] Could not load dynamic library 'libcuda.so.1'; dlerror: libcuda.so.1: cannot open shared object file: No such file or directory\n",
      "2023-02-19 05:27:20.118329: W tensorflow/stream_executor/cuda/cuda_driver.cc:269] failed call to cuInit: UNKNOWN ERROR (303)\n",
      "2023-02-19 05:27:20.118355: I tensorflow/stream_executor/cuda/cuda_diagnostics.cc:156] kernel driver does not appear to be running on this host (9f7bdfccc75e): /proc/driver/nvidia/version does not exist\n",
      "2023-02-19 05:27:20.118564: I tensorflow/core/platform/cpu_feature_guard.cc:142] This TensorFlow binary is optimized with oneAPI Deep Neural Network Library (oneDNN) to use the following CPU instructions in performance-critical operations:  SSE4.1 SSE4.2 AVX AVX2 FMA\n",
      "To enable them in other operations, rebuild TensorFlow with the appropriate compiler flags.\n",
      "2023-02-19 05:27:22.335618: I tensorflow/compiler/mlir/mlir_graph_optimization_pass.cc:185] None of the MLIR Optimization Passes are enabled (registered 2)\n"
     ]
    },
    {
     "name": "stdout",
     "output_type": "stream",
     "text": [
      "Restoring model weights from the end of the best epoch.\n",
      "Epoch 00042: early stopping\n",
      "Restoring model weights from the end of the best epoch.\n",
      "Epoch 00023: early stopping\n",
      "Restoring model weights from the end of the best epoch.\n",
      "Epoch 00049: early stopping\n"
     ]
    }
   ],
   "source": [
    "# Use the Function:\n",
    "sequence=train_X.shape[1]\n",
    "features=train_X.shape[2]\n",
    "\n",
    "calculate_mean_std(lstm_layers, nn_layers, sequence, features, dense_acivation, recurrent_cells, bidirectional, train_X, train_y, test_X, test_y, scalers['scaler_Labels'], monitor=True, plot=False, epochs=50, batch_size=16, n_tests=3, plot_samples=True, Municipality='Global', fusion='late', x_ar=x_ar, x_ar_test=x_ar_test)\n"
   ]
  },
  {
   "cell_type": "code",
   "execution_count": null,
   "id": "743b3399",
   "metadata": {},
   "outputs": [],
   "source": []
  }
 ],
 "metadata": {
  "kernelspec": {
   "display_name": "Python [conda env:generalml_p37_gpu_v1]",
   "language": "python",
   "name": "conda-env-generalml_p37_gpu_v1-py"
  },
  "language_info": {
   "codemirror_mode": {
    "name": "ipython",
    "version": 3
   },
   "file_extension": ".py",
   "mimetype": "text/x-python",
   "name": "python",
   "nbconvert_exporter": "python",
   "pygments_lexer": "ipython3",
   "version": "3.7.12"
  }
 },
 "nbformat": 4,
 "nbformat_minor": 5
}
