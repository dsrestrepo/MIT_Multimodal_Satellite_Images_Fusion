{
 "cells": [
  {
   "cell_type": "markdown",
   "id": "f4c5483a",
   "metadata": {},
   "source": [
    "# Setup enviorment"
   ]
  },
  {
   "cell_type": "code",
   "execution_count": 1,
   "id": "39c13021",
   "metadata": {},
   "outputs": [
    {
     "name": "stderr",
     "output_type": "stream",
     "text": [
      "2023-07-30 06:46:59.216451: I tensorflow/tsl/cuda/cudart_stub.cc:28] Could not find cuda drivers on your machine, GPU will not be used.\n",
      "2023-07-30 06:46:59.254577: I tensorflow/tsl/cuda/cudart_stub.cc:28] Could not find cuda drivers on your machine, GPU will not be used.\n",
      "2023-07-30 06:46:59.255784: I tensorflow/core/platform/cpu_feature_guard.cc:182] This TensorFlow binary is optimized to use available CPU instructions in performance-critical operations.\n",
      "To enable the following instructions: AVX2 FMA, in other operations, rebuild TensorFlow with the appropriate compiler flags.\n",
      "2023-07-30 06:47:00.089789: W tensorflow/compiler/tf2tensorrt/utils/py_utils.cc:38] TF-TRT Warning: Could not find TensorRT\n"
     ]
    }
   ],
   "source": [
    "from Preprocessing.time_series_preprocessing import normalize_train_features, normalize_test_features\n",
    "from Preprocessing.supervised_dataloader import plot_samples, get_dataset_list, split_list, CustomDataGen, show_random_images\n",
    "from tensorflow.keras.preprocessing.image import ImageDataGenerator\n",
    "from sklearn.model_selection import train_test_split\n",
    "\n",
    "import tensorflow as tf\n",
    "\n",
    "import pandas as pd\n",
    "import os\n",
    "import numpy as np"
   ]
  },
  {
   "cell_type": "markdown",
   "id": "f403dbfc",
   "metadata": {},
   "source": [
    "### 1. Dataset"
   ]
  },
  {
   "cell_type": "code",
   "execution_count": 2,
   "id": "40398564",
   "metadata": {},
   "outputs": [],
   "source": [
    "\"\"\" Read Dataset:\"\"\"\n",
    "path = '../FULL_COLOMBIA_v2/'\n",
    "labels_path = '../Tabular_data/dengue_tabular_v2.csv'\n",
    "\n",
    "\"\"\" Dataset Preprocessing:\"\"\"\n",
    "train_percentage = 80\n",
    "T = 3\n",
    "autoregressive = False\n",
    "feature_range = (-1, 1)\n",
    "\n",
    "# Dataloader Args:\n",
    "batch_size = 16\n",
    "target_size = (224, 224, 12)"
   ]
  },
  {
   "cell_type": "code",
   "execution_count": 3,
   "id": "ac80c351",
   "metadata": {},
   "outputs": [
    {
     "name": "stdout",
     "output_type": "stream",
     "text": [
      "Images in directories: \n",
      "76400\n",
      "50573\n",
      "41020\n",
      "85001\n",
      "47288\n",
      "73268\n",
      "68307\n",
      "95001\n",
      "54874\n",
      "76834\n",
      "5088\n",
      "68547\n",
      "73443\n",
      "50313\n",
      "68081\n",
      "44430\n",
      "23855\n",
      "41001\n",
      "86320\n",
      "73408\n",
      "47001\n",
      "86865\n",
      "68406\n",
      "13244\n",
      "25290\n",
      "76892\n",
      "5837\n",
      "73585\n",
      "76109\n",
      "68001\n",
      "15480\n",
      "81736\n",
      "66001\n",
      "5679\n",
      "25488\n",
      "76147\n",
      "68655\n",
      "18753\n",
      "5490\n",
      "8001\n",
      "23555\n",
      "23001\n",
      "73675\n",
      "50006\n",
      "76111\n",
      "20001\n",
      "20011\n",
      "5079\n",
      "5266\n",
      "15469\n",
      "18001\n",
      "95025\n",
      "68679\n",
      "76364\n",
      "73319\n",
      "15753\n",
      "54405\n",
      "8758\n",
      "5360\n",
      "73449\n",
      "41298\n",
      "5212\n",
      "20710\n",
      "73411\n",
      "13430\n",
      "23466\n",
      "25307\n",
      "68276\n",
      "25245\n",
      "76520\n",
      "20013\n",
      "54498\n",
      "5045\n",
      "66170\n",
      "70001\n",
      "86568\n",
      "85010\n",
      "41396\n",
      "41551\n",
      "13688\n",
      "5656\n",
      "Image list top 5 examples of length 8354:\n",
      "['../FULL_COLOMBIA_v2/76400/image_2017-07-30.tiff', '../FULL_COLOMBIA_v2/76400/image_2017-11-19.tiff', '../FULL_COLOMBIA_v2/76400/image_2016-11-20.tiff', '../FULL_COLOMBIA_v2/76400/image_2017-07-16.tiff', '../FULL_COLOMBIA_v2/76400/image_2017-03-12.tiff', '../FULL_COLOMBIA_v2/76400/image_2018-12-23.tiff', '../FULL_COLOMBIA_v2/76400/image_2018-01-14.tiff', '../FULL_COLOMBIA_v2/76400/image_2017-10-22.tiff', '../FULL_COLOMBIA_v2/76400/image_2016-06-26.tiff', '../FULL_COLOMBIA_v2/76400/image_2018-08-05.tiff']\n"
     ]
    }
   ],
   "source": [
    "image_list, municipalities = get_dataset_list(path, ignore_black=True, show_dirs=True, head=10, return_dirs=True)"
   ]
  },
  {
   "cell_type": "code",
   "execution_count": 4,
   "id": "e1074004",
   "metadata": {},
   "outputs": [],
   "source": [
    "municipalities = [int(municipality) for municipality in municipalities]"
   ]
  },
  {
   "cell_type": "markdown",
   "id": "7bf46377",
   "metadata": {},
   "source": [
    "### Labels"
   ]
  },
  {
   "cell_type": "code",
   "execution_count": 5,
   "id": "f9beeb0f",
   "metadata": {},
   "outputs": [
    {
     "data": {
      "text/html": [
       "<div>\n",
       "<style scoped>\n",
       "    .dataframe tbody tr th:only-of-type {\n",
       "        vertical-align: middle;\n",
       "    }\n",
       "\n",
       "    .dataframe tbody tr th {\n",
       "        vertical-align: top;\n",
       "    }\n",
       "\n",
       "    .dataframe thead th {\n",
       "        text-align: right;\n",
       "    }\n",
       "</style>\n",
       "<table border=\"1\" class=\"dataframe\">\n",
       "  <thead>\n",
       "    <tr style=\"text-align: right;\">\n",
       "      <th></th>\n",
       "      <th>Municipality code</th>\n",
       "      <th>Municipality</th>\n",
       "      <th>Population2007</th>\n",
       "      <th>Population2008</th>\n",
       "      <th>Population2009</th>\n",
       "      <th>Population2010</th>\n",
       "      <th>Population2011</th>\n",
       "      <th>Population2012</th>\n",
       "      <th>Population2013</th>\n",
       "      <th>Population2014</th>\n",
       "      <th>...</th>\n",
       "      <th>2019/w43</th>\n",
       "      <th>2019/w44</th>\n",
       "      <th>2019/w45</th>\n",
       "      <th>2019/w46</th>\n",
       "      <th>2019/w47</th>\n",
       "      <th>2019/w48</th>\n",
       "      <th>2019/w49</th>\n",
       "      <th>2019/w50</th>\n",
       "      <th>2019/w51</th>\n",
       "      <th>2019/w52</th>\n",
       "    </tr>\n",
       "  </thead>\n",
       "  <tbody>\n",
       "    <tr>\n",
       "      <th>12</th>\n",
       "      <td>5045</td>\n",
       "      <td>Apartadó</td>\n",
       "      <td>113220</td>\n",
       "      <td>111883</td>\n",
       "      <td>112089</td>\n",
       "      <td>112914</td>\n",
       "      <td>114241</td>\n",
       "      <td>115856</td>\n",
       "      <td>117088</td>\n",
       "      <td>117992</td>\n",
       "      <td>...</td>\n",
       "      <td>7</td>\n",
       "      <td>2</td>\n",
       "      <td>12</td>\n",
       "      <td>11</td>\n",
       "      <td>12</td>\n",
       "      <td>9</td>\n",
       "      <td>21</td>\n",
       "      <td>11</td>\n",
       "      <td>21</td>\n",
       "      <td>16</td>\n",
       "    </tr>\n",
       "    <tr>\n",
       "      <th>16</th>\n",
       "      <td>5079</td>\n",
       "      <td>Barbosa</td>\n",
       "      <td>44052</td>\n",
       "      <td>44568</td>\n",
       "      <td>45077</td>\n",
       "      <td>45585</td>\n",
       "      <td>46201</td>\n",
       "      <td>46818</td>\n",
       "      <td>47312</td>\n",
       "      <td>47765</td>\n",
       "      <td>...</td>\n",
       "      <td>3</td>\n",
       "      <td>0</td>\n",
       "      <td>0</td>\n",
       "      <td>0</td>\n",
       "      <td>0</td>\n",
       "      <td>1</td>\n",
       "      <td>0</td>\n",
       "      <td>1</td>\n",
       "      <td>0</td>\n",
       "      <td>1</td>\n",
       "    </tr>\n",
       "    <tr>\n",
       "      <th>18</th>\n",
       "      <td>5088</td>\n",
       "      <td>Bello</td>\n",
       "      <td>384814</td>\n",
       "      <td>388988</td>\n",
       "      <td>393035</td>\n",
       "      <td>397639</td>\n",
       "      <td>405040</td>\n",
       "      <td>417010</td>\n",
       "      <td>427104</td>\n",
       "      <td>437979</td>\n",
       "      <td>...</td>\n",
       "      <td>2</td>\n",
       "      <td>2</td>\n",
       "      <td>2</td>\n",
       "      <td>2</td>\n",
       "      <td>0</td>\n",
       "      <td>0</td>\n",
       "      <td>1</td>\n",
       "      <td>3</td>\n",
       "      <td>1</td>\n",
       "      <td>0</td>\n",
       "    </tr>\n",
       "    <tr>\n",
       "      <th>40</th>\n",
       "      <td>5212</td>\n",
       "      <td>Copacabana</td>\n",
       "      <td>63607</td>\n",
       "      <td>64326</td>\n",
       "      <td>65009</td>\n",
       "      <td>65893</td>\n",
       "      <td>67830</td>\n",
       "      <td>71485</td>\n",
       "      <td>73815</td>\n",
       "      <td>74740</td>\n",
       "      <td>...</td>\n",
       "      <td>3</td>\n",
       "      <td>1</td>\n",
       "      <td>1</td>\n",
       "      <td>0</td>\n",
       "      <td>1</td>\n",
       "      <td>0</td>\n",
       "      <td>2</td>\n",
       "      <td>0</td>\n",
       "      <td>0</td>\n",
       "      <td>0</td>\n",
       "    </tr>\n",
       "    <tr>\n",
       "      <th>46</th>\n",
       "      <td>5266</td>\n",
       "      <td>Envigado</td>\n",
       "      <td>183254</td>\n",
       "      <td>185567</td>\n",
       "      <td>187644</td>\n",
       "      <td>189745</td>\n",
       "      <td>192323</td>\n",
       "      <td>195445</td>\n",
       "      <td>198284</td>\n",
       "      <td>201482</td>\n",
       "      <td>...</td>\n",
       "      <td>3</td>\n",
       "      <td>2</td>\n",
       "      <td>3</td>\n",
       "      <td>0</td>\n",
       "      <td>1</td>\n",
       "      <td>1</td>\n",
       "      <td>0</td>\n",
       "      <td>1</td>\n",
       "      <td>0</td>\n",
       "      <td>1</td>\n",
       "    </tr>\n",
       "  </tbody>\n",
       "</table>\n",
       "<p>5 rows × 1017 columns</p>\n",
       "</div>"
      ],
      "text/plain": [
       "    Municipality code Municipality  Population2007  Population2008  \\\n",
       "12               5045     Apartadó          113220          111883   \n",
       "16               5079      Barbosa           44052           44568   \n",
       "18               5088        Bello          384814          388988   \n",
       "40               5212   Copacabana           63607           64326   \n",
       "46               5266     Envigado          183254          185567   \n",
       "\n",
       "    Population2009  Population2010  Population2011  Population2012  \\\n",
       "12          112089          112914          114241          115856   \n",
       "16           45077           45585           46201           46818   \n",
       "18          393035          397639          405040          417010   \n",
       "40           65009           65893           67830           71485   \n",
       "46          187644          189745          192323          195445   \n",
       "\n",
       "    Population2013  Population2014  ...  2019/w43  2019/w44  2019/w45  \\\n",
       "12          117088          117992  ...         7         2        12   \n",
       "16           47312           47765  ...         3         0         0   \n",
       "18          427104          437979  ...         2         2         2   \n",
       "40           73815           74740  ...         3         1         1   \n",
       "46          198284          201482  ...         3         2         3   \n",
       "\n",
       "    2019/w46  2019/w47  2019/w48  2019/w49  2019/w50  2019/w51  2019/w52  \n",
       "12        11        12         9        21        11        21        16  \n",
       "16         0         0         1         0         1         0         1  \n",
       "18         2         0         0         1         3         1         0  \n",
       "40         0         1         0         2         0         0         0  \n",
       "46         0         1         1         0         1         0         1  \n",
       "\n",
       "[5 rows x 1017 columns]"
      ]
     },
     "execution_count": 5,
     "metadata": {},
     "output_type": "execute_result"
    }
   ],
   "source": [
    "labels = pd.read_csv(labels_path)\n",
    "labels = labels[labels['Municipality code'].isin(municipalities)]\n",
    "labels.head()"
   ]
  },
  {
   "cell_type": "markdown",
   "id": "53789ab0",
   "metadata": {},
   "source": [
    "### Train Test split"
   ]
  },
  {
   "cell_type": "code",
   "execution_count": 6,
   "id": "e6cca5fa",
   "metadata": {},
   "outputs": [],
   "source": [
    "def filter_paths_with_code(paths_list, codes_list):\n",
    "    paths_with_code = []\n",
    "    \n",
    "    for code in codes_list:\n",
    "        for path in paths_list:            \n",
    "            if '/'+str(code)+'/' in path:\n",
    "                #print(f'Code: {code}, Path: {image_list}')\n",
    "                paths_with_code.append(path)\n",
    "                \n",
    "    return paths_with_code"
   ]
  },
  {
   "cell_type": "code",
   "execution_count": 47,
   "id": "f8232e9e",
   "metadata": {},
   "outputs": [
    {
     "name": "stdout",
     "output_type": "stream",
     "text": [
      "Splitting using municipality code. 80% for train, and 20% for test\n",
      "The resulting train dataset has 6609 images\n",
      "The resulting test dataset has 1745 images\n"
     ]
    }
   ],
   "source": [
    "def split_on_column(municipality_codes, image_list, train_percentage, random_state=42):\n",
    "    \n",
    "    print(f'Splitting using municipality code. {train_percentage}% for train, and {100-train_percentage}% for test')\n",
    "\n",
    "    # Split the unique codes into train and test sets\n",
    "    train_codes, test_codes = train_test_split(municipality_codes, train_size=train_percentage/100, random_state=random_state)\n",
    "    \n",
    "    \n",
    "    # Create the train and test sets based on the selected 'Municipality Code' values\n",
    "    train_data = filter_paths_with_code(image_list, train_codes)\n",
    "    print(f'The resulting train dataset has {len(train_data)} images')\n",
    "    test_data = filter_paths_with_code(image_list, test_codes)\n",
    "    print(f'The resulting test dataset has {len(test_data)} images')\n",
    "        \n",
    "    return train_data, test_data, train_codes, test_codes\n",
    "\n",
    "train_df, test_df, train_codes, test_codes = split_on_column(municipalities ,image_list, train_percentage)"
   ]
  },
  {
   "cell_type": "markdown",
   "id": "656d5c85",
   "metadata": {},
   "source": [
    "### Data Loader"
   ]
  },
  {
   "cell_type": "code",
   "execution_count": 48,
   "id": "81fb24a0",
   "metadata": {},
   "outputs": [],
   "source": [
    "## Get labels:\n",
    "column = 'Householdswithoutwateraccess(%)'\n",
    "\n",
    "def get_df(paths, labels_df, label, codes):\n",
    "    df = {'path':  [],\n",
    "          'labels': []}\n",
    "\n",
    "    for code in codes:\n",
    "        for path in paths:            \n",
    "            if '/'+str(code)+'/' in path:\n",
    "                df['path'].append(path)\n",
    "                df['labels'].append(labels_df[labels_df['Municipality code'] == code][label].item())\n",
    "                \n",
    "    df = pd.DataFrame.from_dict(df)\n",
    "                \n",
    "    return df\n",
    "    "
   ]
  },
  {
   "cell_type": "code",
   "execution_count": 53,
   "id": "49234269",
   "metadata": {},
   "outputs": [],
   "source": [
    "train_df = get_df(train_df, labels, column, train_codes)"
   ]
  },
  {
   "cell_type": "code",
   "execution_count": 55,
   "id": "9dde5cb4",
   "metadata": {},
   "outputs": [],
   "source": [
    "test_df = get_df(test_df, labels, column, test_codes)\n",
    "test_df = test_df.sample(frac=1).reset_index(drop=True)"
   ]
  },
  {
   "cell_type": "code",
   "execution_count": 57,
   "id": "37d060ad",
   "metadata": {},
   "outputs": [],
   "source": [
    "# Augmentation for train\n",
    "train_datagen = ImageDataGenerator(\n",
    "    rotation_range=10,\n",
    "    zoom_range=0.5,\n",
    "    width_shift_range=0.1,\n",
    "    height_shift_range=0.1,\n",
    "    horizontal_flip=True,\n",
    "    vertical_flip=True)"
   ]
  },
  {
   "cell_type": "code",
   "execution_count": 58,
   "id": "91c2423c",
   "metadata": {},
   "outputs": [],
   "source": [
    "traingen = CustomDataGen(train_df,\n",
    "                         batch_size=batch_size, \n",
    "                         input_size=target_size, \n",
    "                         augmentation=None, #train_datagen, \n",
    "                         shuffle = True)"
   ]
  },
  {
   "cell_type": "code",
   "execution_count": 59,
   "id": "81ea8362",
   "metadata": {},
   "outputs": [],
   "source": [
    "testgen = CustomDataGen(test_df,\n",
    "                         batch_size=batch_size, \n",
    "                         input_size=target_size, \n",
    "                         augmentation=None)"
   ]
  },
  {
   "cell_type": "code",
   "execution_count": null,
   "id": "3b5982f0",
   "metadata": {},
   "outputs": [],
   "source": [
    "def show_sample(gen):\n",
    "    for x, y in gen:\n",
    "        print('-'*50)\n",
    "        print(x.shape)\n",
    "        print(x)\n",
    "        print('-'*50)\n",
    "        print(y.shape)\n",
    "        print(y)\n",
    "\n",
    "        break \n",
    "        \n",
    "#show_sample(testgen)"
   ]
  },
  {
   "cell_type": "markdown",
   "id": "482078b0",
   "metadata": {},
   "source": [
    "# 2. Model"
   ]
  },
  {
   "cell_type": "code",
   "execution_count": 65,
   "id": "f63d6899",
   "metadata": {},
   "outputs": [],
   "source": [
    "import tensorflow as tf\n",
    "\n",
    "model = tf.keras.Sequential()\n",
    "\n",
    "# Load the ConvNeXt model\n",
    "model.add(\n",
    "    tf.keras.applications.ConvNeXtTiny(\n",
    "    model_name=\"convnext_tiny\",\n",
    "    include_top=False,\n",
    "    include_preprocessing=True,\n",
    "    weights=None,#\"imagenet\",\n",
    "    input_tensor=None,\n",
    "    input_shape=target_size,\n",
    "    classifier_activation=\"softmax\",\n",
    "    )\n",
    ")\n",
    "\n",
    "model.add(tf.keras.layers.GlobalAveragePooling2D())\n",
    "\n",
    "# Replace the classification head with a regression head\n",
    "model.add(tf.keras.layers.Dense(1))\n",
    "\n",
    "# Compile the model\n",
    "model.compile(loss=\"mse\", optimizer=\"adam\", metrics=[\"mae\"])"
   ]
  },
  {
   "cell_type": "code",
   "execution_count": 66,
   "id": "643018dc",
   "metadata": {},
   "outputs": [
    {
     "name": "stdout",
     "output_type": "stream",
     "text": [
      "Model: \"sequential_2\"\n",
      "_________________________________________________________________\n",
      " Layer (type)                Output Shape              Param #   \n",
      "=================================================================\n",
      " convnext_tiny (Functional)  (None, 7, 7, 768)         27833952  \n",
      "                                                                 \n",
      " global_average_pooling2d_2   (None, 768)              0         \n",
      " (GlobalAveragePooling2D)                                        \n",
      "                                                                 \n",
      " dense_2 (Dense)             (None, 1)                 769       \n",
      "                                                                 \n",
      "=================================================================\n",
      "Total params: 27,834,721\n",
      "Trainable params: 27,834,721\n",
      "Non-trainable params: 0\n",
      "_________________________________________________________________\n"
     ]
    }
   ],
   "source": [
    "model.summary()"
   ]
  },
  {
   "cell_type": "code",
   "execution_count": null,
   "id": "bc86f209",
   "metadata": {},
   "outputs": [
    {
     "name": "stdout",
     "output_type": "stream",
     "text": [
      "Epoch 1/10\n"
     ]
    },
    {
     "name": "stderr",
     "output_type": "stream",
     "text": [
      "2023-07-30 15:40:25.305050: I tensorflow/core/common_runtime/executor.cc:1197] [/device:CPU:0] (DEBUG INFO) Executor start aborting (this does not indicate an error and you can ignore this message): INVALID_ARGUMENT: You must feed a value for placeholder tensor 'Placeholder/_0' with dtype int32\n",
      "\t [[{{node Placeholder/_0}}]]\n",
      "2023-07-30 15:40:42.442494: I tensorflow/compiler/xla/service/service.cc:169] XLA service 0x7fe88d5025f0 initialized for platform Host (this does not guarantee that XLA will be used). Devices:\n",
      "2023-07-30 15:40:42.442575: I tensorflow/compiler/xla/service/service.cc:177]   StreamExecutor device (0): Host, Default Version\n",
      "2023-07-30 15:40:42.677592: I ./tensorflow/compiler/jit/device_compiler.h:180] Compiled cluster using XLA!  This line is logged at most once for the lifetime of the process.\n"
     ]
    },
    {
     "name": "stdout",
     "output_type": "stream",
     "text": [
      "413/413 [==============================] - 4156s 10s/step - loss: 233.0923 - mae: 11.7188\n",
      "Epoch 2/10\n",
      "252/413 [=================>............] - ETA: 26:38 - loss: 233.7261 - mae: 11.7862"
     ]
    }
   ],
   "source": [
    "# Train the model\n",
    "model.fit(traingen, epochs=10)"
   ]
  },
  {
   "cell_type": "code",
   "execution_count": null,
   "id": "d3450444",
   "metadata": {},
   "outputs": [],
   "source": [
    "def evaluate_model(model, testgen):\n",
    "\n",
    "    # For other models, follow the previous approach\n",
    "    y_pred = model.predict(testgen).flatten()\n",
    "\n",
    "    # Calculate evaluation metrics for the current model\n",
    "    mae = mean_absolute_error(test_y, y_pred)\n",
    "    mape = mean_absolute_percentage_error(test_y, y_pred)\n",
    "    smape = 200 * np.mean(np.abs(y_pred - test_y) / (np.abs(y_pred) + np.abs(test_y)))\n",
    "    rmse = np.sqrt(mean_squared_error(test_y, y_pred))\n",
    "\n",
    "    return mae, mape, smape, rmse"
   ]
  },
  {
   "cell_type": "code",
   "execution_count": null,
   "id": "f2ae77d9",
   "metadata": {},
   "outputs": [],
   "source": [
    "evaluate_model(model, testgen)"
   ]
  },
  {
   "cell_type": "code",
   "execution_count": null,
   "id": "e5d3e3e2",
   "metadata": {},
   "outputs": [],
   "source": []
  }
 ],
 "metadata": {
  "kernelspec": {
   "display_name": "Python [conda env:tensorflow28_p38_gpu_v1]",
   "language": "python",
   "name": "conda-env-tensorflow28_p38_gpu_v1-py"
  },
  "language_info": {
   "codemirror_mode": {
    "name": "ipython",
    "version": 3
   },
   "file_extension": ".py",
   "mimetype": "text/x-python",
   "name": "python",
   "nbconvert_exporter": "python",
   "pygments_lexer": "ipython3",
   "version": "3.8.13"
  }
 },
 "nbformat": 4,
 "nbformat_minor": 5
}
