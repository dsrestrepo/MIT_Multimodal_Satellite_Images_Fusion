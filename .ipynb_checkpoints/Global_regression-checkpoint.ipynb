{
 "cells": [
  {
   "cell_type": "markdown",
   "id": "ffcc9c57",
   "metadata": {},
   "source": [
    "# Setup enviorment"
   ]
  },
  {
   "cell_type": "code",
   "execution_count": 1,
   "id": "4df6de9b",
   "metadata": {},
   "outputs": [],
   "source": [
    "from Preprocessing.time_series_preprocessing import get_dengue_dataset, train_test_split, normalize_train_features, normalize_test_features, series_to_supervised, features_labels_set, reshape_tensor\n",
    "\n",
    "from Models.LSTM import create_model, train_model\n",
    "import tensorflow as tf\n",
    "\n",
    "from Utils.test_lstm import evaluate, plot_predictions, calculate_mean_std\n",
    "\n",
    "import pandas as pd\n",
    "import os\n",
    "import numpy as np"
   ]
  },
  {
   "cell_type": "code",
   "execution_count": 2,
   "id": "36cbb26d",
   "metadata": {},
   "outputs": [],
   "source": [
    "\"\"\" Read Dataset:\"\"\"\n",
    "\n",
    "embeddings = 'Embeddings/vit_224_1024.csv'\n",
    "embeddings_dir = 'Embeddings/'\n",
    "\n",
    "labels = '../Tabular_data/dengue_tabular.csv'\n",
    "\n",
    "# Get list of municipalities:\n",
    "Municipalities = list(pd.unique(pd.read_csv('Embeddings/ResNet50V2_224_1024.csv')['Municipality Code']))\n",
    "\n",
    "\"\"\" Dataset Preprocessing:\"\"\"\n",
    "train_percentage = 80\n",
    "T=3\n",
    "autoregressive = False\n",
    "feature_range = (-1, 1)\n",
    "\n",
    "\"\"\" Model Parameters:\"\"\"\n",
    "lstm_layers=[1000, 500]\n",
    "nn_layers=[250, 120, 1]\n",
    "dense_acivation='relu'\n",
    "recurrent_cells='LSTM'\n",
    "bidirectional=False"
   ]
  },
  {
   "cell_type": "markdown",
   "id": "36725d0c",
   "metadata": {},
   "source": [
    "## 1. Read Data"
   ]
  },
  {
   "cell_type": "code",
   "execution_count": 3,
   "id": "0afe9c47",
   "metadata": {},
   "outputs": [
    {
     "name": "stdout",
     "output_type": "stream",
     "text": [
      "Obtaining dataframe for the city of 54001 - Cúcuta only...\n",
      "Obtaining dataframe for the city of 41001 - Neiva only...\n",
      "Obtaining dataframe for the city of 5001 - Medellín only...\n",
      "Obtaining dataframe for the city of 50001 - Villavicencio only...\n",
      "Obtaining dataframe for the city of 68001 - Bucaramanga only...\n",
      "Obtaining dataframe for the city of 8001 - Barranquilla only...\n",
      "Obtaining dataframe for the city of 23001 - Montería only...\n",
      "Obtaining dataframe for the city of 76001 - Cali only...\n",
      "Obtaining dataframe for the city of 73001 - Ibagué only...\n",
      "Obtaining dataframe for the city of 5360 - Itagüí only...\n"
     ]
    },
    {
     "data": {
      "text/plain": [
       "list"
      ]
     },
     "execution_count": 3,
     "metadata": {},
     "output_type": "execute_result"
    }
   ],
   "source": [
    "# Read dataset for top 5 municipalities\n",
    "dengue_df = [get_dengue_dataset(labels_path=labels, embeddings_path=embeddings, municipality=Municipality) for Municipality in Municipalities]\n",
    "type(dengue_df)"
   ]
  },
  {
   "cell_type": "markdown",
   "id": "49870dea",
   "metadata": {},
   "source": [
    "### Train Test split"
   ]
  },
  {
   "cell_type": "code",
   "execution_count": 4,
   "id": "a33054bc",
   "metadata": {},
   "outputs": [
    {
     "name": "stdout",
     "output_type": "stream",
     "text": [
      "The train shape is: (130, 769)\n",
      "The test shape is: (33, 769)\n",
      "The train shape is: (130, 769)\n",
      "The test shape is: (33, 769)\n",
      "The train shape is: (130, 769)\n",
      "The test shape is: (33, 769)\n",
      "The train shape is: (130, 769)\n",
      "The test shape is: (33, 769)\n",
      "The train shape is: (130, 769)\n",
      "The test shape is: (33, 769)\n",
      "The train shape is: (130, 769)\n",
      "The test shape is: (33, 769)\n",
      "The train shape is: (130, 769)\n",
      "The test shape is: (33, 769)\n",
      "The train shape is: (130, 769)\n",
      "The test shape is: (33, 769)\n",
      "The train shape is: (130, 769)\n",
      "The test shape is: (33, 769)\n",
      "The train shape is: (130, 769)\n",
      "The test shape is: (33, 769)\n"
     ]
    }
   ],
   "source": [
    "train_df = []\n",
    "test_df = []\n",
    "\n",
    "for i in range(len(dengue_df)):\n",
    "    train_df_aux, test_df_aux = train_test_split(dengue_df[i], train_percentage)\n",
    "    train_df.append(train_df_aux)\n",
    "    test_df.append(test_df_aux)\n",
    "#test_df"
   ]
  },
  {
   "cell_type": "markdown",
   "id": "89aaa004",
   "metadata": {},
   "source": [
    "### Normalize features"
   ]
  },
  {
   "cell_type": "code",
   "execution_count": 5,
   "id": "8992d5ed",
   "metadata": {},
   "outputs": [],
   "source": [
    "# Merge:\n",
    "train_df = pd.concat([train_df[0], train_df[1], train_df[2], train_df[3], train_df[4]], keys=Municipalities)\n",
    "test_df = pd.concat([test_df[0], test_df[1], test_df[2], test_df[3], test_df[4]], keys=Municipalities)"
   ]
  },
  {
   "cell_type": "code",
   "execution_count": 6,
   "id": "74ab68e1",
   "metadata": {},
   "outputs": [
    {
     "data": {
      "text/html": [
       "<div>\n",
       "<style scoped>\n",
       "    .dataframe tbody tr th:only-of-type {\n",
       "        vertical-align: middle;\n",
       "    }\n",
       "\n",
       "    .dataframe tbody tr th {\n",
       "        vertical-align: top;\n",
       "    }\n",
       "\n",
       "    .dataframe thead th {\n",
       "        text-align: right;\n",
       "    }\n",
       "</style>\n",
       "<table border=\"1\" class=\"dataframe\">\n",
       "  <thead>\n",
       "    <tr style=\"text-align: right;\">\n",
       "      <th></th>\n",
       "      <th></th>\n",
       "      <th>0</th>\n",
       "      <th>1</th>\n",
       "      <th>2</th>\n",
       "      <th>3</th>\n",
       "      <th>4</th>\n",
       "      <th>5</th>\n",
       "      <th>6</th>\n",
       "      <th>7</th>\n",
       "      <th>8</th>\n",
       "      <th>9</th>\n",
       "      <th>...</th>\n",
       "      <th>759</th>\n",
       "      <th>760</th>\n",
       "      <th>761</th>\n",
       "      <th>762</th>\n",
       "      <th>763</th>\n",
       "      <th>764</th>\n",
       "      <th>765</th>\n",
       "      <th>766</th>\n",
       "      <th>767</th>\n",
       "      <th>Labels</th>\n",
       "    </tr>\n",
       "  </thead>\n",
       "  <tbody>\n",
       "    <tr>\n",
       "      <th rowspan=\"5\" valign=\"top\">41001</th>\n",
       "      <th>201546</th>\n",
       "      <td>0.573249</td>\n",
       "      <td>-0.041825</td>\n",
       "      <td>-0.059889</td>\n",
       "      <td>-0.038526</td>\n",
       "      <td>-0.306822</td>\n",
       "      <td>0.107291</td>\n",
       "      <td>-0.093779</td>\n",
       "      <td>-0.108233</td>\n",
       "      <td>0.574448</td>\n",
       "      <td>-0.546947</td>\n",
       "      <td>...</td>\n",
       "      <td>-0.79243</td>\n",
       "      <td>0.21285</td>\n",
       "      <td>1.0</td>\n",
       "      <td>0.179375</td>\n",
       "      <td>0.514077</td>\n",
       "      <td>0.681041</td>\n",
       "      <td>-0.502136</td>\n",
       "      <td>0.107294</td>\n",
       "      <td>0.015237</td>\n",
       "      <td>-0.807107</td>\n",
       "    </tr>\n",
       "    <tr>\n",
       "      <th>201547</th>\n",
       "      <td>0.573249</td>\n",
       "      <td>-0.041825</td>\n",
       "      <td>-0.059889</td>\n",
       "      <td>-0.038526</td>\n",
       "      <td>-0.306822</td>\n",
       "      <td>0.107291</td>\n",
       "      <td>-0.093779</td>\n",
       "      <td>-0.108233</td>\n",
       "      <td>0.574448</td>\n",
       "      <td>-0.546947</td>\n",
       "      <td>...</td>\n",
       "      <td>-0.79243</td>\n",
       "      <td>0.21285</td>\n",
       "      <td>1.0</td>\n",
       "      <td>0.179375</td>\n",
       "      <td>0.514077</td>\n",
       "      <td>0.681041</td>\n",
       "      <td>-0.502136</td>\n",
       "      <td>0.107294</td>\n",
       "      <td>0.015237</td>\n",
       "      <td>-0.796954</td>\n",
       "    </tr>\n",
       "    <tr>\n",
       "      <th>201548</th>\n",
       "      <td>0.573249</td>\n",
       "      <td>-0.041825</td>\n",
       "      <td>-0.059889</td>\n",
       "      <td>-0.038526</td>\n",
       "      <td>-0.306822</td>\n",
       "      <td>0.107291</td>\n",
       "      <td>-0.093779</td>\n",
       "      <td>-0.108233</td>\n",
       "      <td>0.574448</td>\n",
       "      <td>-0.546947</td>\n",
       "      <td>...</td>\n",
       "      <td>-0.79243</td>\n",
       "      <td>0.21285</td>\n",
       "      <td>1.0</td>\n",
       "      <td>0.179375</td>\n",
       "      <td>0.514077</td>\n",
       "      <td>0.681041</td>\n",
       "      <td>-0.502136</td>\n",
       "      <td>0.107294</td>\n",
       "      <td>0.015237</td>\n",
       "      <td>-0.800338</td>\n",
       "    </tr>\n",
       "    <tr>\n",
       "      <th>201549</th>\n",
       "      <td>0.573249</td>\n",
       "      <td>-0.041825</td>\n",
       "      <td>-0.059889</td>\n",
       "      <td>-0.038526</td>\n",
       "      <td>-0.306822</td>\n",
       "      <td>0.107291</td>\n",
       "      <td>-0.093779</td>\n",
       "      <td>-0.108233</td>\n",
       "      <td>0.574448</td>\n",
       "      <td>-0.546947</td>\n",
       "      <td>...</td>\n",
       "      <td>-0.79243</td>\n",
       "      <td>0.21285</td>\n",
       "      <td>1.0</td>\n",
       "      <td>0.179375</td>\n",
       "      <td>0.514077</td>\n",
       "      <td>0.681041</td>\n",
       "      <td>-0.502136</td>\n",
       "      <td>0.107294</td>\n",
       "      <td>0.015237</td>\n",
       "      <td>-0.800338</td>\n",
       "    </tr>\n",
       "    <tr>\n",
       "      <th>201550</th>\n",
       "      <td>0.573249</td>\n",
       "      <td>-0.041825</td>\n",
       "      <td>-0.059889</td>\n",
       "      <td>-0.038526</td>\n",
       "      <td>-0.306822</td>\n",
       "      <td>0.107291</td>\n",
       "      <td>-0.093779</td>\n",
       "      <td>-0.108233</td>\n",
       "      <td>0.574448</td>\n",
       "      <td>-0.546947</td>\n",
       "      <td>...</td>\n",
       "      <td>-0.79243</td>\n",
       "      <td>0.21285</td>\n",
       "      <td>1.0</td>\n",
       "      <td>0.179375</td>\n",
       "      <td>0.514077</td>\n",
       "      <td>0.681041</td>\n",
       "      <td>-0.502136</td>\n",
       "      <td>0.107294</td>\n",
       "      <td>0.015237</td>\n",
       "      <td>-0.752961</td>\n",
       "    </tr>\n",
       "  </tbody>\n",
       "</table>\n",
       "<p>5 rows × 769 columns</p>\n",
       "</div>"
      ],
      "text/plain": [
       "                     0         1         2         3         4         5  \\\n",
       "41001 201546  0.573249 -0.041825 -0.059889 -0.038526 -0.306822  0.107291   \n",
       "      201547  0.573249 -0.041825 -0.059889 -0.038526 -0.306822  0.107291   \n",
       "      201548  0.573249 -0.041825 -0.059889 -0.038526 -0.306822  0.107291   \n",
       "      201549  0.573249 -0.041825 -0.059889 -0.038526 -0.306822  0.107291   \n",
       "      201550  0.573249 -0.041825 -0.059889 -0.038526 -0.306822  0.107291   \n",
       "\n",
       "                     6         7         8         9  ...      759      760  \\\n",
       "41001 201546 -0.093779 -0.108233  0.574448 -0.546947  ... -0.79243  0.21285   \n",
       "      201547 -0.093779 -0.108233  0.574448 -0.546947  ... -0.79243  0.21285   \n",
       "      201548 -0.093779 -0.108233  0.574448 -0.546947  ... -0.79243  0.21285   \n",
       "      201549 -0.093779 -0.108233  0.574448 -0.546947  ... -0.79243  0.21285   \n",
       "      201550 -0.093779 -0.108233  0.574448 -0.546947  ... -0.79243  0.21285   \n",
       "\n",
       "              761       762       763       764       765       766       767  \\\n",
       "41001 201546  1.0  0.179375  0.514077  0.681041 -0.502136  0.107294  0.015237   \n",
       "      201547  1.0  0.179375  0.514077  0.681041 -0.502136  0.107294  0.015237   \n",
       "      201548  1.0  0.179375  0.514077  0.681041 -0.502136  0.107294  0.015237   \n",
       "      201549  1.0  0.179375  0.514077  0.681041 -0.502136  0.107294  0.015237   \n",
       "      201550  1.0  0.179375  0.514077  0.681041 -0.502136  0.107294  0.015237   \n",
       "\n",
       "                Labels  \n",
       "41001 201546 -0.807107  \n",
       "      201547 -0.796954  \n",
       "      201548 -0.800338  \n",
       "      201549 -0.800338  \n",
       "      201550 -0.752961  \n",
       "\n",
       "[5 rows x 769 columns]"
      ]
     },
     "execution_count": 6,
     "metadata": {},
     "output_type": "execute_result"
    }
   ],
   "source": [
    "# Scale train:\n",
    "train_df, scalers = normalize_train_features(train_df, feature_range=feature_range)\n",
    "train_df = [train_df[train_df.index.get_level_values(0) == municipality] for municipality in Municipalities]\n",
    "\n",
    "#print(f'The scalers are: {scalers}')\n",
    "\n",
    "train_df[1].head()"
   ]
  },
  {
   "cell_type": "code",
   "execution_count": 7,
   "id": "b1bda2dc",
   "metadata": {},
   "outputs": [
    {
     "data": {
      "text/html": [
       "<div>\n",
       "<style scoped>\n",
       "    .dataframe tbody tr th:only-of-type {\n",
       "        vertical-align: middle;\n",
       "    }\n",
       "\n",
       "    .dataframe tbody tr th {\n",
       "        vertical-align: top;\n",
       "    }\n",
       "\n",
       "    .dataframe thead th {\n",
       "        text-align: right;\n",
       "    }\n",
       "</style>\n",
       "<table border=\"1\" class=\"dataframe\">\n",
       "  <thead>\n",
       "    <tr style=\"text-align: right;\">\n",
       "      <th></th>\n",
       "      <th></th>\n",
       "      <th>0</th>\n",
       "      <th>1</th>\n",
       "      <th>2</th>\n",
       "      <th>3</th>\n",
       "      <th>4</th>\n",
       "      <th>5</th>\n",
       "      <th>6</th>\n",
       "      <th>7</th>\n",
       "      <th>8</th>\n",
       "      <th>9</th>\n",
       "      <th>...</th>\n",
       "      <th>759</th>\n",
       "      <th>760</th>\n",
       "      <th>761</th>\n",
       "      <th>762</th>\n",
       "      <th>763</th>\n",
       "      <th>764</th>\n",
       "      <th>765</th>\n",
       "      <th>766</th>\n",
       "      <th>767</th>\n",
       "      <th>Labels</th>\n",
       "    </tr>\n",
       "  </thead>\n",
       "  <tbody>\n",
       "    <tr>\n",
       "      <th rowspan=\"5\" valign=\"top\">41001</th>\n",
       "      <th>201820</th>\n",
       "      <td>-0.717980</td>\n",
       "      <td>0.017514</td>\n",
       "      <td>0.024820</td>\n",
       "      <td>0.129907</td>\n",
       "      <td>-0.478811</td>\n",
       "      <td>0.105072</td>\n",
       "      <td>0.452167</td>\n",
       "      <td>-0.604835</td>\n",
       "      <td>0.174617</td>\n",
       "      <td>0.175776</td>\n",
       "      <td>...</td>\n",
       "      <td>0.748011</td>\n",
       "      <td>0.083175</td>\n",
       "      <td>-0.639796</td>\n",
       "      <td>0.032153</td>\n",
       "      <td>0.084160</td>\n",
       "      <td>-0.503296</td>\n",
       "      <td>0.635531</td>\n",
       "      <td>-0.187242</td>\n",
       "      <td>-0.131000</td>\n",
       "      <td>-0.932318</td>\n",
       "    </tr>\n",
       "    <tr>\n",
       "      <th>201821</th>\n",
       "      <td>-0.007424</td>\n",
       "      <td>-0.531371</td>\n",
       "      <td>-0.407669</td>\n",
       "      <td>0.104465</td>\n",
       "      <td>0.035615</td>\n",
       "      <td>0.068398</td>\n",
       "      <td>0.378137</td>\n",
       "      <td>-0.880699</td>\n",
       "      <td>-0.205577</td>\n",
       "      <td>-0.100127</td>\n",
       "      <td>...</td>\n",
       "      <td>0.467853</td>\n",
       "      <td>0.710602</td>\n",
       "      <td>0.061519</td>\n",
       "      <td>-0.535752</td>\n",
       "      <td>0.035916</td>\n",
       "      <td>0.227003</td>\n",
       "      <td>-0.125049</td>\n",
       "      <td>0.008214</td>\n",
       "      <td>0.903235</td>\n",
       "      <td>-0.949239</td>\n",
       "    </tr>\n",
       "    <tr>\n",
       "      <th>201822</th>\n",
       "      <td>-0.290351</td>\n",
       "      <td>-0.535512</td>\n",
       "      <td>-0.163314</td>\n",
       "      <td>-0.162400</td>\n",
       "      <td>-0.506500</td>\n",
       "      <td>-0.600458</td>\n",
       "      <td>0.216423</td>\n",
       "      <td>-0.816322</td>\n",
       "      <td>-0.642712</td>\n",
       "      <td>-0.136582</td>\n",
       "      <td>...</td>\n",
       "      <td>0.694399</td>\n",
       "      <td>0.191799</td>\n",
       "      <td>0.133611</td>\n",
       "      <td>-0.393592</td>\n",
       "      <td>-0.151432</td>\n",
       "      <td>0.609279</td>\n",
       "      <td>0.496433</td>\n",
       "      <td>-0.131089</td>\n",
       "      <td>0.200336</td>\n",
       "      <td>-0.918782</td>\n",
       "    </tr>\n",
       "    <tr>\n",
       "      <th>201823</th>\n",
       "      <td>-0.006990</td>\n",
       "      <td>0.172356</td>\n",
       "      <td>0.258581</td>\n",
       "      <td>-0.188547</td>\n",
       "      <td>0.636817</td>\n",
       "      <td>0.164841</td>\n",
       "      <td>-0.803981</td>\n",
       "      <td>-0.207784</td>\n",
       "      <td>-0.054057</td>\n",
       "      <td>-0.112157</td>\n",
       "      <td>...</td>\n",
       "      <td>-0.302585</td>\n",
       "      <td>-0.224133</td>\n",
       "      <td>0.404389</td>\n",
       "      <td>-0.185394</td>\n",
       "      <td>-0.361200</td>\n",
       "      <td>0.615491</td>\n",
       "      <td>0.528517</td>\n",
       "      <td>-0.249498</td>\n",
       "      <td>-0.224910</td>\n",
       "      <td>-0.949239</td>\n",
       "    </tr>\n",
       "    <tr>\n",
       "      <th>201824</th>\n",
       "      <td>0.275765</td>\n",
       "      <td>-0.214843</td>\n",
       "      <td>-0.446854</td>\n",
       "      <td>0.365049</td>\n",
       "      <td>-0.358818</td>\n",
       "      <td>0.744816</td>\n",
       "      <td>0.144693</td>\n",
       "      <td>-0.062994</td>\n",
       "      <td>-0.112604</td>\n",
       "      <td>0.234350</td>\n",
       "      <td>...</td>\n",
       "      <td>0.407446</td>\n",
       "      <td>0.848582</td>\n",
       "      <td>-0.143377</td>\n",
       "      <td>0.178971</td>\n",
       "      <td>0.150190</td>\n",
       "      <td>-0.449878</td>\n",
       "      <td>-0.420890</td>\n",
       "      <td>0.250170</td>\n",
       "      <td>0.369932</td>\n",
       "      <td>-0.939086</td>\n",
       "    </tr>\n",
       "  </tbody>\n",
       "</table>\n",
       "<p>5 rows × 769 columns</p>\n",
       "</div>"
      ],
      "text/plain": [
       "                     0         1         2         3         4         5  \\\n",
       "41001 201820 -0.717980  0.017514  0.024820  0.129907 -0.478811  0.105072   \n",
       "      201821 -0.007424 -0.531371 -0.407669  0.104465  0.035615  0.068398   \n",
       "      201822 -0.290351 -0.535512 -0.163314 -0.162400 -0.506500 -0.600458   \n",
       "      201823 -0.006990  0.172356  0.258581 -0.188547  0.636817  0.164841   \n",
       "      201824  0.275765 -0.214843 -0.446854  0.365049 -0.358818  0.744816   \n",
       "\n",
       "                     6         7         8         9  ...       759       760  \\\n",
       "41001 201820  0.452167 -0.604835  0.174617  0.175776  ...  0.748011  0.083175   \n",
       "      201821  0.378137 -0.880699 -0.205577 -0.100127  ...  0.467853  0.710602   \n",
       "      201822  0.216423 -0.816322 -0.642712 -0.136582  ...  0.694399  0.191799   \n",
       "      201823 -0.803981 -0.207784 -0.054057 -0.112157  ... -0.302585 -0.224133   \n",
       "      201824  0.144693 -0.062994 -0.112604  0.234350  ...  0.407446  0.848582   \n",
       "\n",
       "                   761       762       763       764       765       766  \\\n",
       "41001 201820 -0.639796  0.032153  0.084160 -0.503296  0.635531 -0.187242   \n",
       "      201821  0.061519 -0.535752  0.035916  0.227003 -0.125049  0.008214   \n",
       "      201822  0.133611 -0.393592 -0.151432  0.609279  0.496433 -0.131089   \n",
       "      201823  0.404389 -0.185394 -0.361200  0.615491  0.528517 -0.249498   \n",
       "      201824 -0.143377  0.178971  0.150190 -0.449878 -0.420890  0.250170   \n",
       "\n",
       "                   767    Labels  \n",
       "41001 201820 -0.131000 -0.932318  \n",
       "      201821  0.903235 -0.949239  \n",
       "      201822  0.200336 -0.918782  \n",
       "      201823 -0.224910 -0.949239  \n",
       "      201824  0.369932 -0.939086  \n",
       "\n",
       "[5 rows x 769 columns]"
      ]
     },
     "execution_count": 7,
     "metadata": {},
     "output_type": "execute_result"
    }
   ],
   "source": [
    "# Scale test:\n",
    "test_df = normalize_test_features(test_df, scalers=scalers)\n",
    "test_df = [test_df[test_df.index.get_level_values(0) == municipality] for municipality in Municipalities]\n",
    "\n",
    "test_df[1].head()"
   ]
  },
  {
   "cell_type": "markdown",
   "id": "9072d833",
   "metadata": {},
   "source": [
    "### Prepare data for time series supervised learning (function to create sliding window)"
   ]
  },
  {
   "cell_type": "code",
   "execution_count": 8,
   "id": "e58b949f",
   "metadata": {},
   "outputs": [
    {
     "data": {
      "text/plain": [
       "(128, 2305)"
      ]
     },
     "execution_count": 8,
     "metadata": {},
     "output_type": "execute_result"
    }
   ],
   "source": [
    "# frame as supervised learning\n",
    "train = [series_to_supervised(df, n_in=T, autoregressive=autoregressive) for df in train_df]\n",
    "test = [series_to_supervised(df, n_in=T, autoregressive=autoregressive) for df in test_df]\n",
    "\n",
    "train[1].shape"
   ]
  },
  {
   "cell_type": "markdown",
   "id": "efe3a635",
   "metadata": {},
   "source": [
    "### Merge train data"
   ]
  },
  {
   "cell_type": "code",
   "execution_count": 9,
   "id": "c20ddd08",
   "metadata": {},
   "outputs": [],
   "source": [
    "# Merge:\n",
    "train = pd.concat([train[0], train[1], train[2], train[3], train[4]], keys=Municipalities)\n",
    "test = pd.concat([test[0], test[1], test[2], test[3], test[4]], keys=Municipalities)"
   ]
  },
  {
   "cell_type": "code",
   "execution_count": 10,
   "id": "13814404",
   "metadata": {},
   "outputs": [
    {
     "data": {
      "text/plain": [
       "(640, 2305)"
      ]
     },
     "execution_count": 10,
     "metadata": {},
     "output_type": "execute_result"
    }
   ],
   "source": [
    "train.shape"
   ]
  },
  {
   "cell_type": "markdown",
   "id": "ab4ac0e9",
   "metadata": {},
   "source": [
    "### Features and Labels Set"
   ]
  },
  {
   "cell_type": "code",
   "execution_count": 11,
   "id": "af4b9237",
   "metadata": {},
   "outputs": [
    {
     "name": "stdout",
     "output_type": "stream",
     "text": [
      "Train:\n",
      "The shape of the features is (640, 2304)\n",
      "The shape of the labels is (640, 1)\n",
      "Test:\n",
      "The shape of the features is (155, 2304)\n",
      "The shape of the labels is (155, 1)\n"
     ]
    }
   ],
   "source": [
    "# Train features and labels set\n",
    "print('Train:')\n",
    "train_X, train_y, n_features = features_labels_set(timeseries_data=train, original_df=dengue_df[0], autoregressive=autoregressive)\n",
    "\n",
    "# Test features and labels set\n",
    "print('Test:')\n",
    "test_X, test_y, n_features = features_labels_set(timeseries_data=test, original_df=dengue_df[0], autoregressive=autoregressive)"
   ]
  },
  {
   "cell_type": "code",
   "execution_count": 12,
   "id": "c1bb27a3",
   "metadata": {},
   "outputs": [
    {
     "name": "stdout",
     "output_type": "stream",
     "text": [
      "The initial shapes are:\n",
      "The train shape is (640, 2304)\n",
      "The test shape is (155, 2304)\n",
      "-----------------------\n",
      "The Final shapes are:\n",
      "The train shape is (640, 3, 768)\n",
      "The test shape is (155, 3, 768)\n"
     ]
    }
   ],
   "source": [
    "# reshape input to be 3D [samples, timesteps, features]\n",
    "train_X, test_X = reshape_tensor(train_X, test_X, n_features, T, autoregressive)"
   ]
  },
  {
   "cell_type": "markdown",
   "id": "3c8d8bf5",
   "metadata": {},
   "source": [
    "# 2. Model"
   ]
  },
  {
   "cell_type": "code",
   "execution_count": 14,
   "id": "0eb5d174",
   "metadata": {},
   "outputs": [
    {
     "data": {
      "image/png": "[encoded data removed]",
      "text/plain": [
       "<Figure size 432x288 with 1 Axes>"
      ]
     },
     "metadata": {
      "needs_background": "light"
     },
     "output_type": "display_data"
    },
    {
     "name": "stdout",
     "output_type": "stream",
     "text": [
      "Restoring model weights from the end of the best epoch.\n",
      "Epoch 00024: early stopping\n",
      "Test MAPE: 191.024\n",
      "Test sMAPE: 102.112\n",
      "Test RMSE: 45.196\n",
      "{'mape': 191.02416043819065, 'smape': 102.11218949731034, 'rmse': 45.19571371642785}\n"
     ]
    },
    {
     "data": {
      "image/png": "[encoded data removed]",
      "text/plain": [
       "<Figure size 432x288 with 1 Axes>"
      ]
     },
     "metadata": {
      "needs_background": "light"
     },
     "output_type": "display_data"
    },
    {
     "name": "stdout",
     "output_type": "stream",
     "text": [
      "Test MAPE: 309.330\n",
      "Test sMAPE: 100.406\n",
      "Test RMSE: 56.525\n",
      "{'mape': 309.33010509376925, 'smape': 100.40604544185923, 'rmse': 56.525496953155}\n"
     ]
    },
    {
     "data": {
      "image/png": "[encoded data removed]",
      "text/plain": [
       "<Figure size 432x288 with 1 Axes>"
      ]
     },
     "metadata": {
      "needs_background": "light"
     },
     "output_type": "display_data"
    },
    {
     "name": "stdout",
     "output_type": "stream",
     "text": [
      "Test MAPE: 316.808\n",
      "Test sMAPE: 100.446\n",
      "Test RMSE: 59.265\n",
      "{'mape': 316.8082446938934, 'smape': 100.44630967223912, 'rmse': 59.26509621569881}\n"
     ]
    },
    {
     "data": {
      "image/png": "[encoded data removed]",
      "text/plain": [
       "<Figure size 432x288 with 1 Axes>"
      ]
     },
     "metadata": {
      "needs_background": "light"
     },
     "output_type": "display_data"
    },
    {
     "name": "stdout",
     "output_type": "stream",
     "text": [
      "rmse : average=53.662, std=6.090\n",
      "mape : average=272.388, std=57.614\n",
      "smape : average=100.988, std=0.795\n"
     ]
    },
    {
     "data": {
      "text/plain": [
       "([53.66210229509389, 6.09021908218731],\n",
       " [272.38750340861776, 57.61351593426812],\n",
       " [100.98818153713624, 0.7949636146655135])"
      ]
     },
     "execution_count": 14,
     "metadata": {},
     "output_type": "execute_result"
    }
   ],
   "source": [
    "# Use the Function:\n",
    "sequence=train_X.shape[1]\n",
    "features=train_X.shape[2]\n",
    "\n",
    "calculate_mean_std(lstm_layers, nn_layers, sequence, features, dense_acivation, recurrent_cells, bidirectional, train_X, train_y, test_X, test_y, scalers['scaler_Labels'], monitor=True, plot=None, epochs=50, batch_size=16, n_tests=100, plot_samples=True, Municipality='Global')\n"
   ]
  },
  {
   "cell_type": "code",
   "execution_count": null,
   "id": "d6bcba1c",
   "metadata": {},
   "outputs": [],
   "source": []
  }
 ],
 "metadata": {
  "kernelspec": {
   "display_name": "Python [conda env:generalml_p37_gpu_v1]",
   "language": "python",
   "name": "conda-env-generalml_p37_gpu_v1-py"
  },
  "language_info": {
   "codemirror_mode": {
    "name": "ipython",
    "version": 3
   },
   "file_extension": ".py",
   "mimetype": "text/x-python",
   "name": "python",
   "nbconvert_exporter": "python",
   "pygments_lexer": "ipython3",
   "version": "3.7.12"
  }
 },
 "nbformat": 4,
 "nbformat_minor": 5
}
