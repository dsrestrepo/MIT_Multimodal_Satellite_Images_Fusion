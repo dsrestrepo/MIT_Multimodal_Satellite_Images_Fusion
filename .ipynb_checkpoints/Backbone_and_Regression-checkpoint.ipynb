{
 "cells": [
  {
   "cell_type": "markdown",
   "id": "b786aebc",
   "metadata": {},
   "source": [
    "# Setup enviorment"
   ]
  },
  {
   "cell_type": "code",
   "execution_count": 1,
   "id": "32db1e9d",
   "metadata": {},
   "outputs": [],
   "source": [
    "# Data reading in Dataframe format and data preprocessing\n",
    "import pandas as pd\n",
    "from pandas import read_csv\n",
    "from pandas import DataFrame\n",
    "from pandas import concat\n",
    "\n",
    "# Data Visualization\n",
    "import matplotlib.pyplot as plt\n",
    "import seaborn as sns\n",
    "\n",
    "# Linear algebra operations\n",
    "import numpy as np\n",
    "\n",
    "# Image processing\n",
    "from skimage import io\n",
    "from skimage.transform import resize\n",
    "\n",
    "# Machine learning models and preprocessing\n",
    "from sklearn.preprocessing import MinMaxScaler\n",
    "from sklearn.preprocessing import StandardScaler\n",
    "from sklearn import preprocessing\n",
    "\n",
    "import tensorflow as tf\n",
    "from tensorflow import keras\n",
    "from tensorflow.keras.utils import to_categorical\n",
    "from tensorflow.keras import Sequential, layers, callbacks\n",
    "from tensorflow.keras.layers import Dense, LSTM, Dropout, GRU, Bidirectional, Flatten\n",
    "import tensorflow.keras.backend as K\n",
    "\n",
    "# Epiweek\n",
    "from epiweeks import Week, Year\n",
    "\n",
    "# Date\n",
    "from datetime import date as convert_to_date\n",
    "\n",
    "# Os\n",
    "import os"
   ]
  },
  {
   "cell_type": "code",
   "execution_count": 2,
   "id": "d600a10a",
   "metadata": {},
   "outputs": [],
   "source": [
    "import warnings\n",
    "warnings.filterwarnings('ignore')"
   ]
  },
  {
   "cell_type": "code",
   "execution_count": 3,
   "id": "329c2479",
   "metadata": {},
   "outputs": [],
   "source": [
    "features = 'DATASET_5_best_cities/'\n",
    "labels = 'Tabular_data/dengue_tabular.csv'\n",
    "MUNICIPALITY = 'Medellín'\n",
    "\n",
    "backbone = 'MobileNetV2'\n",
    "\n",
    "cities =  {\n",
    "  \"76001\": \"Cali\",\n",
    "  \"05001\": \"Medellín\",\n",
    "  \"50001\": \"Villavicencio\",\n",
    "  \"54001\": \"Cúcuta\",\n",
    "  \"73001\": \"Ibagué\",\n",
    "  \"68001\": \"Bucaramanga\",\n",
    "  \"05360\": \"Itagüí\",\n",
    "  \"08001\": \"Barranquilla\",\n",
    "  \"41001\": \"Neiva\",\n",
    "  \"23001\": \"Montería\"\n",
    "}\n",
    "\n",
    "codes =  {\n",
    "  \"Cali\": \"76001\",\n",
    "  \"Medellín\": \"05001\",\n",
    "  \"Villavicencio\": \"50001\",\n",
    "  \"Cúcuta\": \"54001\",\n",
    "  \"Ibagué\": \"73001\",\n",
    "  \"Bucaramanga\": \"68001\",\n",
    "  \"Itagüí\": \"05360\",\n",
    "  \"Barranquilla\": \"08001\",\n",
    "  \"Neiva\": \"41001\",\n",
    "  \"Montería\": \"23001\"\n",
    "}"
   ]
  },
  {
   "cell_type": "markdown",
   "id": "b72e4169",
   "metadata": {},
   "source": [
    "# Read Data"
   ]
  },
  {
   "cell_type": "code",
   "execution_count": 4,
   "id": "4574ea65",
   "metadata": {},
   "outputs": [],
   "source": [
    "def epiweek_from_date(image_date):\n",
    "    date = image_date.split('-')\n",
    "    \n",
    "    # Get year as int\n",
    "    year = ''.join(filter(str.isdigit, date[0]))\n",
    "    year = int(year)\n",
    "    \n",
    "    # Get month as int\n",
    "    month = ''.join(filter(str.isdigit, date[1]))\n",
    "    month = int(month)\n",
    "    \n",
    "    # Get day as int\n",
    "    day = ''.join(filter(str.isdigit, date[2]))\n",
    "    day = int(day)\n",
    "    \n",
    "    # Get epiweek:\n",
    "    date = convert_to_date(year, month, day)\n",
    "    epiweek = str(Week.fromdate(date))\n",
    "    epiweek = int(epiweek)\n",
    "    \n",
    "    return epiweek"
   ]
  },
  {
   "cell_type": "code",
   "execution_count": 5,
   "id": "fe28a7b5",
   "metadata": {},
   "outputs": [],
   "source": [
    "def get_epiweek(name):\n",
    "    \n",
    "    # Get week\n",
    "    week = name.split('/')[1]\n",
    "    week = week.replace('w','')\n",
    "    week = int(week)\n",
    "    \n",
    "    # Year\n",
    "    year = name.split('/')[0]\n",
    "    year = int(year)\n",
    "    \n",
    "    epiweek = Week(year, week)\n",
    "    \n",
    "    epiweek = str(epiweek)\n",
    "    epiweek = int(epiweek)\n",
    "\n",
    "    return epiweek"
   ]
  },
  {
   "cell_type": "code",
   "execution_count": 6,
   "id": "098e13af",
   "metadata": {},
   "outputs": [],
   "source": [
    "def read_labels(path, Municipality = None):\n",
    "    df = pd.read_csv(path)\n",
    "    if df.shape[1] > 678:\n",
    "        df = pd.concat([df[['Municipality code', 'Municipality']], df.iloc[:,-676:]], axis=1)\n",
    "        cols = df.iloc[:, 2:].columns\n",
    "        new_cols = df.iloc[:, 2:].columns.to_series().apply(get_epiweek)\n",
    "        df = df.rename(columns=dict(zip(cols, new_cols))) \n",
    "        \n",
    "    if 'Label_CSV_All_Municipality' in path:\n",
    "        # Get Columns\n",
    "        df = df[['epiweek', 'Municipality code', 'Municipality', 'final_cases_label']]\n",
    "        \n",
    "        # change epiweek format\n",
    "        df.epiweek = df.epiweek.apply(get_epiweek)\n",
    "        \n",
    "        # Remove duplicates\n",
    "        df = df[df.duplicated(['epiweek','Municipality code','Municipality']) == False]\n",
    "        \n",
    "        # Replace Increase, decrease, stable to numerical:\n",
    "        \"\"\"\n",
    "        - Stable = 0\n",
    "        - Increased = 1 \n",
    "        - Decreased = 2\n",
    "        \"\"\"\n",
    "        df.final_cases_label = df.final_cases_label.replace({'Stable': 0, 'Increased': 1, 'Decreased': 2})\n",
    "        \n",
    "        # Create table\n",
    "        df = df.pivot(index=['Municipality code', 'Municipality'], columns='epiweek', values='final_cases_label')\n",
    "\n",
    "        # Reset Index:\n",
    "        df = df.reset_index()\n",
    "    \n",
    "    if Municipality:\n",
    "        df = df[df['Municipality'] == Municipality]\n",
    "        df.drop(columns=['Municipality code'], inplace=True)\n",
    "        df.rename(columns={'Municipality': 'Municipality Code'}, inplace=True)\n",
    "    \n",
    "        df = df.set_index('Municipality Code')\n",
    "        df = df.T\n",
    "\n",
    "        df.columns.name = None\n",
    "        df.index.name = None\n",
    "        \n",
    "        df.columns = ['Cases']\n",
    "    \n",
    "    #df = df.reset_index()\n",
    "    #df.rename(columns={'index': 'epiweek'}, inplace=True)\n",
    "    return df"
   ]
  },
  {
   "cell_type": "markdown",
   "id": "675dfed6",
   "metadata": {},
   "source": [
    "### Labels"
   ]
  },
  {
   "cell_type": "code",
   "execution_count": 7,
   "id": "5dd0350b",
   "metadata": {},
   "outputs": [
    {
     "data": {
      "text/html": [
       "<div>\n",
       "<style scoped>\n",
       "    .dataframe tbody tr th:only-of-type {\n",
       "        vertical-align: middle;\n",
       "    }\n",
       "\n",
       "    .dataframe tbody tr th {\n",
       "        vertical-align: top;\n",
       "    }\n",
       "\n",
       "    .dataframe thead th {\n",
       "        text-align: right;\n",
       "    }\n",
       "</style>\n",
       "<table border=\"1\" class=\"dataframe\">\n",
       "  <thead>\n",
       "    <tr style=\"text-align: right;\">\n",
       "      <th></th>\n",
       "      <th>Cases</th>\n",
       "    </tr>\n",
       "  </thead>\n",
       "  <tbody>\n",
       "    <tr>\n",
       "      <th>200701</th>\n",
       "      <td>1</td>\n",
       "    </tr>\n",
       "    <tr>\n",
       "      <th>200702</th>\n",
       "      <td>0</td>\n",
       "    </tr>\n",
       "    <tr>\n",
       "      <th>200703</th>\n",
       "      <td>0</td>\n",
       "    </tr>\n",
       "    <tr>\n",
       "      <th>200704</th>\n",
       "      <td>0</td>\n",
       "    </tr>\n",
       "    <tr>\n",
       "      <th>200705</th>\n",
       "      <td>0</td>\n",
       "    </tr>\n",
       "    <tr>\n",
       "      <th>...</th>\n",
       "      <td>...</td>\n",
       "    </tr>\n",
       "    <tr>\n",
       "      <th>201948</th>\n",
       "      <td>15</td>\n",
       "    </tr>\n",
       "    <tr>\n",
       "      <th>201949</th>\n",
       "      <td>20</td>\n",
       "    </tr>\n",
       "    <tr>\n",
       "      <th>201950</th>\n",
       "      <td>30</td>\n",
       "    </tr>\n",
       "    <tr>\n",
       "      <th>201951</th>\n",
       "      <td>14</td>\n",
       "    </tr>\n",
       "    <tr>\n",
       "      <th>201952</th>\n",
       "      <td>5</td>\n",
       "    </tr>\n",
       "  </tbody>\n",
       "</table>\n",
       "<p>676 rows × 1 columns</p>\n",
       "</div>"
      ],
      "text/plain": [
       "        Cases\n",
       "200701      1\n",
       "200702      0\n",
       "200703      0\n",
       "200704      0\n",
       "200705      0\n",
       "...       ...\n",
       "201948     15\n",
       "201949     20\n",
       "201950     30\n",
       "201951     14\n",
       "201952      5\n",
       "\n",
       "[676 rows x 1 columns]"
      ]
     },
     "execution_count": 7,
     "metadata": {},
     "output_type": "execute_result"
    }
   ],
   "source": [
    "labels_df = read_labels(path=labels, Municipality=MUNICIPALITY)\n",
    "labels_df"
   ]
  },
  {
   "cell_type": "markdown",
   "id": "d8201ee4",
   "metadata": {},
   "source": [
    "### Features"
   ]
  },
  {
   "cell_type": "code",
   "execution_count": 8,
   "id": "ca6991bb",
   "metadata": {},
   "outputs": [],
   "source": [
    "def create_df(images_dir):\n",
    "    \n",
    "    out_df = {\n",
    "        'epiweek':[],\n",
    "        'image':[]\n",
    "    }\n",
    "    \n",
    "    for image_path in os.listdir(images_dir):\n",
    "        if image_path.endswith('.tiff'):\n",
    "            epiweek = epiweek_from_date(image_path)\n",
    "            full_path = os.path.join(images_dir, image_path)\n",
    "            \n",
    "            out_df['epiweek'].append(epiweek)\n",
    "            out_df['image'].append(full_path)\n",
    "\n",
    "    df = pd.DataFrame(out_df)\n",
    "    \n",
    "    df = df.set_index('epiweek')\n",
    "    df.index.name = None\n",
    "    \n",
    "    return df"
   ]
  },
  {
   "cell_type": "code",
   "execution_count": 9,
   "id": "e9cc00f6",
   "metadata": {},
   "outputs": [
    {
     "data": {
      "text/html": [
       "<div>\n",
       "<style scoped>\n",
       "    .dataframe tbody tr th:only-of-type {\n",
       "        vertical-align: middle;\n",
       "    }\n",
       "\n",
       "    .dataframe tbody tr th {\n",
       "        vertical-align: top;\n",
       "    }\n",
       "\n",
       "    .dataframe thead th {\n",
       "        text-align: right;\n",
       "    }\n",
       "</style>\n",
       "<table border=\"1\" class=\"dataframe\">\n",
       "  <thead>\n",
       "    <tr style=\"text-align: right;\">\n",
       "      <th></th>\n",
       "      <th>image</th>\n",
       "    </tr>\n",
       "  </thead>\n",
       "  <tbody>\n",
       "    <tr>\n",
       "      <th>201731</th>\n",
       "      <td>DATASET_5_best_cities/Medellín/image_2017-07-3...</td>\n",
       "    </tr>\n",
       "    <tr>\n",
       "      <th>201551</th>\n",
       "      <td>DATASET_5_best_cities/Medellín/image_2015-12-2...</td>\n",
       "    </tr>\n",
       "    <tr>\n",
       "      <th>201747</th>\n",
       "      <td>DATASET_5_best_cities/Medellín/image_2017-11-1...</td>\n",
       "    </tr>\n",
       "    <tr>\n",
       "      <th>201647</th>\n",
       "      <td>DATASET_5_best_cities/Medellín/image_2016-11-2...</td>\n",
       "    </tr>\n",
       "    <tr>\n",
       "      <th>201729</th>\n",
       "      <td>DATASET_5_best_cities/Medellín/image_2017-07-1...</td>\n",
       "    </tr>\n",
       "  </tbody>\n",
       "</table>\n",
       "</div>"
      ],
      "text/plain": [
       "                                                    image\n",
       "201731  DATASET_5_best_cities/Medellín/image_2017-07-3...\n",
       "201551  DATASET_5_best_cities/Medellín/image_2015-12-2...\n",
       "201747  DATASET_5_best_cities/Medellín/image_2017-11-1...\n",
       "201647  DATASET_5_best_cities/Medellín/image_2016-11-2...\n",
       "201729  DATASET_5_best_cities/Medellín/image_2017-07-1..."
      ]
     },
     "execution_count": 9,
     "metadata": {},
     "output_type": "execute_result"
    }
   ],
   "source": [
    "if 'DATASET_5_best_cities' in features:\n",
    "    MUNICIPALITY = MUNICIPALITY\n",
    "else:\n",
    "    MUNICIPALITY = codes[MUNICIPALITY]\n",
    "    \n",
    "images_dir = os.path.join(features, MUNICIPALITY)\n",
    "\n",
    "features_df = create_df(images_dir)\n",
    "features_df.head()"
   ]
  },
  {
   "cell_type": "code",
   "execution_count": 10,
   "id": "329cd357",
   "metadata": {},
   "outputs": [],
   "source": [
    "def read_image(path, target_size):\n",
    "    # Read the image and convert to numpy array\n",
    "    image = io.imread(path)\n",
    "    # Resize the image and normalize values\n",
    "    image_arr = resize(image,(target_size[0], target_size[1]))\n",
    "    #print(f'The shape of the image before reshape: {image_arr.shape}, of type{type(image_arr)}')\n",
    "\n",
    "    # Select RGB bands\n",
    "    if target_size[2] == 3:\n",
    "        image_arr = image_arr[:,:, [1,2,3]]\n",
    "    return image_arr"
   ]
  },
  {
   "cell_type": "code",
   "execution_count": 11,
   "id": "6789c6cf",
   "metadata": {},
   "outputs": [],
   "source": [
    "target_size = (224, 224, 3)\n",
    "\n",
    "features_df.image = features_df.image.apply(read_image, args=[target_size])\n",
    "#features_df.head()"
   ]
  },
  {
   "cell_type": "markdown",
   "id": "aa76855f",
   "metadata": {},
   "source": [
    "# Data preparation"
   ]
  },
  {
   "cell_type": "code",
   "execution_count": 12,
   "id": "b5dff941",
   "metadata": {},
   "outputs": [],
   "source": [
    "n_labels = labels_df.shape[1]"
   ]
  },
  {
   "cell_type": "code",
   "execution_count": 13,
   "id": "ec98fb75",
   "metadata": {},
   "outputs": [],
   "source": [
    "# Merge the two dataframes based on the date values\n",
    "dengue_df = features_df.merge(labels_df, how='inner', left_index=True, right_index=True)\n",
    "dengue_df = dengue_df.sort_index()\n",
    "#dengue_df.head()"
   ]
  },
  {
   "cell_type": "markdown",
   "id": "2c103dae",
   "metadata": {},
   "source": [
    "### Train Test split"
   ]
  },
  {
   "cell_type": "code",
   "execution_count": 14,
   "id": "dbb8c004",
   "metadata": {},
   "outputs": [],
   "source": [
    "def train_test_split(df, train_percentage = 80):\n",
    "    # We need a sequence so we can't split randomly\n",
    "    # To divide into Train and test we have to calculate the train percentage of the dataset:\n",
    "    size = df.shape[0]\n",
    "    split = int(size*(train_percentage/100))\n",
    "    \n",
    "    \"\"\" Train \"\"\"\n",
    "    # We will train with 1st percentage % of data and test with the rest\n",
    "    train_df = df.iloc[:split,:] ## percentage % train\n",
    "    \n",
    "    \"\"\" Test \"\"\"\n",
    "    test_df = df.iloc[split:,:] # 100 - percentage % test\n",
    "    \n",
    "    print(f'The train shape is: {train_df.shape}')\n",
    "    print(f'The test shape is: {test_df.shape}')\n",
    "    \n",
    "    return train_df, test_df"
   ]
  },
  {
   "cell_type": "code",
   "execution_count": 15,
   "id": "e0a1046c",
   "metadata": {},
   "outputs": [
    {
     "name": "stdout",
     "output_type": "stream",
     "text": [
      "The train shape is: (132, 2)\n",
      "The test shape is: (33, 2)\n"
     ]
    }
   ],
   "source": [
    "train_df, test_df = train_test_split(dengue_df, train_percentage = 80)"
   ]
  },
  {
   "cell_type": "markdown",
   "id": "b4c999e6",
   "metadata": {},
   "source": [
    "### Normalization"
   ]
  },
  {
   "cell_type": "code",
   "execution_count": 16,
   "id": "5ee254ad",
   "metadata": {},
   "outputs": [],
   "source": [
    "def normalize_train_labels(df, column, feature_range=(-1, 1)):\n",
    "    # Get values of the column\n",
    "    values = df[column].values.reshape(-1,1)\n",
    "    # Generate a new scaler\n",
    "    scaler = MinMaxScaler(feature_range=feature_range)\n",
    "    # Fit the scaler just for that column\n",
    "    scaled_column = scaler.fit_transform(values)\n",
    "    # Add the scaled column to the dataframe\n",
    "    scaled_column = np.reshape(scaled_column, len(scaled_column))\n",
    "    df[column] = scaled_column\n",
    "    return df, scaler\n",
    "    \n",
    "def normalize_test_labels(df, column, scaler):\n",
    "    # Get values of the column\n",
    "    values = df[column].values.reshape(-1,1)\n",
    "    # Scale values\n",
    "    scaled_column = scaler.transform(values)\n",
    "    scaled_column = np.reshape(scaled_column,len(scaled_column))\n",
    "    # Add the scaled values to the df\n",
    "    df[column] = scaled_column\n",
    "    return df\n",
    "    "
   ]
  },
  {
   "cell_type": "code",
   "execution_count": 17,
   "id": "a7b75d6b",
   "metadata": {},
   "outputs": [
    {
     "data": {
      "text/plain": [
       "201544   -0.692042\n",
       "201545   -0.629758\n",
       "201546   -0.685121\n",
       "201547   -0.712803\n",
       "201548   -0.581315\n",
       "Name: Cases, dtype: float64"
      ]
     },
     "execution_count": 17,
     "metadata": {},
     "output_type": "execute_result"
    }
   ],
   "source": [
    "feature_range = (-1, 1)\n",
    "\n",
    "# Scale train:\n",
    "train_df, scaler = normalize_train_labels(train_df, 'Cases', feature_range=feature_range)\n",
    "\n",
    "train_df['Cases'].head()"
   ]
  },
  {
   "cell_type": "code",
   "execution_count": 18,
   "id": "6f8c35e6",
   "metadata": {},
   "outputs": [
    {
     "data": {
      "text/plain": [
       "201820   -0.975779\n",
       "201821   -0.989619\n",
       "201822   -0.982699\n",
       "201823   -0.968858\n",
       "201824   -0.972318\n",
       "Name: Cases, dtype: float64"
      ]
     },
     "execution_count": 18,
     "metadata": {},
     "output_type": "execute_result"
    }
   ],
   "source": [
    "# Scale test:\n",
    "test_df = normalize_test_labels(test_df, 'Cases', scaler=scaler)\n",
    "test_df['Cases'].head()"
   ]
  },
  {
   "cell_type": "markdown",
   "id": "5c4382e2",
   "metadata": {},
   "source": [
    "### Prepare data for time series supervised learning (function to create sliding window)"
   ]
  },
  {
   "cell_type": "code",
   "execution_count": 19,
   "id": "ba475e0c",
   "metadata": {},
   "outputs": [],
   "source": [
    "# prepare data for time series\n",
    "\n",
    "# convert series to supervised learning\n",
    "def series_to_supervised(data, n_in=1, n_out=1, dropnan=True, no_autoregressive=None):\n",
    "    if no_autoregressive:\n",
    "        n_in = n_in - 1\n",
    "        \n",
    "    n_vars = 1 if type(data) is list else data.shape[1]\n",
    "    df = DataFrame(data)\n",
    "    cols, names = list(), list()\n",
    "    # input sequence (t-n, ... t-1)\n",
    "    for i in range(n_in, 0, -1):\n",
    "        if no_autoregressive:\n",
    "            cols.append(df.shift(i).iloc[:,:-1])\n",
    "            names += [('var%d(t-%d)' % (j+1, i)) for j in range(n_vars-1)]\n",
    "        else:\n",
    "            cols.append(df.shift(i))\n",
    "            names += [('var%d(t-%d)' % (j+1, i)) for j in range(n_vars)]\n",
    "    # forecast sequence (t, t+1, ... t+n)\n",
    "    for i in range(0, n_out):\n",
    "        cols.append(df.shift(-i))\n",
    "        if i == 0:\n",
    "            names += [('var%d(t)' % (j+1)) for j in range(n_vars)]\n",
    "        else:\n",
    "            names += [('var%d(t+%d)' % (j+1, i)) for j in range(n_vars)]\n",
    "    # put it all together\n",
    "    agg = concat(cols, axis=1)\n",
    "    agg.columns = names\n",
    "    # drop rows with NaN values\n",
    "    if dropnan:\n",
    "        agg.dropna(inplace=True)\n",
    "    return agg"
   ]
  },
  {
   "cell_type": "code",
   "execution_count": 20,
   "id": "5df6239b",
   "metadata": {},
   "outputs": [],
   "source": [
    "# length of window\n",
    "days = 10\n",
    "no_autoregressive = True\n",
    "\n",
    "# frame as supervised learning\n",
    "train = series_to_supervised(train_df, n_in=days, no_autoregressive=no_autoregressive)\n",
    "test = series_to_supervised(test_df, n_in=days, no_autoregressive=no_autoregressive)\n",
    "\n",
    "#DataFrame(train)"
   ]
  },
  {
   "cell_type": "code",
   "execution_count": 21,
   "id": "c11aaf53",
   "metadata": {},
   "outputs": [],
   "source": [
    "def convert_df_to_np(train):\n",
    "    for i, column in enumerate(train.columns):\n",
    "        if i == 0:\n",
    "            train_arr = np.array(train[column].to_list())\n",
    "            train_arr = np.expand_dims(train_arr, axis=1)\n",
    "\n",
    "        else:\n",
    "            #print(f'original: {train_arr.shape}')\n",
    "\n",
    "            train_arr_aux = np.array(train[column].to_list())\n",
    "            train_arr_aux = np.expand_dims(train_arr_aux, axis=1)\n",
    "\n",
    "            #print(f'aux: {train_arr_aux.shape}')\n",
    "\n",
    "            train_arr = np.concatenate((train_arr, train_arr_aux), axis=1)\n",
    "\n",
    "    return train_arr"
   ]
  },
  {
   "cell_type": "markdown",
   "id": "302731e9",
   "metadata": {},
   "source": [
    "### Features and Labels Set"
   ]
  },
  {
   "cell_type": "code",
   "execution_count": 22,
   "id": "77555ecf",
   "metadata": {},
   "outputs": [],
   "source": [
    "def features_labels_set(timeseries_data, original_df):\n",
    "    \n",
    "    \"\"\" Features \"\"\"\n",
    "    # We define the number of features as (Cases and media cloud)\n",
    "    n_features = original_df.shape[1]\n",
    "\n",
    "    # The features to train the model will be all except the values of the actual week \n",
    "    # We can't use other variables in week t because whe need to resample a a 3D Array\n",
    "    features_set = DataFrame(timeseries_data.values[:,:-1])\n",
    "    # Convert pandas data frame to np.array to reshape as 3D Array\n",
    "    features_set = convert_df_to_np(features_set)\n",
    "    print(f'The shape of the features is {features_set.shape}')\n",
    "    \n",
    "    \"\"\" Labels \"\"\"\n",
    "    # We will use Covid cases in last week \n",
    "    labels_set = DataFrame(timeseries_data.values[:,-1])\n",
    "    # Convert pandas data frame to np.array\n",
    "    labels_set = labels_set.to_numpy()\n",
    "    print(f'The shape of the labels is {labels_set.shape}')\n",
    "    \n",
    "    return features_set, labels_set, n_features"
   ]
  },
  {
   "cell_type": "code",
   "execution_count": 23,
   "id": "cc41c0ae",
   "metadata": {},
   "outputs": [
    {
     "name": "stdout",
     "output_type": "stream",
     "text": [
      "Train:\n",
      "The shape of the features is (123, 10, 224, 224, 3)\n",
      "The shape of the labels is (123, 1)\n",
      "Test:\n",
      "The shape of the features is (24, 10, 224, 224, 3)\n",
      "The shape of the labels is (24, 1)\n"
     ]
    }
   ],
   "source": [
    "# Train features and labels set\n",
    "print('Train:')\n",
    "train_X, train_y, n_features = features_labels_set(timeseries_data=train, original_df=dengue_df)\n",
    "\n",
    "# Test features and labels set\n",
    "print('Test:')\n",
    "test_X, test_y, n_features = features_labels_set(timeseries_data=test, original_df=dengue_df)"
   ]
  },
  {
   "cell_type": "code",
   "execution_count": 24,
   "id": "86bc62d9",
   "metadata": {},
   "outputs": [],
   "source": [
    "train_X = np.asarray(train_X).astype(np.float32)\n",
    "train_y = np.asarray(train_y).astype(np.float32)\n",
    "\n",
    "test_X = np.asarray(test_X).astype(np.float32)\n",
    "test_y = np.asarray(test_y).astype(np.float32)"
   ]
  },
  {
   "cell_type": "markdown",
   "id": "44d20b78",
   "metadata": {},
   "source": [
    "# Define the Model"
   ]
  },
  {
   "cell_type": "code",
   "execution_count": 25,
   "id": "e5b49726",
   "metadata": {},
   "outputs": [],
   "source": [
    "# Set Seed\n",
    "#tf.random.set_seed(0)\n",
    "\n",
    "def smape(y_true, y_pred):\n",
    "    epsilon = 0.1\n",
    "    summ = K.maximum(K.abs(y_true) + K.abs(y_pred) + epsilon, 0.5 + epsilon)\n",
    "    smape = K.abs(y_pred - y_true) / summ * 2.0\n",
    "    return smape\n",
    "\n",
    "def get_backbone(target_size, backbone):\n",
    "    if backbone == 'MobileNetV2': # minimum size & parameters\n",
    "        cnn = tf.keras.applications.MobileNetV2(input_shape=target_size, include_top=False, weights='imagenet')\n",
    "    elif backbone == 'EfficientNetV2L': # best top 5 acc\n",
    "        cnn = tf.keras.applications.EfficientNetV2L(input_shape=target_size, include_top=False, weights='imagenet')\n",
    "    elif backbone == 'VGG16': # min depth\n",
    "        cnn = tf.keras.applications.VGG16(input_shape=target_size, include_top=False, weights='imagenet')\n",
    "    elif backbone == 'ResNet50V2':\n",
    "        cnn = tf.keras.applications.ResNet50V2(input_shape=target_size, include_top=False, weights='imagenet')\n",
    "    return cnn\n",
    "\n",
    "\n",
    "def create_model(backbone='MobileNetV2'):\n",
    "    lstm_week, input_shape = days, target_size\n",
    "    \n",
    "    # design network\n",
    "    model = Sequential()\n",
    "\n",
    "    # CNN\n",
    "    cnn = get_backbone(input_shape, backbone)\n",
    "\n",
    "    for idx, layer in enumerate(cnn.layers):\n",
    "        layer.trainable = False # idx > len(cnn.layers) - 2 \n",
    "    \n",
    "    # https://levelup.gitconnected.com/hands-on-practice-with-time-distributed-layers-using-tensorflow-c776a5d78e7e\n",
    "    model.add(keras.layers.TimeDistributed(cnn, input_shape = ((lstm_week,) + input_shape)))\n",
    "    model.add(keras.layers.TimeDistributed(Flatten()))\n",
    "    model.add(keras.layers.TimeDistributed(Dense(1024)))\n",
    "    model.add(LSTM(120, dropout=0.1, return_sequences=True))\n",
    "    model.add(LSTM(240, dropout=0.1, return_sequences = False))\n",
    "    model.add(Dense(60))\n",
    "    model.add(Dense(1))\n",
    "    \n",
    "    # Compile the model:\n",
    "    opt = keras.optimizers.Adam()\n",
    "    \n",
    "    # Metrics\n",
    "    metrics = [\n",
    "        tf.keras.metrics.RootMeanSquaredError(name='rmse'),\n",
    "        tf.keras.metrics.MeanAbsolutePercentageError(name='mape'),\n",
    "        smape\n",
    "    ]\n",
    "    \n",
    "    model.compile(loss='mse', optimizer=opt, metrics=metrics)\n",
    "\n",
    "    return model"
   ]
  },
  {
   "cell_type": "markdown",
   "id": "76e4d26f",
   "metadata": {},
   "source": [
    "### Train the model"
   ]
  },
  {
   "cell_type": "code",
   "execution_count": 26,
   "id": "73584a26",
   "metadata": {},
   "outputs": [],
   "source": [
    "from tensorflow.keras.callbacks import EarlyStopping\n",
    "\n",
    "# EarlyStopping:\n",
    "monitor = EarlyStopping(monitor='val_loss', min_delta=1e-3, patience=20, \n",
    "        verbose=1, mode='auto', restore_best_weights=True)"
   ]
  },
  {
   "cell_type": "code",
   "execution_count": 27,
   "id": "cd23fb91",
   "metadata": {},
   "outputs": [],
   "source": [
    "# fit network\n",
    "def train_model(model, monitor, plot=None, epochs=20):\n",
    "    if monitor:\n",
    "        history = model.fit(train_X, train_y, epochs=epochs, batch_size=16, validation_data=(test_X, test_y), verbose=2, shuffle=False, callbacks=[monitor])\n",
    "    else:\n",
    "        history = model.fit(train_X, train_y, epochs=epochs, batch_size=16, validation_data=(test_X, test_y), verbose=2, shuffle=False)\n",
    "    \n",
    "    if plot:\n",
    "        # plot history\n",
    "        plt.plot(history.history['loss'], label='train')\n",
    "        plt.plot(history.history['val_loss'], label='validation')\n",
    "        plt.legend()\n",
    "        plt.show()"
   ]
  },
  {
   "cell_type": "markdown",
   "id": "780d006a",
   "metadata": {},
   "source": [
    "# Test the model"
   ]
  },
  {
   "cell_type": "code",
   "execution_count": 28,
   "id": "c3b9a6b3",
   "metadata": {},
   "outputs": [],
   "source": [
    "from math import sqrt\n",
    "from numpy import concatenate\n",
    "\n",
    "def test_model(model, test_X, test_y, scaler, rnn = None):\n",
    "    \n",
    "    # If model is a classical machine learning model and test_X is a 3D tensor, then convert to 2D\n",
    "    if not rnn and (len(test_X.shape) == 3):\n",
    "        test_X = test_X.reshape((test_X.shape[0], -1))\n",
    "    \n",
    "    # do the prediction\n",
    "    yhat = model.predict(test_X)\n",
    "    \n",
    "    # Invert scaling for forecast\n",
    "    # Inverse Scaler\n",
    "    \n",
    "    # Predicted\n",
    "    if not rnn:\n",
    "        yhat = yhat.reshape(-1, 1)\n",
    "        \n",
    "    if not scaler:\n",
    "        return yhat, test_y\n",
    "    \n",
    "    inv_yhat = scaler.inverse_transform(yhat)\n",
    "    \n",
    "    # Real:\n",
    "    inv_y = scaler.inverse_transform(test_y)\n",
    "    \n",
    "    return inv_yhat, inv_y"
   ]
  },
  {
   "cell_type": "markdown",
   "id": "31c33f71",
   "metadata": {},
   "source": [
    "### Mean Absolute Percentage Error (MAPE)\n",
    "\n",
    "$$\n",
    "MAPE = \\displaystyle\\frac{100\\%}{n}\\sum_{t=1}^{n}\\left |\\frac{x_i-y_i}{y_t}\\right|\n",
    "$$\n",
    "\n",
    "MAPE has a problem if there are zeros in the test data, so other metrics can be explored"
   ]
  },
  {
   "cell_type": "code",
   "execution_count": 29,
   "id": "c778f050",
   "metadata": {},
   "outputs": [],
   "source": [
    "def mean_absolute_percentage_error(y_true, y_pred):\n",
    "    y_true, y_pred = np.array(y_true), np.array(y_pred)\n",
    "    mape = np.mean(np.abs((y_true - y_pred) / y_true)) * 100\n",
    "    print('Test MAPE: %.3f' % mape)\n",
    "    return mape"
   ]
  },
  {
   "cell_type": "markdown",
   "id": "7676da56",
   "metadata": {},
   "source": [
    "### Symmetric Mean Absolute Percentage Error (sMAPE)\n",
    "\n",
    "$$\n",
    "sMAPE = \\displaystyle\\frac{100\\%}{n}\\sum_{t=1}^{n} \\frac{|x_i-y_i|}{|x_i|+|y_t|}\n",
    "$$"
   ]
  },
  {
   "cell_type": "code",
   "execution_count": 30,
   "id": "9a6b4a4a",
   "metadata": {},
   "outputs": [],
   "source": [
    "def symmetric_mean_absolute_percentage_error(y_true, y_pred):\n",
    "    \n",
    "    y_true, y_pred = np.array(y_true), np.array(y_pred)\n",
    "    smape = 1/len(y_true) * np.sum(2 * np.abs(y_pred-y_true) / (np.abs(y_true) + np.abs(y_pred))*100)\n",
    "    print('Test sMAPE: %.3f' % smape)\n",
    "    return smape"
   ]
  },
  {
   "cell_type": "markdown",
   "id": "ab7fe536",
   "metadata": {},
   "source": [
    "### Root Mean Squared Error (RMSE)\n",
    "$$\n",
    "RMSE = \\sqrt{(\\frac{1}{n})\\sum_{i=1}^{n}(x_i-y_i)^{2}}\n",
    "$$"
   ]
  },
  {
   "cell_type": "code",
   "execution_count": 31,
   "id": "39262706",
   "metadata": {},
   "outputs": [],
   "source": [
    "from sklearn.metrics import mean_squared_error\n",
    "\n",
    "def root_mean_squared_error(y_true, y_pred):\n",
    "    \n",
    "    y_true, y_pred = np.array(y_true), np.array(y_pred)\n",
    "    rmse = mean_squared_error(y_true, y_pred, squared=False)\n",
    "    print('Test RMSE: %.3f' % rmse)\n",
    "    return rmse"
   ]
  },
  {
   "cell_type": "code",
   "execution_count": 32,
   "id": "6d2124b4",
   "metadata": {},
   "outputs": [],
   "source": [
    "def plot_predictions(inv_y, inv_yhat, model_name = ''):\n",
    "    data_predict = inv_yhat  ## predicted target cases\n",
    "    dataY_plot = inv_y  ##  real test-target cases\n",
    "\n",
    "    data_predict = data_predict.reshape(len(data_predict), 1)\n",
    "    dataY_plot = dataY_plot.reshape(len(dataY_plot), 1)\n",
    "\n",
    "    plt.plot(dataY_plot, label = 'actual')\n",
    "    plt.plot(data_predict, label = 'predicted')\n",
    "    plt.legend(loc=\"upper left\")\n",
    "    plt.suptitle(f'Time-Series Prediction with {model_name}')\n",
    "    plt.show()"
   ]
  },
  {
   "cell_type": "code",
   "execution_count": 33,
   "id": "1462a624",
   "metadata": {},
   "outputs": [],
   "source": [
    "def evaluate(model, test_X, test_y, scaler):\n",
    "    stored_results = {}\n",
    "    inv_yhat_lstm, inv_y_lstm = test_model(model=model, test_X=test_X, test_y=test_y, scaler=scaler, rnn = True)\n",
    "    stored_results['mape'] = mean_absolute_percentage_error(inv_y_lstm, inv_yhat_lstm)\n",
    "    stored_results['smape'] = symmetric_mean_absolute_percentage_error(inv_y_lstm, inv_yhat_lstm)\n",
    "    stored_results['rmse'] = root_mean_squared_error(inv_y_lstm, inv_yhat_lstm)\n",
    "\n",
    "    return stored_results"
   ]
  },
  {
   "cell_type": "code",
   "execution_count": 34,
   "id": "900242b3",
   "metadata": {},
   "outputs": [
    {
     "data": {
      "text/plain": [
       "\"\\nmodel = create_model(backbone=backbone)\\ntrain_model(model=model, monitor=monitor)\\n\\nmodel.save(f'Models/{backbone}_LSTM_Regression.h5')\\nmodel.summary()\\n\\ninv_yhat_lstm, inv_y_lstm = test_model(model=model, test_X=test_X, test_y=test_y, scaler=scaler, rnn = True)\\n\\nevaluate(model, test_X, test_y, scaler)\\n\\n# LSTM\\nplot_predictions(inv_y_lstm, inv_yhat_lstm, model_name = 'LSTM')\\n\""
      ]
     },
     "execution_count": 34,
     "metadata": {},
     "output_type": "execute_result"
    }
   ],
   "source": [
    "\"\"\"\n",
    "model = create_model(backbone=backbone)\n",
    "train_model(model=model, monitor=monitor)\n",
    "\n",
    "model.save(f'Models/{backbone}_LSTM_Regression.h5')\n",
    "model.summary()\n",
    "\n",
    "inv_yhat_lstm, inv_y_lstm = test_model(model=model, test_X=test_X, test_y=test_y, scaler=scaler, rnn = True)\n",
    "\n",
    "evaluate(model, test_X, test_y, scaler)\n",
    "\n",
    "# LSTM\n",
    "plot_predictions(inv_y_lstm, inv_yhat_lstm, model_name = 'LSTM')\n",
    "\"\"\""
   ]
  },
  {
   "cell_type": "markdown",
   "id": "748fbcb9",
   "metadata": {},
   "source": [
    "# Calculate Mean and SD"
   ]
  },
  {
   "cell_type": "code",
   "execution_count": 35,
   "id": "f3b4dd0a",
   "metadata": {},
   "outputs": [],
   "source": [
    "# With LSTM:\n",
    "#print(f'The scalers are: {scalers.keys()}')\n",
    "#y_scaler = scalers['scaler_Cases']\n",
    "\n",
    "def calculate_mean_std():\n",
    "    \n",
    "    metrics = {\n",
    "        \"rmse\": [],\n",
    "        \"mape\": [],\n",
    "        \"smape\": []\n",
    "    }\n",
    "    \n",
    "    for i in range(5):\n",
    "        model = create_model(backbone=backbone)\n",
    "        train_model(model=model, monitor=monitor)\n",
    "        stored_results = evaluate(model, test_X, test_y, scaler)\n",
    "        print(stored_results)\n",
    "        \n",
    "        for key in metrics.keys():\n",
    "            metrics[key].append(stored_results[key])\n",
    "            \n",
    "    for key in metrics.keys():\n",
    "        results = metrics[key]\n",
    "        print(key, f\": average={np.average(results):.3f}, std={np.std(results):.3f}\")\n"
   ]
  },
  {
   "cell_type": "code",
   "execution_count": null,
   "id": "b611f80d",
   "metadata": {},
   "outputs": [
    {
     "name": "stdout",
     "output_type": "stream",
     "text": [
      "Epoch 1/20\n",
      "8/8 - 12s - loss: 0.3218 - rmse: 0.5673 - mape: 1934148.0000 - smape: 0.6465 - val_loss: 0.0051 - val_rmse: 0.0711 - val_mape: 6.9992 - val_smape: 0.0642\n",
      "Epoch 2/20\n",
      "8/8 - 5s - loss: 1.0895 - rmse: 1.0438 - mape: 8748975.0000 - smape: 1.5186 - val_loss: 0.0013 - val_rmse: 0.0360 - val_mape: 3.1619 - val_smape: 0.0294\n",
      "Epoch 3/20\n",
      "8/8 - 5s - loss: 0.7302 - rmse: 0.8545 - mape: 7684277.0000 - smape: 0.8660 - val_loss: 0.1472 - val_rmse: 0.3836 - val_mape: 39.3596 - val_smape: 0.4607\n",
      "Epoch 4/20\n",
      "8/8 - 5s - loss: 0.4752 - rmse: 0.6894 - mape: 4686113.0000 - smape: 1.0122 - val_loss: 0.2416 - val_rmse: 0.4916 - val_mape: 50.4739 - val_smape: 0.6318\n",
      "Epoch 5/20\n",
      "8/8 - 5s - loss: 0.3731 - rmse: 0.6108 - mape: 3795299.5000 - smape: 0.8691 - val_loss: 0.1333 - val_rmse: 0.3651 - val_mape: 37.4492 - val_smape: 0.4335\n",
      "Epoch 6/20\n",
      "8/8 - 5s - loss: 0.4082 - rmse: 0.6389 - mape: 4855718.5000 - smape: 0.8441 - val_loss: 0.1251 - val_rmse: 0.3537 - val_mape: 36.2771 - val_smape: 0.4171\n",
      "Epoch 7/20\n",
      "8/8 - 5s - loss: 0.4341 - rmse: 0.6589 - mape: 4804995.5000 - smape: 0.9088 - val_loss: 0.2049 - val_rmse: 0.4527 - val_mape: 46.4723 - val_smape: 0.5675\n",
      "Epoch 8/20\n",
      "8/8 - 5s - loss: 0.3957 - rmse: 0.6291 - mape: 4130688.5000 - smape: 0.9094 - val_loss: 0.1885 - val_rmse: 0.4341 - val_mape: 44.5584 - val_smape: 0.5379\n",
      "Epoch 9/20\n",
      "8/8 - 5s - loss: 0.3806 - rmse: 0.6169 - mape: 3804840.2500 - smape: 0.8599 - val_loss: 0.1610 - val_rmse: 0.4012 - val_mape: 41.1728 - val_smape: 0.4871\n",
      "Epoch 10/20\n",
      "8/8 - 5s - loss: 0.3808 - rmse: 0.6171 - mape: 4641123.0000 - smape: 0.8616 - val_loss: 0.1587 - val_rmse: 0.3983 - val_mape: 40.8709 - val_smape: 0.4827\n",
      "Epoch 11/20\n",
      "8/8 - 5s - loss: 0.3954 - rmse: 0.6288 - mape: 4252137.5000 - smape: 0.8760 - val_loss: 0.1838 - val_rmse: 0.4287 - val_mape: 43.9996 - val_smape: 0.5294\n",
      "Epoch 12/20\n",
      "8/8 - 5s - loss: 0.3892 - rmse: 0.6238 - mape: 4005764.7500 - smape: 0.8846 - val_loss: 0.1871 - val_rmse: 0.4326 - val_mape: 44.4027 - val_smape: 0.5355\n",
      "Epoch 13/20\n",
      "8/8 - 5s - loss: 0.3726 - rmse: 0.6104 - mape: 4376633.0000 - smape: 0.8579 - val_loss: 0.1736 - val_rmse: 0.4167 - val_mape: 42.7566 - val_smape: 0.5106\n",
      "Epoch 14/20\n",
      "8/8 - 5s - loss: 0.3984 - rmse: 0.6312 - mape: 4177452.7500 - smape: 0.9016 - val_loss: 0.1332 - val_rmse: 0.3649 - val_mape: 37.4291 - val_smape: 0.4332\n",
      "Epoch 15/20\n",
      "8/8 - 5s - loss: 0.4088 - rmse: 0.6394 - mape: 4479505.0000 - smape: 0.8692 - val_loss: 0.1804 - val_rmse: 0.4247 - val_mape: 43.5912 - val_smape: 0.5232\n",
      "Epoch 16/20\n",
      "8/8 - 5s - loss: 0.3931 - rmse: 0.6270 - mape: 3762276.5000 - smape: 0.8857 - val_loss: 0.1965 - val_rmse: 0.4433 - val_mape: 45.5065 - val_smape: 0.5525\n",
      "Epoch 17/20\n",
      "8/8 - 5s - loss: 0.3766 - rmse: 0.6137 - mape: 4390502.0000 - smape: 0.8714 - val_loss: 0.1881 - val_rmse: 0.4337 - val_mape: 44.5165 - val_smape: 0.5373\n",
      "Epoch 18/20\n",
      "8/8 - 5s - loss: 0.3801 - rmse: 0.6166 - mape: 4285481.5000 - smape: 0.8670 - val_loss: 0.1827 - val_rmse: 0.4275 - val_mape: 43.8729 - val_smape: 0.5274\n",
      "Epoch 19/20\n",
      "8/8 - 5s - loss: 0.3794 - rmse: 0.6160 - mape: 4341400.5000 - smape: 0.8655 - val_loss: 0.1848 - val_rmse: 0.4299 - val_mape: 44.1275 - val_smape: 0.5313\n",
      "Epoch 20/20\n",
      "8/8 - 5s - loss: 0.3778 - rmse: 0.6146 - mape: 4111367.7500 - smape: 0.8625 - val_loss: 0.1891 - val_rmse: 0.4349 - val_mape: 44.6348 - val_smape: 0.5391\n",
      "Test MAPE: 623.631\n",
      "Test sMAPE: 148.659\n",
      "Test RMSE: 125.675\n",
      "{'mape': 623.6312866210938, 'smape': 148.65926106770831, 'rmse': 125.67485}\n",
      "Epoch 1/20\n"
     ]
    }
   ],
   "source": [
    "calculate_mean_std()"
   ]
  },
  {
   "cell_type": "code",
   "execution_count": null,
   "id": "9e1506b9",
   "metadata": {},
   "outputs": [],
   "source": []
  }
 ],
 "metadata": {
  "kernelspec": {
   "display_name": "Python [conda env:generalml_p37_gpu_v1]",
   "language": "python",
   "name": "conda-env-generalml_p37_gpu_v1-py"
  },
  "language_info": {
   "codemirror_mode": {
    "name": "ipython",
    "version": 3
   },
   "file_extension": ".py",
   "mimetype": "text/x-python",
   "name": "python",
   "nbconvert_exporter": "python",
   "pygments_lexer": "ipython3",
   "version": "3.7.12"
  }
 },
 "nbformat": 4,
 "nbformat_minor": 5
}
