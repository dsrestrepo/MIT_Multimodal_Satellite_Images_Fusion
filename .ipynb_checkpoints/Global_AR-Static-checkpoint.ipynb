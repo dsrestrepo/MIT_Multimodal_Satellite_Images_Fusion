{
 "cells": [
  {
   "cell_type": "markdown",
   "id": "a49f6908",
   "metadata": {},
   "source": [
    "# Setup enviorment"
   ]
  },
  {
   "cell_type": "code",
   "execution_count": null,
   "id": "f3f4a81d",
   "metadata": {},
   "outputs": [],
   "source": [
    "from Preprocessing.time_series_preprocessing import get_dengue_dataset, train_test_split, normalize_train_features, normalize_test_features, series_to_supervised, features_labels_set, reshape_tensor, preprocess_dataset_to_time_series\n",
    "\n",
    "from Models.LSTM import create_model, train_model\n",
    "import tensorflow as tf\n",
    "\n",
    "from Utils.test_lstm import evaluate, plot_predictions, calculate_mean_std\n",
    "\n",
    "import pandas as pd\n",
    "import os\n",
    "import numpy as np"
   ]
  },
  {
   "cell_type": "code",
   "execution_count": null,
   "id": "e41e3cdb",
   "metadata": {},
   "outputs": [],
   "source": [
    "\"\"\" Read Dataset:\"\"\"\n",
    "\n",
    "embeddings = None\n",
    "static = '../Tabular_data/dengue_tabular.csv'\n",
    "labels = '../Tabular_data/dengue_tabular.csv'\n",
    "\n",
    "# Get list of municipalities:\n",
    "Municipalities = list(pd.unique(pd.read_csv('Embeddings/ResNet50V2_224_1024.csv')['Municipality Code']))\n",
    "\n",
    "\"\"\" Dataset Preprocessing:\"\"\"\n",
    "train_percentage = 80\n",
    "T=3\n",
    "autoregressive = True\n",
    "feature_range = (-1, 1)\n",
    "\n",
    "\"\"\" Model Parameters:\"\"\"\n",
    "lstm_layers=[1000, 500]\n",
    "nn_layers=[250, 120, 1]\n",
    "dense_acivation='relu'\n",
    "recurrent_cells='GRU'\n",
    "bidirectional=False"
   ]
  },
  {
   "cell_type": "markdown",
   "id": "18a43b72",
   "metadata": {},
   "source": [
    "## 1. Read Data"
   ]
  },
  {
   "cell_type": "code",
   "execution_count": null,
   "id": "9086ba77",
   "metadata": {},
   "outputs": [],
   "source": [
    "# Read dataset for top 5 municipalities\n",
    "dengue_df = [get_dengue_dataset(labels_path=labels, embeddings_path=embeddings, municipality=Municipality, static=static) for Municipality in Municipalities]\n",
    "type(dengue_df)"
   ]
  },
  {
   "cell_type": "markdown",
   "id": "ba0d8f2b",
   "metadata": {},
   "source": [
    "## 2. Preprocessing"
   ]
  },
  {
   "cell_type": "markdown",
   "id": "8f559797",
   "metadata": {},
   "source": [
    "### Train Test split"
   ]
  },
  {
   "cell_type": "code",
   "execution_count": null,
   "id": "ee7934ea",
   "metadata": {},
   "outputs": [],
   "source": [
    "train_df = dengue_df[:int(len(dengue_df)*(train_percentage/100))]\n",
    "Municipalities_train = Municipalities[:int(len(dengue_df)*(train_percentage/100))]\n",
    "test_df = dengue_df[int(len(dengue_df)*(train_percentage/100)):]\n",
    "Municipalities_test = Municipalities[int(len(dengue_df)*(train_percentage/100)):]\n",
    "#test_df"
   ]
  },
  {
   "cell_type": "markdown",
   "id": "2453d2da",
   "metadata": {},
   "source": [
    "### Normalize features"
   ]
  },
  {
   "cell_type": "code",
   "execution_count": null,
   "id": "33bb7b6c",
   "metadata": {},
   "outputs": [],
   "source": [
    "# Merge:\n",
    "train_df = pd.concat(train_df, keys=Municipalities_train)\n",
    "test_df = pd.concat(test_df, keys=Municipalities_test)"
   ]
  },
  {
   "cell_type": "code",
   "execution_count": null,
   "id": "c941718e",
   "metadata": {},
   "outputs": [],
   "source": [
    "# Scale train:\n",
    "train_df, scalers = normalize_train_features(train_df, feature_range=feature_range)\n",
    "train_df = [train_df[train_df.index.get_level_values(0) == municipality] for municipality in Municipalities_train]\n",
    "\n",
    "#print(f'The scalers are: {scalers}')\n",
    "\n",
    "train_df[1].head()"
   ]
  },
  {
   "cell_type": "code",
   "execution_count": null,
   "id": "5b2f1d57",
   "metadata": {},
   "outputs": [],
   "source": [
    "# Scale test:\n",
    "test_df = normalize_test_features(test_df, scalers=scalers)\n",
    "test_df = [test_df[test_df.index.get_level_values(0) == municipality] for municipality in Municipalities_test]\n",
    "\n",
    "test_df[1].head()"
   ]
  },
  {
   "cell_type": "markdown",
   "id": "1f909881",
   "metadata": {},
   "source": [
    "### Prepare data for time series supervised learning (function to create sliding window)"
   ]
  },
  {
   "cell_type": "code",
   "execution_count": null,
   "id": "b940a050",
   "metadata": {},
   "outputs": [],
   "source": [
    "# frame as supervised learning\n",
    "train = [series_to_supervised(df, n_in=T, autoregressive=autoregressive) for df in train_df]\n",
    "test = [series_to_supervised(df, n_in=T, autoregressive=autoregressive) for df in test_df]\n",
    "\n",
    "train[1].shape"
   ]
  },
  {
   "cell_type": "markdown",
   "id": "73ce3e99",
   "metadata": {},
   "source": [
    "### Merge train data"
   ]
  },
  {
   "cell_type": "code",
   "execution_count": null,
   "id": "f543484f",
   "metadata": {},
   "outputs": [],
   "source": [
    "# Merge:\n",
    "train = pd.concat(train, keys=Municipalities_train)\n",
    "test = pd.concat(test, keys=Municipalities_test)"
   ]
  },
  {
   "cell_type": "markdown",
   "id": "55f8a290",
   "metadata": {},
   "source": [
    "### Features and Labels Set"
   ]
  },
  {
   "cell_type": "code",
   "execution_count": null,
   "id": "78ca39f4",
   "metadata": {},
   "outputs": [],
   "source": [
    "# Train features and labels set\n",
    "print('Train:')\n",
    "train_X, train_y, n_features = features_labels_set(timeseries_data=train, original_df=dengue_df[0], autoregressive=autoregressive)\n",
    "\n",
    "# Test features and labels set\n",
    "print('Test:')\n",
    "test_X, test_y, n_features = features_labels_set(timeseries_data=test, original_df=dengue_df[0], autoregressive=autoregressive)"
   ]
  },
  {
   "cell_type": "code",
   "execution_count": null,
   "id": "ba6a9730",
   "metadata": {},
   "outputs": [],
   "source": [
    "# reshape input to be 3D [samples, timesteps, features]\n",
    "train_X, test_X = reshape_tensor(train_X, test_X, n_features, T, autoregressive)"
   ]
  },
  {
   "cell_type": "markdown",
   "id": "1a8e51b5",
   "metadata": {},
   "source": [
    "# 2. Model"
   ]
  },
  {
   "cell_type": "code",
   "execution_count": null,
   "id": "01bcd2fb",
   "metadata": {},
   "outputs": [],
   "source": [
    "x_ar = train_X[:, :, -1:]\n",
    "x_ar_test = test_X[:, :, -1:]"
   ]
  },
  {
   "cell_type": "code",
   "execution_count": null,
   "id": "6a517b4f",
   "metadata": {},
   "outputs": [],
   "source": [
    "# Use the Function:\n",
    "sequence=train_X.shape[1]\n",
    "features=train_X.shape[2]\n",
    "\n",
    "calculate_mean_std(lstm_layers, nn_layers, sequence, features, dense_acivation, recurrent_cells, bidirectional, train_X, train_y, test_X, test_y, scalers['scaler_Labels'], monitor=True, plot=False, epochs=50, batch_size=16, n_tests=100, plot_samples=True, Municipality='Global', fusion='joint', x_ar=x_ar, x_ar_test=x_ar_test)\n"
   ]
  },
  {
   "cell_type": "code",
   "execution_count": null,
   "id": "9c93056b",
   "metadata": {},
   "outputs": [],
   "source": []
  }
 ],
 "metadata": {
  "kernelspec": {
   "display_name": "Python [conda env:generalml_p37_gpu_v1]",
   "language": "python",
   "name": "conda-env-generalml_p37_gpu_v1-py"
  },
  "language_info": {
   "codemirror_mode": {
    "name": "ipython",
    "version": 3
   },
   "file_extension": ".py",
   "mimetype": "text/x-python",
   "name": "python",
   "nbconvert_exporter": "python",
   "pygments_lexer": "ipython3",
   "version": "3.7.12"
  }
 },
 "nbformat": 4,
 "nbformat_minor": 5
}
