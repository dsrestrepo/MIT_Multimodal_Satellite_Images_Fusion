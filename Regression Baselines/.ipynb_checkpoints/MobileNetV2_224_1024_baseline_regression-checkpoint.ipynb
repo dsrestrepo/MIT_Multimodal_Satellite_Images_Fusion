{
 "cells": [
  {
   "cell_type": "markdown",
   "id": "3c8a22da",
   "metadata": {},
   "source": [
    "# Setup enviorment"
   ]
  },
  {
   "cell_type": "code",
   "execution_count": null,
   "id": "4d6c7cea",
   "metadata": {},
   "outputs": [],
   "source": [
    "%cd .."
   ]
  },
  {
   "cell_type": "code",
   "execution_count": 2,
   "id": "6e2c4dc5",
   "metadata": {},
   "outputs": [],
   "source": [
    "from Preprocessing.time_series_preprocessing import get_dengue_dataset, train_test_split, normalize_train_features, normalize_test_features, series_to_supervised, features_labels_set, reshape_tensor, preprocess_dataset_to_time_series\n",
    "\n",
    "from Models.LSTM import create_model, train_model\n",
    "import tensorflow as tf\n",
    "\n",
    "from Utils.test_lstm import evaluate, plot_predictions, calculate_mean_std\n",
    "\n",
    "import pandas as pd\n",
    "import os\n",
    "import numpy as np"
   ]
  },
  {
   "cell_type": "code",
   "execution_count": 3,
   "id": "1e6c4c05",
   "metadata": {},
   "outputs": [],
   "source": [
    "\"\"\" Read Dataset:\"\"\"\n",
    "\n",
    "embeddings = 'Embeddings/MobileNetV2_224_1024.csv'\n",
    "labels = '../Tabular_data/dengue_tabular.csv'\n",
    "\n",
    "# Get list of municipalities:\n",
    "Municipalities = list(pd.unique(pd.read_csv(embeddings)['Municipality Code']))\n",
    "\n",
    "\"\"\" Dataset Preprocessing:\"\"\"\n",
    "train_percentage = 80\n",
    "T=0\n",
    "autoregressive = False\n",
    "feature_range = (-1, 1)\n",
    "\n",
    "\"\"\" Model Parameters:\"\"\"\n",
    "lstm_layers=[1000, 500]\n",
    "nn_layers=[250, 120, 1]\n",
    "dense_acivation='relu'\n",
    "recurrent_cells='LSTM'\n",
    "bidirectional=False"
   ]
  },
  {
   "cell_type": "markdown",
   "id": "b046366a",
   "metadata": {},
   "source": [
    "## 1. Read Data"
   ]
  },
  {
   "cell_type": "code",
   "execution_count": 4,
   "id": "a726f0e2",
   "metadata": {},
   "outputs": [
    {
     "name": "stdout",
     "output_type": "stream",
     "text": [
      "Obtaining dataframe for the city of 54001 - Cúcuta only...\n",
      "Obtaining dataframe for the city of 41001 - Neiva only...\n",
      "Obtaining dataframe for the city of 5001 - Medellín only...\n",
      "Obtaining dataframe for the city of 50001 - Villavicencio only...\n",
      "Obtaining dataframe for the city of 68001 - Bucaramanga only...\n",
      "Obtaining dataframe for the city of 8001 - Barranquilla only...\n",
      "Obtaining dataframe for the city of 23001 - Montería only...\n",
      "Obtaining dataframe for the city of 76001 - Cali only...\n",
      "Obtaining dataframe for the city of 73001 - Ibagué only...\n",
      "Obtaining dataframe for the city of 5360 - Itagüí only...\n"
     ]
    },
    {
     "data": {
      "text/plain": [
       "list"
      ]
     },
     "execution_count": 4,
     "metadata": {},
     "output_type": "execute_result"
    }
   ],
   "source": [
    "# Read dataset for top 5 municipalities\n",
    "dengue_df = [get_dengue_dataset(labels_path=labels, embeddings_path=embeddings, municipality=Municipality) for Municipality in Municipalities]\n",
    "type(dengue_df)"
   ]
  },
  {
   "cell_type": "markdown",
   "id": "fa7069ea",
   "metadata": {},
   "source": [
    "## 2. Preprocessing"
   ]
  },
  {
   "cell_type": "markdown",
   "id": "8a625c26",
   "metadata": {},
   "source": [
    "### Train Test split"
   ]
  },
  {
   "cell_type": "code",
   "execution_count": 5,
   "id": "a4dac9b7",
   "metadata": {},
   "outputs": [],
   "source": [
    "train_df = dengue_df[:int(len(dengue_df)*(train_percentage/100))]\n",
    "Municipalities_train = Municipalities[:int(len(dengue_df)*(train_percentage/100))]\n",
    "test_df = dengue_df[int(len(dengue_df)*(train_percentage/100)):]\n",
    "Municipalities_test = Municipalities[int(len(dengue_df)*(train_percentage/100)):]\n",
    "#test_df"
   ]
  },
  {
   "cell_type": "markdown",
   "id": "cc42f69d",
   "metadata": {},
   "source": [
    "### Normalize features"
   ]
  },
  {
   "cell_type": "code",
   "execution_count": 6,
   "id": "52813acc",
   "metadata": {},
   "outputs": [],
   "source": [
    "# Merge:\n",
    "train_df = pd.concat(train_df, keys=Municipalities_train)\n",
    "test_df = pd.concat(test_df, keys=Municipalities_test)"
   ]
  },
  {
   "cell_type": "code",
   "execution_count": 7,
   "id": "c11e62f0",
   "metadata": {},
   "outputs": [
    {
     "data": {
      "text/html": [
       "<div>\n",
       "<style scoped>\n",
       "    .dataframe tbody tr th:only-of-type {\n",
       "        vertical-align: middle;\n",
       "    }\n",
       "\n",
       "    .dataframe tbody tr th {\n",
       "        vertical-align: top;\n",
       "    }\n",
       "\n",
       "    .dataframe thead th {\n",
       "        text-align: right;\n",
       "    }\n",
       "</style>\n",
       "<table border=\"1\" class=\"dataframe\">\n",
       "  <thead>\n",
       "    <tr style=\"text-align: right;\">\n",
       "      <th></th>\n",
       "      <th></th>\n",
       "      <th>0</th>\n",
       "      <th>1</th>\n",
       "      <th>2</th>\n",
       "      <th>3</th>\n",
       "      <th>4</th>\n",
       "      <th>5</th>\n",
       "      <th>6</th>\n",
       "      <th>7</th>\n",
       "      <th>8</th>\n",
       "      <th>9</th>\n",
       "      <th>...</th>\n",
       "      <th>1271</th>\n",
       "      <th>1272</th>\n",
       "      <th>1273</th>\n",
       "      <th>1274</th>\n",
       "      <th>1275</th>\n",
       "      <th>1276</th>\n",
       "      <th>1277</th>\n",
       "      <th>1278</th>\n",
       "      <th>1279</th>\n",
       "      <th>Labels</th>\n",
       "    </tr>\n",
       "  </thead>\n",
       "  <tbody>\n",
       "    <tr>\n",
       "      <th rowspan=\"5\" valign=\"top\">41001</th>\n",
       "      <th>201546</th>\n",
       "      <td>-0.324996</td>\n",
       "      <td>-0.982826</td>\n",
       "      <td>-0.245813</td>\n",
       "      <td>-0.625881</td>\n",
       "      <td>-1.0</td>\n",
       "      <td>-0.468733</td>\n",
       "      <td>-0.975876</td>\n",
       "      <td>-0.966061</td>\n",
       "      <td>0.549074</td>\n",
       "      <td>-1.0</td>\n",
       "      <td>...</td>\n",
       "      <td>-0.992796</td>\n",
       "      <td>-0.947927</td>\n",
       "      <td>-1.0</td>\n",
       "      <td>-0.996755</td>\n",
       "      <td>-1.0</td>\n",
       "      <td>-1.0</td>\n",
       "      <td>-1.0</td>\n",
       "      <td>0.495648</td>\n",
       "      <td>-0.872687</td>\n",
       "      <td>-0.861740</td>\n",
       "    </tr>\n",
       "    <tr>\n",
       "      <th>201547</th>\n",
       "      <td>-0.324996</td>\n",
       "      <td>-0.982826</td>\n",
       "      <td>-0.245813</td>\n",
       "      <td>-0.625881</td>\n",
       "      <td>-1.0</td>\n",
       "      <td>-0.468733</td>\n",
       "      <td>-0.975876</td>\n",
       "      <td>-0.966061</td>\n",
       "      <td>0.549074</td>\n",
       "      <td>-1.0</td>\n",
       "      <td>...</td>\n",
       "      <td>-0.992796</td>\n",
       "      <td>-0.947927</td>\n",
       "      <td>-1.0</td>\n",
       "      <td>-0.996755</td>\n",
       "      <td>-1.0</td>\n",
       "      <td>-1.0</td>\n",
       "      <td>-1.0</td>\n",
       "      <td>0.495648</td>\n",
       "      <td>-0.872687</td>\n",
       "      <td>-0.854589</td>\n",
       "    </tr>\n",
       "    <tr>\n",
       "      <th>201548</th>\n",
       "      <td>-0.324996</td>\n",
       "      <td>-0.982826</td>\n",
       "      <td>-0.245813</td>\n",
       "      <td>-0.625881</td>\n",
       "      <td>-1.0</td>\n",
       "      <td>-0.468733</td>\n",
       "      <td>-0.975876</td>\n",
       "      <td>-0.966061</td>\n",
       "      <td>0.549074</td>\n",
       "      <td>-1.0</td>\n",
       "      <td>...</td>\n",
       "      <td>-0.992796</td>\n",
       "      <td>-0.947927</td>\n",
       "      <td>-1.0</td>\n",
       "      <td>-0.996755</td>\n",
       "      <td>-1.0</td>\n",
       "      <td>-1.0</td>\n",
       "      <td>-1.0</td>\n",
       "      <td>0.495648</td>\n",
       "      <td>-0.872687</td>\n",
       "      <td>-0.856973</td>\n",
       "    </tr>\n",
       "    <tr>\n",
       "      <th>201549</th>\n",
       "      <td>-0.324996</td>\n",
       "      <td>-0.982826</td>\n",
       "      <td>-0.245813</td>\n",
       "      <td>-0.625881</td>\n",
       "      <td>-1.0</td>\n",
       "      <td>-0.468733</td>\n",
       "      <td>-0.975876</td>\n",
       "      <td>-0.966061</td>\n",
       "      <td>0.549074</td>\n",
       "      <td>-1.0</td>\n",
       "      <td>...</td>\n",
       "      <td>-0.992796</td>\n",
       "      <td>-0.947927</td>\n",
       "      <td>-1.0</td>\n",
       "      <td>-0.996755</td>\n",
       "      <td>-1.0</td>\n",
       "      <td>-1.0</td>\n",
       "      <td>-1.0</td>\n",
       "      <td>0.495648</td>\n",
       "      <td>-0.872687</td>\n",
       "      <td>-0.856973</td>\n",
       "    </tr>\n",
       "    <tr>\n",
       "      <th>201550</th>\n",
       "      <td>-0.324996</td>\n",
       "      <td>-0.982826</td>\n",
       "      <td>-0.245813</td>\n",
       "      <td>-0.625881</td>\n",
       "      <td>-1.0</td>\n",
       "      <td>-0.468733</td>\n",
       "      <td>-0.975876</td>\n",
       "      <td>-0.966061</td>\n",
       "      <td>0.549074</td>\n",
       "      <td>-1.0</td>\n",
       "      <td>...</td>\n",
       "      <td>-0.992796</td>\n",
       "      <td>-0.947927</td>\n",
       "      <td>-1.0</td>\n",
       "      <td>-0.996755</td>\n",
       "      <td>-1.0</td>\n",
       "      <td>-1.0</td>\n",
       "      <td>-1.0</td>\n",
       "      <td>0.495648</td>\n",
       "      <td>-0.872687</td>\n",
       "      <td>-0.823600</td>\n",
       "    </tr>\n",
       "  </tbody>\n",
       "</table>\n",
       "<p>5 rows × 1281 columns</p>\n",
       "</div>"
      ],
      "text/plain": [
       "                     0         1         2         3    4         5         6  \\\n",
       "41001 201546 -0.324996 -0.982826 -0.245813 -0.625881 -1.0 -0.468733 -0.975876   \n",
       "      201547 -0.324996 -0.982826 -0.245813 -0.625881 -1.0 -0.468733 -0.975876   \n",
       "      201548 -0.324996 -0.982826 -0.245813 -0.625881 -1.0 -0.468733 -0.975876   \n",
       "      201549 -0.324996 -0.982826 -0.245813 -0.625881 -1.0 -0.468733 -0.975876   \n",
       "      201550 -0.324996 -0.982826 -0.245813 -0.625881 -1.0 -0.468733 -0.975876   \n",
       "\n",
       "                     7         8    9  ...      1271      1272  1273  \\\n",
       "41001 201546 -0.966061  0.549074 -1.0  ... -0.992796 -0.947927  -1.0   \n",
       "      201547 -0.966061  0.549074 -1.0  ... -0.992796 -0.947927  -1.0   \n",
       "      201548 -0.966061  0.549074 -1.0  ... -0.992796 -0.947927  -1.0   \n",
       "      201549 -0.966061  0.549074 -1.0  ... -0.992796 -0.947927  -1.0   \n",
       "      201550 -0.966061  0.549074 -1.0  ... -0.992796 -0.947927  -1.0   \n",
       "\n",
       "                  1274  1275  1276  1277      1278      1279    Labels  \n",
       "41001 201546 -0.996755  -1.0  -1.0  -1.0  0.495648 -0.872687 -0.861740  \n",
       "      201547 -0.996755  -1.0  -1.0  -1.0  0.495648 -0.872687 -0.854589  \n",
       "      201548 -0.996755  -1.0  -1.0  -1.0  0.495648 -0.872687 -0.856973  \n",
       "      201549 -0.996755  -1.0  -1.0  -1.0  0.495648 -0.872687 -0.856973  \n",
       "      201550 -0.996755  -1.0  -1.0  -1.0  0.495648 -0.872687 -0.823600  \n",
       "\n",
       "[5 rows x 1281 columns]"
      ]
     },
     "execution_count": 7,
     "metadata": {},
     "output_type": "execute_result"
    }
   ],
   "source": [
    "# Scale train:\n",
    "train_df, scalers = normalize_train_features(train_df, feature_range=feature_range)\n",
    "train_df = [train_df[train_df.index.get_level_values(0) == municipality] for municipality in Municipalities_train]\n",
    "\n",
    "#print(f'The scalers are: {scalers}')\n",
    "\n",
    "train_df[1].head()"
   ]
  },
  {
   "cell_type": "code",
   "execution_count": 8,
   "id": "e9203b6d",
   "metadata": {},
   "outputs": [
    {
     "data": {
      "text/html": [
       "<div>\n",
       "<style scoped>\n",
       "    .dataframe tbody tr th:only-of-type {\n",
       "        vertical-align: middle;\n",
       "    }\n",
       "\n",
       "    .dataframe tbody tr th {\n",
       "        vertical-align: top;\n",
       "    }\n",
       "\n",
       "    .dataframe thead th {\n",
       "        text-align: right;\n",
       "    }\n",
       "</style>\n",
       "<table border=\"1\" class=\"dataframe\">\n",
       "  <thead>\n",
       "    <tr style=\"text-align: right;\">\n",
       "      <th></th>\n",
       "      <th></th>\n",
       "      <th>0</th>\n",
       "      <th>1</th>\n",
       "      <th>2</th>\n",
       "      <th>3</th>\n",
       "      <th>4</th>\n",
       "      <th>5</th>\n",
       "      <th>6</th>\n",
       "      <th>7</th>\n",
       "      <th>8</th>\n",
       "      <th>9</th>\n",
       "      <th>...</th>\n",
       "      <th>1271</th>\n",
       "      <th>1272</th>\n",
       "      <th>1273</th>\n",
       "      <th>1274</th>\n",
       "      <th>1275</th>\n",
       "      <th>1276</th>\n",
       "      <th>1277</th>\n",
       "      <th>1278</th>\n",
       "      <th>1279</th>\n",
       "      <th>Labels</th>\n",
       "    </tr>\n",
       "  </thead>\n",
       "  <tbody>\n",
       "    <tr>\n",
       "      <th rowspan=\"5\" valign=\"top\">5360</th>\n",
       "      <th>201546</th>\n",
       "      <td>-0.324996</td>\n",
       "      <td>-0.982826</td>\n",
       "      <td>-0.245813</td>\n",
       "      <td>-0.625881</td>\n",
       "      <td>-1.000000</td>\n",
       "      <td>-0.468733</td>\n",
       "      <td>-0.975876</td>\n",
       "      <td>-0.966061</td>\n",
       "      <td>0.549074</td>\n",
       "      <td>-1.00000</td>\n",
       "      <td>...</td>\n",
       "      <td>-0.992796</td>\n",
       "      <td>-0.947927</td>\n",
       "      <td>-1.000000</td>\n",
       "      <td>-0.996755</td>\n",
       "      <td>-1.000000</td>\n",
       "      <td>-1.0</td>\n",
       "      <td>-1.0</td>\n",
       "      <td>0.495648</td>\n",
       "      <td>-0.872687</td>\n",
       "      <td>-0.990465</td>\n",
       "    </tr>\n",
       "    <tr>\n",
       "      <th>201547</th>\n",
       "      <td>-0.585884</td>\n",
       "      <td>-1.000000</td>\n",
       "      <td>-0.994944</td>\n",
       "      <td>-0.432415</td>\n",
       "      <td>-0.985274</td>\n",
       "      <td>-0.316126</td>\n",
       "      <td>-1.000000</td>\n",
       "      <td>-0.769799</td>\n",
       "      <td>0.827416</td>\n",
       "      <td>-0.99471</td>\n",
       "      <td>...</td>\n",
       "      <td>-0.948615</td>\n",
       "      <td>-0.657048</td>\n",
       "      <td>-1.000000</td>\n",
       "      <td>-1.000000</td>\n",
       "      <td>-0.914761</td>\n",
       "      <td>-1.0</td>\n",
       "      <td>-1.0</td>\n",
       "      <td>0.596301</td>\n",
       "      <td>-0.863241</td>\n",
       "      <td>-0.969011</td>\n",
       "    </tr>\n",
       "    <tr>\n",
       "      <th>201548</th>\n",
       "      <td>-0.324996</td>\n",
       "      <td>-0.982826</td>\n",
       "      <td>-0.245813</td>\n",
       "      <td>-0.625881</td>\n",
       "      <td>-1.000000</td>\n",
       "      <td>-0.468733</td>\n",
       "      <td>-0.975876</td>\n",
       "      <td>-0.966061</td>\n",
       "      <td>0.549074</td>\n",
       "      <td>-1.00000</td>\n",
       "      <td>...</td>\n",
       "      <td>-0.992796</td>\n",
       "      <td>-0.947927</td>\n",
       "      <td>-1.000000</td>\n",
       "      <td>-0.996755</td>\n",
       "      <td>-1.000000</td>\n",
       "      <td>-1.0</td>\n",
       "      <td>-1.0</td>\n",
       "      <td>0.495648</td>\n",
       "      <td>-0.872687</td>\n",
       "      <td>-0.995232</td>\n",
       "    </tr>\n",
       "    <tr>\n",
       "      <th>201549</th>\n",
       "      <td>-0.305571</td>\n",
       "      <td>-0.878950</td>\n",
       "      <td>-0.882332</td>\n",
       "      <td>-0.388076</td>\n",
       "      <td>-0.769113</td>\n",
       "      <td>-0.337240</td>\n",
       "      <td>-0.857882</td>\n",
       "      <td>-0.252514</td>\n",
       "      <td>-0.795252</td>\n",
       "      <td>-1.00000</td>\n",
       "      <td>...</td>\n",
       "      <td>-0.135855</td>\n",
       "      <td>-1.000000</td>\n",
       "      <td>-0.998701</td>\n",
       "      <td>-0.876721</td>\n",
       "      <td>-0.147139</td>\n",
       "      <td>-1.0</td>\n",
       "      <td>-1.0</td>\n",
       "      <td>-1.000000</td>\n",
       "      <td>-0.580934</td>\n",
       "      <td>-0.997616</td>\n",
       "    </tr>\n",
       "    <tr>\n",
       "      <th>201550</th>\n",
       "      <td>-0.324996</td>\n",
       "      <td>-0.982826</td>\n",
       "      <td>-0.245813</td>\n",
       "      <td>-0.625881</td>\n",
       "      <td>-1.000000</td>\n",
       "      <td>-0.468733</td>\n",
       "      <td>-0.975876</td>\n",
       "      <td>-0.966061</td>\n",
       "      <td>0.549074</td>\n",
       "      <td>-1.00000</td>\n",
       "      <td>...</td>\n",
       "      <td>-0.992796</td>\n",
       "      <td>-0.947927</td>\n",
       "      <td>-1.000000</td>\n",
       "      <td>-0.996755</td>\n",
       "      <td>-1.000000</td>\n",
       "      <td>-1.0</td>\n",
       "      <td>-1.0</td>\n",
       "      <td>0.495648</td>\n",
       "      <td>-0.872687</td>\n",
       "      <td>-0.971395</td>\n",
       "    </tr>\n",
       "  </tbody>\n",
       "</table>\n",
       "<p>5 rows × 1281 columns</p>\n",
       "</div>"
      ],
      "text/plain": [
       "                    0         1         2         3         4         5  \\\n",
       "5360 201546 -0.324996 -0.982826 -0.245813 -0.625881 -1.000000 -0.468733   \n",
       "     201547 -0.585884 -1.000000 -0.994944 -0.432415 -0.985274 -0.316126   \n",
       "     201548 -0.324996 -0.982826 -0.245813 -0.625881 -1.000000 -0.468733   \n",
       "     201549 -0.305571 -0.878950 -0.882332 -0.388076 -0.769113 -0.337240   \n",
       "     201550 -0.324996 -0.982826 -0.245813 -0.625881 -1.000000 -0.468733   \n",
       "\n",
       "                    6         7         8        9  ...      1271      1272  \\\n",
       "5360 201546 -0.975876 -0.966061  0.549074 -1.00000  ... -0.992796 -0.947927   \n",
       "     201547 -1.000000 -0.769799  0.827416 -0.99471  ... -0.948615 -0.657048   \n",
       "     201548 -0.975876 -0.966061  0.549074 -1.00000  ... -0.992796 -0.947927   \n",
       "     201549 -0.857882 -0.252514 -0.795252 -1.00000  ... -0.135855 -1.000000   \n",
       "     201550 -0.975876 -0.966061  0.549074 -1.00000  ... -0.992796 -0.947927   \n",
       "\n",
       "                 1273      1274      1275  1276  1277      1278      1279  \\\n",
       "5360 201546 -1.000000 -0.996755 -1.000000  -1.0  -1.0  0.495648 -0.872687   \n",
       "     201547 -1.000000 -1.000000 -0.914761  -1.0  -1.0  0.596301 -0.863241   \n",
       "     201548 -1.000000 -0.996755 -1.000000  -1.0  -1.0  0.495648 -0.872687   \n",
       "     201549 -0.998701 -0.876721 -0.147139  -1.0  -1.0 -1.000000 -0.580934   \n",
       "     201550 -1.000000 -0.996755 -1.000000  -1.0  -1.0  0.495648 -0.872687   \n",
       "\n",
       "               Labels  \n",
       "5360 201546 -0.990465  \n",
       "     201547 -0.969011  \n",
       "     201548 -0.995232  \n",
       "     201549 -0.997616  \n",
       "     201550 -0.971395  \n",
       "\n",
       "[5 rows x 1281 columns]"
      ]
     },
     "execution_count": 8,
     "metadata": {},
     "output_type": "execute_result"
    }
   ],
   "source": [
    "# Scale test:\n",
    "test_df = normalize_test_features(test_df, scalers=scalers)\n",
    "test_df = [test_df[test_df.index.get_level_values(0) == municipality] for municipality in Municipalities_test]\n",
    "\n",
    "test_df[1].head()"
   ]
  },
  {
   "cell_type": "markdown",
   "id": "b36d65c0",
   "metadata": {},
   "source": [
    "### Prepare data for time series supervised learning (function to create sliding window)"
   ]
  },
  {
   "cell_type": "code",
   "execution_count": 9,
   "id": "4fa7991a",
   "metadata": {},
   "outputs": [
    {
     "data": {
      "text/plain": [
       "(163, 1281)"
      ]
     },
     "execution_count": 9,
     "metadata": {},
     "output_type": "execute_result"
    }
   ],
   "source": [
    "# frame as supervised learning\n",
    "train = [series_to_supervised(df, n_in=T, autoregressive=autoregressive) for df in train_df]\n",
    "test = [series_to_supervised(df, n_in=T, autoregressive=autoregressive) for df in test_df]\n",
    "\n",
    "train[1].shape"
   ]
  },
  {
   "cell_type": "markdown",
   "id": "85467a89",
   "metadata": {},
   "source": [
    "### Merge train data"
   ]
  },
  {
   "cell_type": "code",
   "execution_count": 10,
   "id": "c119023d",
   "metadata": {},
   "outputs": [],
   "source": [
    "# Merge:\n",
    "train = pd.concat(train, keys=Municipalities_train)\n",
    "test = pd.concat(test, keys=Municipalities_test)"
   ]
  },
  {
   "cell_type": "markdown",
   "id": "c4e4d555",
   "metadata": {},
   "source": [
    "### Features and Labels Set"
   ]
  },
  {
   "cell_type": "code",
   "execution_count": 11,
   "id": "1a230ce0",
   "metadata": {},
   "outputs": [
    {
     "name": "stdout",
     "output_type": "stream",
     "text": [
      "Train:\n",
      "The shape of the features is (1304, 1280)\n",
      "The shape of the labels is (1304, 1)\n",
      "Test:\n",
      "The shape of the features is (326, 1280)\n",
      "The shape of the labels is (326, 1)\n"
     ]
    }
   ],
   "source": [
    "# Train features and labels set\n",
    "print('Train:')\n",
    "train_X, train_y, n_features = features_labels_set(timeseries_data=train, original_df=dengue_df[0], autoregressive=autoregressive)\n",
    "\n",
    "# Test features and labels set\n",
    "print('Test:')\n",
    "test_X, test_y, n_features = features_labels_set(timeseries_data=test, original_df=dengue_df[0], autoregressive=autoregressive)"
   ]
  },
  {
   "cell_type": "code",
   "execution_count": 12,
   "id": "8aec7fa8",
   "metadata": {},
   "outputs": [],
   "source": [
    "# reshape input to be 3D [samples, timesteps, features]\n",
    "if T != 0:\n",
    "    train_X, test_X = reshape_tensor(train_X, test_X, n_features, T, autoregressive)"
   ]
  },
  {
   "cell_type": "markdown",
   "id": "8ad3a18d",
   "metadata": {},
   "source": [
    "# 2. Model"
   ]
  },
  {
   "cell_type": "code",
   "execution_count": null,
   "id": "0f48d2ef",
   "metadata": {},
   "outputs": [
    {
     "data": {
      "image/png": "[encoded data removed]",
      "text/plain": [
       "<Figure size 432x288 with 1 Axes>"
      ]
     },
     "metadata": {
      "needs_background": "light"
     },
     "output_type": "display_data"
    },
    {
     "name": "stderr",
     "output_type": "stream",
     "text": [
      "2023-03-04 23:42:14.817488: W tensorflow/stream_executor/platform/default/dso_loader.cc:64] Could not load dynamic library 'libcuda.so.1'; dlerror: libcuda.so.1: cannot open shared object file: No such file or directory\n",
      "2023-03-04 23:42:14.817539: W tensorflow/stream_executor/cuda/cuda_driver.cc:269] failed call to cuInit: UNKNOWN ERROR (303)\n",
      "2023-03-04 23:42:14.817569: I tensorflow/stream_executor/cuda/cuda_diagnostics.cc:156] kernel driver does not appear to be running on this host (9f7bdfccc75e): /proc/driver/nvidia/version does not exist\n",
      "2023-03-04 23:42:14.817842: I tensorflow/core/platform/cpu_feature_guard.cc:142] This TensorFlow binary is optimized with oneAPI Deep Neural Network Library (oneDNN) to use the following CPU instructions in performance-critical operations:  SSE4.1 SSE4.2 AVX AVX2 FMA\n",
      "To enable them in other operations, rebuild TensorFlow with the appropriate compiler flags.\n",
      "2023-03-04 23:42:15.122560: I tensorflow/compiler/mlir/mlir_graph_optimization_pass.cc:185] None of the MLIR Optimization Passes are enabled (registered 2)\n"
     ]
    }
   ],
   "source": [
    "# Use the Function:\n",
    "if T != 0: \n",
    "    sequence=train_X.shape[1]\n",
    "    features=train_X.shape[2]\n",
    "else:\n",
    "    sequence=T\n",
    "    features=train_X.shape[1]\n",
    "\n",
    "calculate_mean_std(lstm_layers, nn_layers, sequence, features, dense_acivation, recurrent_cells, bidirectional, train_X, train_y, test_X, test_y, scalers['scaler_Labels'], monitor=True, plot=False, epochs=50, batch_size=16, n_tests=10, plot_samples=True, Municipality='Global')\n"
   ]
  },
  {
   "cell_type": "code",
   "execution_count": null,
   "id": "37738112",
   "metadata": {},
   "outputs": [],
   "source": []
  }
 ],
 "metadata": {
  "kernelspec": {
   "display_name": "Python [conda env:generalml_p37_gpu_v1]",
   "language": "python",
   "name": "conda-env-generalml_p37_gpu_v1-py"
  },
  "language_info": {
   "codemirror_mode": {
    "name": "ipython",
    "version": 3
   },
   "file_extension": ".py",
   "mimetype": "text/x-python",
   "name": "python",
   "nbconvert_exporter": "python",
   "pygments_lexer": "ipython3",
   "version": "3.7.12"
  }
 },
 "nbformat": 4,
 "nbformat_minor": 5
}
